{
 "cells": [
  {
   "cell_type": "code",
   "execution_count": 1,
   "metadata": {
    "colab": {
     "base_uri": "https://localhost:8080/",
     "height": 447
    },
    "id": "ZSNPMVcA7O0H",
    "outputId": "6722fe5e-ce44-403c-e9b1-2549d89d26c4"
   },
   "outputs": [],
   "source": [
    "import numpy as np\n",
    "import matplotlib as mpl\n",
    "import matplotlib.pyplot as plt\n",
    "\n",
    "import arviz as az\n",
    "import exoplanet as xo\n",
    "import pymc3 as pm\n",
    "import aesara_theano_fallback.tensor as tt\n",
    "import pymc3_ext as pmx\n",
    "from celerite2.theano import terms, GaussianProcess\n",
    "import corner\n",
    "\n",
    "from scipy.interpolate import interp1d\n",
    "\n",
    "from astropy.time import Time\n",
    "from astropy import time, coordinates as coord, units as u\n",
    "import astropy.constants as c\n",
    "\n",
    "import time as timer\n",
    "\n",
    "tangerine = ['#1a2754','#f9a919','#2ab59f','#e2721c','#db3e0e','#067bc1']"
   ]
  },
  {
   "cell_type": "code",
   "execution_count": 2,
   "metadata": {
    "id": "UEwSqtTR89t7"
   },
   "outputs": [],
   "source": [
    "def normalize_lc(flux):\n",
    "    #Returns median-normalized flux in units of parts-per-thousand\n",
    "    mu = np.nanmedian(flux)\n",
    "    return (flux/mu - 1) * 1e3"
   ]
  },
  {
   "cell_type": "markdown",
   "metadata": {
    "id": "iymqIFfe-xM-"
   },
   "source": [
    "# **K2 light curve**"
   ]
  },
  {
   "cell_type": "code",
   "execution_count": 3,
   "metadata": {
    "colab": {
     "base_uri": "https://localhost:8080/"
    },
    "id": "u4FMFvux-1Z3",
    "outputId": "d517dc68-7f40-4b3e-df7e-918fcb80dbe6"
   },
   "outputs": [
    {
     "name": "stdout",
     "output_type": "stream",
     "text": [
      "XREF = 2228.800412053417\n"
     ]
    }
   ],
   "source": [
    "from astropy.io import fits\n",
    "from scipy.signal import savgol_filter\n",
    "\n",
    "lc_url = \"https://archive.stsci.edu/hlsps/everest/v2/c04/210800000/18897/hlsp_everest_k2_llc_210818897-c04_kepler_v2.0_lc.fits\"\n",
    "    \n",
    "# Download the data\n",
    "with fits.open(lc_url) as hdus:\n",
    "    lc = hdus[1].data\n",
    "    lc_hdr = hdus[1].header\n",
    "\n",
    "# Work out the exposure time\n",
    "ktwo_texp = lc_hdr[\"FRAMETIM\"] * lc_hdr[\"NUM_FRM\"]\n",
    "ktwo_texp /= 60.0 * 60.0 * 24.0\n",
    "\n",
    "ktwo_x = lc[\"TIME\"]\n",
    "ktwo_y = lc[\"FLUX\"]\n",
    "ktwo_qual = lc[\"QUALITY\"]    \n",
    "    \n",
    "# Mask bad data\n",
    "m = np.isfinite(ktwo_x) & np.isfinite(ktwo_y)\n",
    "\n",
    "# Median normalize flux and convert to parts per thousand\n",
    "ktwo_y = normalize_lc(ktwo_y)\n",
    "ktwo_yerr = 0.177*np.ones_like(ktwo_y)\n",
    "\n",
    "\n",
    "# Shift the data so that the K2 data start at t=0. This tends to make the fit\n",
    "# better behaved since t0 covaries with period.\n",
    "x_ref = np.min(ktwo_x[m])\n",
    "\n",
    "# Trim the light curve around the transit of planet e\n",
    "m &= (abs(ktwo_x-2263.6229)<0.5)\n",
    "\n",
    "# Make sure that the data type is consistent\n",
    "ktwo_x = np.ascontiguousarray(ktwo_x[m], \n",
    "                              dtype=np.float64)\n",
    "ktwo_y = np.ascontiguousarray(ktwo_y[m], \n",
    "                              dtype=np.float64)\n",
    "ktwo_yerr = np.ascontiguousarray(ktwo_yerr[m], \n",
    "                                 dtype=np.float64)\n",
    "ktwo_qual = np.ascontiguousarray(ktwo_qual[m], \n",
    "                                 dtype=np.float64)\n",
    "\n",
    "print('XREF =', x_ref)"
   ]
  },
  {
   "cell_type": "code",
   "execution_count": 4,
   "metadata": {
    "id": "S6u9XPau9IHl"
   },
   "outputs": [],
   "source": [
    "#Note: upload the TICA light curve from the file manager at left\n",
    "tica2 = np.load('/Users/arcticfox/Documents/v1298tau/tess/gp_2min.npy', \n",
    "                allow_pickle=True).tolist()\n",
    "\n",
    "tica2_bkjd  = tica2['time']\n",
    "\n",
    "tica2_f1   = tica2['flux']\n",
    "tica2_e1   = tica2['flux_err']\n",
    "tess_texp = np.median(np.diff(tica2_bkjd))\n",
    "\n",
    "tess_x = tica2_bkjd\n",
    "tess_y = tica2_f1\n",
    "tess_yerr = tica2_e1\n",
    "\n",
    "# Select the data around the transit of planet e (we think)\n",
    "tess_m = abs(tess_x-4648.8)<0.5\n",
    "\n",
    "tess_x = np.ascontiguousarray(tess_x[tess_m],\n",
    "                              dtype=np.float64)\n",
    "tess_y = np.ascontiguousarray(tess_y[tess_m], \n",
    "                              dtype=np.float64)\n",
    "tess_yerr = np.ascontiguousarray(tess_yerr[tess_m], \n",
    "                                 dtype=np.float64)\n",
    "\n",
    "#mission_flag = tess_mission_flag"
   ]
  },
  {
   "cell_type": "code",
   "execution_count": 5,
   "metadata": {},
   "outputs": [
    {
     "data": {
      "text/plain": [
       "(4647.72281079, 4649.72281079)"
      ]
     },
     "execution_count": 5,
     "metadata": {},
     "output_type": "execute_result"
    },
    {
     "data": {
      "image/png": "[encoded data removed]",
      "text/plain": [
       "<Figure size 432x288 with 1 Axes>"
      ]
     },
     "metadata": {
      "needs_background": "light"
     },
     "output_type": "display_data"
    }
   ],
   "source": [
    "plt.plot(tica2_bkjd, tica2_f1)\n",
    "plt.xlim(4648.72281079-1, 4648.72281079+1)"
   ]
  },
  {
   "cell_type": "code",
   "execution_count": 6,
   "metadata": {
    "colab": {
     "base_uri": "https://localhost:8080/",
     "height": 431
    },
    "id": "5lpId6cEywob",
    "outputId": "b09b8317-51b5-46c0-d254-bfb7b6fd242a"
   },
   "outputs": [
    {
     "data": {
      "image/png": "[encoded data removed]",
      "text/plain": [
       "<Figure size 432x288 with 1 Axes>"
      ]
     },
     "metadata": {
      "needs_background": "light"
     },
     "output_type": "display_data"
    }
   ],
   "source": [
    "plt.plot(tess_x, tess_y, '.')\n",
    "#plt.xlim(4645.39920514-0.5,4645.39920514+0.5)\n",
    "plt.xlim(4648.72281079-1, 4648.72281079+1)\n",
    "#plt.ylim(-5,10)\n",
    "plt.show()"
   ]
  },
  {
   "cell_type": "code",
   "execution_count": 9,
   "metadata": {
    "colab": {
     "base_uri": "https://localhost:8080/",
     "height": 452
    },
    "id": "moRGHydJ9N5b",
    "outputId": "972bf3cb-c3c6-4aa9-a911-a7a9e4f4fa82"
   },
   "outputs": [
    {
     "data": {
      "image/png": "[encoded data removed]",
      "text/plain": [
       "<Figure size 576x216 with 2 Axes>"
      ]
     },
     "metadata": {
      "needs_background": "light"
     },
     "output_type": "display_data"
    }
   ],
   "source": [
    "fig,(ax1,ax2) = plt.subplots(1,2,figsize=(8,3))\n",
    "\n",
    "# Plot the data\n",
    "ax1.errorbar(ktwo_x, ktwo_y, yerr=ktwo_yerr, fmt='.', label=\"K2\")\n",
    "ax1.set_xlabel(\"BKJD\")\n",
    "ax1.set_ylabel(\"Relative flux [ppt]\")\n",
    "ax1.set_title(\"K2\")\n",
    "\n",
    "ax2.errorbar(tess_x, tess_y, yerr=tess_yerr,fmt='.')\n",
    "ax2.set_xlabel(\"BKJD\")\n",
    "ax2.set_ylabel(\"Relative flux [ppt]\")\n",
    "ax2.set_title(\"TESS\")\n",
    "\n",
    "plt.tight_layout()\n",
    "plt.show()"
   ]
  },
  {
   "cell_type": "code",
   "execution_count": 8,
   "metadata": {
    "colab": {
     "base_uri": "https://localhost:8080/",
     "height": 335
    },
    "id": "ErguoD7RAaYu",
    "outputId": "72b2a863-bf67-42b5-8a60-10611642ba6d"
   },
   "outputs": [
    {
     "name": "stderr",
     "output_type": "stream",
     "text": [
      "optimizing logp for variables: [mean_tess, mean_ktwo, log_sigma_sho_tess, log_rho_sho_tess, log_sigma_sho_ktwo, log_rho_sho_ktwo]\n"
     ]
    },
    {
     "data": {
      "text/html": [
       "\n",
       "    <div>\n",
       "        <style>\n",
       "            /* Turns off some styling */\n",
       "            progress {\n",
       "                /* gets rid of default border in Firefox and Opera. */\n",
       "                border: none;\n",
       "                /* Needs to be in here for Safari polyfill so background images work as expected. */\n",
       "                background-size: auto;\n",
       "            }\n",
       "            .progress-bar-interrupted, .progress-bar-interrupted::-webkit-progress-bar {\n",
       "                background: #F44336;\n",
       "            }\n",
       "        </style>\n",
       "      <progress value='15' class='' max='15' style='width:300px; height:20px; vertical-align: middle;'></progress>\n",
       "      100.00% [15/15 00:00<00:00 logp = -4.740e+02]\n",
       "    </div>\n",
       "    "
      ],
      "text/plain": [
       "<IPython.core.display.HTML object>"
      ]
     },
     "metadata": {},
     "output_type": "display_data"
    },
    {
     "name": "stdout",
     "output_type": "stream",
     "text": [
      "array: [-29.91505733   0.83805412  -3.27169905   0.10834564  34.94751097\n",
      "  20.68360155]\n",
      "point: {'m_star_interval__': array(0.), 'r_star_interval__': array(0.), 'u_star_quadlimbdark__': array([4.4408921e-16, 0.0000000e+00]), 'b_interval__': array(0.), 'log_depth_ktwo': array(1.38629436), 't0': array(2263.6229), 'log_period': array(3.88520417), 'mean_tess': array(-29.91505733), 'mean_ktwo': array(0.83805412), 'log_sigma_lc_ktwo': array(-2.38136846), 'log_sigma_jit_ktwo': array(-1.68822128), 'log_sigma_lc_tess': array(-3.4764352), 'log_sigma_jit_tess': array(-2.78328802), 'log_rho_sho_ktwo': array(20.68360155), 'log_sigma_sho_ktwo': array(34.94751097), 'log_rho_sho_tess': array(0.10834564), 'log_sigma_sho_tess': array(-3.27169905)}\n"
     ]
    },
    {
     "name": "stderr",
     "output_type": "stream",
     "text": [
      "Traceback (most recent call last):\n",
      "  File \"//anaconda3/envs/pymc3_env/lib/python3.9/site-packages/theano/compile/function/types.py\", line 974, in __call__\n",
      "    self.fn()\n",
      "  File \"//anaconda3/envs/pymc3_env/lib/python3.9/site-packages/theano/graph/op.py\", line 476, in rval\n",
      "    r = p(n, [x[0] for x in i], o)\n",
      "  File \"//anaconda3/envs/pymc3_env/lib/python3.9/site-packages/celerite2/theano/ops.py\", line 123, in perform\n",
      "    func(*args)\n",
      "celerite2.backprop.LinAlgError: failed to factorize or solve matrix\n",
      "\n",
      "During handling of the above exception, another exception occurred:\n",
      "\n",
      "Traceback (most recent call last):\n",
      "  File \"//anaconda3/envs/pymc3_env/lib/python3.9/site-packages/pymc3_ext/optim.py\", line 213, in __call__\n",
      "    res = self.func(\n",
      "  File \"//anaconda3/envs/pymc3_env/lib/python3.9/site-packages/theano/compile/function/types.py\", line 987, in __call__\n",
      "    raise_with_op(\n",
      "  File \"//anaconda3/envs/pymc3_env/lib/python3.9/site-packages/theano/link/utils.py\", line 508, in raise_with_op\n",
      "    raise exc_value.with_traceback(exc_trace)\n",
      "  File \"//anaconda3/envs/pymc3_env/lib/python3.9/site-packages/theano/compile/function/types.py\", line 974, in __call__\n",
      "    self.fn()\n",
      "  File \"//anaconda3/envs/pymc3_env/lib/python3.9/site-packages/theano/graph/op.py\", line 476, in rval\n",
      "    r = p(n, [x[0] for x in i], o)\n",
      "  File \"//anaconda3/envs/pymc3_env/lib/python3.9/site-packages/celerite2/theano/ops.py\", line 123, in perform\n",
      "    func(*args)\n",
      "celerite2.backprop.LinAlgError: failed to factorize or solve matrix\n",
      "Apply node that caused the error: _CeleriteOp{name='factor_fwd', quiet=False}(TensorConstant{[2263.1261...10687009]}, Join.0, Elemwise{Composite{(sqr(i0) + i1 + i2)}}.0, Join.0, Join.0)\n",
      "Toposort index: 247\n",
      "Inputs types: [TensorType(float64, vector), TensorType(float64, vector), TensorType(float64, vector), TensorType(float64, matrix), TensorType(float64, matrix)]\n",
      "Inputs shapes: [(48,), (2,), (48,), (48, 2), (48, 2)]\n",
      "Inputs strides: [(8,), (8,), (8,), (16, 8), (16, 8)]\n",
      "Inputs values: ['not shown', array([4.6226483e-09, 4.6226483e-09]), 'not shown', 'not shown', 'not shown']\n",
      "Outputs clients: [[_CeleriteOp{name='factor_rev', quiet=False}(TensorConstant{[2263.1261...10687009]}, Join.0, Elemwise{Composite{(sqr(i0) + i1 + i2)}}.0, Join.0, Join.0, _CeleriteOp{name='factor_fwd', quiet=False}.0, _CeleriteOp{name='factor_fwd', quiet=False}.1, _CeleriteOp{name='factor_fwd', quiet=False}.2, Elemwise{Composite{((i0 / i1) + ((i2 * i3 * i4) / sqr(i1)))}}.0, _CeleriteOp{name='solve_lower_rev', quiet=False}.3), Elemwise{true_div,no_inplace}(InplaceDimShuffle{0}.0, _CeleriteOp{name='factor_fwd', quiet=False}.0), Elemwise{Composite{((i0 / i1) + ((i2 * i3 * i4) / sqr(i1)))}}(TensorConstant{(1,) of 0.5}, _CeleriteOp{name='factor_fwd', quiet=False}.0, TensorConstant{(1,) of 0.5}, TensorConstant{(1,) of -1.0}, Elemwise{Sqr}[(0, 0)].0), Elemwise{TrueDiv}[(0, 0)](Elemwise{Sqr}[(0, 0)].0, _CeleriteOp{name='factor_fwd', quiet=False}.0), Elemwise{Log}[(0, 0)](_CeleriteOp{name='factor_fwd', quiet=False}.0)], [_CeleriteOp{name='solve_lower_fwd', quiet=False}(TensorConstant{[2263.1261...10687009]}, Join.0, Join.0, _CeleriteOp{name='factor_fwd', quiet=False}.1, Elemwise{sub,no_inplace}.0), _CeleriteOp{name='solve_lower_rev', quiet=False}(TensorConstant{[2263.1261...10687009]}, Join.0, Join.0, _CeleriteOp{name='factor_fwd', quiet=False}.1, Elemwise{sub,no_inplace}.0, _CeleriteOp{name='solve_lower_fwd', quiet=False}.0, _CeleriteOp{name='solve_lower_fwd', quiet=False}.1, IncSubtensor{InplaceInc;::, int64}.0), _CeleriteOp{name='factor_rev', quiet=False}(TensorConstant{[2263.1261...10687009]}, Join.0, Elemwise{Composite{(sqr(i0) + i1 + i2)}}.0, Join.0, Join.0, _CeleriteOp{name='factor_fwd', quiet=False}.0, _CeleriteOp{name='factor_fwd', quiet=False}.1, _CeleriteOp{name='factor_fwd', quiet=False}.2, Elemwise{Composite{((i0 / i1) + ((i2 * i3 * i4) / sqr(i1)))}}.0, _CeleriteOp{name='solve_lower_rev', quiet=False}.3)], [_CeleriteOp{name='factor_rev', quiet=False}(TensorConstant{[2263.1261...10687009]}, Join.0, Elemwise{Composite{(sqr(i0) + i1 + i2)}}.0, Join.0, Join.0, _CeleriteOp{name='factor_fwd', quiet=False}.0, _CeleriteOp{name='factor_fwd', quiet=False}.1, _CeleriteOp{name='factor_fwd', quiet=False}.2, Elemwise{Composite{((i0 / i1) + ((i2 * i3 * i4) / sqr(i1)))}}.0, _CeleriteOp{name='solve_lower_rev', quiet=False}.3)]]\n",
      "\n",
      "Backtrace when the node is created(use Theano flag traceback__limit=N to make it longer):\n",
      "  File \"/var/folders/gz/h7_ym7m52dlgq4xpllc1x3m40000gn/T/ipykernel_47728/1604666772.py\", line 173, in <module>\n",
      "    model0, map_soln0, extras0, orbit0 = build_model()\n",
      "  File \"/var/folders/gz/h7_ym7m52dlgq4xpllc1x3m40000gn/T/ipykernel_47728/1604666772.py\", line 140, in build_model\n",
      "    gp_ktwo = GaussianProcess(kernel_ktwo, t=ktwo_x[ktwo_mask], yerr=yerr_ktwo)\n",
      "  File \"//anaconda3/envs/pymc3_env/lib/python3.9/site-packages/celerite2/core.py\", line 210, in __init__\n",
      "    self.compute(t, **kwargs)\n",
      "  File \"//anaconda3/envs/pymc3_env/lib/python3.9/site-packages/celerite2/core.py\", line 316, in compute\n",
      "    self._do_compute(quiet)\n",
      "  File \"//anaconda3/envs/pymc3_env/lib/python3.9/site-packages/celerite2/theano/celerite2.py\", line 83, in _do_compute\n",
      "    self._d, self._W, _ = ops.factor(\n",
      "  File \"//anaconda3/envs/pymc3_env/lib/python3.9/site-packages/theano/graph/op.py\", line 250, in __call__\n",
      "    node = self.make_node(*inputs, **kwargs)\n",
      "  File \"//anaconda3/envs/pymc3_env/lib/python3.9/site-packages/celerite2/theano/ops.py\", line 83, in make_node\n",
      "    otypes = [\n",
      "  File \"//anaconda3/envs/pymc3_env/lib/python3.9/site-packages/celerite2/theano/ops.py\", line 84, in <listcomp>\n",
      "    tt.TensorType(\n",
      "\n",
      "HINT: Use the Theano flag 'exception_verbosity=high' for a debugprint and storage map footprint of this apply node.\n"
     ]
    },
    {
     "name": "stdout",
     "output_type": "stream",
     "text": [
      "\n"
     ]
    },
    {
     "ename": "LinAlgError",
     "evalue": "failed to factorize or solve matrix\nApply node that caused the error: _CeleriteOp{name='factor_fwd', quiet=False}(TensorConstant{[2263.1261...10687009]}, Join.0, Elemwise{Composite{(sqr(i0) + i1 + i2)}}.0, Join.0, Join.0)\nToposort index: 247\nInputs types: [TensorType(float64, vector), TensorType(float64, vector), TensorType(float64, vector), TensorType(float64, matrix), TensorType(float64, matrix)]\nInputs shapes: [(48,), (2,), (48,), (48, 2), (48, 2)]\nInputs strides: [(8,), (8,), (8,), (16, 8), (16, 8)]\nInputs values: ['not shown', array([4.6226483e-09, 4.6226483e-09]), 'not shown', 'not shown', 'not shown']\nOutputs clients: [[_CeleriteOp{name='factor_rev', quiet=False}(TensorConstant{[2263.1261...10687009]}, Join.0, Elemwise{Composite{(sqr(i0) + i1 + i2)}}.0, Join.0, Join.0, _CeleriteOp{name='factor_fwd', quiet=False}.0, _CeleriteOp{name='factor_fwd', quiet=False}.1, _CeleriteOp{name='factor_fwd', quiet=False}.2, Elemwise{Composite{((i0 / i1) + ((i2 * i3 * i4) / sqr(i1)))}}.0, _CeleriteOp{name='solve_lower_rev', quiet=False}.3), Elemwise{true_div,no_inplace}(InplaceDimShuffle{0}.0, _CeleriteOp{name='factor_fwd', quiet=False}.0), Elemwise{Composite{((i0 / i1) + ((i2 * i3 * i4) / sqr(i1)))}}(TensorConstant{(1,) of 0.5}, _CeleriteOp{name='factor_fwd', quiet=False}.0, TensorConstant{(1,) of 0.5}, TensorConstant{(1,) of -1.0}, Elemwise{Sqr}[(0, 0)].0), Elemwise{TrueDiv}[(0, 0)](Elemwise{Sqr}[(0, 0)].0, _CeleriteOp{name='factor_fwd', quiet=False}.0), Elemwise{Log}[(0, 0)](_CeleriteOp{name='factor_fwd', quiet=False}.0)], [_CeleriteOp{name='solve_lower_fwd', quiet=False}(TensorConstant{[2263.1261...10687009]}, Join.0, Join.0, _CeleriteOp{name='factor_fwd', quiet=False}.1, Elemwise{sub,no_inplace}.0), _CeleriteOp{name='solve_lower_rev', quiet=False}(TensorConstant{[2263.1261...10687009]}, Join.0, Join.0, _CeleriteOp{name='factor_fwd', quiet=False}.1, Elemwise{sub,no_inplace}.0, _CeleriteOp{name='solve_lower_fwd', quiet=False}.0, _CeleriteOp{name='solve_lower_fwd', quiet=False}.1, IncSubtensor{InplaceInc;::, int64}.0), _CeleriteOp{name='factor_rev', quiet=False}(TensorConstant{[2263.1261...10687009]}, Join.0, Elemwise{Composite{(sqr(i0) + i1 + i2)}}.0, Join.0, Join.0, _CeleriteOp{name='factor_fwd', quiet=False}.0, _CeleriteOp{name='factor_fwd', quiet=False}.1, _CeleriteOp{name='factor_fwd', quiet=False}.2, Elemwise{Composite{((i0 / i1) + ((i2 * i3 * i4) / sqr(i1)))}}.0, _CeleriteOp{name='solve_lower_rev', quiet=False}.3)], [_CeleriteOp{name='factor_rev', quiet=False}(TensorConstant{[2263.1261...10687009]}, Join.0, Elemwise{Composite{(sqr(i0) + i1 + i2)}}.0, Join.0, Join.0, _CeleriteOp{name='factor_fwd', quiet=False}.0, _CeleriteOp{name='factor_fwd', quiet=False}.1, _CeleriteOp{name='factor_fwd', quiet=False}.2, Elemwise{Composite{((i0 / i1) + ((i2 * i3 * i4) / sqr(i1)))}}.0, _CeleriteOp{name='solve_lower_rev', quiet=False}.3)]]\n\nBacktrace when the node is created(use Theano flag traceback__limit=N to make it longer):\n  File \"/var/folders/gz/h7_ym7m52dlgq4xpllc1x3m40000gn/T/ipykernel_47728/1604666772.py\", line 173, in <module>\n    model0, map_soln0, extras0, orbit0 = build_model()\n  File \"/var/folders/gz/h7_ym7m52dlgq4xpllc1x3m40000gn/T/ipykernel_47728/1604666772.py\", line 140, in build_model\n    gp_ktwo = GaussianProcess(kernel_ktwo, t=ktwo_x[ktwo_mask], yerr=yerr_ktwo)\n  File \"//anaconda3/envs/pymc3_env/lib/python3.9/site-packages/celerite2/core.py\", line 210, in __init__\n    self.compute(t, **kwargs)\n  File \"//anaconda3/envs/pymc3_env/lib/python3.9/site-packages/celerite2/core.py\", line 316, in compute\n    self._do_compute(quiet)\n  File \"//anaconda3/envs/pymc3_env/lib/python3.9/site-packages/celerite2/theano/celerite2.py\", line 83, in _do_compute\n    self._d, self._W, _ = ops.factor(\n  File \"//anaconda3/envs/pymc3_env/lib/python3.9/site-packages/theano/graph/op.py\", line 250, in __call__\n    node = self.make_node(*inputs, **kwargs)\n  File \"//anaconda3/envs/pymc3_env/lib/python3.9/site-packages/celerite2/theano/ops.py\", line 83, in make_node\n    otypes = [\n  File \"//anaconda3/envs/pymc3_env/lib/python3.9/site-packages/celerite2/theano/ops.py\", line 84, in <listcomp>\n    tt.TensorType(\n\nHINT: Use the Theano flag 'exception_verbosity=high' for a debugprint and storage map footprint of this apply node.",
     "output_type": "error",
     "traceback": [
      "\u001b[0;31m---------------------------------------------------------------------------\u001b[0m",
      "\u001b[0;31mLinAlgError\u001b[0m                               Traceback (most recent call last)",
      "\u001b[0;32m//anaconda3/envs/pymc3_env/lib/python3.9/site-packages/theano/compile/function/types.py\u001b[0m in \u001b[0;36m__call__\u001b[0;34m(self, *args, **kwargs)\u001b[0m\n\u001b[1;32m    973\u001b[0m             outputs = (\n\u001b[0;32m--> 974\u001b[0;31m                 \u001b[0mself\u001b[0m\u001b[0;34m.\u001b[0m\u001b[0mfn\u001b[0m\u001b[0;34m(\u001b[0m\u001b[0;34m)\u001b[0m\u001b[0;34m\u001b[0m\u001b[0;34m\u001b[0m\u001b[0m\n\u001b[0m\u001b[1;32m    975\u001b[0m                 \u001b[0;32mif\u001b[0m \u001b[0moutput_subset\u001b[0m \u001b[0;32mis\u001b[0m \u001b[0;32mNone\u001b[0m\u001b[0;34m\u001b[0m\u001b[0;34m\u001b[0m\u001b[0m\n",
      "\u001b[0;32m//anaconda3/envs/pymc3_env/lib/python3.9/site-packages/theano/graph/op.py\u001b[0m in \u001b[0;36mrval\u001b[0;34m(p, i, o, n)\u001b[0m\n\u001b[1;32m    475\u001b[0m             \u001b[0;32mdef\u001b[0m \u001b[0mrval\u001b[0m\u001b[0;34m(\u001b[0m\u001b[0mp\u001b[0m\u001b[0;34m=\u001b[0m\u001b[0mp\u001b[0m\u001b[0;34m,\u001b[0m \u001b[0mi\u001b[0m\u001b[0;34m=\u001b[0m\u001b[0mnode_input_storage\u001b[0m\u001b[0;34m,\u001b[0m \u001b[0mo\u001b[0m\u001b[0;34m=\u001b[0m\u001b[0mnode_output_storage\u001b[0m\u001b[0;34m,\u001b[0m \u001b[0mn\u001b[0m\u001b[0;34m=\u001b[0m\u001b[0mnode\u001b[0m\u001b[0;34m)\u001b[0m\u001b[0;34m:\u001b[0m\u001b[0;34m\u001b[0m\u001b[0;34m\u001b[0m\u001b[0m\n\u001b[0;32m--> 476\u001b[0;31m                 \u001b[0mr\u001b[0m \u001b[0;34m=\u001b[0m \u001b[0mp\u001b[0m\u001b[0;34m(\u001b[0m\u001b[0mn\u001b[0m\u001b[0;34m,\u001b[0m \u001b[0;34m[\u001b[0m\u001b[0mx\u001b[0m\u001b[0;34m[\u001b[0m\u001b[0;36m0\u001b[0m\u001b[0;34m]\u001b[0m \u001b[0;32mfor\u001b[0m \u001b[0mx\u001b[0m \u001b[0;32min\u001b[0m \u001b[0mi\u001b[0m\u001b[0;34m]\u001b[0m\u001b[0;34m,\u001b[0m \u001b[0mo\u001b[0m\u001b[0;34m)\u001b[0m\u001b[0;34m\u001b[0m\u001b[0;34m\u001b[0m\u001b[0m\n\u001b[0m\u001b[1;32m    477\u001b[0m                 \u001b[0;32mfor\u001b[0m \u001b[0mo\u001b[0m \u001b[0;32min\u001b[0m \u001b[0mnode\u001b[0m\u001b[0;34m.\u001b[0m\u001b[0moutputs\u001b[0m\u001b[0;34m:\u001b[0m\u001b[0;34m\u001b[0m\u001b[0;34m\u001b[0m\u001b[0m\n",
      "\u001b[0;32m//anaconda3/envs/pymc3_env/lib/python3.9/site-packages/celerite2/theano/ops.py\u001b[0m in \u001b[0;36mperform\u001b[0;34m(self, node, inputs, outputs)\u001b[0m\n\u001b[1;32m    122\u001b[0m         \u001b[0;32mtry\u001b[0m\u001b[0;34m:\u001b[0m\u001b[0;34m\u001b[0m\u001b[0;34m\u001b[0m\u001b[0m\n\u001b[0;32m--> 123\u001b[0;31m             \u001b[0mfunc\u001b[0m\u001b[0;34m(\u001b[0m\u001b[0;34m*\u001b[0m\u001b[0margs\u001b[0m\u001b[0;34m)\u001b[0m\u001b[0;34m\u001b[0m\u001b[0;34m\u001b[0m\u001b[0m\n\u001b[0m\u001b[1;32m    124\u001b[0m         \u001b[0;32mexcept\u001b[0m \u001b[0mbackprop\u001b[0m\u001b[0;34m.\u001b[0m\u001b[0mLinAlgError\u001b[0m\u001b[0;34m:\u001b[0m\u001b[0;34m\u001b[0m\u001b[0;34m\u001b[0m\u001b[0m\n",
      "\u001b[0;31mLinAlgError\u001b[0m: failed to factorize or solve matrix",
      "\nDuring handling of the above exception, another exception occurred:\n",
      "\u001b[0;31mLinAlgError\u001b[0m                               Traceback (most recent call last)",
      "\u001b[0;32m/var/folders/gz/h7_ym7m52dlgq4xpllc1x3m40000gn/T/ipykernel_47728/1604666772.py\u001b[0m in \u001b[0;36m<module>\u001b[0;34m\u001b[0m\n\u001b[1;32m    171\u001b[0m     \u001b[0;32mreturn\u001b[0m \u001b[0mmodel\u001b[0m\u001b[0;34m,\u001b[0m \u001b[0mmap_soln\u001b[0m\u001b[0;34m,\u001b[0m \u001b[0mextras\u001b[0m\u001b[0;34m,\u001b[0m \u001b[0morbit\u001b[0m\u001b[0;34m\u001b[0m\u001b[0;34m\u001b[0m\u001b[0m\n\u001b[1;32m    172\u001b[0m \u001b[0;34m\u001b[0m\u001b[0m\n\u001b[0;32m--> 173\u001b[0;31m \u001b[0mmodel0\u001b[0m\u001b[0;34m,\u001b[0m \u001b[0mmap_soln0\u001b[0m\u001b[0;34m,\u001b[0m \u001b[0mextras0\u001b[0m\u001b[0;34m,\u001b[0m \u001b[0morbit0\u001b[0m \u001b[0;34m=\u001b[0m \u001b[0mbuild_model\u001b[0m\u001b[0;34m(\u001b[0m\u001b[0;34m)\u001b[0m\u001b[0;34m\u001b[0m\u001b[0;34m\u001b[0m\u001b[0m\n\u001b[0m",
      "\u001b[0;32m/var/folders/gz/h7_ym7m52dlgq4xpllc1x3m40000gn/T/ipykernel_47728/1604666772.py\u001b[0m in \u001b[0;36mbuild_model\u001b[0;34m(ktwo_mask, tess_mask, start, eccentric)\u001b[0m\n\u001b[1;32m    146\u001b[0m         \u001b[0mmap_soln\u001b[0m \u001b[0;34m=\u001b[0m \u001b[0mmodel\u001b[0m\u001b[0;34m.\u001b[0m\u001b[0mtest_point\u001b[0m\u001b[0;34m\u001b[0m\u001b[0;34m\u001b[0m\u001b[0m\n\u001b[1;32m    147\u001b[0m \u001b[0;34m\u001b[0m\u001b[0m\n\u001b[0;32m--> 148\u001b[0;31m         map_soln = pmx.optimize(start=map_soln, vars=[log_rho_sho_ktwo, log_sigma_sho_ktwo,\n\u001b[0m\u001b[1;32m    149\u001b[0m                                                    \u001b[0mlog_rho_sho_tess\u001b[0m\u001b[0;34m,\u001b[0m \u001b[0mlog_sigma_sho_tess\u001b[0m\u001b[0;34m,\u001b[0m\u001b[0;34m\u001b[0m\u001b[0;34m\u001b[0m\u001b[0m\n\u001b[1;32m    150\u001b[0m                                                    \u001b[0mmean_ktwo\u001b[0m\u001b[0;34m,\u001b[0m \u001b[0mmean_tess\u001b[0m\u001b[0;34m\u001b[0m\u001b[0;34m\u001b[0m\u001b[0m\n",
      "\u001b[0;32m//anaconda3/envs/pymc3_env/lib/python3.9/site-packages/pymc3_ext/optim.py\u001b[0m in \u001b[0;36moptimize\u001b[0;34m(start, vars, return_info, verbose, progress, maxeval, model, **kwargs)\u001b[0m\n\u001b[1;32m    117\u001b[0m \u001b[0;34m\u001b[0m\u001b[0m\n\u001b[1;32m    118\u001b[0m     \u001b[0;32mtry\u001b[0m\u001b[0;34m:\u001b[0m\u001b[0;34m\u001b[0m\u001b[0;34m\u001b[0m\u001b[0m\n\u001b[0;32m--> 119\u001b[0;31m         \u001b[0minfo\u001b[0m \u001b[0;34m=\u001b[0m \u001b[0mminimize\u001b[0m\u001b[0;34m(\u001b[0m\u001b[0mobjective\u001b[0m\u001b[0;34m,\u001b[0m \u001b[0mx0\u001b[0m\u001b[0;34m,\u001b[0m \u001b[0;34m**\u001b[0m\u001b[0mkwargs\u001b[0m\u001b[0;34m)\u001b[0m\u001b[0;34m\u001b[0m\u001b[0;34m\u001b[0m\u001b[0m\n\u001b[0m\u001b[1;32m    120\u001b[0m     \u001b[0;32mexcept\u001b[0m \u001b[0;34m(\u001b[0m\u001b[0mKeyboardInterrupt\u001b[0m\u001b[0;34m,\u001b[0m \u001b[0mStopIteration\u001b[0m\u001b[0;34m)\u001b[0m\u001b[0;34m:\u001b[0m\u001b[0;34m\u001b[0m\u001b[0;34m\u001b[0m\u001b[0m\n\u001b[1;32m    121\u001b[0m         \u001b[0minfo\u001b[0m \u001b[0;34m=\u001b[0m \u001b[0;32mNone\u001b[0m\u001b[0;34m\u001b[0m\u001b[0;34m\u001b[0m\u001b[0m\n",
      "\u001b[0;32m//anaconda3/envs/pymc3_env/lib/python3.9/site-packages/scipy/optimize/_minimize.py\u001b[0m in \u001b[0;36mminimize\u001b[0;34m(fun, x0, args, method, jac, hess, hessp, bounds, constraints, tol, callback, options)\u001b[0m\n\u001b[1;32m    616\u001b[0m         \u001b[0;32mreturn\u001b[0m \u001b[0m_minimize_cg\u001b[0m\u001b[0;34m(\u001b[0m\u001b[0mfun\u001b[0m\u001b[0;34m,\u001b[0m \u001b[0mx0\u001b[0m\u001b[0;34m,\u001b[0m \u001b[0margs\u001b[0m\u001b[0;34m,\u001b[0m \u001b[0mjac\u001b[0m\u001b[0;34m,\u001b[0m \u001b[0mcallback\u001b[0m\u001b[0;34m,\u001b[0m \u001b[0;34m**\u001b[0m\u001b[0moptions\u001b[0m\u001b[0;34m)\u001b[0m\u001b[0;34m\u001b[0m\u001b[0;34m\u001b[0m\u001b[0m\n\u001b[1;32m    617\u001b[0m     \u001b[0;32melif\u001b[0m \u001b[0mmeth\u001b[0m \u001b[0;34m==\u001b[0m \u001b[0;34m'bfgs'\u001b[0m\u001b[0;34m:\u001b[0m\u001b[0;34m\u001b[0m\u001b[0;34m\u001b[0m\u001b[0m\n\u001b[0;32m--> 618\u001b[0;31m         \u001b[0;32mreturn\u001b[0m \u001b[0m_minimize_bfgs\u001b[0m\u001b[0;34m(\u001b[0m\u001b[0mfun\u001b[0m\u001b[0;34m,\u001b[0m \u001b[0mx0\u001b[0m\u001b[0;34m,\u001b[0m \u001b[0margs\u001b[0m\u001b[0;34m,\u001b[0m \u001b[0mjac\u001b[0m\u001b[0;34m,\u001b[0m \u001b[0mcallback\u001b[0m\u001b[0;34m,\u001b[0m \u001b[0;34m**\u001b[0m\u001b[0moptions\u001b[0m\u001b[0;34m)\u001b[0m\u001b[0;34m\u001b[0m\u001b[0;34m\u001b[0m\u001b[0m\n\u001b[0m\u001b[1;32m    619\u001b[0m     \u001b[0;32melif\u001b[0m \u001b[0mmeth\u001b[0m \u001b[0;34m==\u001b[0m \u001b[0;34m'newton-cg'\u001b[0m\u001b[0;34m:\u001b[0m\u001b[0;34m\u001b[0m\u001b[0;34m\u001b[0m\u001b[0m\n\u001b[1;32m    620\u001b[0m         return _minimize_newtoncg(fun, x0, args, jac, hess, hessp, callback,\n",
      "\u001b[0;32m//anaconda3/envs/pymc3_env/lib/python3.9/site-packages/scipy/optimize/optimize.py\u001b[0m in \u001b[0;36m_minimize_bfgs\u001b[0;34m(fun, x0, args, jac, callback, gtol, norm, eps, maxiter, disp, return_all, finite_diff_rel_step, **unknown_options)\u001b[0m\n\u001b[1;32m   1233\u001b[0m         \u001b[0;32mtry\u001b[0m\u001b[0;34m:\u001b[0m\u001b[0;34m\u001b[0m\u001b[0;34m\u001b[0m\u001b[0m\n\u001b[1;32m   1234\u001b[0m             \u001b[0malpha_k\u001b[0m\u001b[0;34m,\u001b[0m \u001b[0mfc\u001b[0m\u001b[0;34m,\u001b[0m \u001b[0mgc\u001b[0m\u001b[0;34m,\u001b[0m \u001b[0mold_fval\u001b[0m\u001b[0;34m,\u001b[0m \u001b[0mold_old_fval\u001b[0m\u001b[0;34m,\u001b[0m \u001b[0mgfkp1\u001b[0m \u001b[0;34m=\u001b[0m\u001b[0;31m \u001b[0m\u001b[0;31m\\\u001b[0m\u001b[0;34m\u001b[0m\u001b[0;34m\u001b[0m\u001b[0m\n\u001b[0;32m-> 1235\u001b[0;31m                      _line_search_wolfe12(f, myfprime, xk, pk, gfk,\n\u001b[0m\u001b[1;32m   1236\u001b[0m                                           old_fval, old_old_fval, amin=1e-100, amax=1e100)\n\u001b[1;32m   1237\u001b[0m         \u001b[0;32mexcept\u001b[0m \u001b[0m_LineSearchError\u001b[0m\u001b[0;34m:\u001b[0m\u001b[0;34m\u001b[0m\u001b[0;34m\u001b[0m\u001b[0m\n",
      "\u001b[0;32m//anaconda3/envs/pymc3_env/lib/python3.9/site-packages/scipy/optimize/optimize.py\u001b[0m in \u001b[0;36m_line_search_wolfe12\u001b[0;34m(f, fprime, xk, pk, gfk, old_fval, old_old_fval, **kwargs)\u001b[0m\n\u001b[1;32m   1003\u001b[0m     \u001b[0mextra_condition\u001b[0m \u001b[0;34m=\u001b[0m \u001b[0mkwargs\u001b[0m\u001b[0;34m.\u001b[0m\u001b[0mpop\u001b[0m\u001b[0;34m(\u001b[0m\u001b[0;34m'extra_condition'\u001b[0m\u001b[0;34m,\u001b[0m \u001b[0;32mNone\u001b[0m\u001b[0;34m)\u001b[0m\u001b[0;34m\u001b[0m\u001b[0;34m\u001b[0m\u001b[0m\n\u001b[1;32m   1004\u001b[0m \u001b[0;34m\u001b[0m\u001b[0m\n\u001b[0;32m-> 1005\u001b[0;31m     ret = line_search_wolfe1(f, fprime, xk, pk, gfk,\n\u001b[0m\u001b[1;32m   1006\u001b[0m                              \u001b[0mold_fval\u001b[0m\u001b[0;34m,\u001b[0m \u001b[0mold_old_fval\u001b[0m\u001b[0;34m,\u001b[0m\u001b[0;34m\u001b[0m\u001b[0;34m\u001b[0m\u001b[0m\n\u001b[1;32m   1007\u001b[0m                              **kwargs)\n",
      "\u001b[0;32m//anaconda3/envs/pymc3_env/lib/python3.9/site-packages/scipy/optimize/linesearch.py\u001b[0m in \u001b[0;36mline_search_wolfe1\u001b[0;34m(f, fprime, xk, pk, gfk, old_fval, old_old_fval, args, c1, c2, amax, amin, xtol)\u001b[0m\n\u001b[1;32m     94\u001b[0m     \u001b[0mderphi0\u001b[0m \u001b[0;34m=\u001b[0m \u001b[0mnp\u001b[0m\u001b[0;34m.\u001b[0m\u001b[0mdot\u001b[0m\u001b[0;34m(\u001b[0m\u001b[0mgfk\u001b[0m\u001b[0;34m,\u001b[0m \u001b[0mpk\u001b[0m\u001b[0;34m)\u001b[0m\u001b[0;34m\u001b[0m\u001b[0;34m\u001b[0m\u001b[0m\n\u001b[1;32m     95\u001b[0m \u001b[0;34m\u001b[0m\u001b[0m\n\u001b[0;32m---> 96\u001b[0;31m     stp, fval, old_fval = scalar_search_wolfe1(\n\u001b[0m\u001b[1;32m     97\u001b[0m             \u001b[0mphi\u001b[0m\u001b[0;34m,\u001b[0m \u001b[0mderphi\u001b[0m\u001b[0;34m,\u001b[0m \u001b[0mold_fval\u001b[0m\u001b[0;34m,\u001b[0m \u001b[0mold_old_fval\u001b[0m\u001b[0;34m,\u001b[0m \u001b[0mderphi0\u001b[0m\u001b[0;34m,\u001b[0m\u001b[0;34m\u001b[0m\u001b[0;34m\u001b[0m\u001b[0m\n\u001b[1;32m     98\u001b[0m             c1=c1, c2=c2, amax=amax, amin=amin, xtol=xtol)\n",
      "\u001b[0;32m//anaconda3/envs/pymc3_env/lib/python3.9/site-packages/scipy/optimize/linesearch.py\u001b[0m in \u001b[0;36mscalar_search_wolfe1\u001b[0;34m(phi, derphi, phi0, old_phi0, derphi0, c1, c2, amax, amin, xtol)\u001b[0m\n\u001b[1;32m    170\u001b[0m         \u001b[0;32mif\u001b[0m \u001b[0mtask\u001b[0m\u001b[0;34m[\u001b[0m\u001b[0;34m:\u001b[0m\u001b[0;36m2\u001b[0m\u001b[0;34m]\u001b[0m \u001b[0;34m==\u001b[0m \u001b[0;34mb'FG'\u001b[0m\u001b[0;34m:\u001b[0m\u001b[0;34m\u001b[0m\u001b[0;34m\u001b[0m\u001b[0m\n\u001b[1;32m    171\u001b[0m             \u001b[0malpha1\u001b[0m \u001b[0;34m=\u001b[0m \u001b[0mstp\u001b[0m\u001b[0;34m\u001b[0m\u001b[0;34m\u001b[0m\u001b[0m\n\u001b[0;32m--> 172\u001b[0;31m             \u001b[0mphi1\u001b[0m \u001b[0;34m=\u001b[0m \u001b[0mphi\u001b[0m\u001b[0;34m(\u001b[0m\u001b[0mstp\u001b[0m\u001b[0;34m)\u001b[0m\u001b[0;34m\u001b[0m\u001b[0;34m\u001b[0m\u001b[0m\n\u001b[0m\u001b[1;32m    173\u001b[0m             \u001b[0mderphi1\u001b[0m \u001b[0;34m=\u001b[0m \u001b[0mderphi\u001b[0m\u001b[0;34m(\u001b[0m\u001b[0mstp\u001b[0m\u001b[0;34m)\u001b[0m\u001b[0;34m\u001b[0m\u001b[0;34m\u001b[0m\u001b[0m\n\u001b[1;32m    174\u001b[0m         \u001b[0;32melse\u001b[0m\u001b[0;34m:\u001b[0m\u001b[0;34m\u001b[0m\u001b[0;34m\u001b[0m\u001b[0m\n",
      "\u001b[0;32m//anaconda3/envs/pymc3_env/lib/python3.9/site-packages/scipy/optimize/linesearch.py\u001b[0m in \u001b[0;36mphi\u001b[0;34m(s)\u001b[0m\n\u001b[1;32m     82\u001b[0m     \u001b[0;32mdef\u001b[0m \u001b[0mphi\u001b[0m\u001b[0;34m(\u001b[0m\u001b[0ms\u001b[0m\u001b[0;34m)\u001b[0m\u001b[0;34m:\u001b[0m\u001b[0;34m\u001b[0m\u001b[0;34m\u001b[0m\u001b[0m\n\u001b[1;32m     83\u001b[0m         \u001b[0mfc\u001b[0m\u001b[0;34m[\u001b[0m\u001b[0;36m0\u001b[0m\u001b[0;34m]\u001b[0m \u001b[0;34m+=\u001b[0m \u001b[0;36m1\u001b[0m\u001b[0;34m\u001b[0m\u001b[0;34m\u001b[0m\u001b[0m\n\u001b[0;32m---> 84\u001b[0;31m         \u001b[0;32mreturn\u001b[0m \u001b[0mf\u001b[0m\u001b[0;34m(\u001b[0m\u001b[0mxk\u001b[0m \u001b[0;34m+\u001b[0m \u001b[0ms\u001b[0m\u001b[0;34m*\u001b[0m\u001b[0mpk\u001b[0m\u001b[0;34m,\u001b[0m \u001b[0;34m*\u001b[0m\u001b[0margs\u001b[0m\u001b[0;34m)\u001b[0m\u001b[0;34m\u001b[0m\u001b[0;34m\u001b[0m\u001b[0m\n\u001b[0m\u001b[1;32m     85\u001b[0m \u001b[0;34m\u001b[0m\u001b[0m\n\u001b[1;32m     86\u001b[0m     \u001b[0;32mdef\u001b[0m \u001b[0mderphi\u001b[0m\u001b[0;34m(\u001b[0m\u001b[0ms\u001b[0m\u001b[0;34m)\u001b[0m\u001b[0;34m:\u001b[0m\u001b[0;34m\u001b[0m\u001b[0;34m\u001b[0m\u001b[0m\n",
      "\u001b[0;32m//anaconda3/envs/pymc3_env/lib/python3.9/site-packages/scipy/optimize/_differentiable_functions.py\u001b[0m in \u001b[0;36mfun\u001b[0;34m(self, x)\u001b[0m\n\u001b[1;32m    247\u001b[0m         \u001b[0;32mif\u001b[0m \u001b[0;32mnot\u001b[0m \u001b[0mnp\u001b[0m\u001b[0;34m.\u001b[0m\u001b[0marray_equal\u001b[0m\u001b[0;34m(\u001b[0m\u001b[0mx\u001b[0m\u001b[0;34m,\u001b[0m \u001b[0mself\u001b[0m\u001b[0;34m.\u001b[0m\u001b[0mx\u001b[0m\u001b[0;34m)\u001b[0m\u001b[0;34m:\u001b[0m\u001b[0;34m\u001b[0m\u001b[0;34m\u001b[0m\u001b[0m\n\u001b[1;32m    248\u001b[0m             \u001b[0mself\u001b[0m\u001b[0;34m.\u001b[0m\u001b[0m_update_x_impl\u001b[0m\u001b[0;34m(\u001b[0m\u001b[0mx\u001b[0m\u001b[0;34m)\u001b[0m\u001b[0;34m\u001b[0m\u001b[0;34m\u001b[0m\u001b[0m\n\u001b[0;32m--> 249\u001b[0;31m         \u001b[0mself\u001b[0m\u001b[0;34m.\u001b[0m\u001b[0m_update_fun\u001b[0m\u001b[0;34m(\u001b[0m\u001b[0;34m)\u001b[0m\u001b[0;34m\u001b[0m\u001b[0;34m\u001b[0m\u001b[0m\n\u001b[0m\u001b[1;32m    250\u001b[0m         \u001b[0;32mreturn\u001b[0m \u001b[0mself\u001b[0m\u001b[0;34m.\u001b[0m\u001b[0mf\u001b[0m\u001b[0;34m\u001b[0m\u001b[0;34m\u001b[0m\u001b[0m\n\u001b[1;32m    251\u001b[0m \u001b[0;34m\u001b[0m\u001b[0m\n",
      "\u001b[0;32m//anaconda3/envs/pymc3_env/lib/python3.9/site-packages/scipy/optimize/_differentiable_functions.py\u001b[0m in \u001b[0;36m_update_fun\u001b[0;34m(self)\u001b[0m\n\u001b[1;32m    231\u001b[0m     \u001b[0;32mdef\u001b[0m \u001b[0m_update_fun\u001b[0m\u001b[0;34m(\u001b[0m\u001b[0mself\u001b[0m\u001b[0;34m)\u001b[0m\u001b[0;34m:\u001b[0m\u001b[0;34m\u001b[0m\u001b[0;34m\u001b[0m\u001b[0m\n\u001b[1;32m    232\u001b[0m         \u001b[0;32mif\u001b[0m \u001b[0;32mnot\u001b[0m \u001b[0mself\u001b[0m\u001b[0;34m.\u001b[0m\u001b[0mf_updated\u001b[0m\u001b[0;34m:\u001b[0m\u001b[0;34m\u001b[0m\u001b[0;34m\u001b[0m\u001b[0m\n\u001b[0;32m--> 233\u001b[0;31m             \u001b[0mself\u001b[0m\u001b[0;34m.\u001b[0m\u001b[0m_update_fun_impl\u001b[0m\u001b[0;34m(\u001b[0m\u001b[0;34m)\u001b[0m\u001b[0;34m\u001b[0m\u001b[0;34m\u001b[0m\u001b[0m\n\u001b[0m\u001b[1;32m    234\u001b[0m             \u001b[0mself\u001b[0m\u001b[0;34m.\u001b[0m\u001b[0mf_updated\u001b[0m \u001b[0;34m=\u001b[0m \u001b[0;32mTrue\u001b[0m\u001b[0;34m\u001b[0m\u001b[0;34m\u001b[0m\u001b[0m\n\u001b[1;32m    235\u001b[0m \u001b[0;34m\u001b[0m\u001b[0m\n",
      "\u001b[0;32m//anaconda3/envs/pymc3_env/lib/python3.9/site-packages/scipy/optimize/_differentiable_functions.py\u001b[0m in \u001b[0;36mupdate_fun\u001b[0;34m()\u001b[0m\n\u001b[1;32m    135\u001b[0m \u001b[0;34m\u001b[0m\u001b[0m\n\u001b[1;32m    136\u001b[0m         \u001b[0;32mdef\u001b[0m \u001b[0mupdate_fun\u001b[0m\u001b[0;34m(\u001b[0m\u001b[0;34m)\u001b[0m\u001b[0;34m:\u001b[0m\u001b[0;34m\u001b[0m\u001b[0;34m\u001b[0m\u001b[0m\n\u001b[0;32m--> 137\u001b[0;31m             \u001b[0mself\u001b[0m\u001b[0;34m.\u001b[0m\u001b[0mf\u001b[0m \u001b[0;34m=\u001b[0m \u001b[0mfun_wrapped\u001b[0m\u001b[0;34m(\u001b[0m\u001b[0mself\u001b[0m\u001b[0;34m.\u001b[0m\u001b[0mx\u001b[0m\u001b[0;34m)\u001b[0m\u001b[0;34m\u001b[0m\u001b[0;34m\u001b[0m\u001b[0m\n\u001b[0m\u001b[1;32m    138\u001b[0m \u001b[0;34m\u001b[0m\u001b[0m\n\u001b[1;32m    139\u001b[0m         \u001b[0mself\u001b[0m\u001b[0;34m.\u001b[0m\u001b[0m_update_fun_impl\u001b[0m \u001b[0;34m=\u001b[0m \u001b[0mupdate_fun\u001b[0m\u001b[0;34m\u001b[0m\u001b[0;34m\u001b[0m\u001b[0m\n",
      "\u001b[0;32m//anaconda3/envs/pymc3_env/lib/python3.9/site-packages/scipy/optimize/_differentiable_functions.py\u001b[0m in \u001b[0;36mfun_wrapped\u001b[0;34m(x)\u001b[0m\n\u001b[1;32m    132\u001b[0m             \u001b[0;31m# Overwriting results in undefined behaviour because\u001b[0m\u001b[0;34m\u001b[0m\u001b[0;34m\u001b[0m\u001b[0m\n\u001b[1;32m    133\u001b[0m             \u001b[0;31m# fun(self.x) will change self.x, with the two no longer linked.\u001b[0m\u001b[0;34m\u001b[0m\u001b[0;34m\u001b[0m\u001b[0m\n\u001b[0;32m--> 134\u001b[0;31m             \u001b[0;32mreturn\u001b[0m \u001b[0mfun\u001b[0m\u001b[0;34m(\u001b[0m\u001b[0mnp\u001b[0m\u001b[0;34m.\u001b[0m\u001b[0mcopy\u001b[0m\u001b[0;34m(\u001b[0m\u001b[0mx\u001b[0m\u001b[0;34m)\u001b[0m\u001b[0;34m,\u001b[0m \u001b[0;34m*\u001b[0m\u001b[0margs\u001b[0m\u001b[0;34m)\u001b[0m\u001b[0;34m\u001b[0m\u001b[0;34m\u001b[0m\u001b[0m\n\u001b[0m\u001b[1;32m    135\u001b[0m \u001b[0;34m\u001b[0m\u001b[0m\n\u001b[1;32m    136\u001b[0m         \u001b[0;32mdef\u001b[0m \u001b[0mupdate_fun\u001b[0m\u001b[0;34m(\u001b[0m\u001b[0;34m)\u001b[0m\u001b[0;34m:\u001b[0m\u001b[0;34m\u001b[0m\u001b[0;34m\u001b[0m\u001b[0m\n",
      "\u001b[0;32m//anaconda3/envs/pymc3_env/lib/python3.9/site-packages/scipy/optimize/optimize.py\u001b[0m in \u001b[0;36m__call__\u001b[0;34m(self, x, *args)\u001b[0m\n\u001b[1;32m     72\u001b[0m     \u001b[0;32mdef\u001b[0m \u001b[0m__call__\u001b[0m\u001b[0;34m(\u001b[0m\u001b[0mself\u001b[0m\u001b[0;34m,\u001b[0m \u001b[0mx\u001b[0m\u001b[0;34m,\u001b[0m \u001b[0;34m*\u001b[0m\u001b[0margs\u001b[0m\u001b[0;34m)\u001b[0m\u001b[0;34m:\u001b[0m\u001b[0;34m\u001b[0m\u001b[0;34m\u001b[0m\u001b[0m\n\u001b[1;32m     73\u001b[0m         \u001b[0;34m\"\"\" returns the the function value \"\"\"\u001b[0m\u001b[0;34m\u001b[0m\u001b[0;34m\u001b[0m\u001b[0m\n\u001b[0;32m---> 74\u001b[0;31m         \u001b[0mself\u001b[0m\u001b[0;34m.\u001b[0m\u001b[0m_compute_if_needed\u001b[0m\u001b[0;34m(\u001b[0m\u001b[0mx\u001b[0m\u001b[0;34m,\u001b[0m \u001b[0;34m*\u001b[0m\u001b[0margs\u001b[0m\u001b[0;34m)\u001b[0m\u001b[0;34m\u001b[0m\u001b[0;34m\u001b[0m\u001b[0m\n\u001b[0m\u001b[1;32m     75\u001b[0m         \u001b[0;32mreturn\u001b[0m \u001b[0mself\u001b[0m\u001b[0;34m.\u001b[0m\u001b[0m_value\u001b[0m\u001b[0;34m\u001b[0m\u001b[0;34m\u001b[0m\u001b[0m\n\u001b[1;32m     76\u001b[0m \u001b[0;34m\u001b[0m\u001b[0m\n",
      "\u001b[0;32m//anaconda3/envs/pymc3_env/lib/python3.9/site-packages/scipy/optimize/optimize.py\u001b[0m in \u001b[0;36m_compute_if_needed\u001b[0;34m(self, x, *args)\u001b[0m\n\u001b[1;32m     66\u001b[0m         \u001b[0;32mif\u001b[0m \u001b[0;32mnot\u001b[0m \u001b[0mnp\u001b[0m\u001b[0;34m.\u001b[0m\u001b[0mall\u001b[0m\u001b[0;34m(\u001b[0m\u001b[0mx\u001b[0m \u001b[0;34m==\u001b[0m \u001b[0mself\u001b[0m\u001b[0;34m.\u001b[0m\u001b[0mx\u001b[0m\u001b[0;34m)\u001b[0m \u001b[0;32mor\u001b[0m \u001b[0mself\u001b[0m\u001b[0;34m.\u001b[0m\u001b[0m_value\u001b[0m \u001b[0;32mis\u001b[0m \u001b[0;32mNone\u001b[0m \u001b[0;32mor\u001b[0m \u001b[0mself\u001b[0m\u001b[0;34m.\u001b[0m\u001b[0mjac\u001b[0m \u001b[0;32mis\u001b[0m \u001b[0;32mNone\u001b[0m\u001b[0;34m:\u001b[0m\u001b[0;34m\u001b[0m\u001b[0;34m\u001b[0m\u001b[0m\n\u001b[1;32m     67\u001b[0m             \u001b[0mself\u001b[0m\u001b[0;34m.\u001b[0m\u001b[0mx\u001b[0m \u001b[0;34m=\u001b[0m \u001b[0mnp\u001b[0m\u001b[0;34m.\u001b[0m\u001b[0masarray\u001b[0m\u001b[0;34m(\u001b[0m\u001b[0mx\u001b[0m\u001b[0;34m)\u001b[0m\u001b[0;34m.\u001b[0m\u001b[0mcopy\u001b[0m\u001b[0;34m(\u001b[0m\u001b[0;34m)\u001b[0m\u001b[0;34m\u001b[0m\u001b[0;34m\u001b[0m\u001b[0m\n\u001b[0;32m---> 68\u001b[0;31m             \u001b[0mfg\u001b[0m \u001b[0;34m=\u001b[0m \u001b[0mself\u001b[0m\u001b[0;34m.\u001b[0m\u001b[0mfun\u001b[0m\u001b[0;34m(\u001b[0m\u001b[0mx\u001b[0m\u001b[0;34m,\u001b[0m \u001b[0;34m*\u001b[0m\u001b[0margs\u001b[0m\u001b[0;34m)\u001b[0m\u001b[0;34m\u001b[0m\u001b[0;34m\u001b[0m\u001b[0m\n\u001b[0m\u001b[1;32m     69\u001b[0m             \u001b[0mself\u001b[0m\u001b[0;34m.\u001b[0m\u001b[0mjac\u001b[0m \u001b[0;34m=\u001b[0m \u001b[0mfg\u001b[0m\u001b[0;34m[\u001b[0m\u001b[0;36m1\u001b[0m\u001b[0;34m]\u001b[0m\u001b[0;34m\u001b[0m\u001b[0;34m\u001b[0m\u001b[0m\n\u001b[1;32m     70\u001b[0m             \u001b[0mself\u001b[0m\u001b[0;34m.\u001b[0m\u001b[0m_value\u001b[0m \u001b[0;34m=\u001b[0m \u001b[0mfg\u001b[0m\u001b[0;34m[\u001b[0m\u001b[0;36m0\u001b[0m\u001b[0;34m]\u001b[0m\u001b[0;34m\u001b[0m\u001b[0;34m\u001b[0m\u001b[0m\n",
      "\u001b[0;32m//anaconda3/envs/pymc3_env/lib/python3.9/site-packages/pymc3_ext/optim.py\u001b[0m in \u001b[0;36mobjective\u001b[0;34m(vec)\u001b[0m\n\u001b[1;32m    101\u001b[0m         \u001b[0;32mnonlocal\u001b[0m \u001b[0mneval\u001b[0m\u001b[0;34m\u001b[0m\u001b[0;34m\u001b[0m\u001b[0m\n\u001b[1;32m    102\u001b[0m         \u001b[0mneval\u001b[0m \u001b[0;34m+=\u001b[0m \u001b[0;36m1\u001b[0m\u001b[0;34m\u001b[0m\u001b[0;34m\u001b[0m\u001b[0m\n\u001b[0;32m--> 103\u001b[0;31m         \u001b[0mnll\u001b[0m\u001b[0;34m,\u001b[0m \u001b[0mgrad\u001b[0m \u001b[0;34m=\u001b[0m \u001b[0mwrapper\u001b[0m\u001b[0;34m(\u001b[0m\u001b[0mvec\u001b[0m\u001b[0;34m)\u001b[0m\u001b[0;34m\u001b[0m\u001b[0;34m\u001b[0m\u001b[0m\n\u001b[0m\u001b[1;32m    104\u001b[0m         \u001b[0;32mif\u001b[0m \u001b[0mprogressbar\u001b[0m\u001b[0;34m:\u001b[0m\u001b[0;34m\u001b[0m\u001b[0;34m\u001b[0m\u001b[0m\n\u001b[1;32m    105\u001b[0m             \u001b[0mprogressbar\u001b[0m\u001b[0;34m.\u001b[0m\u001b[0mcomment\u001b[0m \u001b[0;34m=\u001b[0m \u001b[0;34m\"logp = {0:.3e}\"\u001b[0m\u001b[0;34m.\u001b[0m\u001b[0mformat\u001b[0m\u001b[0;34m(\u001b[0m\u001b[0;34m-\u001b[0m\u001b[0mnll\u001b[0m\u001b[0;34m)\u001b[0m\u001b[0;34m\u001b[0m\u001b[0;34m\u001b[0m\u001b[0m\n",
      "\u001b[0;32m//anaconda3/envs/pymc3_env/lib/python3.9/site-packages/pymc3_ext/optim.py\u001b[0m in \u001b[0;36m__call__\u001b[0;34m(self, vec)\u001b[0m\n\u001b[1;32m    211\u001b[0m     \u001b[0;32mdef\u001b[0m \u001b[0m__call__\u001b[0m\u001b[0;34m(\u001b[0m\u001b[0mself\u001b[0m\u001b[0;34m,\u001b[0m \u001b[0mvec\u001b[0m\u001b[0;34m)\u001b[0m\u001b[0;34m:\u001b[0m\u001b[0;34m\u001b[0m\u001b[0;34m\u001b[0m\u001b[0m\n\u001b[1;32m    212\u001b[0m         \u001b[0;32mtry\u001b[0m\u001b[0;34m:\u001b[0m\u001b[0;34m\u001b[0m\u001b[0;34m\u001b[0m\u001b[0m\n\u001b[0;32m--> 213\u001b[0;31m             res = self.func(\n\u001b[0m\u001b[1;32m    214\u001b[0m                 *get_args_for_theano_function(\n\u001b[1;32m    215\u001b[0m                     \u001b[0mself\u001b[0m\u001b[0;34m.\u001b[0m\u001b[0mbij\u001b[0m\u001b[0;34m.\u001b[0m\u001b[0mrmap\u001b[0m\u001b[0;34m(\u001b[0m\u001b[0mvec\u001b[0m\u001b[0;34m)\u001b[0m\u001b[0;34m,\u001b[0m \u001b[0mmodel\u001b[0m\u001b[0;34m=\u001b[0m\u001b[0mself\u001b[0m\u001b[0;34m.\u001b[0m\u001b[0mmodel\u001b[0m\u001b[0;34m\u001b[0m\u001b[0;34m\u001b[0m\u001b[0m\n",
      "\u001b[0;32m//anaconda3/envs/pymc3_env/lib/python3.9/site-packages/theano/compile/function/types.py\u001b[0m in \u001b[0;36m__call__\u001b[0;34m(self, *args, **kwargs)\u001b[0m\n\u001b[1;32m    985\u001b[0m                 \u001b[0;32mif\u001b[0m \u001b[0mhasattr\u001b[0m\u001b[0;34m(\u001b[0m\u001b[0mself\u001b[0m\u001b[0;34m.\u001b[0m\u001b[0mfn\u001b[0m\u001b[0;34m,\u001b[0m \u001b[0;34m\"thunks\"\u001b[0m\u001b[0;34m)\u001b[0m\u001b[0;34m:\u001b[0m\u001b[0;34m\u001b[0m\u001b[0;34m\u001b[0m\u001b[0m\n\u001b[1;32m    986\u001b[0m                     \u001b[0mthunk\u001b[0m \u001b[0;34m=\u001b[0m \u001b[0mself\u001b[0m\u001b[0;34m.\u001b[0m\u001b[0mfn\u001b[0m\u001b[0;34m.\u001b[0m\u001b[0mthunks\u001b[0m\u001b[0;34m[\u001b[0m\u001b[0mself\u001b[0m\u001b[0;34m.\u001b[0m\u001b[0mfn\u001b[0m\u001b[0;34m.\u001b[0m\u001b[0mposition_of_error\u001b[0m\u001b[0;34m]\u001b[0m\u001b[0;34m\u001b[0m\u001b[0;34m\u001b[0m\u001b[0m\n\u001b[0;32m--> 987\u001b[0;31m                 raise_with_op(\n\u001b[0m\u001b[1;32m    988\u001b[0m                     \u001b[0mself\u001b[0m\u001b[0;34m.\u001b[0m\u001b[0mmaker\u001b[0m\u001b[0;34m.\u001b[0m\u001b[0mfgraph\u001b[0m\u001b[0;34m,\u001b[0m\u001b[0;34m\u001b[0m\u001b[0;34m\u001b[0m\u001b[0m\n\u001b[1;32m    989\u001b[0m                     \u001b[0mnode\u001b[0m\u001b[0;34m=\u001b[0m\u001b[0mself\u001b[0m\u001b[0;34m.\u001b[0m\u001b[0mfn\u001b[0m\u001b[0;34m.\u001b[0m\u001b[0mnodes\u001b[0m\u001b[0;34m[\u001b[0m\u001b[0mself\u001b[0m\u001b[0;34m.\u001b[0m\u001b[0mfn\u001b[0m\u001b[0;34m.\u001b[0m\u001b[0mposition_of_error\u001b[0m\u001b[0;34m]\u001b[0m\u001b[0;34m,\u001b[0m\u001b[0;34m\u001b[0m\u001b[0;34m\u001b[0m\u001b[0m\n",
      "\u001b[0;32m//anaconda3/envs/pymc3_env/lib/python3.9/site-packages/theano/link/utils.py\u001b[0m in \u001b[0;36mraise_with_op\u001b[0;34m(fgraph, node, thunk, exc_info, storage_map)\u001b[0m\n\u001b[1;32m    506\u001b[0m         \u001b[0;31m# Some exception need extra parameter in inputs. So forget the\u001b[0m\u001b[0;34m\u001b[0m\u001b[0;34m\u001b[0m\u001b[0m\n\u001b[1;32m    507\u001b[0m         \u001b[0;31m# extra long error message in that case.\u001b[0m\u001b[0;34m\u001b[0m\u001b[0;34m\u001b[0m\u001b[0m\n\u001b[0;32m--> 508\u001b[0;31m     \u001b[0;32mraise\u001b[0m \u001b[0mexc_value\u001b[0m\u001b[0;34m.\u001b[0m\u001b[0mwith_traceback\u001b[0m\u001b[0;34m(\u001b[0m\u001b[0mexc_trace\u001b[0m\u001b[0;34m)\u001b[0m\u001b[0;34m\u001b[0m\u001b[0;34m\u001b[0m\u001b[0m\n\u001b[0m\u001b[1;32m    509\u001b[0m \u001b[0;34m\u001b[0m\u001b[0m\n\u001b[1;32m    510\u001b[0m \u001b[0;34m\u001b[0m\u001b[0m\n",
      "\u001b[0;32m//anaconda3/envs/pymc3_env/lib/python3.9/site-packages/theano/compile/function/types.py\u001b[0m in \u001b[0;36m__call__\u001b[0;34m(self, *args, **kwargs)\u001b[0m\n\u001b[1;32m    972\u001b[0m         \u001b[0;32mtry\u001b[0m\u001b[0;34m:\u001b[0m\u001b[0;34m\u001b[0m\u001b[0;34m\u001b[0m\u001b[0m\n\u001b[1;32m    973\u001b[0m             outputs = (\n\u001b[0;32m--> 974\u001b[0;31m                 \u001b[0mself\u001b[0m\u001b[0;34m.\u001b[0m\u001b[0mfn\u001b[0m\u001b[0;34m(\u001b[0m\u001b[0;34m)\u001b[0m\u001b[0;34m\u001b[0m\u001b[0;34m\u001b[0m\u001b[0m\n\u001b[0m\u001b[1;32m    975\u001b[0m                 \u001b[0;32mif\u001b[0m \u001b[0moutput_subset\u001b[0m \u001b[0;32mis\u001b[0m \u001b[0;32mNone\u001b[0m\u001b[0;34m\u001b[0m\u001b[0;34m\u001b[0m\u001b[0m\n\u001b[1;32m    976\u001b[0m                 \u001b[0;32melse\u001b[0m \u001b[0mself\u001b[0m\u001b[0;34m.\u001b[0m\u001b[0mfn\u001b[0m\u001b[0;34m(\u001b[0m\u001b[0moutput_subset\u001b[0m\u001b[0;34m=\u001b[0m\u001b[0moutput_subset\u001b[0m\u001b[0;34m)\u001b[0m\u001b[0;34m\u001b[0m\u001b[0;34m\u001b[0m\u001b[0m\n",
      "\u001b[0;32m//anaconda3/envs/pymc3_env/lib/python3.9/site-packages/theano/graph/op.py\u001b[0m in \u001b[0;36mrval\u001b[0;34m(p, i, o, n)\u001b[0m\n\u001b[1;32m    474\u001b[0m             \u001b[0;31m# default arguments are stored in the closure of `rval`\u001b[0m\u001b[0;34m\u001b[0m\u001b[0;34m\u001b[0m\u001b[0m\n\u001b[1;32m    475\u001b[0m             \u001b[0;32mdef\u001b[0m \u001b[0mrval\u001b[0m\u001b[0;34m(\u001b[0m\u001b[0mp\u001b[0m\u001b[0;34m=\u001b[0m\u001b[0mp\u001b[0m\u001b[0;34m,\u001b[0m \u001b[0mi\u001b[0m\u001b[0;34m=\u001b[0m\u001b[0mnode_input_storage\u001b[0m\u001b[0;34m,\u001b[0m \u001b[0mo\u001b[0m\u001b[0;34m=\u001b[0m\u001b[0mnode_output_storage\u001b[0m\u001b[0;34m,\u001b[0m \u001b[0mn\u001b[0m\u001b[0;34m=\u001b[0m\u001b[0mnode\u001b[0m\u001b[0;34m)\u001b[0m\u001b[0;34m:\u001b[0m\u001b[0;34m\u001b[0m\u001b[0;34m\u001b[0m\u001b[0m\n\u001b[0;32m--> 476\u001b[0;31m                 \u001b[0mr\u001b[0m \u001b[0;34m=\u001b[0m \u001b[0mp\u001b[0m\u001b[0;34m(\u001b[0m\u001b[0mn\u001b[0m\u001b[0;34m,\u001b[0m \u001b[0;34m[\u001b[0m\u001b[0mx\u001b[0m\u001b[0;34m[\u001b[0m\u001b[0;36m0\u001b[0m\u001b[0;34m]\u001b[0m \u001b[0;32mfor\u001b[0m \u001b[0mx\u001b[0m \u001b[0;32min\u001b[0m \u001b[0mi\u001b[0m\u001b[0;34m]\u001b[0m\u001b[0;34m,\u001b[0m \u001b[0mo\u001b[0m\u001b[0;34m)\u001b[0m\u001b[0;34m\u001b[0m\u001b[0;34m\u001b[0m\u001b[0m\n\u001b[0m\u001b[1;32m    477\u001b[0m                 \u001b[0;32mfor\u001b[0m \u001b[0mo\u001b[0m \u001b[0;32min\u001b[0m \u001b[0mnode\u001b[0m\u001b[0;34m.\u001b[0m\u001b[0moutputs\u001b[0m\u001b[0;34m:\u001b[0m\u001b[0;34m\u001b[0m\u001b[0;34m\u001b[0m\u001b[0m\n\u001b[1;32m    478\u001b[0m                     \u001b[0mcompute_map\u001b[0m\u001b[0;34m[\u001b[0m\u001b[0mo\u001b[0m\u001b[0;34m]\u001b[0m\u001b[0;34m[\u001b[0m\u001b[0;36m0\u001b[0m\u001b[0;34m]\u001b[0m \u001b[0;34m=\u001b[0m \u001b[0;32mTrue\u001b[0m\u001b[0;34m\u001b[0m\u001b[0;34m\u001b[0m\u001b[0m\n",
      "\u001b[0;32m//anaconda3/envs/pymc3_env/lib/python3.9/site-packages/celerite2/theano/ops.py\u001b[0m in \u001b[0;36mperform\u001b[0;34m(self, node, inputs, outputs)\u001b[0m\n\u001b[1;32m    121\u001b[0m \u001b[0;34m\u001b[0m\u001b[0m\n\u001b[1;32m    122\u001b[0m         \u001b[0;32mtry\u001b[0m\u001b[0;34m:\u001b[0m\u001b[0;34m\u001b[0m\u001b[0;34m\u001b[0m\u001b[0m\n\u001b[0;32m--> 123\u001b[0;31m             \u001b[0mfunc\u001b[0m\u001b[0;34m(\u001b[0m\u001b[0;34m*\u001b[0m\u001b[0margs\u001b[0m\u001b[0;34m)\u001b[0m\u001b[0;34m\u001b[0m\u001b[0;34m\u001b[0m\u001b[0m\n\u001b[0m\u001b[1;32m    124\u001b[0m         \u001b[0;32mexcept\u001b[0m \u001b[0mbackprop\u001b[0m\u001b[0;34m.\u001b[0m\u001b[0mLinAlgError\u001b[0m\u001b[0;34m:\u001b[0m\u001b[0;34m\u001b[0m\u001b[0;34m\u001b[0m\u001b[0m\n\u001b[1;32m    125\u001b[0m             \u001b[0;32mif\u001b[0m \u001b[0;32mnot\u001b[0m \u001b[0mself\u001b[0m\u001b[0;34m.\u001b[0m\u001b[0mquiet\u001b[0m\u001b[0;34m:\u001b[0m\u001b[0;34m\u001b[0m\u001b[0;34m\u001b[0m\u001b[0m\n",
      "\u001b[0;31mLinAlgError\u001b[0m: failed to factorize or solve matrix\nApply node that caused the error: _CeleriteOp{name='factor_fwd', quiet=False}(TensorConstant{[2263.1261...10687009]}, Join.0, Elemwise{Composite{(sqr(i0) + i1 + i2)}}.0, Join.0, Join.0)\nToposort index: 247\nInputs types: [TensorType(float64, vector), TensorType(float64, vector), TensorType(float64, vector), TensorType(float64, matrix), TensorType(float64, matrix)]\nInputs shapes: [(48,), (2,), (48,), (48, 2), (48, 2)]\nInputs strides: [(8,), (8,), (8,), (16, 8), (16, 8)]\nInputs values: ['not shown', array([4.6226483e-09, 4.6226483e-09]), 'not shown', 'not shown', 'not shown']\nOutputs clients: [[_CeleriteOp{name='factor_rev', quiet=False}(TensorConstant{[2263.1261...10687009]}, Join.0, Elemwise{Composite{(sqr(i0) + i1 + i2)}}.0, Join.0, Join.0, _CeleriteOp{name='factor_fwd', quiet=False}.0, _CeleriteOp{name='factor_fwd', quiet=False}.1, _CeleriteOp{name='factor_fwd', quiet=False}.2, Elemwise{Composite{((i0 / i1) + ((i2 * i3 * i4) / sqr(i1)))}}.0, _CeleriteOp{name='solve_lower_rev', quiet=False}.3), Elemwise{true_div,no_inplace}(InplaceDimShuffle{0}.0, _CeleriteOp{name='factor_fwd', quiet=False}.0), Elemwise{Composite{((i0 / i1) + ((i2 * i3 * i4) / sqr(i1)))}}(TensorConstant{(1,) of 0.5}, _CeleriteOp{name='factor_fwd', quiet=False}.0, TensorConstant{(1,) of 0.5}, TensorConstant{(1,) of -1.0}, Elemwise{Sqr}[(0, 0)].0), Elemwise{TrueDiv}[(0, 0)](Elemwise{Sqr}[(0, 0)].0, _CeleriteOp{name='factor_fwd', quiet=False}.0), Elemwise{Log}[(0, 0)](_CeleriteOp{name='factor_fwd', quiet=False}.0)], [_CeleriteOp{name='solve_lower_fwd', quiet=False}(TensorConstant{[2263.1261...10687009]}, Join.0, Join.0, _CeleriteOp{name='factor_fwd', quiet=False}.1, Elemwise{sub,no_inplace}.0), _CeleriteOp{name='solve_lower_rev', quiet=False}(TensorConstant{[2263.1261...10687009]}, Join.0, Join.0, _CeleriteOp{name='factor_fwd', quiet=False}.1, Elemwise{sub,no_inplace}.0, _CeleriteOp{name='solve_lower_fwd', quiet=False}.0, _CeleriteOp{name='solve_lower_fwd', quiet=False}.1, IncSubtensor{InplaceInc;::, int64}.0), _CeleriteOp{name='factor_rev', quiet=False}(TensorConstant{[2263.1261...10687009]}, Join.0, Elemwise{Composite{(sqr(i0) + i1 + i2)}}.0, Join.0, Join.0, _CeleriteOp{name='factor_fwd', quiet=False}.0, _CeleriteOp{name='factor_fwd', quiet=False}.1, _CeleriteOp{name='factor_fwd', quiet=False}.2, Elemwise{Composite{((i0 / i1) + ((i2 * i3 * i4) / sqr(i1)))}}.0, _CeleriteOp{name='solve_lower_rev', quiet=False}.3)], [_CeleriteOp{name='factor_rev', quiet=False}(TensorConstant{[2263.1261...10687009]}, Join.0, Elemwise{Composite{(sqr(i0) + i1 + i2)}}.0, Join.0, Join.0, _CeleriteOp{name='factor_fwd', quiet=False}.0, _CeleriteOp{name='factor_fwd', quiet=False}.1, _CeleriteOp{name='factor_fwd', quiet=False}.2, Elemwise{Composite{((i0 / i1) + ((i2 * i3 * i4) / sqr(i1)))}}.0, _CeleriteOp{name='solve_lower_rev', quiet=False}.3)]]\n\nBacktrace when the node is created(use Theano flag traceback__limit=N to make it longer):\n  File \"/var/folders/gz/h7_ym7m52dlgq4xpllc1x3m40000gn/T/ipykernel_47728/1604666772.py\", line 173, in <module>\n    model0, map_soln0, extras0, orbit0 = build_model()\n  File \"/var/folders/gz/h7_ym7m52dlgq4xpllc1x3m40000gn/T/ipykernel_47728/1604666772.py\", line 140, in build_model\n    gp_ktwo = GaussianProcess(kernel_ktwo, t=ktwo_x[ktwo_mask], yerr=yerr_ktwo)\n  File \"//anaconda3/envs/pymc3_env/lib/python3.9/site-packages/celerite2/core.py\", line 210, in __init__\n    self.compute(t, **kwargs)\n  File \"//anaconda3/envs/pymc3_env/lib/python3.9/site-packages/celerite2/core.py\", line 316, in compute\n    self._do_compute(quiet)\n  File \"//anaconda3/envs/pymc3_env/lib/python3.9/site-packages/celerite2/theano/celerite2.py\", line 83, in _do_compute\n    self._d, self._W, _ = ops.factor(\n  File \"//anaconda3/envs/pymc3_env/lib/python3.9/site-packages/theano/graph/op.py\", line 250, in __call__\n    node = self.make_node(*inputs, **kwargs)\n  File \"//anaconda3/envs/pymc3_env/lib/python3.9/site-packages/celerite2/theano/ops.py\", line 83, in make_node\n    otypes = [\n  File \"//anaconda3/envs/pymc3_env/lib/python3.9/site-packages/celerite2/theano/ops.py\", line 84, in <listcomp>\n    tt.TensorType(\n\nHINT: Use the Theano flag 'exception_verbosity=high' for a debugprint and storage map footprint of this apply node."
     ]
    }
   ],
   "source": [
    "#Stellar parameters\n",
    "M_star  = 1.10, 0.05\n",
    "R_star  = 1.305, 0.07\n",
    "\n",
    "n_pl = 1\n",
    "\n",
    "# These arrays are used as the times/phases where the models are\n",
    "# evaluated at higher resolution for plotting purposes\n",
    "phase_lc = np.linspace(-0.3, 0.3, 100)\n",
    "\n",
    "def build_model(ktwo_mask=None, \n",
    "                tess_mask=None, \n",
    "                start=None,\n",
    "                eccentric=False):\n",
    "    \n",
    "    if ktwo_mask is None:\n",
    "        ktwo_mask = np.ones(len(ktwo_x), dtype=bool)\n",
    "    if tess_mask is None:\n",
    "        tess_mask = np.ones(len(tess_x), dtype=bool)\n",
    "    \n",
    "    with pm.Model() as model:\n",
    "\n",
    "        # Parameters for the stellar properties\n",
    "        BoundedNormal = pm.Bound(pm.Normal, lower=0, upper=3)\n",
    "        m_star = BoundedNormal(\"m_star\", mu=M_star[0], sd=M_star[1])\n",
    "        r_star = BoundedNormal(\"r_star\", mu=R_star[0], sd=R_star[1])        \n",
    "        u_star = xo.QuadLimbDark(\"u_star\")\n",
    "        star = xo.LimbDarkLightCurve(u_star)\n",
    "\n",
    "        # Fit in terms of transit depth (assuming b<1)\n",
    "        b = pm.Uniform(\"b\", lower=0, upper=1)\n",
    "        \n",
    "        # K2 transit depth and radius ratio\n",
    "        log_depth_ktwo = pm.Normal(\"log_depth_ktwo\", mu=np.log(4), sigma=2)                        \n",
    "        ror_ktwo = pm.Deterministic(\"ror_ktwo\", \n",
    "                                    star.get_ror_from_approx_transit_depth(\n",
    "                                        1e-3 * tt.exp(log_depth_ktwo), b\n",
    "                                    ),\n",
    "                                   )\n",
    "        r_pl_ktwo = pm.Deterministic(\"r_pl_ktwo\", ror_ktwo * r_star)\n",
    "        r_pl_rade_ktwo = pm.Deterministic(\"r_pl_rade_ktwo\", ror_ktwo * r_star * c.R_sun/c.R_earth)\n",
    "\n",
    "        # Eccentricity and longitude of periastron\n",
    "        if eccentric==True:\n",
    "            ecs = pmx.UnitDisk(\"ecs\", shape=(2, 1), testval=0.01 * np.ones((2, 1)))\n",
    "            ecc = pm.Deterministic(\"ecc\", tt.sum(ecs ** 2, axis=0))\n",
    "            omega = pm.Deterministic(\"omega\", tt.arctan2(ecs[1], ecs[0]))\n",
    "            xo.eccentricity.vaneylen19(\"ecc_prior\", \n",
    "                                        multi=True, shape=1, fixed=True, observed=ecc)\n",
    "        \n",
    "        elif eccentric==False:\n",
    "            ecc = np.zeros(n_pl)\n",
    "            omega = np.pi/2*np.ones(n_pl)\n",
    "            \n",
    "        \n",
    "        # Ephemeris parameters\n",
    "        t0 = pm.Normal(\"t0\", mu=2263.6229, sd=0.1)\n",
    "        log_period = pm.Normal(\"log_period\", mu=np.log(48.67687959183674), sd=1e-5)\n",
    "        #log_period = pm.Normal(\"log_period\", mu=np.log(48.67687959183674), sd=1)\n",
    "        period = pm.Deterministic(\"period\", tt.exp(log_period))\n",
    "\n",
    "        # Orbit models\n",
    "        orbit = xo.orbits.KeplerianOrbit(\n",
    "            r_star=r_star,\n",
    "            m_star=m_star,\n",
    "            period=period,\n",
    "            t0=t0,\n",
    "            b=b,\n",
    "            ecc=ecc,\n",
    "            omega=omega,\n",
    "        )\n",
    "\n",
    "        ########################################################################################        \n",
    "        ########################################################################################\n",
    "        # Compute the model light curve\n",
    "        mean_tess = pm.Normal(\"mean_tess\", mu=0.0, sd=10.0)\n",
    "        mean_ktwo = pm.Normal(\"mean_ktwo\", mu=0.0, sd=10.0)\n",
    "\n",
    "        light_curves_ktwo = (\n",
    "            star.get_light_curve(\n",
    "                orbit=orbit, \n",
    "                r=r_pl_ktwo, \n",
    "                t=ktwo_x[ktwo_mask], \n",
    "                texp=ktwo_texp) * 1e3\n",
    "        )\n",
    "        light_curve_ktwo = pm.math.sum(light_curves_ktwo, axis=-1) + mean_ktwo\n",
    "\n",
    "        \n",
    "        light_curves_tess = (\n",
    "            star.get_light_curve(\n",
    "                orbit=orbit, \n",
    "                r=r_pl_ktwo, \n",
    "                t=tess_x[tess_mask], \n",
    "                texp=tess_texp) * 1e3\n",
    "        )\n",
    "        light_curve_tess = pm.math.sum(light_curves_tess, axis=-1) + mean_tess\n",
    "\n",
    "        \n",
    "        # Light curve noise and in-transit jitter\n",
    "        log_sigma_lc_ktwo  = pm.Normal(\"log_sigma_lc_ktwo\",\n",
    "                                       mu=np.log(0.01*np.std(ktwo_y[ktwo_mask])), sd=10)\n",
    "        log_sigma_jit_ktwo = pm.Normal(\"log_sigma_jit_ktwo\",\n",
    "                                       mu=np.log(0.02*np.std(ktwo_y[ktwo_mask])), sd=10) \n",
    "        yerr_ktwo = pm.Deterministic(\"yerr_ktwo\", \n",
    "                                     tt.exp(log_sigma_lc_ktwo) + tt.exp(2*log_sigma_jit_ktwo)*(light_curve_ktwo**2))\n",
    "        \n",
    "        \n",
    "        # Light curve noise and in-transit jitter\n",
    "        log_sigma_lc_tess  = pm.Normal(\"log_sigma_lc_tess\",\n",
    "                                       mu=np.log(0.01*np.std(tess_y[tess_mask])), sd=10)\n",
    "        log_sigma_jit_tess = pm.Normal(\"log_sigma_jit_tess\", \n",
    "                                       mu=np.log(0.02*np.std(tess_y[tess_mask])), sd=10) \n",
    "        yerr_tess = pm.Deterministic(\"yerr_tess\",\n",
    "                                     tt.exp(log_sigma_lc_tess) + tt.exp(2*log_sigma_jit_tess)*(light_curve_tess**2))\n",
    "\n",
    "        resid_tess = pm.Deterministic(\"resid_tess\", tess_y[tess_mask] - light_curve_tess)\n",
    "        resid_ktwo = pm.Deterministic(\"resid_ktwo\", ktwo_y[ktwo_mask] - light_curve_ktwo)\n",
    "\n",
    "        #The parameters of the first SHO term\n",
    "        log_rho_sho_ktwo = pm.Normal(\"log_rho_sho_ktwo\", mu=0.0, sd=10)\n",
    "        log_sigma_sho_ktwo = pm.Normal(\"log_sigma_sho_ktwo\", mu=np.log(np.std(ktwo_y[ktwo_mask])), sd=10)\n",
    "\n",
    "        #The parameters of the first SHO term\n",
    "        log_rho_sho_tess = pm.Normal(\"log_rho_sho_tess\", mu=0.0, sd=10)\n",
    "        log_sigma_sho_tess = pm.Normal(\"log_sigma_sho_tess\", mu=np.log(np.std(tess_y[tess_mask])), sd=10)\n",
    "\n",
    "\n",
    "        kernel_ktwo = terms.SHOTerm(\n",
    "            sigma=tt.exp(log_sigma_sho_ktwo),\n",
    "            rho=tt.exp(log_rho_sho_ktwo),\n",
    "            Q=1 / np.sqrt(2),\n",
    "        )\n",
    "\n",
    "        kernel_tess = terms.SHOTerm(\n",
    "            sigma=tt.exp(log_sigma_sho_tess),\n",
    "            rho=tt.exp(log_rho_sho_tess),\n",
    "            Q=1 / np.sqrt(2),\n",
    "        )        \n",
    "\n",
    "        gp_ktwo = GaussianProcess(kernel_ktwo, t=ktwo_x[ktwo_mask], yerr=yerr_ktwo)\n",
    "        gp_ktwo.marginal(\"transit_obs_ktwo\", observed=resid_ktwo)\n",
    "\n",
    "        gp_tess = GaussianProcess(kernel_tess, t=tess_x[tess_mask], yerr=yerr_tess)\n",
    "        gp_tess.marginal(\"transit_obs_tess\", observed=resid_tess)           \n",
    "\n",
    "        map_soln = model.test_point\n",
    "        \n",
    "        map_soln = pmx.optimize(start=map_soln, vars=[log_rho_sho_ktwo, log_sigma_sho_ktwo,\n",
    "                                                   log_rho_sho_tess, log_sigma_sho_tess,\n",
    "                                                   mean_ktwo, mean_tess\n",
    "                                                   ])\n",
    "\n",
    "        map_soln = pmx.optimize(start=map_soln, vars=[b, log_depth_ktwo])\n",
    "\n",
    "        map_soln = pmx.optimize(start=map_soln)\n",
    "\n",
    "        extras = dict(\n",
    "            zip(\n",
    "                [\"light_curves_ktwo\",\n",
    "                 \"light_curves_tess\",\n",
    "                 \"gp_pred_ktwo\",\n",
    "                 \"gp_pred_tess\"],\n",
    "                pmx.eval_in_model([light_curves_ktwo,\n",
    "                                   light_curves_tess,\n",
    "                                   gp_ktwo.predict(resid_ktwo),\n",
    "                                   gp_tess.predict(resid_tess)], \n",
    "                                   map_soln),\n",
    "            )\n",
    "        )\n",
    "\n",
    "    return model, map_soln, extras, orbit\n",
    "\n",
    "model0, map_soln0, extras0, orbit0 = build_model()"
   ]
  },
  {
   "cell_type": "code",
   "execution_count": null,
   "metadata": {
    "colab": {
     "base_uri": "https://localhost:8080/",
     "height": 1000
    },
    "id": "QmARXEBjJEmM",
    "outputId": "f51f5323-c730-4d51-95ce-80b5afbc8ab9"
   },
   "outputs": [],
   "source": [
    "def plot_light_curve(soln, \n",
    "                     extras, \n",
    "                     xrange=[4641,4653], \n",
    "                     ktwo_mask=None,\n",
    "                     tess_mask=None):\n",
    "\n",
    "    \n",
    "    if ktwo_mask is None:\n",
    "        ktwo_mask = np.ones(len(ktwo_x), dtype=bool)\n",
    "\n",
    "    if tess_mask is None:\n",
    "        tess_mask = np.ones(len(tess_x), dtype=bool)        \n",
    "        \n",
    "    fig, axes = plt.subplots(nrows=3, ncols=2, figsize=(10, 10))\n",
    "\n",
    "    gp_mod_ktwo = extras[\"gp_pred_ktwo\"] + soln[\"mean_ktwo\"]\n",
    "    gp_mod_tess = extras[\"gp_pred_tess\"] + soln[\"mean_tess\"]\n",
    "\n",
    "    mod_sum_ktwo = np.sum(extras[\"light_curves_ktwo\"], axis=-1)\n",
    "    mod_sum_tess = np.sum(extras[\"light_curves_tess\"], axis=-1)\n",
    "\n",
    "    mod_ktwo = gp_mod_ktwo + mod_sum_ktwo\n",
    "    mod_ktwo = gp_mod_tess + mod_sum_tess\n",
    "\n",
    "    xdata = [ktwo_x[ktwo_mask], tess_x[tess_mask]]\n",
    "    ydata = [ktwo_y[ktwo_mask], tess_y[tess_mask]]\n",
    "    mission = [\"ktwo\", \"tess\"]\n",
    "\n",
    "    for i in range(2):\n",
    "\n",
    "        gp_mod = extras[\"gp_pred_\"+mission[i]] + soln[\"mean_\"+mission[i]]\n",
    "        lc_mod = np.sum(extras[\"light_curves_\"+mission[i]], axis=-1)\n",
    "\n",
    "        yerr = soln[\"yerr_\"+mission[i]]\n",
    "\n",
    "        ax = axes[0][i]\n",
    "        ax.errorbar(xdata[i], ydata[i], yerr=yerr)\n",
    "        ax.plot(xdata[i], gp_mod, color=\"C2\", label=\"GP model\")\n",
    "        ax.legend(fontsize=10)\n",
    "        ax.set_ylabel(\"Relative flux [ppt]\")\n",
    "        ax.set_title(mission[i].upper())\n",
    "\n",
    "        ax = axes[1][i]\n",
    "        ax.errorbar(xdata[i], ydata[i] - gp_mod, yerr=yerr)\n",
    "        ax.plot(xdata[i], lc_mod, label=\"Transit model\", color=\"C5\")          \n",
    "        ax.legend(fontsize=10, loc=3)\n",
    "        ax.set_ylabel(\"De-trended flux [ppt]\")\n",
    "        ax.set_ylim(-7.5,3.5)\n",
    "\n",
    "        ax = axes[2][i]\n",
    "        ax.errorbar(xdata[i], ydata[i] - gp_mod - lc_mod, yerr=yerr)\n",
    "        ax.axhline(0, color=\"#aaaaaa\", lw=1)\n",
    "        ax.set_ylabel(\"Residuals [ppt]\")\n",
    "        ax.set_xlabel(\"BKJD [days]\")\n",
    "\n",
    "    plt.tight_layout()\n",
    "\n",
    "    return fig\n",
    " \n",
    "_ = plot_light_curve(map_soln0, extras0)"
   ]
  },
  {
   "cell_type": "code",
   "execution_count": null,
   "metadata": {
    "colab": {
     "base_uri": "https://localhost:8080/",
     "height": 585
    },
    "id": "QjNF3Hs3oEZN",
    "outputId": "3da30d54-e2ec-450d-a3f4-f22dfbaa9173"
   },
   "outputs": [],
   "source": [
    "ktwo_ydet = ktwo_y - extras0[\"gp_pred_ktwo\"] - map_soln0[\"mean_ktwo\"]\n",
    "tess_ydet = tess_y - extras0[\"gp_pred_tess\"] - map_soln0[\"mean_tess\"]\n",
    "\n",
    "ktwo_yerr = map_soln0[\"yerr_ktwo\"]\n",
    "tess_yerr = map_soln0[\"yerr_tess\"]\n",
    "\n",
    "ktwo_fold = (ktwo_x - map_soln0[\"t0\"] + 0.5 * map_soln0[\"period\"]) % map_soln0[\"period\"] - 0.5*map_soln0[\"period\"]\n",
    "tess_fold = (tess_x - map_soln0[\"t0\"] + 0.5 * map_soln0[\"period\"]) % map_soln0[\"period\"] - 0.5*map_soln0[\"period\"]\n",
    "\n",
    "plt.errorbar(24*tess_fold, tess_ydet, yerr=tess_yerr, fmt=\"o\", label='TESS')\n",
    "plt.errorbar(24*ktwo_fold, ktwo_ydet, yerr=ktwo_yerr, fmt=\"o\", label='K2')\n",
    "plt.legend()\n",
    "plt.xlim(-12,12)\n",
    "plt.xlabel('Time from mid-transit [hours]')\n",
    "plt.ylabel('De-trended flux [ppt]')\n",
    "plt.gcf().set_size_inches(7,4)\n",
    "plt.show()"
   ]
  },
  {
   "cell_type": "markdown",
   "metadata": {
    "id": "ume5XEuQY7D-"
   },
   "source": [
    "# What are the possible periods for planet e? \n",
    "In the discovery paper we ruled out periods <42.5 days based on the fact that we didn't observe any additional transits of ~0.5% depth in the light curve. I'm **pretty sure** I'd stick by that statement! :) \n",
    "\n",
    "So if n is the number of transits between K2 and TESS we have a discrete set of possible periods, where we only need to consider n in the range of 1 to some number that maxes out when the implied period becomes less than 42.5 d"
   ]
  },
  {
   "cell_type": "code",
   "execution_count": null,
   "metadata": {
    "colab": {
     "base_uri": "https://localhost:8080/"
    },
    "id": "0T7KC2weY6fI",
    "outputId": "11eb5336-a152-4b4d-bced-3f9e1f26f3cc"
   },
   "outputs": [],
   "source": [
    "for n in range(1, 56): \n",
    "    print(n, (4648.79  - 2263.6229)/n)"
   ]
  },
  {
   "cell_type": "markdown",
   "metadata": {},
   "source": [
    "## Take 2"
   ]
  },
  {
   "cell_type": "code",
   "execution_count": null,
   "metadata": {},
   "outputs": [],
   "source": [
    "#Stellar parameters\n",
    "M_star  = 1.10, 0.05\n",
    "R_star  = 1.305, 0.07\n",
    "\n",
    "n_pl = 1\n",
    "\n",
    "# These arrays are used as the times/phases where the models are\n",
    "# evaluated at higher resolution for plotting purposes\n",
    "phase_lc = np.linspace(-0.3, 0.3, 100)\n",
    "\n",
    "def discrete_period_gp_model(ktwo_mask=None, \n",
    "                             tess_mask=None, \n",
    "                             start=None):\n",
    "    \n",
    "    if ktwo_mask is None:\n",
    "        ktwo_mask = np.ones(len(ktwo_x), dtype=bool)\n",
    "    if tess_mask is None:\n",
    "        tess_mask = np.ones(len(tess_x), dtype=bool)\n",
    "    \n",
    "    with pm.Model() as model:\n",
    "\n",
    "        # Parameters for the stellar properties\n",
    "        BoundedNormal = pm.Bound(pm.Normal, lower=0, upper=3)\n",
    "        m_star = BoundedNormal(\"m_star\", mu=M_star[0], sd=M_star[1])\n",
    "        r_star = BoundedNormal(\"r_star\", mu=R_star[0], sd=R_star[1])        \n",
    "        u_star = xo.QuadLimbDark(\"u_star\")\n",
    "        star = xo.LimbDarkLightCurve(u_star)\n",
    "\n",
    "        # Fit in terms of transit depth (assuming b<1)\n",
    "        b = pm.Uniform(\"b\", lower=0, upper=1)\n",
    "        \n",
    "        # K2 transit depth and radius ratio\n",
    "        log_depth_ktwo = pm.Normal(\"log_depth_ktwo\", mu=np.log(4.0), sigma=3)                        \n",
    "        ror_ktwo = pm.Deterministic(\"ror_ktwo\", \n",
    "                                    star.get_ror_from_approx_transit_depth(\n",
    "                                        1e-3 * tt.exp(log_depth_ktwo), b\n",
    "                                    ),\n",
    "                                   )\n",
    "        r_pl_ktwo = pm.Deterministic(\"r_pl_ktwo\", ror_ktwo * r_star)\n",
    "        r_pl_rade_ktwo = pm.Deterministic(\"r_pl_rade_ktwo\", ror_ktwo * r_star * c.R_sun/c.R_earth)\n",
    "        \n",
    "        # TESS transit depth and radius ratio\n",
    "        #log_depth_tess = pm.Normal(\"log_depth_tess\", mu=np.log(4.0), sigma=3)                        \n",
    "        #ror_tess = pm.Deterministic(\"ror_tess\", \n",
    "        #                            star.get_ror_from_approx_transit_depth(\n",
    "        #                                1e-3 * tt.exp(log_depth_tess), b\n",
    "        #                            ),\n",
    "        #                           )\n",
    "        #r_pl_tess = pm.Deterministic(\"r_pl_tess\", ror_tess * r_star)\n",
    "        #r_pl_rade_tess = pm.Deterministic(\"r_pl_rade_tess\", ror_tess * r_star * c.R_sun/c.R_earth)\n",
    "        \n",
    "        ecc = np.zeros(n_pl)\n",
    "        omega = np.pi/2*np.ones(n_pl)\n",
    "            \n",
    "        \n",
    "        # K2 transit midpoint\n",
    "        t0 = pm.Normal(\"t0\", mu=2263.6229, sigma=0.1)\n",
    "        # TESS transit midpoint\n",
    "        tn = pm.Normal(\"tn\", mu=4648.79, sigma=0.1)\n",
    "\n",
    "        #The parameters of the first SHO term\n",
    "        mean_ktwo = pm.Normal(\"mean_ktwo\", mu=0.0, sd=0.1) \n",
    "        log_rho_sho_ktwo = pm.Normal(\"log_rho_sho_ktwo\", mu=0.0, sd=2.0)\n",
    "        log_sigma_sho_ktwo = pm.Normal(\"log_sigma_sho_ktwo\", mu=np.log(np.std(ktwo_y[ktwo_mask])), sd=10)\n",
    "\n",
    "        #The parameters of the first SHO term\n",
    "        mean_tess = pm.Normal(\"mean_tess\", mu=0.0, sd=0.1)\n",
    "        log_rho_sho_tess = pm.Normal(\"log_rho_sho_tess\", mu=0.0, sd=2.0)\n",
    "        log_sigma_sho_tess = pm.Normal(\"log_sigma_sho_tess\", mu=np.log(np.std(tess_y[tess_mask])), sd=10)\n",
    "\n",
    "\n",
    "        kernel_ktwo = terms.SHOTerm(\n",
    "            sigma=tt.exp(log_sigma_sho_ktwo),\n",
    "            rho=tt.exp(log_rho_sho_ktwo),\n",
    "            Q=1 / np.sqrt(2),\n",
    "        )\n",
    "\n",
    "        kernel_tess = terms.SHOTerm(\n",
    "            sigma=tt.exp(log_sigma_sho_tess),\n",
    "            rho=tt.exp(log_rho_sho_tess),\n",
    "            Q=1 / np.sqrt(2),\n",
    "        )\n",
    "\n",
    "\n",
    "        gp_ktwo = GaussianProcess(kernel_ktwo, t=ktwo_x[ktwo_mask], yerr=np.max(ktwo_yerr))\n",
    "        gp_tess = GaussianProcess(kernel_tess, t=tess_x[tess_mask], yerr=np.max(tess_yerr))\n",
    "\n",
    "        logls = []\n",
    "        \n",
    "        #Note: if we want to explore longer periods we need to decrease the lower end of this range!\n",
    "        for n in range(38,56): \n",
    "            period = pm.Deterministic(f\"period_{n}\", (tn - t0) / n)\n",
    "\n",
    "            # Orbit models\n",
    "            orbit = xo.orbits.KeplerianOrbit(\n",
    "              r_star=r_star,\n",
    "              m_star=m_star,\n",
    "              period=period,\n",
    "              t0=t0,\n",
    "              b=b,\n",
    "              ecc=ecc,\n",
    "              omega=omega,\n",
    "              )\n",
    "\n",
    "            # Compute light curve\n",
    "            light_curves_ktwo = (\n",
    "                                  star.get_light_curve(\n",
    "                                      orbit=orbit, \n",
    "                                      r=r_pl_ktwo, \n",
    "                                      t=ktwo_x[ktwo_mask], \n",
    "                                      texp=ktwo_texp) * 1e3\n",
    "                                )\n",
    "            light_curve_ktwo = pm.math.sum(light_curves_ktwo, axis=-1) + mean_ktwo\n",
    "\n",
    "            light_curves_tess = (\n",
    "                                  star.get_light_curve(\n",
    "                                      orbit=orbit, \n",
    "                                      r=r_pl_ktwo, \n",
    "                                      t=tess_x[tess_mask], \n",
    "                                      texp=tess_texp) * 1e3\n",
    "                                )\n",
    "            light_curve_tess = pm.math.sum(light_curves_tess, axis=-1) + mean_tess\n",
    "\n",
    "            resid_tess = tess_y[tess_mask] - light_curve_tess\n",
    "            resid_ktwo = ktwo_y[ktwo_mask] - light_curve_ktwo\n",
    "\n",
    "            logln_ktwo = gp_ktwo.log_likelihood(resid_ktwo)\n",
    "            logln_tess = gp_tess.log_likelihood(resid_tess)\n",
    "\n",
    "            logln = tt.sum(logln_ktwo) + tt.sum(logln_tess)\n",
    "\n",
    "            pm.Deterministic(f\"logl_{n}\", logln)\n",
    "            print(n)\n",
    "            logls.append(logln)\n",
    "\n",
    "\n",
    "        logl = tt.log(tt.sum(tt.exp(tt.stack(logls))))\n",
    "\n",
    "        pm.Deterministic(\"logl\", logl)\n",
    "        pm.Potential(\"obs\", logl)\n",
    "\n",
    "        map_soln = model.test_point\n",
    "        \n",
    "        map_soln = pmx.optimize(start=map_soln, vars=[log_rho_sho_ktwo, log_sigma_sho_ktwo,\n",
    "                                                      log_rho_sho_tess, log_sigma_sho_tess,\n",
    "                                                      mean_ktwo, mean_tess\n",
    "                                                   ])\n",
    "\n",
    "        map_soln = pmx.optimize(start=map_soln, vars=[b, log_depth_ktwo])\n",
    "        #map_soln = pmx.optimize(start=map_soln, vars=[b, log_depth_tess])\n",
    "\n",
    "        map_soln = pmx.optimize(start=map_soln)\n",
    "\n",
    "\n",
    "        # Plot the MAP solution\n",
    "        lc_ktwo = pmx.eval_in_model(light_curve_ktwo, map_soln)\n",
    "        lc_tess = pmx.eval_in_model(light_curve_tess, map_soln)\n",
    "        res_ktwo = ktwo_y[ktwo_mask] - lc_ktwo\n",
    "        res_tess = tess_y[tess_mask] - lc_tess\n",
    "        \n",
    "        fig,(ax1,ax2) = plt.subplots(nrows=1,ncols=2,figsize=(8,4))\n",
    "\n",
    "        ax1.errorbar(ktwo_x, ktwo_ydet, yerr=np.max(ktwo_yerr), fmt='o')\n",
    "        ax1.plot(ktwo_x,lc_ktwo)\n",
    "\n",
    "        ax2.errorbar(tess_x, tess_ydet, yerr=np.max(tess_yerr), fmt='o')\n",
    "        ax2.plot(tess_x,lc_tess)\n",
    "\n",
    "        for ax in [ax1,ax2]:\n",
    "            ax.set_xlabel('Time [BKJD]')\n",
    "            ax.set_ylabel('De-trended flux [ppt]')\n",
    "\n",
    "        plt.tight_layout()\n",
    "        plt.show()\n",
    "        \n",
    "        extras = dict(\n",
    "                     zip(\n",
    "                        [\"light_curves_ktwo\",\n",
    "                          \"light_curves_tess\",\n",
    "                          \"gp_pred_ktwo\",\n",
    "                          \"gp_pred_tess\"],\n",
    "                        pmx.eval_in_model([light_curves_ktwo,\n",
    "                                            light_curves_tess,\n",
    "                                            gp_ktwo.predict(resid_ktwo),\n",
    "                                            gp_tess.predict(resid_tess)], \n",
    "                                            map_soln),\n",
    "             )\n",
    "         )\n",
    "\n",
    "    return model, map_soln, orbit, extras\n",
    "\n",
    "model1, map_soln1, orbit1, extras1 = discrete_period_gp_model()"
   ]
  },
  {
   "cell_type": "code",
   "execution_count": null,
   "metadata": {},
   "outputs": [],
   "source": [
    "for i in range(39,55):\n",
    "    plt.plot(map_soln1['period_{}'.format(i)],\n",
    "             map_soln1['logl_{}'.format(i)]-map_soln1['logl'], 'ko')"
   ]
  },
  {
   "cell_type": "markdown",
   "metadata": {},
   "source": []
  },
  {
   "cell_type": "code",
   "execution_count": null,
   "metadata": {},
   "outputs": [],
   "source": [
    "random_seeds = [239081, 3409184, 9890418]\n",
    "with model1:\n",
    "    trace = pmx.sample(tune=500,\n",
    "                        draws=5000,\n",
    "                        start=map_soln1,\n",
    "                        chains=1,\n",
    "                       # cores=3,\n",
    "                        return_inferencedata=True,\n",
    "                        random_seed=random_seeds[0])"
   ]
  },
  {
   "cell_type": "code",
   "execution_count": null,
   "metadata": {},
   "outputs": [],
   "source": [
    "combined = az.concat((trace,trace1,trace2), dim=(\"chain\"))"
   ]
  },
  {
   "cell_type": "code",
   "execution_count": null,
   "metadata": {},
   "outputs": [],
   "source": [
    "cpost = combined.posterior"
   ]
  },
  {
   "cell_type": "code",
   "execution_count": null,
   "metadata": {},
   "outputs": [],
   "source": [
    "cpost['logl']"
   ]
  },
  {
   "cell_type": "code",
   "execution_count": null,
   "metadata": {},
   "outputs": [],
   "source": [
    "COLOR = 'k'#'#FFFAF1'\n",
    "plt.rcParams['font.size'] = 16\n",
    "plt.rcParams['text.color'] = COLOR\n",
    "plt.rcParams['axes.labelcolor'] = COLOR\n",
    "plt.rcParams['xtick.color'] = COLOR\n",
    "plt.rcParams['ytick.color'] = COLOR\n",
    "\n",
    "plt.rcParams['xtick.major.width'] = 3\n",
    "plt.rcParams['ytick.major.width'] = 3\n",
    "plt.rcParams['xtick.major.size']  = 8 #12\n",
    "plt.rcParams['ytick.major.size']  = 8 #12\n",
    "\n",
    "plt.rcParams['xtick.minor.width'] = 1\n",
    "plt.rcParams['ytick.minor.width'] = 1\n",
    "plt.rcParams['xtick.minor.size']  = 6\n",
    "plt.rcParams['ytick.minor.size']  = 6\n",
    "\n",
    "plt.rcParams['axes.linewidth'] = 3\n",
    "lw = 5\n",
    "\n",
    "plt.rcParams['text.color'] = COLOR\n",
    "plt.rcParams['xtick.color'] = COLOR\n",
    "plt.rcParams['ytick.color'] = COLOR\n",
    "plt.rcParams['axes.labelcolor'] = COLOR\n",
    "#plt.rcParams['axes.spines.top'] = False\n",
    "#plt.rcParams['axes.spines.right'] = False\n",
    "plt.rcParams['axes.labelcolor'] = COLOR\n",
    "plt.rcParams['axes.edgecolor'] = COLOR\n",
    "plt.rcParams['figure.facecolor'] = 'none'\n",
    "plt.rcParams['legend.facecolor'] = 'none'\n",
    "parula = np.load('/Users/arcticfox/parula_colors.npy')"
   ]
  },
  {
   "cell_type": "code",
   "execution_count": null,
   "metadata": {},
   "outputs": [],
   "source": [
    "p = np.mean(np.exp([cpost[f\"logl_{n}\"].data - \n",
    "                    cpost[\"logl\"].data for n in range(38, 60)]), axis=(1,2))\n",
    "period = np.nanmedian([cpost[f\"period_{n}\"] for n in range(38, 60)], axis=(1,2))\n",
    "\n",
    "plt.figure(figsize=(7,4))\n",
    "\n",
    "for i in range(len(p)):\n",
    "    plt.vlines(period[i], 0, np.abs(p[i]), lw=5, color='#742C64')\n",
    "plt.vlines(period_b*2, 0,1, linestyle='--', color=parula[60], lw=3,\n",
    "           label='2:1 resonance with V1298 Tau b = {} days'.format(np.round(period_b*2,2)))\n",
    "plt.ylim(0.03,0.05)\n",
    "plt.xlabel('Median Period [days]', fontsize=18)\n",
    "plt.ylabel('Posterior Probability', fontsize=18)\n",
    "plt.legend(fontsize=14,bbox_to_anchor=(0., 1.02, 1., .102), loc='lower left',\n",
    "           ncol=2, mode=\"expand\", borderaxespad=0.)\n",
    "plt.xlim(40,62)\n",
    "plt.savefig('/Users/arcticfox/Documents/v1298tau/tess/paper/periode.pdf', \n",
    "            bbox_inches='tight', dpi=250,\n",
    "            rasterize=True)"
   ]
  },
  {
   "cell_type": "code",
   "execution_count": null,
   "metadata": {},
   "outputs": [],
   "source": [
    "az.summary(combined).to_csv('trace_planete_new_model_full.csv')"
   ]
  },
  {
   "cell_type": "code",
   "execution_count": null,
   "metadata": {},
   "outputs": [],
   "source": [
    "period[np.flip(np.argsort(p))]"
   ]
  },
  {
   "cell_type": "code",
   "execution_count": null,
   "metadata": {},
   "outputs": [],
   "source": [
    "from astropy.table import Table\n",
    "combined = Table.read('/Users/arcticfox/Documents/v1298tau/tess/v1298tau_e/trace_planete_new_model_full.csv')"
   ]
  },
  {
   "cell_type": "code",
   "execution_count": null,
   "metadata": {},
   "outputs": [],
   "source": [
    "combined"
   ]
  },
  {
   "cell_type": "code",
   "execution_count": null,
   "metadata": {},
   "outputs": [],
   "source": []
  }
 ],
 "metadata": {
  "colab": {
   "collapsed_sections": [],
   "name": "V1298Tau-e.ipynb",
   "provenance": []
  },
  "kernelspec": {
   "display_name": "pymc3_env",
   "language": "python",
   "name": "pymc3_env"
  },
  "language_info": {
   "codemirror_mode": {
    "name": "ipython",
    "version": 3
   },
   "file_extension": ".py",
   "mimetype": "text/x-python",
   "name": "python",
   "nbconvert_exporter": "python",
   "pygments_lexer": "ipython3",
   "version": "3.9.7"
  }
 },
 "nbformat": 4,
 "nbformat_minor": 1
}
