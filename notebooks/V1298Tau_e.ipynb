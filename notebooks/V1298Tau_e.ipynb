{
 "cells": [
  {
   "cell_type": "code",
   "execution_count": 8,
   "metadata": {
    "colab": {
     "base_uri": "https://localhost:8080/",
     "height": 447
    },
    "id": "ZSNPMVcA7O0H",
    "outputId": "6722fe5e-ce44-403c-e9b1-2549d89d26c4"
   },
   "outputs": [],
   "source": [
    "import numpy as np\n",
    "import matplotlib as mpl\n",
    "import matplotlib.pyplot as plt\n",
    "\n",
    "import arviz as az\n",
    "import exoplanet as xo\n",
    "import pymc3 as pm\n",
    "import aesara_theano_fallback.tensor as tt\n",
    "import pymc3_ext as pmx\n",
    "from celerite2.theano import terms, GaussianProcess\n",
    "import corner\n",
    "\n",
    "from astropy.time import Time\n",
    "from astropy import time, coordinates as coord, units as u\n",
    "import astropy.constants as c\n",
    "\n",
    "import time as timer\n",
    "\n",
    "tangerine = ['#1a2754','#f9a919','#2ab59f','#e2721c','#db3e0e','#067bc1']"
   ]
  },
  {
   "cell_type": "code",
   "execution_count": 9,
   "metadata": {
    "id": "UEwSqtTR89t7"
   },
   "outputs": [],
   "source": [
    "def normalize_lc(flux):\n",
    "    #Returns median-normalized flux in units of parts-per-thousand\n",
    "    mu = np.nanmedian(flux)\n",
    "    return (flux/mu - 1) * 1e3"
   ]
  },
  {
   "cell_type": "markdown",
   "metadata": {
    "id": "iymqIFfe-xM-"
   },
   "source": [
    "# **K2 light curve**"
   ]
  },
  {
   "cell_type": "code",
   "execution_count": 10,
   "metadata": {
    "colab": {
     "base_uri": "https://localhost:8080/"
    },
    "id": "u4FMFvux-1Z3",
    "outputId": "d517dc68-7f40-4b3e-df7e-918fcb80dbe6"
   },
   "outputs": [
    {
     "name": "stdout",
     "output_type": "stream",
     "text": [
      "XREF = 2228.800412053417\n"
     ]
    }
   ],
   "source": [
    "from astropy.io import fits\n",
    "from scipy.signal import savgol_filter\n",
    "\n",
    "lc_url = \"https://archive.stsci.edu/hlsps/everest/v2/c04/210800000/18897/hlsp_everest_k2_llc_210818897-c04_kepler_v2.0_lc.fits\"\n",
    "    \n",
    "# Download the data\n",
    "with fits.open(lc_url) as hdus:\n",
    "    lc = hdus[1].data\n",
    "    lc_hdr = hdus[1].header\n",
    "\n",
    "# Work out the exposure time\n",
    "ktwo_texp = lc_hdr[\"FRAMETIM\"] * lc_hdr[\"NUM_FRM\"]\n",
    "ktwo_texp /= 60.0 * 60.0 * 24.0\n",
    "\n",
    "ktwo_x = lc[\"TIME\"]\n",
    "ktwo_y = lc[\"FLUX\"]\n",
    "ktwo_qual = lc[\"QUALITY\"]    \n",
    "    \n",
    "# Mask bad data\n",
    "m = np.isfinite(ktwo_x) & np.isfinite(ktwo_y)\n",
    "\n",
    "# Median normalize flux and convert to parts per thousand\n",
    "ktwo_y = normalize_lc(ktwo_y)\n",
    "ktwo_yerr = 0.177*np.ones_like(ktwo_y)\n",
    "\n",
    "\n",
    "# Shift the data so that the K2 data start at t=0. This tends to make the fit\n",
    "# better behaved since t0 covaries with period.\n",
    "x_ref = np.min(ktwo_x[m])\n",
    "\n",
    "# Trim the light curve around the transit of planet e\n",
    "m &= (abs(ktwo_x-2263.6229)<0.5)\n",
    "\n",
    "# Make sure that the data type is consistent\n",
    "ktwo_x = np.ascontiguousarray(ktwo_x[m], dtype=np.float64)\n",
    "ktwo_y = np.ascontiguousarray(ktwo_y[m], dtype=np.float64)\n",
    "ktwo_yerr = np.ascontiguousarray(ktwo_yerr[m], dtype=np.float64)\n",
    "ktwo_qual = np.ascontiguousarray(ktwo_qual[m], dtype=np.float64)\n",
    "\n",
    "print('XREF =', x_ref)"
   ]
  },
  {
   "cell_type": "code",
   "execution_count": 11,
   "metadata": {
    "id": "S6u9XPau9IHl"
   },
   "outputs": [
    {
     "name": "stderr",
     "output_type": "stream",
     "text": [
      "WARNING: leap-second auto-update failed due to the following exception: ValueError(\"Malformed URL: '//anaconda3/envs/pymc3_env/lib/python3.9/site-packages/astropy/utils/iers/data/Leap_Second.dat'\") [astropy.time.core]\n"
     ]
    },
    {
     "name": "stdout",
     "output_type": "stream",
     "text": [
      "0.006944432854652405\n"
     ]
    }
   ],
   "source": [
    "#Note: upload the TICA light curve from the file manager at left\n",
    "tica = np.loadtxt('../data/v1298_s43_o1_v2.txt')\n",
    "tess_mjd  = tica[:,0] \n",
    "tess_f1   = tica[:,1]\n",
    "\n",
    "tess_f1 = normalize_lc(tess_f1)\n",
    "\n",
    "\n",
    "tess_bjd  = Time(tess_mjd, format='mjd').jd\n",
    "\n",
    "# light travel time correction\n",
    "greenwich = coord.EarthLocation.of_site('greenwich')\n",
    "times = time.Time(tess_bjd, format='jd', location=greenwich)\n",
    "moon = coord.get_moon(times)\n",
    "delta_time = times.light_travel_time(moon)\n",
    "tess_bkjd = times.value + delta_time.value - 2454833.0\n",
    "\n",
    "tess_beg = tess_bkjd.min()\n",
    "tess_end = tess_bkjd.max()\n",
    "tess_mission_flag = ['tess']*len(tess_bkjd)\n",
    "tess_texp = np.median(np.diff(tess_bkjd))\n",
    "print(tess_texp)\n",
    "\n",
    "tess_x = tess_bkjd\n",
    "tess_y = tess_f1\n",
    "\n",
    "# Select the data around the transit of planet e (we think)\n",
    "tess_m = abs(tess_x-4648.8)<0.5\n",
    "\n",
    "tess_x = np.ascontiguousarray(tess_x[tess_m], dtype=np.float64)\n",
    "tess_y = np.ascontiguousarray(tess_y[tess_m], dtype=np.float64)\n",
    "\n",
    "#mission_flag = tess_mission_flag"
   ]
  },
  {
   "cell_type": "code",
   "execution_count": 12,
   "metadata": {
    "colab": {
     "base_uri": "https://localhost:8080/",
     "height": 431
    },
    "id": "5lpId6cEywob",
    "outputId": "b09b8317-51b5-46c0-d254-bfb7b6fd242a"
   },
   "outputs": [
    {
     "data": {
      "image/png": "[encoded data removed]",
      "text/plain": [
       "<Figure size 432x288 with 1 Axes>"
      ]
     },
     "metadata": {
      "needs_background": "light"
     },
     "output_type": "display_data"
    }
   ],
   "source": [
    "tica2 = np.loadtxt('../data/v1298_s43_o1_v2.txt')\n",
    "\n",
    "tica2_mjd  = tica2[:,0] \n",
    "tica2_bjd  = Time(tica2_mjd, format='mjd').jd\n",
    "tica2_bkjd = tica2_bjd - 2454833.0\n",
    "\n",
    "\n",
    "tica2_f1   = normalize_lc(tica2[:,1])\n",
    "tica2_f2   = normalize_lc(tica2[:,2])\n",
    "\n",
    "plt.plot(tess_bkjd, tess_f1+0.5, '.')\n",
    "plt.plot(tica2_bkjd, tica2_f1, '.')\n",
    "#plt.xlim(4645.39920514-0.5,4645.39920514+0.5)\n",
    "plt.xlim(4648.72281079-1, 4648.72281079+1)\n",
    "#plt.ylim(-5,10)\n",
    "plt.ylim(-15,15)\n",
    "plt.show()"
   ]
  },
  {
   "cell_type": "code",
   "execution_count": 13,
   "metadata": {
    "colab": {
     "base_uri": "https://localhost:8080/",
     "height": 452
    },
    "id": "moRGHydJ9N5b",
    "outputId": "972bf3cb-c3c6-4aa9-a911-a7a9e4f4fa82"
   },
   "outputs": [
    {
     "data": {
      "image/png": "[encoded data removed]",
      "text/plain": [
       "<Figure size 576x216 with 2 Axes>"
      ]
     },
     "metadata": {
      "needs_background": "light"
     },
     "output_type": "display_data"
    }
   ],
   "source": [
    "fig,(ax1,ax2) = plt.subplots(1,2,figsize=(8,3))\n",
    "\n",
    "# Plot the data\n",
    "ax1.errorbar(ktwo_x, ktwo_y, yerr=ktwo_yerr, fmt='.', label=\"K2\")\n",
    "ax1.set_xlabel(\"BKJD\")\n",
    "ax1.set_ylabel(\"Relative flux [ppt]\")\n",
    "ax1.set_title(\"K2\")\n",
    "\n",
    "ax2.scatter(tess_x, tess_y)\n",
    "ax2.set_xlabel(\"BKJD\")\n",
    "ax2.set_ylabel(\"Relative flux [ppt]\")\n",
    "ax2.set_title(\"TESS\")\n",
    "\n",
    "plt.tight_layout()\n",
    "plt.show()"
   ]
  },
  {
   "cell_type": "code",
   "execution_count": 19,
   "metadata": {
    "colab": {
     "base_uri": "https://localhost:8080/",
     "height": 335
    },
    "id": "ErguoD7RAaYu",
    "outputId": "72b2a863-bf67-42b5-8a60-10611642ba6d"
   },
   "outputs": [
    {
     "name": "stderr",
     "output_type": "stream",
     "text": [
      "optimizing logp for variables: [mean_tess, mean_ktwo, log_sigma_sho_tess, log_rho_sho_tess, log_sigma_sho_ktwo, log_rho_sho_ktwo]\n"
     ]
    },
    {
     "data": {
      "text/html": [
       "\n",
       "    <div>\n",
       "        <style>\n",
       "            /* Turns off some styling */\n",
       "            progress {\n",
       "                /* gets rid of default border in Firefox and Opera. */\n",
       "                border: none;\n",
       "                /* Needs to be in here for Safari polyfill so background images work as expected. */\n",
       "                background-size: auto;\n",
       "            }\n",
       "            .progress-bar-interrupted, .progress-bar-interrupted::-webkit-progress-bar {\n",
       "                background: #F44336;\n",
       "            }\n",
       "        </style>\n",
       "      <progress value='108' class='' max='108' style='width:300px; height:20px; vertical-align: middle;'></progress>\n",
       "      100.00% [108/108 00:00<00:00 logp = -2.556e+02]\n",
       "    </div>\n",
       "    "
      ],
      "text/plain": [
       "<IPython.core.display.HTML object>"
      ]
     },
     "metadata": {},
     "output_type": "display_data"
    },
    {
     "name": "stdout",
     "output_type": "stream",
     "text": [
      "\n"
     ]
    },
    {
     "name": "stderr",
     "output_type": "stream",
     "text": [
      "message: Desired error not necessarily achieved due to precision loss.\n",
      "logp: -6478.1342833816225 -> -255.62618012913802\n",
      "optimizing logp for variables: [log_depth_ktwo, b]\n"
     ]
    },
    {
     "data": {
      "text/html": [
       "\n",
       "    <div>\n",
       "        <style>\n",
       "            /* Turns off some styling */\n",
       "            progress {\n",
       "                /* gets rid of default border in Firefox and Opera. */\n",
       "                border: none;\n",
       "                /* Needs to be in here for Safari polyfill so background images work as expected. */\n",
       "                background-size: auto;\n",
       "            }\n",
       "            .progress-bar-interrupted, .progress-bar-interrupted::-webkit-progress-bar {\n",
       "                background: #F44336;\n",
       "            }\n",
       "        </style>\n",
       "      <progress value='14' class='' max='14' style='width:300px; height:20px; vertical-align: middle;'></progress>\n",
       "      100.00% [14/14 00:00<00:00 logp = -2.389e+02]\n",
       "    </div>\n",
       "    "
      ],
      "text/plain": [
       "<IPython.core.display.HTML object>"
      ]
     },
     "metadata": {},
     "output_type": "display_data"
    },
    {
     "name": "stdout",
     "output_type": "stream",
     "text": [
      "\n"
     ]
    },
    {
     "name": "stderr",
     "output_type": "stream",
     "text": [
      "message: Optimization terminated successfully.\n",
      "logp: -255.62618012913524 -> -238.93250790586018\n",
      "optimizing logp for variables: [log_sigma_sho_tess, log_rho_sho_tess, log_sigma_sho_ktwo, log_rho_sho_ktwo, log_sigma_jit_tess, log_sigma_lc_tess, log_sigma_jit_ktwo, log_sigma_lc_ktwo, mean_ktwo, mean_tess, log_period, t0, log_depth_ktwo, b, u_star, r_star, m_star]\n"
     ]
    },
    {
     "data": {
      "text/html": [
       "\n",
       "    <div>\n",
       "        <style>\n",
       "            /* Turns off some styling */\n",
       "            progress {\n",
       "                /* gets rid of default border in Firefox and Opera. */\n",
       "                border: none;\n",
       "                /* Needs to be in here for Safari polyfill so background images work as expected. */\n",
       "                background-size: auto;\n",
       "            }\n",
       "            .progress-bar-interrupted, .progress-bar-interrupted::-webkit-progress-bar {\n",
       "                background: #F44336;\n",
       "            }\n",
       "        </style>\n",
       "      <progress value='151' class='' max='151' style='width:300px; height:20px; vertical-align: middle;'></progress>\n",
       "      100.00% [151/151 00:00<00:00 logp = -1.722e+02]\n",
       "    </div>\n",
       "    "
      ],
      "text/plain": [
       "<IPython.core.display.HTML object>"
      ]
     },
     "metadata": {},
     "output_type": "display_data"
    },
    {
     "name": "stdout",
     "output_type": "stream",
     "text": [
      "\n"
     ]
    },
    {
     "name": "stderr",
     "output_type": "stream",
     "text": [
      "message: Desired error not necessarily achieved due to precision loss.\n",
      "logp: -238.93250790586018 -> -172.22097414055585\n"
     ]
    }
   ],
   "source": [
    "#Stellar parameters\n",
    "M_star  = 1.10, 0.05\n",
    "R_star  = 1.305, 0.07\n",
    "\n",
    "n_pl = 1\n",
    "\n",
    "# These arrays are used as the times/phases where the models are\n",
    "# evaluated at higher resolution for plotting purposes\n",
    "phase_lc = np.linspace(-0.3, 0.3, 100)\n",
    "\n",
    "def build_model(ktwo_mask=None, \n",
    "                tess_mask=None, \n",
    "                start=None,\n",
    "                eccentric=False):\n",
    "    \n",
    "    if ktwo_mask is None:\n",
    "        ktwo_mask = np.ones(len(ktwo_x), dtype=bool)\n",
    "    if tess_mask is None:\n",
    "        tess_mask = np.ones(len(tess_x), dtype=bool)\n",
    "    \n",
    "    with pm.Model() as model:\n",
    "\n",
    "        # Parameters for the stellar properties\n",
    "        BoundedNormal = pm.Bound(pm.Normal, lower=0, upper=3)\n",
    "        m_star = BoundedNormal(\"m_star\", mu=M_star[0], sd=M_star[1])\n",
    "        r_star = BoundedNormal(\"r_star\", mu=R_star[0], sd=R_star[1])        \n",
    "        u_star = xo.QuadLimbDark(\"u_star\")\n",
    "        star = xo.LimbDarkLightCurve(u_star)\n",
    "\n",
    "        # Fit in terms of transit depth (assuming b<1)\n",
    "        b = pm.Uniform(\"b\", lower=0, upper=1)\n",
    "        \n",
    "        # K2 transit depth and radius ratio\n",
    "        log_depth_ktwo = pm.Normal(\"log_depth_ktwo\", mu=np.log(4), sigma=2)                        \n",
    "        ror_ktwo = pm.Deterministic(\"ror_ktwo\", \n",
    "                                    star.get_ror_from_approx_transit_depth(\n",
    "                                        1e-3 * tt.exp(log_depth_ktwo), b\n",
    "                                    ),\n",
    "                                   )\n",
    "        r_pl_ktwo = pm.Deterministic(\"r_pl_ktwo\", ror_ktwo * r_star)\n",
    "        r_pl_rade_ktwo = pm.Deterministic(\"r_pl_rade_ktwo\", ror_ktwo * r_star * c.R_sun/c.R_earth)\n",
    "\n",
    "        # Eccentricity and longitude of periastron\n",
    "        if eccentric==True:\n",
    "            ecs = pmx.UnitDisk(\"ecs\", shape=(2, 1), testval=0.01 * np.ones((2, 1)))\n",
    "            ecc = pm.Deterministic(\"ecc\", tt.sum(ecs ** 2, axis=0))\n",
    "            omega = pm.Deterministic(\"omega\", tt.arctan2(ecs[1], ecs[0]))\n",
    "            xo.eccentricity.vaneylen19(\"ecc_prior\", \n",
    "                                        multi=True, shape=1, fixed=True, observed=ecc)\n",
    "        \n",
    "        elif eccentric==False:\n",
    "            ecc = np.zeros(n_pl)\n",
    "            omega = np.pi/2*np.ones(n_pl)\n",
    "            \n",
    "        \n",
    "        # Ephemeris parameters\n",
    "        t0 = pm.Normal(\"t0\", mu=2263.6229, sd=0.1)\n",
    "        log_period = pm.Normal(\"log_period\", mu=np.log(48.67687959183674), sd=1e-5)\n",
    "        #log_period = pm.Normal(\"log_period\", mu=np.log(48.67687959183674), sd=1)\n",
    "        period = pm.Deterministic(\"period\", tt.exp(log_period))\n",
    "\n",
    "        # Orbit models\n",
    "        orbit = xo.orbits.KeplerianOrbit(\n",
    "            r_star=r_star,\n",
    "            m_star=m_star,\n",
    "            period=period,\n",
    "            t0=t0,\n",
    "            b=b,\n",
    "            ecc=ecc,\n",
    "            omega=omega,\n",
    "        )\n",
    "\n",
    "        ########################################################################################        \n",
    "        ########################################################################################\n",
    "        # Compute the model light curve\n",
    "        mean_tess = pm.Normal(\"mean_tess\", mu=0.0, sd=10.0)\n",
    "        mean_ktwo = pm.Normal(\"mean_ktwo\", mu=0.0, sd=10.0)\n",
    "\n",
    "        light_curves_ktwo = (\n",
    "            star.get_light_curve(\n",
    "                orbit=orbit, \n",
    "                r=r_pl_ktwo, \n",
    "                t=ktwo_x[ktwo_mask], \n",
    "                texp=ktwo_texp) * 1e3\n",
    "        )\n",
    "        light_curve_ktwo = pm.math.sum(light_curves_ktwo, axis=-1) + mean_ktwo\n",
    "\n",
    "        \n",
    "        light_curves_tess = (\n",
    "            star.get_light_curve(\n",
    "                orbit=orbit, \n",
    "                r=r_pl_ktwo, \n",
    "                t=tess_x[tess_mask], \n",
    "                texp=tess_texp) * 1e3\n",
    "        )\n",
    "        light_curve_tess = pm.math.sum(light_curves_tess, axis=-1) + mean_tess\n",
    "\n",
    "        \n",
    "        # Light curve noise and in-transit jitter\n",
    "        log_sigma_lc_ktwo  = pm.Normal(\"log_sigma_lc_ktwo\", mu=np.log(0.01*np.std(ktwo_y[ktwo_mask])), sd=10)\n",
    "        log_sigma_jit_ktwo = pm.Normal(\"log_sigma_jit_ktwo\", mu=np.log(0.02*np.std(ktwo_y[ktwo_mask])), sd=10) \n",
    "        yerr_ktwo = pm.Deterministic(\"yerr_ktwo\", tt.exp(log_sigma_lc_ktwo) + tt.exp(2*log_sigma_jit_ktwo)*(light_curve_ktwo**2))\n",
    "        \n",
    "        \n",
    "        # Light curve noise and in-transit jitter\n",
    "        log_sigma_lc_tess  = pm.Normal(\"log_sigma_lc_tess\", mu=np.log(0.01*np.std(tess_y[tess_mask])), sd=10)\n",
    "        log_sigma_jit_tess = pm.Normal(\"log_sigma_jit_tess\", mu=np.log(0.02*np.std(tess_y[tess_mask])), sd=10) \n",
    "        yerr_tess = pm.Deterministic(\"yerr_tess\", tt.exp(log_sigma_lc_tess) + tt.exp(2*log_sigma_jit_tess)*(light_curve_tess**2))\n",
    "\n",
    "        resid_tess = pm.Deterministic(\"resid_tess\", tess_y[tess_mask] - light_curve_tess)\n",
    "        resid_ktwo = pm.Deterministic(\"resid_ktwo\", ktwo_y[ktwo_mask] - light_curve_ktwo)\n",
    "\n",
    "        #The parameters of the first SHO term\n",
    "        log_rho_sho_ktwo = pm.Normal(\"log_rho_sho_ktwo\", mu=0.0, sd=10)\n",
    "        log_sigma_sho_ktwo = pm.Normal(\"log_sigma_sho_ktwo\", mu=np.log(np.std(ktwo_y[ktwo_mask])), sd=10)\n",
    "\n",
    "        #The parameters of the first SHO term\n",
    "        log_rho_sho_tess = pm.Normal(\"log_rho_sho_tess\", mu=0.0, sd=10)\n",
    "        log_sigma_sho_tess = pm.Normal(\"log_sigma_sho_tess\", mu=np.log(np.std(tess_y[tess_mask])), sd=10)\n",
    "\n",
    "\n",
    "        kernel_ktwo = terms.SHOTerm(\n",
    "            sigma=tt.exp(log_sigma_sho_ktwo),\n",
    "            rho=tt.exp(log_rho_sho_ktwo),\n",
    "            Q=1 / np.sqrt(2),\n",
    "        )\n",
    "\n",
    "        kernel_tess = terms.SHOTerm(\n",
    "            sigma=tt.exp(log_sigma_sho_tess),\n",
    "            rho=tt.exp(log_rho_sho_tess),\n",
    "            Q=1 / np.sqrt(2),\n",
    "        )        \n",
    "\n",
    "        gp_ktwo = GaussianProcess(kernel_ktwo, t=ktwo_x[ktwo_mask], yerr=yerr_ktwo)\n",
    "        gp_ktwo.marginal(\"transit_obs_ktwo\", observed=resid_ktwo)\n",
    "\n",
    "        gp_tess = GaussianProcess(kernel_tess, t=tess_x[tess_mask], yerr=yerr_tess)\n",
    "        gp_tess.marginal(\"transit_obs_tess\", observed=resid_tess)           \n",
    "\n",
    "        map_soln = model.test_point\n",
    "        \n",
    "        map_soln = pmx.optimize(start=map_soln, vars=[log_rho_sho_ktwo, log_sigma_sho_ktwo,\n",
    "                                                   log_rho_sho_tess, log_sigma_sho_tess,\n",
    "                                                   mean_ktwo, mean_tess\n",
    "                                                   ])\n",
    "\n",
    "        map_soln = pmx.optimize(start=map_soln, vars=[b, log_depth_ktwo])\n",
    "\n",
    "        map_soln = pmx.optimize(start=map_soln)\n",
    "\n",
    "        extras = dict(\n",
    "            zip(\n",
    "                [\"light_curves_ktwo\",\n",
    "                 \"light_curves_tess\",\n",
    "                 \"gp_pred_ktwo\",\n",
    "                 \"gp_pred_tess\"],\n",
    "                pmx.eval_in_model([light_curves_ktwo,\n",
    "                                   light_curves_tess,\n",
    "                                   gp_ktwo.predict(resid_ktwo),\n",
    "                                   gp_tess.predict(resid_tess)], \n",
    "                                   map_soln),\n",
    "            )\n",
    "        )\n",
    "\n",
    "    return model, map_soln, extras, orbit\n",
    "\n",
    "model0, map_soln0, extras0, orbit0 = build_model()"
   ]
  },
  {
   "cell_type": "code",
   "execution_count": 20,
   "metadata": {
    "colab": {
     "base_uri": "https://localhost:8080/",
     "height": 1000
    },
    "id": "QmARXEBjJEmM",
    "outputId": "f51f5323-c730-4d51-95ce-80b5afbc8ab9"
   },
   "outputs": [
    {
     "data": {
      "image/png": "[encoded data removed]",
      "text/plain": [
       "<Figure size 720x720 with 6 Axes>"
      ]
     },
     "metadata": {
      "needs_background": "light"
     },
     "output_type": "display_data"
    }
   ],
   "source": [
    "def plot_light_curve(soln, \n",
    "                     extras, \n",
    "                     xrange=[4641,4653], \n",
    "                     ktwo_mask=None,\n",
    "                     tess_mask=None):\n",
    "\n",
    "    \n",
    "    if ktwo_mask is None:\n",
    "        ktwo_mask = np.ones(len(ktwo_x), dtype=bool)\n",
    "\n",
    "    if tess_mask is None:\n",
    "        tess_mask = np.ones(len(tess_x), dtype=bool)        \n",
    "        \n",
    "    fig, axes = plt.subplots(nrows=3, ncols=2, figsize=(10, 10))\n",
    "\n",
    "    gp_mod_ktwo = extras[\"gp_pred_ktwo\"] + soln[\"mean_ktwo\"]\n",
    "    gp_mod_tess = extras[\"gp_pred_tess\"] + soln[\"mean_tess\"]\n",
    "\n",
    "    mod_sum_ktwo = np.sum(extras[\"light_curves_ktwo\"], axis=-1)\n",
    "    mod_sum_tess = np.sum(extras[\"light_curves_tess\"], axis=-1)\n",
    "\n",
    "    mod_ktwo = gp_mod_ktwo + mod_sum_ktwo\n",
    "    mod_ktwo = gp_mod_tess + mod_sum_tess\n",
    "\n",
    "    xdata = [ktwo_x[ktwo_mask], tess_x[tess_mask]]\n",
    "    ydata = [ktwo_y[ktwo_mask], tess_y[tess_mask]]\n",
    "    mission = [\"ktwo\", \"tess\"]\n",
    "\n",
    "    for i in range(2):\n",
    "\n",
    "        gp_mod = extras[\"gp_pred_\"+mission[i]] + soln[\"mean_\"+mission[i]]\n",
    "        lc_mod = np.sum(extras[\"light_curves_\"+mission[i]], axis=-1)\n",
    "\n",
    "        yerr = soln[\"yerr_\"+mission[i]]\n",
    "\n",
    "        ax = axes[0][i]\n",
    "        ax.errorbar(xdata[i], ydata[i], yerr=yerr)\n",
    "        ax.plot(xdata[i], gp_mod, color=\"C2\", label=\"GP model\")\n",
    "        ax.legend(fontsize=10)\n",
    "        ax.set_ylabel(\"Relative flux [ppt]\")\n",
    "        ax.set_title(mission[i].upper())\n",
    "\n",
    "        ax = axes[1][i]\n",
    "        ax.errorbar(xdata[i], ydata[i] - gp_mod, yerr=yerr)\n",
    "        ax.plot(xdata[i], lc_mod, label=\"Transit model\", color=\"C5\")          \n",
    "        ax.legend(fontsize=10, loc=3)\n",
    "        ax.set_ylabel(\"De-trended flux [ppt]\")\n",
    "        ax.set_ylim(-7.5,3.5)\n",
    "\n",
    "        ax = axes[2][i]\n",
    "        ax.errorbar(xdata[i], ydata[i] - gp_mod - lc_mod, yerr=yerr)\n",
    "        ax.axhline(0, color=\"#aaaaaa\", lw=1)\n",
    "        ax.set_ylabel(\"Residuals [ppt]\")\n",
    "        ax.set_xlabel(\"BKJD [days]\")\n",
    "\n",
    "    plt.tight_layout()\n",
    "\n",
    "    return fig\n",
    " \n",
    "_ = plot_light_curve(map_soln0, extras0)"
   ]
  },
  {
   "cell_type": "code",
   "execution_count": 21,
   "metadata": {
    "colab": {
     "base_uri": "https://localhost:8080/",
     "height": 585
    },
    "id": "QjNF3Hs3oEZN",
    "outputId": "3da30d54-e2ec-450d-a3f4-f22dfbaa9173"
   },
   "outputs": [
    {
     "data": {
      "image/png": "[encoded data removed]",
      "text/plain": [
       "<Figure size 504x288 with 1 Axes>"
      ]
     },
     "metadata": {
      "needs_background": "light"
     },
     "output_type": "display_data"
    }
   ],
   "source": [
    "ktwo_ydet = ktwo_y - extras0[\"gp_pred_ktwo\"] - map_soln0[\"mean_ktwo\"]\n",
    "tess_ydet = tess_y - extras0[\"gp_pred_tess\"] - map_soln0[\"mean_tess\"]\n",
    "\n",
    "ktwo_yerr = map_soln0[\"yerr_ktwo\"]\n",
    "tess_yerr = map_soln0[\"yerr_tess\"]\n",
    "\n",
    "ktwo_fold = (ktwo_x - map_soln0[\"t0\"] + 0.5 * map_soln0[\"period\"]) % map_soln0[\"period\"] - 0.5*map_soln0[\"period\"]\n",
    "tess_fold = (tess_x - map_soln0[\"t0\"] + 0.5 * map_soln0[\"period\"]) % map_soln0[\"period\"] - 0.5*map_soln0[\"period\"]\n",
    "\n",
    "plt.errorbar(24*tess_fold, tess_ydet, yerr=tess_yerr, fmt=\"o\", label='TESS')\n",
    "plt.errorbar(24*ktwo_fold, ktwo_ydet, yerr=ktwo_yerr, fmt=\"o\", label='K2')\n",
    "plt.legend()\n",
    "plt.xlim(-12,12)\n",
    "plt.xlabel('Time from mid-transit [hours]')\n",
    "plt.ylabel('De-trended flux [ppt]')\n",
    "plt.gcf().set_size_inches(7,4)\n",
    "plt.show()"
   ]
  },
  {
   "cell_type": "markdown",
   "metadata": {
    "id": "ume5XEuQY7D-"
   },
   "source": [
    "# What are the possible periods for planet e? \n",
    "In the discovery paper we ruled out periods <36 days based on the fact that we didn't observe any additional transits of ~0.5% depth in the light curve. I'm **pretty sure** I'd stick by that statement! :) \n",
    "\n",
    "So if n is the number of transits between K2 and TESS we have a discrete set of possible periods, where we only need to consider n in the range of 1 to some number that maxes out when the implied period becomes less than 36 d"
   ]
  },
  {
   "cell_type": "code",
   "execution_count": 16,
   "metadata": {
    "colab": {
     "base_uri": "https://localhost:8080/"
    },
    "id": "0T7KC2weY6fI",
    "outputId": "11eb5336-a152-4b4d-bced-3f9e1f26f3cc"
   },
   "outputs": [],
   "source": [
    "#for n in range(1, 70): \n",
    "#    print(n, (4648.79  - 2263.6229)/n)"
   ]
  },
  {
   "cell_type": "markdown",
   "metadata": {},
   "source": [
    "## Take 2"
   ]
  },
  {
   "cell_type": "code",
   "execution_count": 22,
   "metadata": {},
   "outputs": [
    {
     "name": "stdout",
     "output_type": "stream",
     "text": [
      "38\n",
      "39\n",
      "40\n",
      "41\n",
      "42\n",
      "43\n",
      "44\n",
      "45\n",
      "46\n",
      "47\n",
      "48\n",
      "49\n",
      "50\n",
      "51\n",
      "52\n",
      "53\n",
      "54\n",
      "55\n",
      "56\n",
      "57\n",
      "58\n",
      "59\n"
     ]
    },
    {
     "name": "stderr",
     "output_type": "stream",
     "text": [
      "optimizing logp for variables: [mean_tess, mean_ktwo, log_sigma_sho_tess, log_rho_sho_tess, log_sigma_sho_ktwo, log_rho_sho_ktwo]\n"
     ]
    },
    {
     "data": {
      "text/html": [
       "\n",
       "    <div>\n",
       "        <style>\n",
       "            /* Turns off some styling */\n",
       "            progress {\n",
       "                /* gets rid of default border in Firefox and Opera. */\n",
       "                border: none;\n",
       "                /* Needs to be in here for Safari polyfill so background images work as expected. */\n",
       "                background-size: auto;\n",
       "            }\n",
       "            .progress-bar-interrupted, .progress-bar-interrupted::-webkit-progress-bar {\n",
       "                background: #F44336;\n",
       "            }\n",
       "        </style>\n",
       "      <progress value='19' class='' max='19' style='width:300px; height:20px; vertical-align: middle;'></progress>\n",
       "      100.00% [19/19 00:00<00:00 logp = -2.270e+02]\n",
       "    </div>\n",
       "    "
      ],
      "text/plain": [
       "<IPython.core.display.HTML object>"
      ]
     },
     "metadata": {},
     "output_type": "display_data"
    },
    {
     "name": "stdout",
     "output_type": "stream",
     "text": [
      "\n"
     ]
    },
    {
     "name": "stderr",
     "output_type": "stream",
     "text": [
      "message: Optimization terminated successfully.\n",
      "logp: -245.9167719239181 -> -226.9783609903277\n",
      "optimizing logp for variables: [log_depth_ktwo, b]\n"
     ]
    },
    {
     "data": {
      "text/html": [
       "\n",
       "    <div>\n",
       "        <style>\n",
       "            /* Turns off some styling */\n",
       "            progress {\n",
       "                /* gets rid of default border in Firefox and Opera. */\n",
       "                border: none;\n",
       "                /* Needs to be in here for Safari polyfill so background images work as expected. */\n",
       "                background-size: auto;\n",
       "            }\n",
       "            .progress-bar-interrupted, .progress-bar-interrupted::-webkit-progress-bar {\n",
       "                background: #F44336;\n",
       "            }\n",
       "        </style>\n",
       "      <progress value='13' class='' max='13' style='width:300px; height:20px; vertical-align: middle;'></progress>\n",
       "      100.00% [13/13 00:00<00:00 logp = -2.249e+02]\n",
       "    </div>\n",
       "    "
      ],
      "text/plain": [
       "<IPython.core.display.HTML object>"
      ]
     },
     "metadata": {},
     "output_type": "display_data"
    },
    {
     "name": "stdout",
     "output_type": "stream",
     "text": [
      "\n"
     ]
    },
    {
     "name": "stderr",
     "output_type": "stream",
     "text": [
      "message: Optimization terminated successfully.\n",
      "logp: -226.97836099032764 -> -224.92306816491975\n",
      "optimizing logp for variables: [log_sigma_sho_tess, log_rho_sho_tess, mean_tess, log_sigma_sho_ktwo, log_rho_sho_ktwo, mean_ktwo, tn, t0, log_depth_ktwo, b, u_star, r_star, m_star]\n"
     ]
    },
    {
     "data": {
      "text/html": [
       "\n",
       "    <div>\n",
       "        <style>\n",
       "            /* Turns off some styling */\n",
       "            progress {\n",
       "                /* gets rid of default border in Firefox and Opera. */\n",
       "                border: none;\n",
       "                /* Needs to be in here for Safari polyfill so background images work as expected. */\n",
       "                background-size: auto;\n",
       "            }\n",
       "            .progress-bar-interrupted, .progress-bar-interrupted::-webkit-progress-bar {\n",
       "                background: #F44336;\n",
       "            }\n",
       "        </style>\n",
       "      <progress value='68' class='' max='68' style='width:300px; height:20px; vertical-align: middle;'></progress>\n",
       "      100.00% [68/68 00:01<00:00 logp = -1.814e+02]\n",
       "    </div>\n",
       "    "
      ],
      "text/plain": [
       "<IPython.core.display.HTML object>"
      ]
     },
     "metadata": {},
     "output_type": "display_data"
    },
    {
     "name": "stdout",
     "output_type": "stream",
     "text": [
      "\n"
     ]
    },
    {
     "name": "stderr",
     "output_type": "stream",
     "text": [
      "message: Desired error not necessarily achieved due to precision loss.\n",
      "logp: -224.92306816491975 -> -181.37777599308248\n"
     ]
    },
    {
     "data": {
      "image/png": "[encoded data removed]",
      "text/plain": [
       "<Figure size 576x288 with 2 Axes>"
      ]
     },
     "metadata": {
      "needs_background": "light"
     },
     "output_type": "display_data"
    }
   ],
   "source": [
    "#Stellar parameters\n",
    "M_star  = 1.10, 0.05\n",
    "R_star  = 1.305, 0.07\n",
    "\n",
    "n_pl = 1\n",
    "\n",
    "# These arrays are used as the times/phases where the models are\n",
    "# evaluated at higher resolution for plotting purposes\n",
    "phase_lc = np.linspace(-0.3, 0.3, 100)\n",
    "\n",
    "def discrete_period_gp_model(ktwo_mask=None, \n",
    "                             tess_mask=None, \n",
    "                             start=None):\n",
    "    \n",
    "    if ktwo_mask is None:\n",
    "        ktwo_mask = np.ones(len(ktwo_x), dtype=bool)\n",
    "    if tess_mask is None:\n",
    "        tess_mask = np.ones(len(tess_x), dtype=bool)\n",
    "    \n",
    "    with pm.Model() as model:\n",
    "\n",
    "        # Parameters for the stellar properties\n",
    "        BoundedNormal = pm.Bound(pm.Normal, lower=0, upper=3)\n",
    "        m_star = BoundedNormal(\"m_star\", mu=M_star[0], sd=M_star[1])\n",
    "        r_star = BoundedNormal(\"r_star\", mu=R_star[0], sd=R_star[1])        \n",
    "        u_star = xo.QuadLimbDark(\"u_star\")\n",
    "        star = xo.LimbDarkLightCurve(u_star)\n",
    "\n",
    "        # Fit in terms of transit depth (assuming b<1)\n",
    "        b = pm.Uniform(\"b\", lower=0, upper=1)\n",
    "        \n",
    "        # K2 transit depth and radius ratio\n",
    "        log_depth_ktwo = pm.Normal(\"log_depth_ktwo\", mu=np.log(4.0), sigma=3)                        \n",
    "        ror_ktwo = pm.Deterministic(\"ror_ktwo\", \n",
    "                                    star.get_ror_from_approx_transit_depth(\n",
    "                                        1e-3 * tt.exp(log_depth_ktwo), b\n",
    "                                    ),\n",
    "                                   )\n",
    "        r_pl_ktwo = pm.Deterministic(\"r_pl_ktwo\", ror_ktwo * r_star)\n",
    "        r_pl_rade_ktwo = pm.Deterministic(\"r_pl_rade_ktwo\", ror_ktwo * r_star * c.R_sun/c.R_earth)\n",
    "        \n",
    "        # TESS transit depth and radius ratio\n",
    "        #log_depth_tess = pm.Normal(\"log_depth_tess\", mu=np.log(4.0), sigma=3)                        \n",
    "        #ror_tess = pm.Deterministic(\"ror_tess\", \n",
    "        #                            star.get_ror_from_approx_transit_depth(\n",
    "        #                                1e-3 * tt.exp(log_depth_tess), b\n",
    "        #                            ),\n",
    "        #                           )\n",
    "        #r_pl_tess = pm.Deterministic(\"r_pl_tess\", ror_tess * r_star)\n",
    "        #r_pl_rade_tess = pm.Deterministic(\"r_pl_rade_tess\", ror_tess * r_star * c.R_sun/c.R_earth)\n",
    "        \n",
    "        ecc = np.zeros(n_pl)\n",
    "        omega = np.pi/2*np.ones(n_pl)\n",
    "            \n",
    "        \n",
    "        # K2 transit midpoint\n",
    "        t0 = pm.Normal(\"t0\", mu=2263.6229, sigma=0.1)\n",
    "        # TESS transit midpoint\n",
    "        tn = pm.Normal(\"tn\", mu=4648.79, sigma=0.1)\n",
    "\n",
    "        #The parameters of the first SHO term\n",
    "        mean_ktwo = pm.Normal(\"mean_ktwo\", mu=0.0, sd=0.1) \n",
    "        log_rho_sho_ktwo = pm.Normal(\"log_rho_sho_ktwo\", mu=0.0, sd=2.0)\n",
    "        log_sigma_sho_ktwo = pm.Normal(\"log_sigma_sho_ktwo\", mu=np.log(np.std(ktwo_y[ktwo_mask])), sd=10)\n",
    "\n",
    "        #The parameters of the first SHO term\n",
    "        mean_tess = pm.Normal(\"mean_tess\", mu=0.0, sd=0.1)\n",
    "        log_rho_sho_tess = pm.Normal(\"log_rho_sho_tess\", mu=0.0, sd=2.0)\n",
    "        log_sigma_sho_tess = pm.Normal(\"log_sigma_sho_tess\", mu=np.log(np.std(tess_y[tess_mask])), sd=10)\n",
    "\n",
    "\n",
    "        kernel_ktwo = terms.SHOTerm(\n",
    "            sigma=tt.exp(log_sigma_sho_ktwo),\n",
    "            rho=tt.exp(log_rho_sho_ktwo),\n",
    "            Q=1 / np.sqrt(2),\n",
    "        )\n",
    "\n",
    "        kernel_tess = terms.SHOTerm(\n",
    "            sigma=tt.exp(log_sigma_sho_tess),\n",
    "            rho=tt.exp(log_rho_sho_tess),\n",
    "            Q=1 / np.sqrt(2),\n",
    "        )\n",
    "\n",
    "\n",
    "        gp_ktwo = GaussianProcess(kernel_ktwo, t=ktwo_x[ktwo_mask], yerr=np.max(ktwo_yerr))\n",
    "        gp_tess = GaussianProcess(kernel_tess, t=tess_x[tess_mask], yerr=np.max(tess_yerr))\n",
    "\n",
    "        logls = []\n",
    "        \n",
    "        #Note: if we want to explore longer periods we need to decrease the lower end of this range!\n",
    "        for n in range(38,60): \n",
    "            period = pm.Deterministic(f\"period_{n}\", (tn - t0) / n)\n",
    "\n",
    "            # Orbit models\n",
    "            orbit = xo.orbits.KeplerianOrbit(\n",
    "              r_star=r_star,\n",
    "              m_star=m_star,\n",
    "              period=period,\n",
    "              t0=t0,\n",
    "              b=b,\n",
    "              ecc=ecc,\n",
    "              omega=omega,\n",
    "              )\n",
    "\n",
    "            # Compute light curve\n",
    "            light_curves_ktwo = (\n",
    "                                  star.get_light_curve(\n",
    "                                      orbit=orbit, \n",
    "                                      r=r_pl_ktwo, \n",
    "                                      t=ktwo_x[ktwo_mask], \n",
    "                                      texp=ktwo_texp) * 1e3\n",
    "                                )\n",
    "            light_curve_ktwo = pm.math.sum(light_curves_ktwo, axis=-1) + mean_ktwo\n",
    "\n",
    "            light_curves_tess = (\n",
    "                                  star.get_light_curve(\n",
    "                                      orbit=orbit, \n",
    "                                      r=r_pl_ktwo, \n",
    "                                      t=tess_x[tess_mask], \n",
    "                                      texp=tess_texp) * 1e3\n",
    "                                )\n",
    "            light_curve_tess = pm.math.sum(light_curves_tess, axis=-1) + mean_tess\n",
    "\n",
    "            resid_tess = tess_y[tess_mask] - light_curve_tess\n",
    "            resid_ktwo = ktwo_y[ktwo_mask] - light_curve_ktwo\n",
    "\n",
    "            logln_ktwo = gp_ktwo.log_likelihood(resid_ktwo)\n",
    "            logln_tess = gp_tess.log_likelihood(resid_tess)\n",
    "\n",
    "            logln = tt.sum(logln_ktwo) + tt.sum(logln_tess)\n",
    "\n",
    "            pm.Deterministic(f\"logl_{n}\", logln)\n",
    "            print(n)\n",
    "            logls.append(logln)\n",
    "\n",
    "\n",
    "        logl = tt.log(tt.sum(tt.exp(tt.stack(logls))))\n",
    "\n",
    "        pm.Deterministic(\"logl\", logl)\n",
    "        pm.Potential(\"obs\", logl)\n",
    "\n",
    "        map_soln = model.test_point\n",
    "        \n",
    "        map_soln = pmx.optimize(start=map_soln, vars=[log_rho_sho_ktwo, log_sigma_sho_ktwo,\n",
    "                                                      log_rho_sho_tess, log_sigma_sho_tess,\n",
    "                                                      mean_ktwo, mean_tess\n",
    "                                                   ])\n",
    "\n",
    "        map_soln = pmx.optimize(start=map_soln, vars=[b, log_depth_ktwo])\n",
    "        #map_soln = pmx.optimize(start=map_soln, vars=[b, log_depth_tess])\n",
    "\n",
    "        map_soln = pmx.optimize(start=map_soln)\n",
    "\n",
    "\n",
    "        # Plot the MAP solution\n",
    "        lc_ktwo = pmx.eval_in_model(light_curve_ktwo, map_soln)\n",
    "        lc_tess = pmx.eval_in_model(light_curve_tess, map_soln)\n",
    "        res_ktwo = ktwo_y[ktwo_mask] - lc_ktwo\n",
    "        res_tess = tess_y[tess_mask] - lc_tess\n",
    "        \n",
    "        fig,(ax1,ax2) = plt.subplots(nrows=1,ncols=2,figsize=(8,4))\n",
    "\n",
    "        ax1.errorbar(ktwo_x, ktwo_ydet, yerr=np.max(ktwo_yerr), fmt='o')\n",
    "        ax1.plot(ktwo_x,lc_ktwo)\n",
    "\n",
    "        ax2.errorbar(tess_x, tess_ydet, yerr=np.max(tess_yerr), fmt='o')\n",
    "        ax2.plot(tess_x,lc_tess)\n",
    "\n",
    "        for ax in [ax1,ax2]:\n",
    "            ax.set_xlabel('Time [BKJD]')\n",
    "            ax.set_ylabel('De-trended flux [ppt]')\n",
    "\n",
    "        plt.tight_layout()\n",
    "        plt.show()\n",
    "        \n",
    "        extras = dict(\n",
    "                     zip(\n",
    "                        [\"light_curves_ktwo\",\n",
    "                          \"light_curves_tess\",\n",
    "                          \"gp_pred_ktwo\",\n",
    "                          \"gp_pred_tess\"],\n",
    "                        pmx.eval_in_model([light_curves_ktwo,\n",
    "                                            light_curves_tess,\n",
    "                                            gp_ktwo.predict(resid_ktwo),\n",
    "                                            gp_tess.predict(resid_tess)], \n",
    "                                            map_soln),\n",
    "             )\n",
    "         )\n",
    "\n",
    "    return model, map_soln, orbit, extras\n",
    "\n",
    "model1, map_soln1, orbit1, extras1 = discrete_period_gp_model()"
   ]
  },
  {
   "cell_type": "code",
   "execution_count": 23,
   "metadata": {},
   "outputs": [
    {
     "name": "stderr",
     "output_type": "stream",
     "text": [
      "Sequential sampling (1 chains in 1 job)\n",
      "NUTS: [log_sigma_sho_tess, log_rho_sho_tess, mean_tess, log_sigma_sho_ktwo, log_rho_sho_ktwo, mean_ktwo, tn, t0, log_depth_ktwo, b, u_star, r_star, m_star]\n"
     ]
    },
    {
     "data": {
      "text/html": [
       "\n",
       "    <div>\n",
       "        <style>\n",
       "            /* Turns off some styling */\n",
       "            progress {\n",
       "                /* gets rid of default border in Firefox and Opera. */\n",
       "                border: none;\n",
       "                /* Needs to be in here for Safari polyfill so background images work as expected. */\n",
       "                background-size: auto;\n",
       "            }\n",
       "            .progress-bar-interrupted, .progress-bar-interrupted::-webkit-progress-bar {\n",
       "                background: #F44336;\n",
       "            }\n",
       "        </style>\n",
       "      <progress value='5500' class='' max='5500' style='width:300px; height:20px; vertical-align: middle;'></progress>\n",
       "      100.00% [5500/5500 24:51<00:00 Sampling chain 0, 0 divergences]\n",
       "    </div>\n",
       "    "
      ],
      "text/plain": [
       "<IPython.core.display.HTML object>"
      ]
     },
     "metadata": {},
     "output_type": "display_data"
    },
    {
     "name": "stderr",
     "output_type": "stream",
     "text": [
      "Sampling 1 chain for 500 tune and 5_000 draw iterations (500 + 5_000 draws total) took 1492 seconds.\n",
      "Only one chain was sampled, this makes it impossible to run some convergence checks\n"
     ]
    }
   ],
   "source": [
    "random_seeds = [239081, 3409184, 9890418]\n",
    "with model1:\n",
    "    trace = pmx.sample(tune=500,\n",
    "                        draws=5000,\n",
    "                        start=map_soln1,\n",
    "                        chains=1,\n",
    "                       # cores=3,\n",
    "                        return_inferencedata=True,\n",
    "                        random_seed=random_seeds[0])"
   ]
  },
  {
   "cell_type": "code",
   "execution_count": 26,
   "metadata": {},
   "outputs": [
    {
     "name": "stderr",
     "output_type": "stream",
     "text": [
      "Sequential sampling (1 chains in 1 job)\n",
      "NUTS: [log_sigma_sho_tess, log_rho_sho_tess, mean_tess, log_sigma_sho_ktwo, log_rho_sho_ktwo, mean_ktwo, tn, t0, log_depth_ktwo, b, u_star, r_star, m_star]\n"
     ]
    },
    {
     "data": {
      "text/html": [
       "\n",
       "    <div>\n",
       "        <style>\n",
       "            /* Turns off some styling */\n",
       "            progress {\n",
       "                /* gets rid of default border in Firefox and Opera. */\n",
       "                border: none;\n",
       "                /* Needs to be in here for Safari polyfill so background images work as expected. */\n",
       "                background-size: auto;\n",
       "            }\n",
       "            .progress-bar-interrupted, .progress-bar-interrupted::-webkit-progress-bar {\n",
       "                background: #F44336;\n",
       "            }\n",
       "        </style>\n",
       "      <progress value='0' class='progress-bar-interrupted' max='5500' style='width:300px; height:20px; vertical-align: middle;'></progress>\n",
       "      Interrupted\n",
       "    </div>\n",
       "    "
      ],
      "text/plain": [
       "<IPython.core.display.HTML object>"
      ]
     },
     "metadata": {},
     "output_type": "display_data"
    },
    {
     "ename": "LinAlgError",
     "evalue": "failed to factorize or solve matrix\nApply node that caused the error: _CeleriteOp{name='factor_fwd', quiet=False}(TensorConstant{[4648.3009...29404562]}, Join.0, Alloc.0, Join.0, Join.0)\nToposort index: 632\nInputs types: [TensorType(float64, vector), TensorType(float64, vector), TensorType(float64, vector), TensorType(float64, matrix), TensorType(float64, matrix)]\nInputs shapes: [(143,), (2,), (143,), (143, 2), (143, 2)]\nInputs strides: [(8,), (8,), (8,), (16, 8), (16, 8)]\nInputs values: ['not shown', array([7.64050412e-06, 7.64050412e-06]), 'not shown', 'not shown', 'not shown']\nOutputs clients: [[_CeleriteOp{name='factor_rev', quiet=False}(TensorConstant{[4648.3009...29404562]}, Join.0, Alloc.0, Join.0, Join.0, _CeleriteOp{name='factor_fwd', quiet=False}.0, _CeleriteOp{name='factor_fwd', quiet=False}.1, _CeleriteOp{name='factor_fwd', quiet=False}.2, Elemwise{Composite{((i0 / i1) + ((i2 * i3 * i4) / sqr(i1)) + ((i2 * i5 * i6) / sqr(i1)) + ((i2 * i7 * i8) / sqr(i1)) + ((i2 * i9 * i10) / sqr(i1)) + ((i2 * i11 * i12) / sqr(i1)) + ((i2 * i13 * i14) / sqr(i1)) + ((i2 * i15 * i16) / sqr(i1)) + ((i2 * i17 * i18) / sqr(i1)) + ((i2 * i19 * i20) / sqr(i1)) + ((i2 * i21 * i22) / sqr(i1)) + ((i2 * i23 * i24) / sqr(i1)) + ((i2 * i25 * i26) / sqr(i1)) + ((i2 * i27 * i28) / sqr(i1)) + ((i2 * i29 * i30) / sqr(i1)) + ((i2 * i31 * i32) / sqr(i1)) + ((i2 * i33 * i34) / sqr(i1)) + ((i2 * i35 * i36) / sqr(i1)) + ((i2 * i37 * i38) / sqr(i1)) + ((i2 * i39 * i40) / sqr(i1)) + ((i2 * i41 * i42) / sqr(i1)) + ((i2 * i43 * i44) / sqr(i1)) + ((i2 * i45 * i46) / sqr(i1)))}}.0, Elemwise{Add}[(0, 0)].0), Elemwise{log,no_inplace}(_CeleriteOp{name='factor_fwd', quiet=False}.0), Elemwise{true_div,no_inplace}(Elemwise{sqr,no_inplace}.0, _CeleriteOp{name='factor_fwd', quiet=False}.0), Elemwise{true_div,no_inplace}(Elemwise{sqr,no_inplace}.0, _CeleriteOp{name='factor_fwd', quiet=False}.0), Elemwise{true_div,no_inplace}(Elemwise{sqr,no_inplace}.0, _CeleriteOp{name='factor_fwd', quiet=False}.0), Elemwise{true_div,no_inplace}(Elemwise{sqr,no_inplace}.0, _CeleriteOp{name='factor_fwd', quiet=False}.0), Elemwise{true_div,no_inplace}(Elemwise{sqr,no_inplace}.0, _CeleriteOp{name='factor_fwd', quiet=False}.0), Elemwise{true_div,no_inplace}(Elemwise{sqr,no_inplace}.0, _CeleriteOp{name='factor_fwd', quiet=False}.0), Elemwise{true_div,no_inplace}(Elemwise{sqr,no_inplace}.0, _CeleriteOp{name='factor_fwd', quiet=False}.0), Elemwise{true_div,no_inplace}(Elemwise{sqr,no_inplace}.0, _CeleriteOp{name='factor_fwd', quiet=False}.0), Elemwise{true_div,no_inplace}(Elemwise{sqr,no_inplace}.0, _CeleriteOp{name='factor_fwd', quiet=False}.0), Elemwise{true_div,no_inplace}(Elemwise{sqr,no_inplace}.0, _CeleriteOp{name='factor_fwd', quiet=False}.0), Elemwise{true_div,no_inplace}(Elemwise{sqr,no_inplace}.0, _CeleriteOp{name='factor_fwd', quiet=False}.0), Elemwise{true_div,no_inplace}(Elemwise{sqr,no_inplace}.0, _CeleriteOp{name='factor_fwd', quiet=False}.0), Elemwise{true_div,no_inplace}(Elemwise{sqr,no_inplace}.0, _CeleriteOp{name='factor_fwd', quiet=False}.0), Elemwise{true_div,no_inplace}(Elemwise{sqr,no_inplace}.0, _CeleriteOp{name='factor_fwd', quiet=False}.0), Elemwise{true_div,no_inplace}(Elemwise{sqr,no_inplace}.0, _CeleriteOp{name='factor_fwd', quiet=False}.0), Elemwise{true_div,no_inplace}(Elemwise{sqr,no_inplace}.0, _CeleriteOp{name='factor_fwd', quiet=False}.0), Elemwise{true_div,no_inplace}(Elemwise{sqr,no_inplace}.0, _CeleriteOp{name='factor_fwd', quiet=False}.0), Elemwise{true_div,no_inplace}(Elemwise{sqr,no_inplace}.0, _CeleriteOp{name='factor_fwd', quiet=False}.0), Elemwise{true_div,no_inplace}(Elemwise{sqr,no_inplace}.0, _CeleriteOp{name='factor_fwd', quiet=False}.0), Elemwise{true_div,no_inplace}(Elemwise{sqr,no_inplace}.0, _CeleriteOp{name='factor_fwd', quiet=False}.0), Elemwise{true_div,no_inplace}(Elemwise{sqr,no_inplace}.0, _CeleriteOp{name='factor_fwd', quiet=False}.0), Elemwise{true_div,no_inplace}(Elemwise{sqr,no_inplace}.0, _CeleriteOp{name='factor_fwd', quiet=False}.0), Elemwise{Composite{((i0 * i1 * i2) / i3)}}(TensorConstant{(1,) of -1.0}, InplaceDimShuffle{x}.0, InplaceDimShuffle{0}.0, _CeleriteOp{name='factor_fwd', quiet=False}.0), Elemwise{Composite{((i0 * i1 * i2) / i3)}}(TensorConstant{(1,) of -1.0}, InplaceDimShuffle{x}.0, InplaceDimShuffle{0}.0, _CeleriteOp{name='factor_fwd', quiet=False}.0), Elemwise{Composite{((i0 * i1 * i2) / i3)}}(TensorConstant{(1,) of -1.0}, InplaceDimShuffle{x}.0, InplaceDimShuffle{0}.0, _CeleriteOp{name='factor_fwd', quiet=False}.0), Elemwise{Composite{((i0 * i1 * i2) / i3)}}(TensorConstant{(1,) of -1.0}, InplaceDimShuffle{x}.0, InplaceDimShuffle{0}.0, _CeleriteOp{name='factor_fwd', quiet=False}.0), Elemwise{Composite{((i0 * i1 * i2) / i3)}}(TensorConstant{(1,) of -1.0}, InplaceDimShuffle{x}.0, InplaceDimShuffle{0}.0, _CeleriteOp{name='factor_fwd', quiet=False}.0), Elemwise{Composite{((i0 * i1 * i2) / i3)}}(TensorConstant{(1,) of -1.0}, InplaceDimShuffle{x}.0, InplaceDimShuffle{0}.0, _CeleriteOp{name='factor_fwd', quiet=False}.0), Elemwise{Composite{((i0 * i1 * i2) / i3)}}(TensorConstant{(1,) of -1.0}, InplaceDimShuffle{x}.0, InplaceDimShuffle{0}.0, _CeleriteOp{name='factor_fwd', quiet=False}.0), Elemwise{Composite{((i0 * i1 * i2) / i3)}}(TensorConstant{(1,) of -1.0}, InplaceDimShuffle{x}.0, InplaceDimShuffle{0}.0, _CeleriteOp{name='factor_fwd', quiet=False}.0), Elemwise{Composite{((i0 * i1 * i2) / i3)}}(TensorConstant{(1,) of -1.0}, InplaceDimShuffle{x}.0, InplaceDimShuffle{0}.0, _CeleriteOp{name='factor_fwd', quiet=False}.0), Elemwise{Composite{((i0 * i1 * i2) / i3)}}(TensorConstant{(1,) of -1.0}, InplaceDimShuffle{x}.0, InplaceDimShuffle{0}.0, _CeleriteOp{name='factor_fwd', quiet=False}.0), Elemwise{Composite{((i0 * i1 * i2) / i3)}}(TensorConstant{(1,) of -1.0}, InplaceDimShuffle{x}.0, InplaceDimShuffle{0}.0, _CeleriteOp{name='factor_fwd', quiet=False}.0), Elemwise{Composite{((i0 * i1 * i2) / i3)}}(TensorConstant{(1,) of -1.0}, InplaceDimShuffle{x}.0, InplaceDimShuffle{0}.0, _CeleriteOp{name='factor_fwd', quiet=False}.0), Elemwise{Composite{((i0 * i1 * i2) / i3)}}(TensorConstant{(1,) of -1.0}, InplaceDimShuffle{x}.0, InplaceDimShuffle{0}.0, _CeleriteOp{name='factor_fwd', quiet=False}.0), Elemwise{Composite{((i0 * i1 * i2) / i3)}}(TensorConstant{(1,) of -1.0}, InplaceDimShuffle{x}.0, InplaceDimShuffle{0}.0, _CeleriteOp{name='factor_fwd', quiet=False}.0), Elemwise{Composite{((i0 * i1 * i2) / i3)}}(TensorConstant{(1,) of -1.0}, InplaceDimShuffle{x}.0, InplaceDimShuffle{0}.0, _CeleriteOp{name='factor_fwd', quiet=False}.0), Elemwise{Composite{((i0 * i1 * i2) / i3)}}(TensorConstant{(1,) of -1.0}, InplaceDimShuffle{x}.0, InplaceDimShuffle{0}.0, _CeleriteOp{name='factor_fwd', quiet=False}.0), Elemwise{Composite{((i0 * i1 * i2) / i3)}}(TensorConstant{(1,) of -1.0}, InplaceDimShuffle{x}.0, InplaceDimShuffle{0}.0, _CeleriteOp{name='factor_fwd', quiet=False}.0), Elemwise{Composite{((i0 * i1 * i2) / i3)}}(TensorConstant{(1,) of -1.0}, InplaceDimShuffle{x}.0, InplaceDimShuffle{0}.0, _CeleriteOp{name='factor_fwd', quiet=False}.0), Elemwise{Composite{((i0 * i1 * i2) / i3)}}(TensorConstant{(1,) of -1.0}, InplaceDimShuffle{x}.0, InplaceDimShuffle{0}.0, _CeleriteOp{name='factor_fwd', quiet=False}.0), Elemwise{Composite{((i0 * i1 * i2) / i3)}}(TensorConstant{(1,) of -1.0}, InplaceDimShuffle{x}.0, InplaceDimShuffle{0}.0, _CeleriteOp{name='factor_fwd', quiet=False}.0), Elemwise{Composite{((i0 * i1 * i2) / i3)}}(TensorConstant{(1,) of -1.0}, InplaceDimShuffle{x}.0, InplaceDimShuffle{0}.0, _CeleriteOp{name='factor_fwd', quiet=False}.0), Elemwise{Composite{((i0 * i1 * i2) / i3)}}(TensorConstant{(1,) of -1.0}, InplaceDimShuffle{x}.0, InplaceDimShuffle{0}.0, _CeleriteOp{name='factor_fwd', quiet=False}.0), Elemwise{Composite{((i0 / i1) + ((i2 * i3 * i4) / sqr(i1)) + ((i2 * i5 * i6) / sqr(i1)) + ((i2 * i7 * i8) / sqr(i1)) + ((i2 * i9 * i10) / sqr(i1)) + ((i2 * i11 * i12) / sqr(i1)) + ((i2 * i13 * i14) / sqr(i1)) + ((i2 * i15 * i16) / sqr(i1)) + ((i2 * i17 * i18) / sqr(i1)) + ((i2 * i19 * i20) / sqr(i1)) + ((i2 * i21 * i22) / sqr(i1)) + ((i2 * i23 * i24) / sqr(i1)) + ((i2 * i25 * i26) / sqr(i1)) + ((i2 * i27 * i28) / sqr(i1)) + ((i2 * i29 * i30) / sqr(i1)) + ((i2 * i31 * i32) / sqr(i1)) + ((i2 * i33 * i34) / sqr(i1)) + ((i2 * i35 * i36) / sqr(i1)) + ((i2 * i37 * i38) / sqr(i1)) + ((i2 * i39 * i40) / sqr(i1)) + ((i2 * i41 * i42) / sqr(i1)) + ((i2 * i43 * i44) / sqr(i1)) + ((i2 * i45 * i46) / sqr(i1)))}}(Elemwise{Composite{(i0 * (i1 + i2 + i3 + i4 + i5 + i6 + i7 + i8 + i9 + i10 + i11 + i12 + i13 + i14 + i15 + i16 + i17 + i18 + i19 + i20 + i21 + i22))}}.0, _CeleriteOp{name='factor_fwd', quiet=False}.0, TensorConstant{(1,) of 0.5}, InplaceDimShuffle{x}.0, Elemwise{sqr,no_inplace}.0, InplaceDimShuffle{x}.0, Elemwise{sqr,no_inplace}.0, InplaceDimShuffle{x}.0, Elemwise{sqr,no_inplace}.0, InplaceDimShuffle{x}.0, Elemwise{sqr,no_inplace}.0, InplaceDimShuffle{x}.0, Elemwise{sqr,no_inplace}.0, InplaceDimShuffle{x}.0, Elemwise{sqr,no_inplace}.0, InplaceDimShuffle{x}.0, Elemwise{sqr,no_inplace}.0, InplaceDimShuffle{x}.0, Elemwise{sqr,no_inplace}.0, InplaceDimShuffle{x}.0, Elemwise{sqr,no_inplace}.0, InplaceDimShuffle{x}.0, Elemwise{sqr,no_inplace}.0, InplaceDimShuffle{x}.0, Elemwise{sqr,no_inplace}.0, InplaceDimShuffle{x}.0, Elemwise{sqr,no_inplace}.0, InplaceDimShuffle{x}.0, Elemwise{sqr,no_inplace}.0, InplaceDimShuffle{x}.0, Elemwise{sqr,no_inplace}.0, InplaceDimShuffle{x}.0, Elemwise{sqr,no_inplace}.0, InplaceDimShuffle{x}.0, Elemwise{sqr,no_inplace}.0, InplaceDimShuffle{x}.0, Elemwise{sqr,no_inplace}.0, InplaceDimShuffle{x}.0, Elemwise{sqr,no_inplace}.0, InplaceDimShuffle{x}.0, Elemwise{sqr,no_inplace}.0, InplaceDimShuffle{x}.0, Elemwise{sqr,no_inplace}.0, InplaceDimShuffle{x}.0, Elemwise{sqr,no_inplace}.0, InplaceDimShuffle{x}.0, Elemwise{sqr,no_inplace}.0)], [_CeleriteOp{name='solve_lower_fwd', quiet=False}(TensorConstant{[4648.3009...29404562]}, Join.0, Join.0, _CeleriteOp{name='factor_fwd', quiet=False}.1, Elemwise{Composite{(i0 - ((i1 * i2) + i3))}}.0), _CeleriteOp{name='solve_lower_fwd', quiet=False}(TensorConstant{[4648.3009...29404562]}, Join.0, Join.0, _CeleriteOp{name='factor_fwd', quiet=False}.1, Elemwise{Composite{(i0 - ((i1 * i2) + i3))}}.0), _CeleriteOp{name='solve_lower_fwd', quiet=False}(TensorConstant{[4648.3009...29404562]}, Join.0, Join.0, _CeleriteOp{name='factor_fwd', quiet=False}.1, Elemwise{Composite{(i0 - ((i1 * i2) + i3))}}.0), _CeleriteOp{name='solve_lower_fwd', quiet=False}(TensorConstant{[4648.3009...29404562]}, Join.0, Join.0, _CeleriteOp{name='factor_fwd', quiet=False}.1, Elemwise{Composite{(i0 - ((i1 * i2) + i3))}}.0), _CeleriteOp{name='solve_lower_fwd', quiet=False}(TensorConstant{[4648.3009...29404562]}, Join.0, Join.0, _CeleriteOp{name='factor_fwd', quiet=False}.1, Elemwise{Composite{(i0 - ((i1 * i2) + i3))}}.0), _CeleriteOp{name='solve_lower_fwd', quiet=False}(TensorConstant{[4648.3009...29404562]}, Join.0, Join.0, _CeleriteOp{name='factor_fwd', quiet=False}.1, Elemwise{Composite{(i0 - ((i1 * i2) + i3))}}.0), _CeleriteOp{name='solve_lower_fwd', quiet=False}(TensorConstant{[4648.3009...29404562]}, Join.0, Join.0, _CeleriteOp{name='factor_fwd', quiet=False}.1, Elemwise{Composite{(i0 - ((i1 * i2) + i3))}}.0), _CeleriteOp{name='solve_lower_fwd', quiet=False}(TensorConstant{[4648.3009...29404562]}, Join.0, Join.0, _CeleriteOp{name='factor_fwd', quiet=False}.1, Elemwise{Composite{(i0 - ((i1 * i2) + i3))}}.0), _CeleriteOp{name='solve_lower_fwd', quiet=False}(TensorConstant{[4648.3009...29404562]}, Join.0, Join.0, _CeleriteOp{name='factor_fwd', quiet=False}.1, Elemwise{Composite{(i0 - ((i1 * i2) + i3))}}.0), _CeleriteOp{name='solve_lower_fwd', quiet=False}(TensorConstant{[4648.3009...29404562]}, Join.0, Join.0, _CeleriteOp{name='factor_fwd', quiet=False}.1, Elemwise{Composite{(i0 - ((i1 * i2) + i3))}}.0), _CeleriteOp{name='solve_lower_fwd', quiet=False}(TensorConstant{[4648.3009...29404562]}, Join.0, Join.0, _CeleriteOp{name='factor_fwd', quiet=False}.1, Elemwise{Composite{(i0 - ((i1 * i2) + i3))}}.0), _CeleriteOp{name='solve_lower_fwd', quiet=False}(TensorConstant{[4648.3009...29404562]}, Join.0, Join.0, _CeleriteOp{name='factor_fwd', quiet=False}.1, Elemwise{Composite{(i0 - ((i1 * i2) + i3))}}.0), _CeleriteOp{name='solve_lower_fwd', quiet=False}(TensorConstant{[4648.3009...29404562]}, Join.0, Join.0, _CeleriteOp{name='factor_fwd', quiet=False}.1, Elemwise{Composite{(i0 - ((i1 * i2) + i3))}}.0), _CeleriteOp{name='solve_lower_fwd', quiet=False}(TensorConstant{[4648.3009...29404562]}, Join.0, Join.0, _CeleriteOp{name='factor_fwd', quiet=False}.1, Elemwise{Composite{(i0 - ((i1 * i2) + i3))}}.0), _CeleriteOp{name='solve_lower_fwd', quiet=False}(TensorConstant{[4648.3009...29404562]}, Join.0, Join.0, _CeleriteOp{name='factor_fwd', quiet=False}.1, Elemwise{Composite{(i0 - ((i1 * i2) + i3))}}.0), _CeleriteOp{name='solve_lower_fwd', quiet=False}(TensorConstant{[4648.3009...29404562]}, Join.0, Join.0, _CeleriteOp{name='factor_fwd', quiet=False}.1, Elemwise{Composite{(i0 - ((i1 * i2) + i3))}}.0), _CeleriteOp{name='solve_lower_fwd', quiet=False}(TensorConstant{[4648.3009...29404562]}, Join.0, Join.0, _CeleriteOp{name='factor_fwd', quiet=False}.1, Elemwise{Composite{(i0 - ((i1 * i2) + i3))}}.0), _CeleriteOp{name='solve_lower_fwd', quiet=False}(TensorConstant{[4648.3009...29404562]}, Join.0, Join.0, _CeleriteOp{name='factor_fwd', quiet=False}.1, Elemwise{Composite{(i0 - ((i1 * i2) + i3))}}.0), _CeleriteOp{name='solve_lower_fwd', quiet=False}(TensorConstant{[4648.3009...29404562]}, Join.0, Join.0, _CeleriteOp{name='factor_fwd', quiet=False}.1, Elemwise{Composite{(i0 - ((i1 * i2) + i3))}}.0), _CeleriteOp{name='solve_lower_fwd', quiet=False}(TensorConstant{[4648.3009...29404562]}, Join.0, Join.0, _CeleriteOp{name='factor_fwd', quiet=False}.1, Elemwise{Composite{(i0 - ((i1 * i2) + i3))}}.0), _CeleriteOp{name='solve_lower_fwd', quiet=False}(TensorConstant{[4648.3009...29404562]}, Join.0, Join.0, _CeleriteOp{name='factor_fwd', quiet=False}.1, Elemwise{Composite{(i0 - ((i1 * i2) + i3))}}.0), _CeleriteOp{name='solve_lower_fwd', quiet=False}(TensorConstant{[4648.3009...29404562]}, Join.0, Join.0, _CeleriteOp{name='factor_fwd', quiet=False}.1, Elemwise{Composite{(i0 - ((i1 * i2) + i3))}}.0), _CeleriteOp{name='solve_lower_rev', quiet=False}(TensorConstant{[4648.3009...29404562]}, Join.0, Join.0, _CeleriteOp{name='factor_fwd', quiet=False}.1, Elemwise{Composite{(i0 - ((i1 * i2) + i3))}}.0, _CeleriteOp{name='solve_lower_fwd', quiet=False}.0, _CeleriteOp{name='solve_lower_fwd', quiet=False}.1, IncSubtensor{InplaceInc;::, int64}.0), _CeleriteOp{name='solve_lower_rev', quiet=False}(TensorConstant{[4648.3009...29404562]}, Join.0, Join.0, _CeleriteOp{name='factor_fwd', quiet=False}.1, Elemwise{Composite{(i0 - ((i1 * i2) + i3))}}.0, _CeleriteOp{name='solve_lower_fwd', quiet=False}.0, _CeleriteOp{name='solve_lower_fwd', quiet=False}.1, IncSubtensor{Inc;::, int64}.0), _CeleriteOp{name='solve_lower_rev', quiet=False}(TensorConstant{[4648.3009...29404562]}, Join.0, Join.0, _CeleriteOp{name='factor_fwd', quiet=False}.1, Elemwise{Composite{(i0 - ((i1 * i2) + i3))}}.0, _CeleriteOp{name='solve_lower_fwd', quiet=False}.0, _CeleriteOp{name='solve_lower_fwd', quiet=False}.1, IncSubtensor{Inc;::, int64}.0), _CeleriteOp{name='solve_lower_rev', quiet=False}(TensorConstant{[4648.3009...29404562]}, Join.0, Join.0, _CeleriteOp{name='factor_fwd', quiet=False}.1, Elemwise{Composite{(i0 - ((i1 * i2) + i3))}}.0, _CeleriteOp{name='solve_lower_fwd', quiet=False}.0, _CeleriteOp{name='solve_lower_fwd', quiet=False}.1, IncSubtensor{Inc;::, int64}.0), _CeleriteOp{name='solve_lower_rev', quiet=False}(TensorConstant{[4648.3009...29404562]}, Join.0, Join.0, _CeleriteOp{name='factor_fwd', quiet=False}.1, Elemwise{Composite{(i0 - ((i1 * i2) + i3))}}.0, _CeleriteOp{name='solve_lower_fwd', quiet=False}.0, _CeleriteOp{name='solve_lower_fwd', quiet=False}.1, IncSubtensor{Inc;::, int64}.0), _CeleriteOp{name='solve_lower_rev', quiet=False}(TensorConstant{[4648.3009...29404562]}, Join.0, Join.0, _CeleriteOp{name='factor_fwd', quiet=False}.1, Elemwise{Composite{(i0 - ((i1 * i2) + i3))}}.0, _CeleriteOp{name='solve_lower_fwd', quiet=False}.0, _CeleriteOp{name='solve_lower_fwd', quiet=False}.1, IncSubtensor{Inc;::, int64}.0), _CeleriteOp{name='solve_lower_rev', quiet=False}(TensorConstant{[4648.3009...29404562]}, Join.0, Join.0, _CeleriteOp{name='factor_fwd', quiet=False}.1, Elemwise{Composite{(i0 - ((i1 * i2) + i3))}}.0, _CeleriteOp{name='solve_lower_fwd', quiet=False}.0, _CeleriteOp{name='solve_lower_fwd', quiet=False}.1, IncSubtensor{Inc;::, int64}.0), _CeleriteOp{name='solve_lower_rev', quiet=False}(TensorConstant{[4648.3009...29404562]}, Join.0, Join.0, _CeleriteOp{name='factor_fwd', quiet=False}.1, Elemwise{Composite{(i0 - ((i1 * i2) + i3))}}.0, _CeleriteOp{name='solve_lower_fwd', quiet=False}.0, _CeleriteOp{name='solve_lower_fwd', quiet=False}.1, IncSubtensor{Inc;::, int64}.0), _CeleriteOp{name='solve_lower_rev', quiet=False}(TensorConstant{[4648.3009...29404562]}, Join.0, Join.0, _CeleriteOp{name='factor_fwd', quiet=False}.1, Elemwise{Composite{(i0 - ((i1 * i2) + i3))}}.0, _CeleriteOp{name='solve_lower_fwd', quiet=False}.0, _CeleriteOp{name='solve_lower_fwd', quiet=False}.1, IncSubtensor{Inc;::, int64}.0), _CeleriteOp{name='solve_lower_rev', quiet=False}(TensorConstant{[4648.3009...29404562]}, Join.0, Join.0, _CeleriteOp{name='factor_fwd', quiet=False}.1, Elemwise{Composite{(i0 - ((i1 * i2) + i3))}}.0, _CeleriteOp{name='solve_lower_fwd', quiet=False}.0, _CeleriteOp{name='solve_lower_fwd', quiet=False}.1, IncSubtensor{Inc;::, int64}.0), _CeleriteOp{name='solve_lower_rev', quiet=False}(TensorConstant{[4648.3009...29404562]}, Join.0, Join.0, _CeleriteOp{name='factor_fwd', quiet=False}.1, Elemwise{Composite{(i0 - ((i1 * i2) + i3))}}.0, _CeleriteOp{name='solve_lower_fwd', quiet=False}.0, _CeleriteOp{name='solve_lower_fwd', quiet=False}.1, IncSubtensor{Inc;::, int64}.0), _CeleriteOp{name='solve_lower_rev', quiet=False}(TensorConstant{[4648.3009...29404562]}, Join.0, Join.0, _CeleriteOp{name='factor_fwd', quiet=False}.1, Elemwise{Composite{(i0 - ((i1 * i2) + i3))}}.0, _CeleriteOp{name='solve_lower_fwd', quiet=False}.0, _CeleriteOp{name='solve_lower_fwd', quiet=False}.1, IncSubtensor{Inc;::, int64}.0), _CeleriteOp{name='solve_lower_rev', quiet=False}(TensorConstant{[4648.3009...29404562]}, Join.0, Join.0, _CeleriteOp{name='factor_fwd', quiet=False}.1, Elemwise{Composite{(i0 - ((i1 * i2) + i3))}}.0, _CeleriteOp{name='solve_lower_fwd', quiet=False}.0, _CeleriteOp{name='solve_lower_fwd', quiet=False}.1, IncSubtensor{Inc;::, int64}.0), _CeleriteOp{name='solve_lower_rev', quiet=False}(TensorConstant{[4648.3009...29404562]}, Join.0, Join.0, _CeleriteOp{name='factor_fwd', quiet=False}.1, Elemwise{Composite{(i0 - ((i1 * i2) + i3))}}.0, _CeleriteOp{name='solve_lower_fwd', quiet=False}.0, _CeleriteOp{name='solve_lower_fwd', quiet=False}.1, IncSubtensor{Inc;::, int64}.0), _CeleriteOp{name='solve_lower_rev', quiet=False}(TensorConstant{[4648.3009...29404562]}, Join.0, Join.0, _CeleriteOp{name='factor_fwd', quiet=False}.1, Elemwise{Composite{(i0 - ((i1 * i2) + i3))}}.0, _CeleriteOp{name='solve_lower_fwd', quiet=False}.0, _CeleriteOp{name='solve_lower_fwd', quiet=False}.1, IncSubtensor{Inc;::, int64}.0), _CeleriteOp{name='solve_lower_rev', quiet=False}(TensorConstant{[4648.3009...29404562]}, Join.0, Join.0, _CeleriteOp{name='factor_fwd', quiet=False}.1, Elemwise{Composite{(i0 - ((i1 * i2) + i3))}}.0, _CeleriteOp{name='solve_lower_fwd', quiet=False}.0, _CeleriteOp{name='solve_lower_fwd', quiet=False}.1, IncSubtensor{Inc;::, int64}.0), _CeleriteOp{name='solve_lower_rev', quiet=False}(TensorConstant{[4648.3009...29404562]}, Join.0, Join.0, _CeleriteOp{name='factor_fwd', quiet=False}.1, Elemwise{Composite{(i0 - ((i1 * i2) + i3))}}.0, _CeleriteOp{name='solve_lower_fwd', quiet=False}.0, _CeleriteOp{name='solve_lower_fwd', quiet=False}.1, IncSubtensor{Inc;::, int64}.0), _CeleriteOp{name='solve_lower_rev', quiet=False}(TensorConstant{[4648.3009...29404562]}, Join.0, Join.0, _CeleriteOp{name='factor_fwd', quiet=False}.1, Elemwise{Composite{(i0 - ((i1 * i2) + i3))}}.0, _CeleriteOp{name='solve_lower_fwd', quiet=False}.0, _CeleriteOp{name='solve_lower_fwd', quiet=False}.1, IncSubtensor{Inc;::, int64}.0), _CeleriteOp{name='solve_lower_rev', quiet=False}(TensorConstant{[4648.3009...29404562]}, Join.0, Join.0, _CeleriteOp{name='factor_fwd', quiet=False}.1, Elemwise{Composite{(i0 - ((i1 * i2) + i3))}}.0, _CeleriteOp{name='solve_lower_fwd', quiet=False}.0, _CeleriteOp{name='solve_lower_fwd', quiet=False}.1, IncSubtensor{Inc;::, int64}.0), _CeleriteOp{name='solve_lower_rev', quiet=False}(TensorConstant{[4648.3009...29404562]}, Join.0, Join.0, _CeleriteOp{name='factor_fwd', quiet=False}.1, Elemwise{Composite{(i0 - ((i1 * i2) + i3))}}.0, _CeleriteOp{name='solve_lower_fwd', quiet=False}.0, _CeleriteOp{name='solve_lower_fwd', quiet=False}.1, IncSubtensor{Inc;::, int64}.0), _CeleriteOp{name='solve_lower_rev', quiet=False}(TensorConstant{[4648.3009...29404562]}, Join.0, Join.0, _CeleriteOp{name='factor_fwd', quiet=False}.1, Elemwise{Composite{(i0 - ((i1 * i2) + i3))}}.0, _CeleriteOp{name='solve_lower_fwd', quiet=False}.0, _CeleriteOp{name='solve_lower_fwd', quiet=False}.1, IncSubtensor{Inc;::, int64}.0), _CeleriteOp{name='solve_lower_rev', quiet=False}(TensorConstant{[4648.3009...29404562]}, Join.0, Join.0, _CeleriteOp{name='factor_fwd', quiet=False}.1, Elemwise{Composite{(i0 - ((i1 * i2) + i3))}}.0, _CeleriteOp{name='solve_lower_fwd', quiet=False}.0, _CeleriteOp{name='solve_lower_fwd', quiet=False}.1, IncSubtensor{Inc;::, int64}.0), _CeleriteOp{name='factor_rev', quiet=False}(TensorConstant{[4648.3009...29404562]}, Join.0, Alloc.0, Join.0, Join.0, _CeleriteOp{name='factor_fwd', quiet=False}.0, _CeleriteOp{name='factor_fwd', quiet=False}.1, _CeleriteOp{name='factor_fwd', quiet=False}.2, Elemwise{Composite{((i0 / i1) + ((i2 * i3 * i4) / sqr(i1)) + ((i2 * i5 * i6) / sqr(i1)) + ((i2 * i7 * i8) / sqr(i1)) + ((i2 * i9 * i10) / sqr(i1)) + ((i2 * i11 * i12) / sqr(i1)) + ((i2 * i13 * i14) / sqr(i1)) + ((i2 * i15 * i16) / sqr(i1)) + ((i2 * i17 * i18) / sqr(i1)) + ((i2 * i19 * i20) / sqr(i1)) + ((i2 * i21 * i22) / sqr(i1)) + ((i2 * i23 * i24) / sqr(i1)) + ((i2 * i25 * i26) / sqr(i1)) + ((i2 * i27 * i28) / sqr(i1)) + ((i2 * i29 * i30) / sqr(i1)) + ((i2 * i31 * i32) / sqr(i1)) + ((i2 * i33 * i34) / sqr(i1)) + ((i2 * i35 * i36) / sqr(i1)) + ((i2 * i37 * i38) / sqr(i1)) + ((i2 * i39 * i40) / sqr(i1)) + ((i2 * i41 * i42) / sqr(i1)) + ((i2 * i43 * i44) / sqr(i1)) + ((i2 * i45 * i46) / sqr(i1)))}}.0, Elemwise{Add}[(0, 0)].0)], [_CeleriteOp{name='factor_rev', quiet=False}(TensorConstant{[4648.3009...29404562]}, Join.0, Alloc.0, Join.0, Join.0, _CeleriteOp{name='factor_fwd', quiet=False}.0, _CeleriteOp{name='factor_fwd', quiet=False}.1, _CeleriteOp{name='factor_fwd', quiet=False}.2, Elemwise{Composite{((i0 / i1) + ((i2 * i3 * i4) / sqr(i1)) + ((i2 * i5 * i6) / sqr(i1)) + ((i2 * i7 * i8) / sqr(i1)) + ((i2 * i9 * i10) / sqr(i1)) + ((i2 * i11 * i12) / sqr(i1)) + ((i2 * i13 * i14) / sqr(i1)) + ((i2 * i15 * i16) / sqr(i1)) + ((i2 * i17 * i18) / sqr(i1)) + ((i2 * i19 * i20) / sqr(i1)) + ((i2 * i21 * i22) / sqr(i1)) + ((i2 * i23 * i24) / sqr(i1)) + ((i2 * i25 * i26) / sqr(i1)) + ((i2 * i27 * i28) / sqr(i1)) + ((i2 * i29 * i30) / sqr(i1)) + ((i2 * i31 * i32) / sqr(i1)) + ((i2 * i33 * i34) / sqr(i1)) + ((i2 * i35 * i36) / sqr(i1)) + ((i2 * i37 * i38) / sqr(i1)) + ((i2 * i39 * i40) / sqr(i1)) + ((i2 * i41 * i42) / sqr(i1)) + ((i2 * i43 * i44) / sqr(i1)) + ((i2 * i45 * i46) / sqr(i1)))}}.0, Elemwise{Add}[(0, 0)].0)]]\n\nBacktrace when the node is created(use Theano flag traceback__limit=N to make it longer):\n  File \"/var/folders/gz/h7_ym7m52dlgq4xpllc1x3m40000gn/T/ipykernel_27580/3279708284.py\", line 192, in <module>\n    model1, map_soln1, orbit1, extras1 = discrete_period_gp_model()\n  File \"/var/folders/gz/h7_ym7m52dlgq4xpllc1x3m40000gn/T/ipykernel_27580/3279708284.py\", line 86, in discrete_period_gp_model\n    gp_tess = GaussianProcess(kernel_tess, t=tess_x[tess_mask], yerr=np.max(tess_yerr))\n  File \"//anaconda3/envs/pymc3_env/lib/python3.9/site-packages/celerite2/core.py\", line 210, in __init__\n    self.compute(t, **kwargs)\n  File \"//anaconda3/envs/pymc3_env/lib/python3.9/site-packages/celerite2/core.py\", line 316, in compute\n    self._do_compute(quiet)\n  File \"//anaconda3/envs/pymc3_env/lib/python3.9/site-packages/celerite2/theano/celerite2.py\", line 83, in _do_compute\n    self._d, self._W, _ = ops.factor(\n  File \"//anaconda3/envs/pymc3_env/lib/python3.9/site-packages/theano/graph/op.py\", line 250, in __call__\n    node = self.make_node(*inputs, **kwargs)\n  File \"//anaconda3/envs/pymc3_env/lib/python3.9/site-packages/celerite2/theano/ops.py\", line 83, in make_node\n    otypes = [\n  File \"//anaconda3/envs/pymc3_env/lib/python3.9/site-packages/celerite2/theano/ops.py\", line 84, in <listcomp>\n    tt.TensorType(\n\nHINT: Use the Theano flag 'exception_verbosity=high' for a debugprint and storage map footprint of this apply node.",
     "output_type": "error",
     "traceback": [
      "\u001b[0;31m---------------------------------------------------------------------------\u001b[0m",
      "\u001b[0;31mLinAlgError\u001b[0m                               Traceback (most recent call last)",
      "\u001b[0;32m//anaconda3/envs/pymc3_env/lib/python3.9/site-packages/theano/compile/function/types.py\u001b[0m in \u001b[0;36m__call__\u001b[0;34m(self, *args, **kwargs)\u001b[0m\n\u001b[1;32m    973\u001b[0m             outputs = (\n\u001b[0;32m--> 974\u001b[0;31m                 \u001b[0mself\u001b[0m\u001b[0;34m.\u001b[0m\u001b[0mfn\u001b[0m\u001b[0;34m(\u001b[0m\u001b[0;34m)\u001b[0m\u001b[0;34m\u001b[0m\u001b[0;34m\u001b[0m\u001b[0m\n\u001b[0m\u001b[1;32m    975\u001b[0m                 \u001b[0;32mif\u001b[0m \u001b[0moutput_subset\u001b[0m \u001b[0;32mis\u001b[0m \u001b[0;32mNone\u001b[0m\u001b[0;34m\u001b[0m\u001b[0;34m\u001b[0m\u001b[0m\n",
      "\u001b[0;32m//anaconda3/envs/pymc3_env/lib/python3.9/site-packages/theano/graph/op.py\u001b[0m in \u001b[0;36mrval\u001b[0;34m(p, i, o, n)\u001b[0m\n\u001b[1;32m    475\u001b[0m             \u001b[0;32mdef\u001b[0m \u001b[0mrval\u001b[0m\u001b[0;34m(\u001b[0m\u001b[0mp\u001b[0m\u001b[0;34m=\u001b[0m\u001b[0mp\u001b[0m\u001b[0;34m,\u001b[0m \u001b[0mi\u001b[0m\u001b[0;34m=\u001b[0m\u001b[0mnode_input_storage\u001b[0m\u001b[0;34m,\u001b[0m \u001b[0mo\u001b[0m\u001b[0;34m=\u001b[0m\u001b[0mnode_output_storage\u001b[0m\u001b[0;34m,\u001b[0m \u001b[0mn\u001b[0m\u001b[0;34m=\u001b[0m\u001b[0mnode\u001b[0m\u001b[0;34m)\u001b[0m\u001b[0;34m:\u001b[0m\u001b[0;34m\u001b[0m\u001b[0;34m\u001b[0m\u001b[0m\n\u001b[0;32m--> 476\u001b[0;31m                 \u001b[0mr\u001b[0m \u001b[0;34m=\u001b[0m \u001b[0mp\u001b[0m\u001b[0;34m(\u001b[0m\u001b[0mn\u001b[0m\u001b[0;34m,\u001b[0m \u001b[0;34m[\u001b[0m\u001b[0mx\u001b[0m\u001b[0;34m[\u001b[0m\u001b[0;36m0\u001b[0m\u001b[0;34m]\u001b[0m \u001b[0;32mfor\u001b[0m \u001b[0mx\u001b[0m \u001b[0;32min\u001b[0m \u001b[0mi\u001b[0m\u001b[0;34m]\u001b[0m\u001b[0;34m,\u001b[0m \u001b[0mo\u001b[0m\u001b[0;34m)\u001b[0m\u001b[0;34m\u001b[0m\u001b[0;34m\u001b[0m\u001b[0m\n\u001b[0m\u001b[1;32m    477\u001b[0m                 \u001b[0;32mfor\u001b[0m \u001b[0mo\u001b[0m \u001b[0;32min\u001b[0m \u001b[0mnode\u001b[0m\u001b[0;34m.\u001b[0m\u001b[0moutputs\u001b[0m\u001b[0;34m:\u001b[0m\u001b[0;34m\u001b[0m\u001b[0;34m\u001b[0m\u001b[0m\n",
      "\u001b[0;32m//anaconda3/envs/pymc3_env/lib/python3.9/site-packages/celerite2/theano/ops.py\u001b[0m in \u001b[0;36mperform\u001b[0;34m(self, node, inputs, outputs)\u001b[0m\n\u001b[1;32m    122\u001b[0m         \u001b[0;32mtry\u001b[0m\u001b[0;34m:\u001b[0m\u001b[0;34m\u001b[0m\u001b[0;34m\u001b[0m\u001b[0m\n\u001b[0;32m--> 123\u001b[0;31m             \u001b[0mfunc\u001b[0m\u001b[0;34m(\u001b[0m\u001b[0;34m*\u001b[0m\u001b[0margs\u001b[0m\u001b[0;34m)\u001b[0m\u001b[0;34m\u001b[0m\u001b[0;34m\u001b[0m\u001b[0m\n\u001b[0m\u001b[1;32m    124\u001b[0m         \u001b[0;32mexcept\u001b[0m \u001b[0mbackprop\u001b[0m\u001b[0;34m.\u001b[0m\u001b[0mLinAlgError\u001b[0m\u001b[0;34m:\u001b[0m\u001b[0;34m\u001b[0m\u001b[0;34m\u001b[0m\u001b[0m\n",
      "\u001b[0;31mLinAlgError\u001b[0m: failed to factorize or solve matrix",
      "\nDuring handling of the above exception, another exception occurred:\n",
      "\u001b[0;31mLinAlgError\u001b[0m                               Traceback (most recent call last)",
      "\u001b[0;32m/var/folders/gz/h7_ym7m52dlgq4xpllc1x3m40000gn/T/ipykernel_27580/1178972998.py\u001b[0m in \u001b[0;36m<module>\u001b[0;34m\u001b[0m\n\u001b[1;32m      1\u001b[0m \u001b[0mrandom_seeds\u001b[0m \u001b[0;34m=\u001b[0m \u001b[0;34m[\u001b[0m\u001b[0;36m239081\u001b[0m\u001b[0;34m,\u001b[0m \u001b[0;36m3409184\u001b[0m\u001b[0;34m,\u001b[0m \u001b[0;36m9890418\u001b[0m\u001b[0;34m]\u001b[0m\u001b[0;34m\u001b[0m\u001b[0;34m\u001b[0m\u001b[0m\n\u001b[1;32m      2\u001b[0m \u001b[0;32mwith\u001b[0m \u001b[0mmodel1\u001b[0m\u001b[0;34m:\u001b[0m\u001b[0;34m\u001b[0m\u001b[0;34m\u001b[0m\u001b[0m\n\u001b[0;32m----> 3\u001b[0;31m     trace1 = pmx.sample(tune=500,\n\u001b[0m\u001b[1;32m      4\u001b[0m                         \u001b[0mdraws\u001b[0m\u001b[0;34m=\u001b[0m\u001b[0;36m5000\u001b[0m\u001b[0;34m,\u001b[0m\u001b[0;34m\u001b[0m\u001b[0;34m\u001b[0m\u001b[0m\n\u001b[1;32m      5\u001b[0m                         \u001b[0mstart\u001b[0m\u001b[0;34m=\u001b[0m\u001b[0mmap_soln1\u001b[0m\u001b[0;34m,\u001b[0m\u001b[0;34m\u001b[0m\u001b[0;34m\u001b[0m\u001b[0m\n",
      "\u001b[0;32m//anaconda3/envs/pymc3_env/lib/python3.9/site-packages/pymc3_ext/sampling/sampling.py\u001b[0m in \u001b[0;36msample\u001b[0;34m(draws, tune, model, step_kwargs, warmup_window, adapt_window, cooldown_window, initial_accept, target_accept, gamma, k, t0, parameter_groups, adapt_type, recompute_interval, regularization_steps, regularization_variance, **kwargs)\u001b[0m\n\u001b[1;32m     95\u001b[0m     )\n\u001b[1;32m     96\u001b[0m \u001b[0;34m\u001b[0m\u001b[0m\n\u001b[0;32m---> 97\u001b[0;31m     \u001b[0;32mreturn\u001b[0m \u001b[0mpm\u001b[0m\u001b[0;34m.\u001b[0m\u001b[0msample\u001b[0m\u001b[0;34m(\u001b[0m\u001b[0mdraws\u001b[0m\u001b[0;34m=\u001b[0m\u001b[0mdraws\u001b[0m\u001b[0;34m,\u001b[0m \u001b[0mtune\u001b[0m\u001b[0;34m=\u001b[0m\u001b[0mtune\u001b[0m\u001b[0;34m,\u001b[0m \u001b[0mmodel\u001b[0m\u001b[0;34m=\u001b[0m\u001b[0mmodel\u001b[0m\u001b[0;34m,\u001b[0m \u001b[0mstep\u001b[0m\u001b[0;34m=\u001b[0m\u001b[0mstep\u001b[0m\u001b[0;34m,\u001b[0m \u001b[0;34m**\u001b[0m\u001b[0mkwargs\u001b[0m\u001b[0;34m)\u001b[0m\u001b[0;34m\u001b[0m\u001b[0;34m\u001b[0m\u001b[0m\n\u001b[0m",
      "\u001b[0;32m//anaconda3/envs/pymc3_env/lib/python3.9/site-packages/pymc3/sampling.py\u001b[0m in \u001b[0;36msample\u001b[0;34m(draws, step, init, n_init, start, trace, chain_idx, chains, cores, tune, progressbar, model, random_seed, discard_tuned_samples, compute_convergence_checks, callback, jitter_max_retries, return_inferencedata, idata_kwargs, mp_ctx, pickle_backend, **kwargs)\u001b[0m\n\u001b[1;32m    595\u001b[0m             \u001b[0m_log\u001b[0m\u001b[0;34m.\u001b[0m\u001b[0minfo\u001b[0m\u001b[0;34m(\u001b[0m\u001b[0;34mf\"Sequential sampling ({chains} chains in 1 job)\"\u001b[0m\u001b[0;34m)\u001b[0m\u001b[0;34m\u001b[0m\u001b[0;34m\u001b[0m\u001b[0m\n\u001b[1;32m    596\u001b[0m             \u001b[0m_print_step_hierarchy\u001b[0m\u001b[0;34m(\u001b[0m\u001b[0mstep\u001b[0m\u001b[0;34m)\u001b[0m\u001b[0;34m\u001b[0m\u001b[0;34m\u001b[0m\u001b[0m\n\u001b[0;32m--> 597\u001b[0;31m             \u001b[0mtrace\u001b[0m \u001b[0;34m=\u001b[0m \u001b[0m_sample_many\u001b[0m\u001b[0;34m(\u001b[0m\u001b[0;34m**\u001b[0m\u001b[0msample_args\u001b[0m\u001b[0;34m)\u001b[0m\u001b[0;34m\u001b[0m\u001b[0;34m\u001b[0m\u001b[0m\n\u001b[0m\u001b[1;32m    598\u001b[0m \u001b[0;34m\u001b[0m\u001b[0m\n\u001b[1;32m    599\u001b[0m     \u001b[0mt_sampling\u001b[0m \u001b[0;34m=\u001b[0m \u001b[0mtime\u001b[0m\u001b[0;34m.\u001b[0m\u001b[0mtime\u001b[0m\u001b[0;34m(\u001b[0m\u001b[0;34m)\u001b[0m \u001b[0;34m-\u001b[0m \u001b[0mt_start\u001b[0m\u001b[0;34m\u001b[0m\u001b[0;34m\u001b[0m\u001b[0m\n",
      "\u001b[0;32m//anaconda3/envs/pymc3_env/lib/python3.9/site-packages/pymc3/sampling.py\u001b[0m in \u001b[0;36m_sample_many\u001b[0;34m(draws, chain, chains, start, random_seed, step, callback, **kwargs)\u001b[0m\n\u001b[1;32m    711\u001b[0m     \u001b[0mtraces\u001b[0m\u001b[0;34m:\u001b[0m \u001b[0mList\u001b[0m\u001b[0;34m[\u001b[0m\u001b[0mBackend\u001b[0m\u001b[0;34m]\u001b[0m \u001b[0;34m=\u001b[0m \u001b[0;34m[\u001b[0m\u001b[0;34m]\u001b[0m\u001b[0;34m\u001b[0m\u001b[0;34m\u001b[0m\u001b[0m\n\u001b[1;32m    712\u001b[0m     \u001b[0;32mfor\u001b[0m \u001b[0mi\u001b[0m \u001b[0;32min\u001b[0m \u001b[0mrange\u001b[0m\u001b[0;34m(\u001b[0m\u001b[0mchains\u001b[0m\u001b[0;34m)\u001b[0m\u001b[0;34m:\u001b[0m\u001b[0;34m\u001b[0m\u001b[0;34m\u001b[0m\u001b[0m\n\u001b[0;32m--> 713\u001b[0;31m         trace = _sample(\n\u001b[0m\u001b[1;32m    714\u001b[0m             \u001b[0mdraws\u001b[0m\u001b[0;34m=\u001b[0m\u001b[0mdraws\u001b[0m\u001b[0;34m,\u001b[0m\u001b[0;34m\u001b[0m\u001b[0;34m\u001b[0m\u001b[0m\n\u001b[1;32m    715\u001b[0m             \u001b[0mchain\u001b[0m\u001b[0;34m=\u001b[0m\u001b[0mchain\u001b[0m \u001b[0;34m+\u001b[0m \u001b[0mi\u001b[0m\u001b[0;34m,\u001b[0m\u001b[0;34m\u001b[0m\u001b[0;34m\u001b[0m\u001b[0m\n",
      "\u001b[0;32m//anaconda3/envs/pymc3_env/lib/python3.9/site-packages/pymc3/sampling.py\u001b[0m in \u001b[0;36m_sample\u001b[0;34m(chain, progressbar, random_seed, start, draws, step, trace, tune, model, callback, **kwargs)\u001b[0m\n\u001b[1;32m    853\u001b[0m     \u001b[0;32mtry\u001b[0m\u001b[0;34m:\u001b[0m\u001b[0;34m\u001b[0m\u001b[0;34m\u001b[0m\u001b[0m\n\u001b[1;32m    854\u001b[0m         \u001b[0mstrace\u001b[0m \u001b[0;34m=\u001b[0m \u001b[0;32mNone\u001b[0m\u001b[0;34m\u001b[0m\u001b[0;34m\u001b[0m\u001b[0m\n\u001b[0;32m--> 855\u001b[0;31m         \u001b[0;32mfor\u001b[0m \u001b[0mit\u001b[0m\u001b[0;34m,\u001b[0m \u001b[0;34m(\u001b[0m\u001b[0mstrace\u001b[0m\u001b[0;34m,\u001b[0m \u001b[0mdiverging\u001b[0m\u001b[0;34m)\u001b[0m \u001b[0;32min\u001b[0m \u001b[0menumerate\u001b[0m\u001b[0;34m(\u001b[0m\u001b[0msampling\u001b[0m\u001b[0;34m)\u001b[0m\u001b[0;34m:\u001b[0m\u001b[0;34m\u001b[0m\u001b[0;34m\u001b[0m\u001b[0m\n\u001b[0m\u001b[1;32m    856\u001b[0m             \u001b[0;32mif\u001b[0m \u001b[0mit\u001b[0m \u001b[0;34m>=\u001b[0m \u001b[0mskip_first\u001b[0m \u001b[0;32mand\u001b[0m \u001b[0mdiverging\u001b[0m\u001b[0;34m:\u001b[0m\u001b[0;34m\u001b[0m\u001b[0;34m\u001b[0m\u001b[0m\n\u001b[1;32m    857\u001b[0m                 \u001b[0m_pbar_data\u001b[0m\u001b[0;34m[\u001b[0m\u001b[0;34m\"divergences\"\u001b[0m\u001b[0;34m]\u001b[0m \u001b[0;34m+=\u001b[0m \u001b[0;36m1\u001b[0m\u001b[0;34m\u001b[0m\u001b[0;34m\u001b[0m\u001b[0m\n",
      "\u001b[0;32m//anaconda3/envs/pymc3_env/lib/python3.9/site-packages/fastprogress/fastprogress.py\u001b[0m in \u001b[0;36m__iter__\u001b[0;34m(self)\u001b[0m\n\u001b[1;32m     45\u001b[0m         \u001b[0;32mexcept\u001b[0m \u001b[0mException\u001b[0m \u001b[0;32mas\u001b[0m \u001b[0me\u001b[0m\u001b[0;34m:\u001b[0m\u001b[0;34m\u001b[0m\u001b[0;34m\u001b[0m\u001b[0m\n\u001b[1;32m     46\u001b[0m             \u001b[0mself\u001b[0m\u001b[0;34m.\u001b[0m\u001b[0mon_interrupt\u001b[0m\u001b[0;34m(\u001b[0m\u001b[0;34m)\u001b[0m\u001b[0;34m\u001b[0m\u001b[0;34m\u001b[0m\u001b[0m\n\u001b[0;32m---> 47\u001b[0;31m             \u001b[0;32mraise\u001b[0m \u001b[0me\u001b[0m\u001b[0;34m\u001b[0m\u001b[0;34m\u001b[0m\u001b[0m\n\u001b[0m\u001b[1;32m     48\u001b[0m \u001b[0;34m\u001b[0m\u001b[0m\n\u001b[1;32m     49\u001b[0m     \u001b[0;32mdef\u001b[0m \u001b[0mupdate\u001b[0m\u001b[0;34m(\u001b[0m\u001b[0mself\u001b[0m\u001b[0;34m,\u001b[0m \u001b[0mval\u001b[0m\u001b[0;34m)\u001b[0m\u001b[0;34m:\u001b[0m\u001b[0;34m\u001b[0m\u001b[0;34m\u001b[0m\u001b[0m\n",
      "\u001b[0;32m//anaconda3/envs/pymc3_env/lib/python3.9/site-packages/fastprogress/fastprogress.py\u001b[0m in \u001b[0;36m__iter__\u001b[0;34m(self)\u001b[0m\n\u001b[1;32m     39\u001b[0m         \u001b[0;32mif\u001b[0m \u001b[0mself\u001b[0m\u001b[0;34m.\u001b[0m\u001b[0mtotal\u001b[0m \u001b[0;34m!=\u001b[0m \u001b[0;36m0\u001b[0m\u001b[0;34m:\u001b[0m \u001b[0mself\u001b[0m\u001b[0;34m.\u001b[0m\u001b[0mupdate\u001b[0m\u001b[0;34m(\u001b[0m\u001b[0;36m0\u001b[0m\u001b[0;34m)\u001b[0m\u001b[0;34m\u001b[0m\u001b[0;34m\u001b[0m\u001b[0m\n\u001b[1;32m     40\u001b[0m         \u001b[0;32mtry\u001b[0m\u001b[0;34m:\u001b[0m\u001b[0;34m\u001b[0m\u001b[0;34m\u001b[0m\u001b[0m\n\u001b[0;32m---> 41\u001b[0;31m             \u001b[0;32mfor\u001b[0m \u001b[0mi\u001b[0m\u001b[0;34m,\u001b[0m\u001b[0mo\u001b[0m \u001b[0;32min\u001b[0m \u001b[0menumerate\u001b[0m\u001b[0;34m(\u001b[0m\u001b[0mself\u001b[0m\u001b[0;34m.\u001b[0m\u001b[0mgen\u001b[0m\u001b[0;34m)\u001b[0m\u001b[0;34m:\u001b[0m\u001b[0;34m\u001b[0m\u001b[0;34m\u001b[0m\u001b[0m\n\u001b[0m\u001b[1;32m     42\u001b[0m                 \u001b[0;32mif\u001b[0m \u001b[0mi\u001b[0m \u001b[0;34m>=\u001b[0m \u001b[0mself\u001b[0m\u001b[0;34m.\u001b[0m\u001b[0mtotal\u001b[0m\u001b[0;34m:\u001b[0m \u001b[0;32mbreak\u001b[0m\u001b[0;34m\u001b[0m\u001b[0;34m\u001b[0m\u001b[0m\n\u001b[1;32m     43\u001b[0m                 \u001b[0;32myield\u001b[0m \u001b[0mo\u001b[0m\u001b[0;34m\u001b[0m\u001b[0;34m\u001b[0m\u001b[0m\n",
      "\u001b[0;32m//anaconda3/envs/pymc3_env/lib/python3.9/site-packages/pymc3/sampling.py\u001b[0m in \u001b[0;36m_iter_sample\u001b[0;34m(draws, step, start, trace, chain, tune, model, random_seed, callback)\u001b[0m\n\u001b[1;32m   1008\u001b[0m                 \u001b[0mstep\u001b[0m \u001b[0;34m=\u001b[0m \u001b[0mstop_tuning\u001b[0m\u001b[0;34m(\u001b[0m\u001b[0mstep\u001b[0m\u001b[0;34m)\u001b[0m\u001b[0;34m\u001b[0m\u001b[0;34m\u001b[0m\u001b[0m\n\u001b[1;32m   1009\u001b[0m             \u001b[0;32mif\u001b[0m \u001b[0mstep\u001b[0m\u001b[0;34m.\u001b[0m\u001b[0mgenerates_stats\u001b[0m\u001b[0;34m:\u001b[0m\u001b[0;34m\u001b[0m\u001b[0;34m\u001b[0m\u001b[0m\n\u001b[0;32m-> 1010\u001b[0;31m                 \u001b[0mpoint\u001b[0m\u001b[0;34m,\u001b[0m \u001b[0mstats\u001b[0m \u001b[0;34m=\u001b[0m \u001b[0mstep\u001b[0m\u001b[0;34m.\u001b[0m\u001b[0mstep\u001b[0m\u001b[0;34m(\u001b[0m\u001b[0mpoint\u001b[0m\u001b[0;34m)\u001b[0m\u001b[0;34m\u001b[0m\u001b[0;34m\u001b[0m\u001b[0m\n\u001b[0m\u001b[1;32m   1011\u001b[0m                 \u001b[0;32mif\u001b[0m \u001b[0mstrace\u001b[0m\u001b[0;34m.\u001b[0m\u001b[0msupports_sampler_stats\u001b[0m\u001b[0;34m:\u001b[0m\u001b[0;34m\u001b[0m\u001b[0;34m\u001b[0m\u001b[0m\n\u001b[1;32m   1012\u001b[0m                     \u001b[0mstrace\u001b[0m\u001b[0;34m.\u001b[0m\u001b[0mrecord\u001b[0m\u001b[0;34m(\u001b[0m\u001b[0mpoint\u001b[0m\u001b[0;34m,\u001b[0m \u001b[0mstats\u001b[0m\u001b[0;34m)\u001b[0m\u001b[0;34m\u001b[0m\u001b[0;34m\u001b[0m\u001b[0m\n",
      "\u001b[0;32m//anaconda3/envs/pymc3_env/lib/python3.9/site-packages/pymc3/step_methods/arraystep.py\u001b[0m in \u001b[0;36mstep\u001b[0;34m(self, point)\u001b[0m\n\u001b[1;32m    274\u001b[0m \u001b[0;34m\u001b[0m\u001b[0m\n\u001b[1;32m    275\u001b[0m         \u001b[0;32mif\u001b[0m \u001b[0mself\u001b[0m\u001b[0;34m.\u001b[0m\u001b[0mgenerates_stats\u001b[0m\u001b[0;34m:\u001b[0m\u001b[0;34m\u001b[0m\u001b[0;34m\u001b[0m\u001b[0m\n\u001b[0;32m--> 276\u001b[0;31m             \u001b[0mapoint\u001b[0m\u001b[0;34m,\u001b[0m \u001b[0mstats\u001b[0m \u001b[0;34m=\u001b[0m \u001b[0mself\u001b[0m\u001b[0;34m.\u001b[0m\u001b[0mastep\u001b[0m\u001b[0;34m(\u001b[0m\u001b[0marray\u001b[0m\u001b[0;34m)\u001b[0m\u001b[0;34m\u001b[0m\u001b[0;34m\u001b[0m\u001b[0m\n\u001b[0m\u001b[1;32m    277\u001b[0m             \u001b[0mpoint\u001b[0m \u001b[0;34m=\u001b[0m \u001b[0mself\u001b[0m\u001b[0;34m.\u001b[0m\u001b[0m_logp_dlogp_func\u001b[0m\u001b[0;34m.\u001b[0m\u001b[0marray_to_full_dict\u001b[0m\u001b[0;34m(\u001b[0m\u001b[0mapoint\u001b[0m\u001b[0;34m)\u001b[0m\u001b[0;34m\u001b[0m\u001b[0;34m\u001b[0m\u001b[0m\n\u001b[1;32m    278\u001b[0m             \u001b[0;32mreturn\u001b[0m \u001b[0mpoint\u001b[0m\u001b[0;34m,\u001b[0m \u001b[0mstats\u001b[0m\u001b[0;34m\u001b[0m\u001b[0;34m\u001b[0m\u001b[0m\n",
      "\u001b[0;32m//anaconda3/envs/pymc3_env/lib/python3.9/site-packages/pymc3/step_methods/hmc/base_hmc.py\u001b[0m in \u001b[0;36mastep\u001b[0;34m(self, q0)\u001b[0m\n\u001b[1;32m    166\u001b[0m             \u001b[0mstep_size\u001b[0m \u001b[0;34m=\u001b[0m \u001b[0mself\u001b[0m\u001b[0;34m.\u001b[0m\u001b[0m_step_rand\u001b[0m\u001b[0;34m(\u001b[0m\u001b[0mstep_size\u001b[0m\u001b[0;34m)\u001b[0m\u001b[0;34m\u001b[0m\u001b[0;34m\u001b[0m\u001b[0m\n\u001b[1;32m    167\u001b[0m \u001b[0;34m\u001b[0m\u001b[0m\n\u001b[0;32m--> 168\u001b[0;31m         \u001b[0mhmc_step\u001b[0m \u001b[0;34m=\u001b[0m \u001b[0mself\u001b[0m\u001b[0;34m.\u001b[0m\u001b[0m_hamiltonian_step\u001b[0m\u001b[0;34m(\u001b[0m\u001b[0mstart\u001b[0m\u001b[0;34m,\u001b[0m \u001b[0mp0\u001b[0m\u001b[0;34m,\u001b[0m \u001b[0mstep_size\u001b[0m\u001b[0;34m)\u001b[0m\u001b[0;34m\u001b[0m\u001b[0;34m\u001b[0m\u001b[0m\n\u001b[0m\u001b[1;32m    169\u001b[0m \u001b[0;34m\u001b[0m\u001b[0m\n\u001b[1;32m    170\u001b[0m         \u001b[0mperf_end\u001b[0m \u001b[0;34m=\u001b[0m \u001b[0mtime\u001b[0m\u001b[0;34m.\u001b[0m\u001b[0mperf_counter\u001b[0m\u001b[0;34m(\u001b[0m\u001b[0;34m)\u001b[0m\u001b[0;34m\u001b[0m\u001b[0;34m\u001b[0m\u001b[0m\n",
      "\u001b[0;32m//anaconda3/envs/pymc3_env/lib/python3.9/site-packages/pymc3/step_methods/hmc/nuts.py\u001b[0m in \u001b[0;36m_hamiltonian_step\u001b[0;34m(self, start, p0, step_size)\u001b[0m\n\u001b[1;32m    182\u001b[0m         \u001b[0;32mfor\u001b[0m \u001b[0m_\u001b[0m \u001b[0;32min\u001b[0m \u001b[0mrange\u001b[0m\u001b[0;34m(\u001b[0m\u001b[0mmax_treedepth\u001b[0m\u001b[0;34m)\u001b[0m\u001b[0;34m:\u001b[0m\u001b[0;34m\u001b[0m\u001b[0;34m\u001b[0m\u001b[0m\n\u001b[1;32m    183\u001b[0m             \u001b[0mdirection\u001b[0m \u001b[0;34m=\u001b[0m \u001b[0mlogbern\u001b[0m\u001b[0;34m(\u001b[0m\u001b[0mnp\u001b[0m\u001b[0;34m.\u001b[0m\u001b[0mlog\u001b[0m\u001b[0;34m(\u001b[0m\u001b[0;36m0.5\u001b[0m\u001b[0;34m)\u001b[0m\u001b[0;34m)\u001b[0m \u001b[0;34m*\u001b[0m \u001b[0;36m2\u001b[0m \u001b[0;34m-\u001b[0m \u001b[0;36m1\u001b[0m\u001b[0;34m\u001b[0m\u001b[0;34m\u001b[0m\u001b[0m\n\u001b[0;32m--> 184\u001b[0;31m             \u001b[0mdivergence_info\u001b[0m\u001b[0;34m,\u001b[0m \u001b[0mturning\u001b[0m \u001b[0;34m=\u001b[0m \u001b[0mtree\u001b[0m\u001b[0;34m.\u001b[0m\u001b[0mextend\u001b[0m\u001b[0;34m(\u001b[0m\u001b[0mdirection\u001b[0m\u001b[0;34m)\u001b[0m\u001b[0;34m\u001b[0m\u001b[0;34m\u001b[0m\u001b[0m\n\u001b[0m\u001b[1;32m    185\u001b[0m \u001b[0;34m\u001b[0m\u001b[0m\n\u001b[1;32m    186\u001b[0m             \u001b[0;32mif\u001b[0m \u001b[0mdivergence_info\u001b[0m \u001b[0;32mor\u001b[0m \u001b[0mturning\u001b[0m\u001b[0;34m:\u001b[0m\u001b[0;34m\u001b[0m\u001b[0;34m\u001b[0m\u001b[0m\n",
      "\u001b[0;32m//anaconda3/envs/pymc3_env/lib/python3.9/site-packages/pymc3/step_methods/hmc/nuts.py\u001b[0m in \u001b[0;36mextend\u001b[0;34m(self, direction)\u001b[0m\n\u001b[1;32m    281\u001b[0m             \u001b[0mself\u001b[0m\u001b[0;34m.\u001b[0m\u001b[0mright\u001b[0m \u001b[0;34m=\u001b[0m \u001b[0mtree\u001b[0m\u001b[0;34m.\u001b[0m\u001b[0mright\u001b[0m\u001b[0;34m\u001b[0m\u001b[0;34m\u001b[0m\u001b[0m\n\u001b[1;32m    282\u001b[0m         \u001b[0;32melse\u001b[0m\u001b[0;34m:\u001b[0m\u001b[0;34m\u001b[0m\u001b[0;34m\u001b[0m\u001b[0m\n\u001b[0;32m--> 283\u001b[0;31m             tree, diverging, turning = self._build_subtree(\n\u001b[0m\u001b[1;32m    284\u001b[0m                 \u001b[0mself\u001b[0m\u001b[0;34m.\u001b[0m\u001b[0mleft\u001b[0m\u001b[0;34m,\u001b[0m \u001b[0mself\u001b[0m\u001b[0;34m.\u001b[0m\u001b[0mdepth\u001b[0m\u001b[0;34m,\u001b[0m \u001b[0mfloatX\u001b[0m\u001b[0;34m(\u001b[0m\u001b[0mnp\u001b[0m\u001b[0;34m.\u001b[0m\u001b[0masarray\u001b[0m\u001b[0;34m(\u001b[0m\u001b[0;34m-\u001b[0m\u001b[0mself\u001b[0m\u001b[0;34m.\u001b[0m\u001b[0mstep_size\u001b[0m\u001b[0;34m)\u001b[0m\u001b[0;34m)\u001b[0m\u001b[0;34m\u001b[0m\u001b[0;34m\u001b[0m\u001b[0m\n\u001b[1;32m    285\u001b[0m             )\n",
      "\u001b[0;32m//anaconda3/envs/pymc3_env/lib/python3.9/site-packages/pymc3/step_methods/hmc/nuts.py\u001b[0m in \u001b[0;36m_build_subtree\u001b[0;34m(self, left, depth, epsilon)\u001b[0m\n\u001b[1;32m    366\u001b[0m             \u001b[0;32mreturn\u001b[0m \u001b[0mtree1\u001b[0m\u001b[0;34m,\u001b[0m \u001b[0mdiverging\u001b[0m\u001b[0;34m,\u001b[0m \u001b[0mturning\u001b[0m\u001b[0;34m\u001b[0m\u001b[0;34m\u001b[0m\u001b[0m\n\u001b[1;32m    367\u001b[0m \u001b[0;34m\u001b[0m\u001b[0m\n\u001b[0;32m--> 368\u001b[0;31m         \u001b[0mtree2\u001b[0m\u001b[0;34m,\u001b[0m \u001b[0mdiverging\u001b[0m\u001b[0;34m,\u001b[0m \u001b[0mturning\u001b[0m \u001b[0;34m=\u001b[0m \u001b[0mself\u001b[0m\u001b[0;34m.\u001b[0m\u001b[0m_build_subtree\u001b[0m\u001b[0;34m(\u001b[0m\u001b[0mtree1\u001b[0m\u001b[0;34m.\u001b[0m\u001b[0mright\u001b[0m\u001b[0;34m,\u001b[0m \u001b[0mdepth\u001b[0m \u001b[0;34m-\u001b[0m \u001b[0;36m1\u001b[0m\u001b[0;34m,\u001b[0m \u001b[0mepsilon\u001b[0m\u001b[0;34m)\u001b[0m\u001b[0;34m\u001b[0m\u001b[0;34m\u001b[0m\u001b[0m\n\u001b[0m\u001b[1;32m    369\u001b[0m \u001b[0;34m\u001b[0m\u001b[0m\n\u001b[1;32m    370\u001b[0m         \u001b[0mleft\u001b[0m\u001b[0;34m,\u001b[0m \u001b[0mright\u001b[0m \u001b[0;34m=\u001b[0m \u001b[0mtree1\u001b[0m\u001b[0;34m.\u001b[0m\u001b[0mleft\u001b[0m\u001b[0;34m,\u001b[0m \u001b[0mtree2\u001b[0m\u001b[0;34m.\u001b[0m\u001b[0mright\u001b[0m\u001b[0;34m\u001b[0m\u001b[0;34m\u001b[0m\u001b[0m\n",
      "\u001b[0;32m//anaconda3/envs/pymc3_env/lib/python3.9/site-packages/pymc3/step_methods/hmc/nuts.py\u001b[0m in \u001b[0;36m_build_subtree\u001b[0;34m(self, left, depth, epsilon)\u001b[0m\n\u001b[1;32m    366\u001b[0m             \u001b[0;32mreturn\u001b[0m \u001b[0mtree1\u001b[0m\u001b[0;34m,\u001b[0m \u001b[0mdiverging\u001b[0m\u001b[0;34m,\u001b[0m \u001b[0mturning\u001b[0m\u001b[0;34m\u001b[0m\u001b[0;34m\u001b[0m\u001b[0m\n\u001b[1;32m    367\u001b[0m \u001b[0;34m\u001b[0m\u001b[0m\n\u001b[0;32m--> 368\u001b[0;31m         \u001b[0mtree2\u001b[0m\u001b[0;34m,\u001b[0m \u001b[0mdiverging\u001b[0m\u001b[0;34m,\u001b[0m \u001b[0mturning\u001b[0m \u001b[0;34m=\u001b[0m \u001b[0mself\u001b[0m\u001b[0;34m.\u001b[0m\u001b[0m_build_subtree\u001b[0m\u001b[0;34m(\u001b[0m\u001b[0mtree1\u001b[0m\u001b[0;34m.\u001b[0m\u001b[0mright\u001b[0m\u001b[0;34m,\u001b[0m \u001b[0mdepth\u001b[0m \u001b[0;34m-\u001b[0m \u001b[0;36m1\u001b[0m\u001b[0;34m,\u001b[0m \u001b[0mepsilon\u001b[0m\u001b[0;34m)\u001b[0m\u001b[0;34m\u001b[0m\u001b[0;34m\u001b[0m\u001b[0m\n\u001b[0m\u001b[1;32m    369\u001b[0m \u001b[0;34m\u001b[0m\u001b[0m\n\u001b[1;32m    370\u001b[0m         \u001b[0mleft\u001b[0m\u001b[0;34m,\u001b[0m \u001b[0mright\u001b[0m \u001b[0;34m=\u001b[0m \u001b[0mtree1\u001b[0m\u001b[0;34m.\u001b[0m\u001b[0mleft\u001b[0m\u001b[0;34m,\u001b[0m \u001b[0mtree2\u001b[0m\u001b[0;34m.\u001b[0m\u001b[0mright\u001b[0m\u001b[0;34m\u001b[0m\u001b[0;34m\u001b[0m\u001b[0m\n",
      "\u001b[0;32m//anaconda3/envs/pymc3_env/lib/python3.9/site-packages/pymc3/step_methods/hmc/nuts.py\u001b[0m in \u001b[0;36m_build_subtree\u001b[0;34m(self, left, depth, epsilon)\u001b[0m\n\u001b[1;32m    366\u001b[0m             \u001b[0;32mreturn\u001b[0m \u001b[0mtree1\u001b[0m\u001b[0;34m,\u001b[0m \u001b[0mdiverging\u001b[0m\u001b[0;34m,\u001b[0m \u001b[0mturning\u001b[0m\u001b[0;34m\u001b[0m\u001b[0;34m\u001b[0m\u001b[0m\n\u001b[1;32m    367\u001b[0m \u001b[0;34m\u001b[0m\u001b[0m\n\u001b[0;32m--> 368\u001b[0;31m         \u001b[0mtree2\u001b[0m\u001b[0;34m,\u001b[0m \u001b[0mdiverging\u001b[0m\u001b[0;34m,\u001b[0m \u001b[0mturning\u001b[0m \u001b[0;34m=\u001b[0m \u001b[0mself\u001b[0m\u001b[0;34m.\u001b[0m\u001b[0m_build_subtree\u001b[0m\u001b[0;34m(\u001b[0m\u001b[0mtree1\u001b[0m\u001b[0;34m.\u001b[0m\u001b[0mright\u001b[0m\u001b[0;34m,\u001b[0m \u001b[0mdepth\u001b[0m \u001b[0;34m-\u001b[0m \u001b[0;36m1\u001b[0m\u001b[0;34m,\u001b[0m \u001b[0mepsilon\u001b[0m\u001b[0;34m)\u001b[0m\u001b[0;34m\u001b[0m\u001b[0;34m\u001b[0m\u001b[0m\n\u001b[0m\u001b[1;32m    369\u001b[0m \u001b[0;34m\u001b[0m\u001b[0m\n\u001b[1;32m    370\u001b[0m         \u001b[0mleft\u001b[0m\u001b[0;34m,\u001b[0m \u001b[0mright\u001b[0m \u001b[0;34m=\u001b[0m \u001b[0mtree1\u001b[0m\u001b[0;34m.\u001b[0m\u001b[0mleft\u001b[0m\u001b[0;34m,\u001b[0m \u001b[0mtree2\u001b[0m\u001b[0;34m.\u001b[0m\u001b[0mright\u001b[0m\u001b[0;34m\u001b[0m\u001b[0;34m\u001b[0m\u001b[0m\n",
      "\u001b[0;32m//anaconda3/envs/pymc3_env/lib/python3.9/site-packages/pymc3/step_methods/hmc/nuts.py\u001b[0m in \u001b[0;36m_build_subtree\u001b[0;34m(self, left, depth, epsilon)\u001b[0m\n\u001b[1;32m    360\u001b[0m     \u001b[0;32mdef\u001b[0m \u001b[0m_build_subtree\u001b[0m\u001b[0;34m(\u001b[0m\u001b[0mself\u001b[0m\u001b[0;34m,\u001b[0m \u001b[0mleft\u001b[0m\u001b[0;34m,\u001b[0m \u001b[0mdepth\u001b[0m\u001b[0;34m,\u001b[0m \u001b[0mepsilon\u001b[0m\u001b[0;34m)\u001b[0m\u001b[0;34m:\u001b[0m\u001b[0;34m\u001b[0m\u001b[0;34m\u001b[0m\u001b[0m\n\u001b[1;32m    361\u001b[0m         \u001b[0;32mif\u001b[0m \u001b[0mdepth\u001b[0m \u001b[0;34m==\u001b[0m \u001b[0;36m0\u001b[0m\u001b[0;34m:\u001b[0m\u001b[0;34m\u001b[0m\u001b[0;34m\u001b[0m\u001b[0m\n\u001b[0;32m--> 362\u001b[0;31m             \u001b[0;32mreturn\u001b[0m \u001b[0mself\u001b[0m\u001b[0;34m.\u001b[0m\u001b[0m_single_step\u001b[0m\u001b[0;34m(\u001b[0m\u001b[0mleft\u001b[0m\u001b[0;34m,\u001b[0m \u001b[0mepsilon\u001b[0m\u001b[0;34m)\u001b[0m\u001b[0;34m\u001b[0m\u001b[0;34m\u001b[0m\u001b[0m\n\u001b[0m\u001b[1;32m    363\u001b[0m \u001b[0;34m\u001b[0m\u001b[0m\n\u001b[1;32m    364\u001b[0m         \u001b[0mtree1\u001b[0m\u001b[0;34m,\u001b[0m \u001b[0mdiverging\u001b[0m\u001b[0;34m,\u001b[0m \u001b[0mturning\u001b[0m \u001b[0;34m=\u001b[0m \u001b[0mself\u001b[0m\u001b[0;34m.\u001b[0m\u001b[0m_build_subtree\u001b[0m\u001b[0;34m(\u001b[0m\u001b[0mleft\u001b[0m\u001b[0;34m,\u001b[0m \u001b[0mdepth\u001b[0m \u001b[0;34m-\u001b[0m \u001b[0;36m1\u001b[0m\u001b[0;34m,\u001b[0m \u001b[0mepsilon\u001b[0m\u001b[0;34m)\u001b[0m\u001b[0;34m\u001b[0m\u001b[0;34m\u001b[0m\u001b[0m\n",
      "\u001b[0;32m//anaconda3/envs/pymc3_env/lib/python3.9/site-packages/pymc3/step_methods/hmc/nuts.py\u001b[0m in \u001b[0;36m_single_step\u001b[0;34m(self, left, epsilon)\u001b[0m\n\u001b[1;32m    322\u001b[0m         \u001b[0;34m\"\"\"Perform a leapfrog step and handle error cases.\"\"\"\u001b[0m\u001b[0;34m\u001b[0m\u001b[0;34m\u001b[0m\u001b[0m\n\u001b[1;32m    323\u001b[0m         \u001b[0;32mtry\u001b[0m\u001b[0;34m:\u001b[0m\u001b[0;34m\u001b[0m\u001b[0;34m\u001b[0m\u001b[0m\n\u001b[0;32m--> 324\u001b[0;31m             \u001b[0mright\u001b[0m \u001b[0;34m=\u001b[0m \u001b[0mself\u001b[0m\u001b[0;34m.\u001b[0m\u001b[0mintegrator\u001b[0m\u001b[0;34m.\u001b[0m\u001b[0mstep\u001b[0m\u001b[0;34m(\u001b[0m\u001b[0mepsilon\u001b[0m\u001b[0;34m,\u001b[0m \u001b[0mleft\u001b[0m\u001b[0;34m)\u001b[0m\u001b[0;34m\u001b[0m\u001b[0;34m\u001b[0m\u001b[0m\n\u001b[0m\u001b[1;32m    325\u001b[0m         \u001b[0;32mexcept\u001b[0m \u001b[0mIntegrationError\u001b[0m \u001b[0;32mas\u001b[0m \u001b[0merr\u001b[0m\u001b[0;34m:\u001b[0m\u001b[0;34m\u001b[0m\u001b[0;34m\u001b[0m\u001b[0m\n\u001b[1;32m    326\u001b[0m             \u001b[0merror_msg\u001b[0m \u001b[0;34m=\u001b[0m \u001b[0mstr\u001b[0m\u001b[0;34m(\u001b[0m\u001b[0merr\u001b[0m\u001b[0;34m)\u001b[0m\u001b[0;34m\u001b[0m\u001b[0;34m\u001b[0m\u001b[0m\n",
      "\u001b[0;32m//anaconda3/envs/pymc3_env/lib/python3.9/site-packages/pymc3/step_methods/hmc/integration.py\u001b[0m in \u001b[0;36mstep\u001b[0;34m(self, epsilon, state)\u001b[0m\n\u001b[1;32m     67\u001b[0m         \"\"\"\n\u001b[1;32m     68\u001b[0m         \u001b[0;32mtry\u001b[0m\u001b[0;34m:\u001b[0m\u001b[0;34m\u001b[0m\u001b[0;34m\u001b[0m\u001b[0m\n\u001b[0;32m---> 69\u001b[0;31m             \u001b[0;32mreturn\u001b[0m \u001b[0mself\u001b[0m\u001b[0;34m.\u001b[0m\u001b[0m_step\u001b[0m\u001b[0;34m(\u001b[0m\u001b[0mepsilon\u001b[0m\u001b[0;34m,\u001b[0m \u001b[0mstate\u001b[0m\u001b[0;34m)\u001b[0m\u001b[0;34m\u001b[0m\u001b[0;34m\u001b[0m\u001b[0m\n\u001b[0m\u001b[1;32m     70\u001b[0m         \u001b[0;32mexcept\u001b[0m \u001b[0mlinalg\u001b[0m\u001b[0;34m.\u001b[0m\u001b[0mLinAlgError\u001b[0m \u001b[0;32mas\u001b[0m \u001b[0merr\u001b[0m\u001b[0;34m:\u001b[0m\u001b[0;34m\u001b[0m\u001b[0;34m\u001b[0m\u001b[0m\n\u001b[1;32m     71\u001b[0m             \u001b[0mmsg\u001b[0m \u001b[0;34m=\u001b[0m \u001b[0;34m\"LinAlgError during leapfrog step.\"\u001b[0m\u001b[0;34m\u001b[0m\u001b[0;34m\u001b[0m\u001b[0m\n",
      "\u001b[0;32m//anaconda3/envs/pymc3_env/lib/python3.9/site-packages/pymc3/step_methods/hmc/integration.py\u001b[0m in \u001b[0;36m_step\u001b[0;34m(self, epsilon, state)\u001b[0m\n\u001b[1;32m    100\u001b[0m         \u001b[0maxpy\u001b[0m\u001b[0;34m(\u001b[0m\u001b[0mv_new\u001b[0m\u001b[0;34m,\u001b[0m \u001b[0mq_new\u001b[0m\u001b[0;34m,\u001b[0m \u001b[0ma\u001b[0m\u001b[0;34m=\u001b[0m\u001b[0mepsilon\u001b[0m\u001b[0;34m)\u001b[0m\u001b[0;34m\u001b[0m\u001b[0;34m\u001b[0m\u001b[0m\n\u001b[1;32m    101\u001b[0m \u001b[0;34m\u001b[0m\u001b[0m\n\u001b[0;32m--> 102\u001b[0;31m         \u001b[0mlogp\u001b[0m \u001b[0;34m=\u001b[0m \u001b[0mself\u001b[0m\u001b[0;34m.\u001b[0m\u001b[0m_logp_dlogp_func\u001b[0m\u001b[0;34m(\u001b[0m\u001b[0mq_new\u001b[0m\u001b[0;34m,\u001b[0m \u001b[0mq_new_grad\u001b[0m\u001b[0;34m)\u001b[0m\u001b[0;34m\u001b[0m\u001b[0;34m\u001b[0m\u001b[0m\n\u001b[0m\u001b[1;32m    103\u001b[0m \u001b[0;34m\u001b[0m\u001b[0m\n\u001b[1;32m    104\u001b[0m         \u001b[0;31m# p_new = p_new + dt * q_new_grad\u001b[0m\u001b[0;34m\u001b[0m\u001b[0;34m\u001b[0m\u001b[0m\n",
      "\u001b[0;32m//anaconda3/envs/pymc3_env/lib/python3.9/site-packages/pymc3/model.py\u001b[0m in \u001b[0;36m__call__\u001b[0;34m(self, array, grad_out, extra_vars)\u001b[0m\n\u001b[1;32m    732\u001b[0m             \u001b[0mout\u001b[0m \u001b[0;34m=\u001b[0m \u001b[0mgrad_out\u001b[0m\u001b[0;34m\u001b[0m\u001b[0;34m\u001b[0m\u001b[0m\n\u001b[1;32m    733\u001b[0m \u001b[0;34m\u001b[0m\u001b[0m\n\u001b[0;32m--> 734\u001b[0;31m         \u001b[0moutput\u001b[0m \u001b[0;34m=\u001b[0m \u001b[0mself\u001b[0m\u001b[0;34m.\u001b[0m\u001b[0m_theano_function\u001b[0m\u001b[0;34m(\u001b[0m\u001b[0marray\u001b[0m\u001b[0;34m)\u001b[0m\u001b[0;34m\u001b[0m\u001b[0;34m\u001b[0m\u001b[0m\n\u001b[0m\u001b[1;32m    735\u001b[0m         \u001b[0;32mif\u001b[0m \u001b[0mgrad_out\u001b[0m \u001b[0;32mis\u001b[0m \u001b[0;32mNone\u001b[0m\u001b[0;34m:\u001b[0m\u001b[0;34m\u001b[0m\u001b[0;34m\u001b[0m\u001b[0m\n\u001b[1;32m    736\u001b[0m             \u001b[0;32mreturn\u001b[0m \u001b[0moutput\u001b[0m\u001b[0;34m\u001b[0m\u001b[0;34m\u001b[0m\u001b[0m\n",
      "\u001b[0;32m//anaconda3/envs/pymc3_env/lib/python3.9/site-packages/theano/compile/function/types.py\u001b[0m in \u001b[0;36m__call__\u001b[0;34m(self, *args, **kwargs)\u001b[0m\n\u001b[1;32m    985\u001b[0m                 \u001b[0;32mif\u001b[0m \u001b[0mhasattr\u001b[0m\u001b[0;34m(\u001b[0m\u001b[0mself\u001b[0m\u001b[0;34m.\u001b[0m\u001b[0mfn\u001b[0m\u001b[0;34m,\u001b[0m \u001b[0;34m\"thunks\"\u001b[0m\u001b[0;34m)\u001b[0m\u001b[0;34m:\u001b[0m\u001b[0;34m\u001b[0m\u001b[0;34m\u001b[0m\u001b[0m\n\u001b[1;32m    986\u001b[0m                     \u001b[0mthunk\u001b[0m \u001b[0;34m=\u001b[0m \u001b[0mself\u001b[0m\u001b[0;34m.\u001b[0m\u001b[0mfn\u001b[0m\u001b[0;34m.\u001b[0m\u001b[0mthunks\u001b[0m\u001b[0;34m[\u001b[0m\u001b[0mself\u001b[0m\u001b[0;34m.\u001b[0m\u001b[0mfn\u001b[0m\u001b[0;34m.\u001b[0m\u001b[0mposition_of_error\u001b[0m\u001b[0;34m]\u001b[0m\u001b[0;34m\u001b[0m\u001b[0;34m\u001b[0m\u001b[0m\n\u001b[0;32m--> 987\u001b[0;31m                 raise_with_op(\n\u001b[0m\u001b[1;32m    988\u001b[0m                     \u001b[0mself\u001b[0m\u001b[0;34m.\u001b[0m\u001b[0mmaker\u001b[0m\u001b[0;34m.\u001b[0m\u001b[0mfgraph\u001b[0m\u001b[0;34m,\u001b[0m\u001b[0;34m\u001b[0m\u001b[0;34m\u001b[0m\u001b[0m\n\u001b[1;32m    989\u001b[0m                     \u001b[0mnode\u001b[0m\u001b[0;34m=\u001b[0m\u001b[0mself\u001b[0m\u001b[0;34m.\u001b[0m\u001b[0mfn\u001b[0m\u001b[0;34m.\u001b[0m\u001b[0mnodes\u001b[0m\u001b[0;34m[\u001b[0m\u001b[0mself\u001b[0m\u001b[0;34m.\u001b[0m\u001b[0mfn\u001b[0m\u001b[0;34m.\u001b[0m\u001b[0mposition_of_error\u001b[0m\u001b[0;34m]\u001b[0m\u001b[0;34m,\u001b[0m\u001b[0;34m\u001b[0m\u001b[0;34m\u001b[0m\u001b[0m\n",
      "\u001b[0;32m//anaconda3/envs/pymc3_env/lib/python3.9/site-packages/theano/link/utils.py\u001b[0m in \u001b[0;36mraise_with_op\u001b[0;34m(fgraph, node, thunk, exc_info, storage_map)\u001b[0m\n\u001b[1;32m    506\u001b[0m         \u001b[0;31m# Some exception need extra parameter in inputs. So forget the\u001b[0m\u001b[0;34m\u001b[0m\u001b[0;34m\u001b[0m\u001b[0m\n\u001b[1;32m    507\u001b[0m         \u001b[0;31m# extra long error message in that case.\u001b[0m\u001b[0;34m\u001b[0m\u001b[0;34m\u001b[0m\u001b[0m\n\u001b[0;32m--> 508\u001b[0;31m     \u001b[0;32mraise\u001b[0m \u001b[0mexc_value\u001b[0m\u001b[0;34m.\u001b[0m\u001b[0mwith_traceback\u001b[0m\u001b[0;34m(\u001b[0m\u001b[0mexc_trace\u001b[0m\u001b[0;34m)\u001b[0m\u001b[0;34m\u001b[0m\u001b[0;34m\u001b[0m\u001b[0m\n\u001b[0m\u001b[1;32m    509\u001b[0m \u001b[0;34m\u001b[0m\u001b[0m\n\u001b[1;32m    510\u001b[0m \u001b[0;34m\u001b[0m\u001b[0m\n",
      "\u001b[0;32m//anaconda3/envs/pymc3_env/lib/python3.9/site-packages/theano/compile/function/types.py\u001b[0m in \u001b[0;36m__call__\u001b[0;34m(self, *args, **kwargs)\u001b[0m\n\u001b[1;32m    972\u001b[0m         \u001b[0;32mtry\u001b[0m\u001b[0;34m:\u001b[0m\u001b[0;34m\u001b[0m\u001b[0;34m\u001b[0m\u001b[0m\n\u001b[1;32m    973\u001b[0m             outputs = (\n\u001b[0;32m--> 974\u001b[0;31m                 \u001b[0mself\u001b[0m\u001b[0;34m.\u001b[0m\u001b[0mfn\u001b[0m\u001b[0;34m(\u001b[0m\u001b[0;34m)\u001b[0m\u001b[0;34m\u001b[0m\u001b[0;34m\u001b[0m\u001b[0m\n\u001b[0m\u001b[1;32m    975\u001b[0m                 \u001b[0;32mif\u001b[0m \u001b[0moutput_subset\u001b[0m \u001b[0;32mis\u001b[0m \u001b[0;32mNone\u001b[0m\u001b[0;34m\u001b[0m\u001b[0;34m\u001b[0m\u001b[0m\n\u001b[1;32m    976\u001b[0m                 \u001b[0;32melse\u001b[0m \u001b[0mself\u001b[0m\u001b[0;34m.\u001b[0m\u001b[0mfn\u001b[0m\u001b[0;34m(\u001b[0m\u001b[0moutput_subset\u001b[0m\u001b[0;34m=\u001b[0m\u001b[0moutput_subset\u001b[0m\u001b[0;34m)\u001b[0m\u001b[0;34m\u001b[0m\u001b[0;34m\u001b[0m\u001b[0m\n",
      "\u001b[0;32m//anaconda3/envs/pymc3_env/lib/python3.9/site-packages/theano/graph/op.py\u001b[0m in \u001b[0;36mrval\u001b[0;34m(p, i, o, n)\u001b[0m\n\u001b[1;32m    474\u001b[0m             \u001b[0;31m# default arguments are stored in the closure of `rval`\u001b[0m\u001b[0;34m\u001b[0m\u001b[0;34m\u001b[0m\u001b[0m\n\u001b[1;32m    475\u001b[0m             \u001b[0;32mdef\u001b[0m \u001b[0mrval\u001b[0m\u001b[0;34m(\u001b[0m\u001b[0mp\u001b[0m\u001b[0;34m=\u001b[0m\u001b[0mp\u001b[0m\u001b[0;34m,\u001b[0m \u001b[0mi\u001b[0m\u001b[0;34m=\u001b[0m\u001b[0mnode_input_storage\u001b[0m\u001b[0;34m,\u001b[0m \u001b[0mo\u001b[0m\u001b[0;34m=\u001b[0m\u001b[0mnode_output_storage\u001b[0m\u001b[0;34m,\u001b[0m \u001b[0mn\u001b[0m\u001b[0;34m=\u001b[0m\u001b[0mnode\u001b[0m\u001b[0;34m)\u001b[0m\u001b[0;34m:\u001b[0m\u001b[0;34m\u001b[0m\u001b[0;34m\u001b[0m\u001b[0m\n\u001b[0;32m--> 476\u001b[0;31m                 \u001b[0mr\u001b[0m \u001b[0;34m=\u001b[0m \u001b[0mp\u001b[0m\u001b[0;34m(\u001b[0m\u001b[0mn\u001b[0m\u001b[0;34m,\u001b[0m \u001b[0;34m[\u001b[0m\u001b[0mx\u001b[0m\u001b[0;34m[\u001b[0m\u001b[0;36m0\u001b[0m\u001b[0;34m]\u001b[0m \u001b[0;32mfor\u001b[0m \u001b[0mx\u001b[0m \u001b[0;32min\u001b[0m \u001b[0mi\u001b[0m\u001b[0;34m]\u001b[0m\u001b[0;34m,\u001b[0m \u001b[0mo\u001b[0m\u001b[0;34m)\u001b[0m\u001b[0;34m\u001b[0m\u001b[0;34m\u001b[0m\u001b[0m\n\u001b[0m\u001b[1;32m    477\u001b[0m                 \u001b[0;32mfor\u001b[0m \u001b[0mo\u001b[0m \u001b[0;32min\u001b[0m \u001b[0mnode\u001b[0m\u001b[0;34m.\u001b[0m\u001b[0moutputs\u001b[0m\u001b[0;34m:\u001b[0m\u001b[0;34m\u001b[0m\u001b[0;34m\u001b[0m\u001b[0m\n\u001b[1;32m    478\u001b[0m                     \u001b[0mcompute_map\u001b[0m\u001b[0;34m[\u001b[0m\u001b[0mo\u001b[0m\u001b[0;34m]\u001b[0m\u001b[0;34m[\u001b[0m\u001b[0;36m0\u001b[0m\u001b[0;34m]\u001b[0m \u001b[0;34m=\u001b[0m \u001b[0;32mTrue\u001b[0m\u001b[0;34m\u001b[0m\u001b[0;34m\u001b[0m\u001b[0m\n",
      "\u001b[0;32m//anaconda3/envs/pymc3_env/lib/python3.9/site-packages/celerite2/theano/ops.py\u001b[0m in \u001b[0;36mperform\u001b[0;34m(self, node, inputs, outputs)\u001b[0m\n\u001b[1;32m    121\u001b[0m \u001b[0;34m\u001b[0m\u001b[0m\n\u001b[1;32m    122\u001b[0m         \u001b[0;32mtry\u001b[0m\u001b[0;34m:\u001b[0m\u001b[0;34m\u001b[0m\u001b[0;34m\u001b[0m\u001b[0m\n\u001b[0;32m--> 123\u001b[0;31m             \u001b[0mfunc\u001b[0m\u001b[0;34m(\u001b[0m\u001b[0;34m*\u001b[0m\u001b[0margs\u001b[0m\u001b[0;34m)\u001b[0m\u001b[0;34m\u001b[0m\u001b[0;34m\u001b[0m\u001b[0m\n\u001b[0m\u001b[1;32m    124\u001b[0m         \u001b[0;32mexcept\u001b[0m \u001b[0mbackprop\u001b[0m\u001b[0;34m.\u001b[0m\u001b[0mLinAlgError\u001b[0m\u001b[0;34m:\u001b[0m\u001b[0;34m\u001b[0m\u001b[0;34m\u001b[0m\u001b[0m\n\u001b[1;32m    125\u001b[0m             \u001b[0;32mif\u001b[0m \u001b[0;32mnot\u001b[0m \u001b[0mself\u001b[0m\u001b[0;34m.\u001b[0m\u001b[0mquiet\u001b[0m\u001b[0;34m:\u001b[0m\u001b[0;34m\u001b[0m\u001b[0;34m\u001b[0m\u001b[0m\n",
      "\u001b[0;31mLinAlgError\u001b[0m: failed to factorize or solve matrix\nApply node that caused the error: _CeleriteOp{name='factor_fwd', quiet=False}(TensorConstant{[4648.3009...29404562]}, Join.0, Alloc.0, Join.0, Join.0)\nToposort index: 632\nInputs types: [TensorType(float64, vector), TensorType(float64, vector), TensorType(float64, vector), TensorType(float64, matrix), TensorType(float64, matrix)]\nInputs shapes: [(143,), (2,), (143,), (143, 2), (143, 2)]\nInputs strides: [(8,), (8,), (8,), (16, 8), (16, 8)]\nInputs values: ['not shown', array([7.64050412e-06, 7.64050412e-06]), 'not shown', 'not shown', 'not shown']\nOutputs clients: [[_CeleriteOp{name='factor_rev', quiet=False}(TensorConstant{[4648.3009...29404562]}, Join.0, Alloc.0, Join.0, Join.0, _CeleriteOp{name='factor_fwd', quiet=False}.0, _CeleriteOp{name='factor_fwd', quiet=False}.1, _CeleriteOp{name='factor_fwd', quiet=False}.2, Elemwise{Composite{((i0 / i1) + ((i2 * i3 * i4) / sqr(i1)) + ((i2 * i5 * i6) / sqr(i1)) + ((i2 * i7 * i8) / sqr(i1)) + ((i2 * i9 * i10) / sqr(i1)) + ((i2 * i11 * i12) / sqr(i1)) + ((i2 * i13 * i14) / sqr(i1)) + ((i2 * i15 * i16) / sqr(i1)) + ((i2 * i17 * i18) / sqr(i1)) + ((i2 * i19 * i20) / sqr(i1)) + ((i2 * i21 * i22) / sqr(i1)) + ((i2 * i23 * i24) / sqr(i1)) + ((i2 * i25 * i26) / sqr(i1)) + ((i2 * i27 * i28) / sqr(i1)) + ((i2 * i29 * i30) / sqr(i1)) + ((i2 * i31 * i32) / sqr(i1)) + ((i2 * i33 * i34) / sqr(i1)) + ((i2 * i35 * i36) / sqr(i1)) + ((i2 * i37 * i38) / sqr(i1)) + ((i2 * i39 * i40) / sqr(i1)) + ((i2 * i41 * i42) / sqr(i1)) + ((i2 * i43 * i44) / sqr(i1)) + ((i2 * i45 * i46) / sqr(i1)))}}.0, Elemwise{Add}[(0, 0)].0), Elemwise{log,no_inplace}(_CeleriteOp{name='factor_fwd', quiet=False}.0), Elemwise{true_div,no_inplace}(Elemwise{sqr,no_inplace}.0, _CeleriteOp{name='factor_fwd', quiet=False}.0), Elemwise{true_div,no_inplace}(Elemwise{sqr,no_inplace}.0, _CeleriteOp{name='factor_fwd', quiet=False}.0), Elemwise{true_div,no_inplace}(Elemwise{sqr,no_inplace}.0, _CeleriteOp{name='factor_fwd', quiet=False}.0), Elemwise{true_div,no_inplace}(Elemwise{sqr,no_inplace}.0, _CeleriteOp{name='factor_fwd', quiet=False}.0), Elemwise{true_div,no_inplace}(Elemwise{sqr,no_inplace}.0, _CeleriteOp{name='factor_fwd', quiet=False}.0), Elemwise{true_div,no_inplace}(Elemwise{sqr,no_inplace}.0, _CeleriteOp{name='factor_fwd', quiet=False}.0), Elemwise{true_div,no_inplace}(Elemwise{sqr,no_inplace}.0, _CeleriteOp{name='factor_fwd', quiet=False}.0), Elemwise{true_div,no_inplace}(Elemwise{sqr,no_inplace}.0, _CeleriteOp{name='factor_fwd', quiet=False}.0), Elemwise{true_div,no_inplace}(Elemwise{sqr,no_inplace}.0, _CeleriteOp{name='factor_fwd', quiet=False}.0), Elemwise{true_div,no_inplace}(Elemwise{sqr,no_inplace}.0, _CeleriteOp{name='factor_fwd', quiet=False}.0), Elemwise{true_div,no_inplace}(Elemwise{sqr,no_inplace}.0, _CeleriteOp{name='factor_fwd', quiet=False}.0), Elemwise{true_div,no_inplace}(Elemwise{sqr,no_inplace}.0, _CeleriteOp{name='factor_fwd', quiet=False}.0), Elemwise{true_div,no_inplace}(Elemwise{sqr,no_inplace}.0, _CeleriteOp{name='factor_fwd', quiet=False}.0), Elemwise{true_div,no_inplace}(Elemwise{sqr,no_inplace}.0, _CeleriteOp{name='factor_fwd', quiet=False}.0), Elemwise{true_div,no_inplace}(Elemwise{sqr,no_inplace}.0, _CeleriteOp{name='factor_fwd', quiet=False}.0), Elemwise{true_div,no_inplace}(Elemwise{sqr,no_inplace}.0, _CeleriteOp{name='factor_fwd', quiet=False}.0), Elemwise{true_div,no_inplace}(Elemwise{sqr,no_inplace}.0, _CeleriteOp{name='factor_fwd', quiet=False}.0), Elemwise{true_div,no_inplace}(Elemwise{sqr,no_inplace}.0, _CeleriteOp{name='factor_fwd', quiet=False}.0), Elemwise{true_div,no_inplace}(Elemwise{sqr,no_inplace}.0, _CeleriteOp{name='factor_fwd', quiet=False}.0), Elemwise{true_div,no_inplace}(Elemwise{sqr,no_inplace}.0, _CeleriteOp{name='factor_fwd', quiet=False}.0), Elemwise{true_div,no_inplace}(Elemwise{sqr,no_inplace}.0, _CeleriteOp{name='factor_fwd', quiet=False}.0), Elemwise{true_div,no_inplace}(Elemwise{sqr,no_inplace}.0, _CeleriteOp{name='factor_fwd', quiet=False}.0), Elemwise{Composite{((i0 * i1 * i2) / i3)}}(TensorConstant{(1,) of -1.0}, InplaceDimShuffle{x}.0, InplaceDimShuffle{0}.0, _CeleriteOp{name='factor_fwd', quiet=False}.0), Elemwise{Composite{((i0 * i1 * i2) / i3)}}(TensorConstant{(1,) of -1.0}, InplaceDimShuffle{x}.0, InplaceDimShuffle{0}.0, _CeleriteOp{name='factor_fwd', quiet=False}.0), Elemwise{Composite{((i0 * i1 * i2) / i3)}}(TensorConstant{(1,) of -1.0}, InplaceDimShuffle{x}.0, InplaceDimShuffle{0}.0, _CeleriteOp{name='factor_fwd', quiet=False}.0), Elemwise{Composite{((i0 * i1 * i2) / i3)}}(TensorConstant{(1,) of -1.0}, InplaceDimShuffle{x}.0, InplaceDimShuffle{0}.0, _CeleriteOp{name='factor_fwd', quiet=False}.0), Elemwise{Composite{((i0 * i1 * i2) / i3)}}(TensorConstant{(1,) of -1.0}, InplaceDimShuffle{x}.0, InplaceDimShuffle{0}.0, _CeleriteOp{name='factor_fwd', quiet=False}.0), Elemwise{Composite{((i0 * i1 * i2) / i3)}}(TensorConstant{(1,) of -1.0}, InplaceDimShuffle{x}.0, InplaceDimShuffle{0}.0, _CeleriteOp{name='factor_fwd', quiet=False}.0), Elemwise{Composite{((i0 * i1 * i2) / i3)}}(TensorConstant{(1,) of -1.0}, InplaceDimShuffle{x}.0, InplaceDimShuffle{0}.0, _CeleriteOp{name='factor_fwd', quiet=False}.0), Elemwise{Composite{((i0 * i1 * i2) / i3)}}(TensorConstant{(1,) of -1.0}, InplaceDimShuffle{x}.0, InplaceDimShuffle{0}.0, _CeleriteOp{name='factor_fwd', quiet=False}.0), Elemwise{Composite{((i0 * i1 * i2) / i3)}}(TensorConstant{(1,) of -1.0}, InplaceDimShuffle{x}.0, InplaceDimShuffle{0}.0, _CeleriteOp{name='factor_fwd', quiet=False}.0), Elemwise{Composite{((i0 * i1 * i2) / i3)}}(TensorConstant{(1,) of -1.0}, InplaceDimShuffle{x}.0, InplaceDimShuffle{0}.0, _CeleriteOp{name='factor_fwd', quiet=False}.0), Elemwise{Composite{((i0 * i1 * i2) / i3)}}(TensorConstant{(1,) of -1.0}, InplaceDimShuffle{x}.0, InplaceDimShuffle{0}.0, _CeleriteOp{name='factor_fwd', quiet=False}.0), Elemwise{Composite{((i0 * i1 * i2) / i3)}}(TensorConstant{(1,) of -1.0}, InplaceDimShuffle{x}.0, InplaceDimShuffle{0}.0, _CeleriteOp{name='factor_fwd', quiet=False}.0), Elemwise{Composite{((i0 * i1 * i2) / i3)}}(TensorConstant{(1,) of -1.0}, InplaceDimShuffle{x}.0, InplaceDimShuffle{0}.0, _CeleriteOp{name='factor_fwd', quiet=False}.0), Elemwise{Composite{((i0 * i1 * i2) / i3)}}(TensorConstant{(1,) of -1.0}, InplaceDimShuffle{x}.0, InplaceDimShuffle{0}.0, _CeleriteOp{name='factor_fwd', quiet=False}.0), Elemwise{Composite{((i0 * i1 * i2) / i3)}}(TensorConstant{(1,) of -1.0}, InplaceDimShuffle{x}.0, InplaceDimShuffle{0}.0, _CeleriteOp{name='factor_fwd', quiet=False}.0), Elemwise{Composite{((i0 * i1 * i2) / i3)}}(TensorConstant{(1,) of -1.0}, InplaceDimShuffle{x}.0, InplaceDimShuffle{0}.0, _CeleriteOp{name='factor_fwd', quiet=False}.0), Elemwise{Composite{((i0 * i1 * i2) / i3)}}(TensorConstant{(1,) of -1.0}, InplaceDimShuffle{x}.0, InplaceDimShuffle{0}.0, _CeleriteOp{name='factor_fwd', quiet=False}.0), Elemwise{Composite{((i0 * i1 * i2) / i3)}}(TensorConstant{(1,) of -1.0}, InplaceDimShuffle{x}.0, InplaceDimShuffle{0}.0, _CeleriteOp{name='factor_fwd', quiet=False}.0), Elemwise{Composite{((i0 * i1 * i2) / i3)}}(TensorConstant{(1,) of -1.0}, InplaceDimShuffle{x}.0, InplaceDimShuffle{0}.0, _CeleriteOp{name='factor_fwd', quiet=False}.0), Elemwise{Composite{((i0 * i1 * i2) / i3)}}(TensorConstant{(1,) of -1.0}, InplaceDimShuffle{x}.0, InplaceDimShuffle{0}.0, _CeleriteOp{name='factor_fwd', quiet=False}.0), Elemwise{Composite{((i0 * i1 * i2) / i3)}}(TensorConstant{(1,) of -1.0}, InplaceDimShuffle{x}.0, InplaceDimShuffle{0}.0, _CeleriteOp{name='factor_fwd', quiet=False}.0), Elemwise{Composite{((i0 * i1 * i2) / i3)}}(TensorConstant{(1,) of -1.0}, InplaceDimShuffle{x}.0, InplaceDimShuffle{0}.0, _CeleriteOp{name='factor_fwd', quiet=False}.0), Elemwise{Composite{((i0 / i1) + ((i2 * i3 * i4) / sqr(i1)) + ((i2 * i5 * i6) / sqr(i1)) + ((i2 * i7 * i8) / sqr(i1)) + ((i2 * i9 * i10) / sqr(i1)) + ((i2 * i11 * i12) / sqr(i1)) + ((i2 * i13 * i14) / sqr(i1)) + ((i2 * i15 * i16) / sqr(i1)) + ((i2 * i17 * i18) / sqr(i1)) + ((i2 * i19 * i20) / sqr(i1)) + ((i2 * i21 * i22) / sqr(i1)) + ((i2 * i23 * i24) / sqr(i1)) + ((i2 * i25 * i26) / sqr(i1)) + ((i2 * i27 * i28) / sqr(i1)) + ((i2 * i29 * i30) / sqr(i1)) + ((i2 * i31 * i32) / sqr(i1)) + ((i2 * i33 * i34) / sqr(i1)) + ((i2 * i35 * i36) / sqr(i1)) + ((i2 * i37 * i38) / sqr(i1)) + ((i2 * i39 * i40) / sqr(i1)) + ((i2 * i41 * i42) / sqr(i1)) + ((i2 * i43 * i44) / sqr(i1)) + ((i2 * i45 * i46) / sqr(i1)))}}(Elemwise{Composite{(i0 * (i1 + i2 + i3 + i4 + i5 + i6 + i7 + i8 + i9 + i10 + i11 + i12 + i13 + i14 + i15 + i16 + i17 + i18 + i19 + i20 + i21 + i22))}}.0, _CeleriteOp{name='factor_fwd', quiet=False}.0, TensorConstant{(1,) of 0.5}, InplaceDimShuffle{x}.0, Elemwise{sqr,no_inplace}.0, InplaceDimShuffle{x}.0, Elemwise{sqr,no_inplace}.0, InplaceDimShuffle{x}.0, Elemwise{sqr,no_inplace}.0, InplaceDimShuffle{x}.0, Elemwise{sqr,no_inplace}.0, InplaceDimShuffle{x}.0, Elemwise{sqr,no_inplace}.0, InplaceDimShuffle{x}.0, Elemwise{sqr,no_inplace}.0, InplaceDimShuffle{x}.0, Elemwise{sqr,no_inplace}.0, InplaceDimShuffle{x}.0, Elemwise{sqr,no_inplace}.0, InplaceDimShuffle{x}.0, Elemwise{sqr,no_inplace}.0, InplaceDimShuffle{x}.0, Elemwise{sqr,no_inplace}.0, InplaceDimShuffle{x}.0, Elemwise{sqr,no_inplace}.0, InplaceDimShuffle{x}.0, Elemwise{sqr,no_inplace}.0, InplaceDimShuffle{x}.0, Elemwise{sqr,no_inplace}.0, InplaceDimShuffle{x}.0, Elemwise{sqr,no_inplace}.0, InplaceDimShuffle{x}.0, Elemwise{sqr,no_inplace}.0, InplaceDimShuffle{x}.0, Elemwise{sqr,no_inplace}.0, InplaceDimShuffle{x}.0, Elemwise{sqr,no_inplace}.0, InplaceDimShuffle{x}.0, Elemwise{sqr,no_inplace}.0, InplaceDimShuffle{x}.0, Elemwise{sqr,no_inplace}.0, InplaceDimShuffle{x}.0, Elemwise{sqr,no_inplace}.0, InplaceDimShuffle{x}.0, Elemwise{sqr,no_inplace}.0, InplaceDimShuffle{x}.0, Elemwise{sqr,no_inplace}.0)], [_CeleriteOp{name='solve_lower_fwd', quiet=False}(TensorConstant{[4648.3009...29404562]}, Join.0, Join.0, _CeleriteOp{name='factor_fwd', quiet=False}.1, Elemwise{Composite{(i0 - ((i1 * i2) + i3))}}.0), _CeleriteOp{name='solve_lower_fwd', quiet=False}(TensorConstant{[4648.3009...29404562]}, Join.0, Join.0, _CeleriteOp{name='factor_fwd', quiet=False}.1, Elemwise{Composite{(i0 - ((i1 * i2) + i3))}}.0), _CeleriteOp{name='solve_lower_fwd', quiet=False}(TensorConstant{[4648.3009...29404562]}, Join.0, Join.0, _CeleriteOp{name='factor_fwd', quiet=False}.1, Elemwise{Composite{(i0 - ((i1 * i2) + i3))}}.0), _CeleriteOp{name='solve_lower_fwd', quiet=False}(TensorConstant{[4648.3009...29404562]}, Join.0, Join.0, _CeleriteOp{name='factor_fwd', quiet=False}.1, Elemwise{Composite{(i0 - ((i1 * i2) + i3))}}.0), _CeleriteOp{name='solve_lower_fwd', quiet=False}(TensorConstant{[4648.3009...29404562]}, Join.0, Join.0, _CeleriteOp{name='factor_fwd', quiet=False}.1, Elemwise{Composite{(i0 - ((i1 * i2) + i3))}}.0), _CeleriteOp{name='solve_lower_fwd', quiet=False}(TensorConstant{[4648.3009...29404562]}, Join.0, Join.0, _CeleriteOp{name='factor_fwd', quiet=False}.1, Elemwise{Composite{(i0 - ((i1 * i2) + i3))}}.0), _CeleriteOp{name='solve_lower_fwd', quiet=False}(TensorConstant{[4648.3009...29404562]}, Join.0, Join.0, _CeleriteOp{name='factor_fwd', quiet=False}.1, Elemwise{Composite{(i0 - ((i1 * i2) + i3))}}.0), _CeleriteOp{name='solve_lower_fwd', quiet=False}(TensorConstant{[4648.3009...29404562]}, Join.0, Join.0, _CeleriteOp{name='factor_fwd', quiet=False}.1, Elemwise{Composite{(i0 - ((i1 * i2) + i3))}}.0), _CeleriteOp{name='solve_lower_fwd', quiet=False}(TensorConstant{[4648.3009...29404562]}, Join.0, Join.0, _CeleriteOp{name='factor_fwd', quiet=False}.1, Elemwise{Composite{(i0 - ((i1 * i2) + i3))}}.0), _CeleriteOp{name='solve_lower_fwd', quiet=False}(TensorConstant{[4648.3009...29404562]}, Join.0, Join.0, _CeleriteOp{name='factor_fwd', quiet=False}.1, Elemwise{Composite{(i0 - ((i1 * i2) + i3))}}.0), _CeleriteOp{name='solve_lower_fwd', quiet=False}(TensorConstant{[4648.3009...29404562]}, Join.0, Join.0, _CeleriteOp{name='factor_fwd', quiet=False}.1, Elemwise{Composite{(i0 - ((i1 * i2) + i3))}}.0), _CeleriteOp{name='solve_lower_fwd', quiet=False}(TensorConstant{[4648.3009...29404562]}, Join.0, Join.0, _CeleriteOp{name='factor_fwd', quiet=False}.1, Elemwise{Composite{(i0 - ((i1 * i2) + i3))}}.0), _CeleriteOp{name='solve_lower_fwd', quiet=False}(TensorConstant{[4648.3009...29404562]}, Join.0, Join.0, _CeleriteOp{name='factor_fwd', quiet=False}.1, Elemwise{Composite{(i0 - ((i1 * i2) + i3))}}.0), _CeleriteOp{name='solve_lower_fwd', quiet=False}(TensorConstant{[4648.3009...29404562]}, Join.0, Join.0, _CeleriteOp{name='factor_fwd', quiet=False}.1, Elemwise{Composite{(i0 - ((i1 * i2) + i3))}}.0), _CeleriteOp{name='solve_lower_fwd', quiet=False}(TensorConstant{[4648.3009...29404562]}, Join.0, Join.0, _CeleriteOp{name='factor_fwd', quiet=False}.1, Elemwise{Composite{(i0 - ((i1 * i2) + i3))}}.0), _CeleriteOp{name='solve_lower_fwd', quiet=False}(TensorConstant{[4648.3009...29404562]}, Join.0, Join.0, _CeleriteOp{name='factor_fwd', quiet=False}.1, Elemwise{Composite{(i0 - ((i1 * i2) + i3))}}.0), _CeleriteOp{name='solve_lower_fwd', quiet=False}(TensorConstant{[4648.3009...29404562]}, Join.0, Join.0, _CeleriteOp{name='factor_fwd', quiet=False}.1, Elemwise{Composite{(i0 - ((i1 * i2) + i3))}}.0), _CeleriteOp{name='solve_lower_fwd', quiet=False}(TensorConstant{[4648.3009...29404562]}, Join.0, Join.0, _CeleriteOp{name='factor_fwd', quiet=False}.1, Elemwise{Composite{(i0 - ((i1 * i2) + i3))}}.0), _CeleriteOp{name='solve_lower_fwd', quiet=False}(TensorConstant{[4648.3009...29404562]}, Join.0, Join.0, _CeleriteOp{name='factor_fwd', quiet=False}.1, Elemwise{Composite{(i0 - ((i1 * i2) + i3))}}.0), _CeleriteOp{name='solve_lower_fwd', quiet=False}(TensorConstant{[4648.3009...29404562]}, Join.0, Join.0, _CeleriteOp{name='factor_fwd', quiet=False}.1, Elemwise{Composite{(i0 - ((i1 * i2) + i3))}}.0), _CeleriteOp{name='solve_lower_fwd', quiet=False}(TensorConstant{[4648.3009...29404562]}, Join.0, Join.0, _CeleriteOp{name='factor_fwd', quiet=False}.1, Elemwise{Composite{(i0 - ((i1 * i2) + i3))}}.0), _CeleriteOp{name='solve_lower_fwd', quiet=False}(TensorConstant{[4648.3009...29404562]}, Join.0, Join.0, _CeleriteOp{name='factor_fwd', quiet=False}.1, Elemwise{Composite{(i0 - ((i1 * i2) + i3))}}.0), _CeleriteOp{name='solve_lower_rev', quiet=False}(TensorConstant{[4648.3009...29404562]}, Join.0, Join.0, _CeleriteOp{name='factor_fwd', quiet=False}.1, Elemwise{Composite{(i0 - ((i1 * i2) + i3))}}.0, _CeleriteOp{name='solve_lower_fwd', quiet=False}.0, _CeleriteOp{name='solve_lower_fwd', quiet=False}.1, IncSubtensor{InplaceInc;::, int64}.0), _CeleriteOp{name='solve_lower_rev', quiet=False}(TensorConstant{[4648.3009...29404562]}, Join.0, Join.0, _CeleriteOp{name='factor_fwd', quiet=False}.1, Elemwise{Composite{(i0 - ((i1 * i2) + i3))}}.0, _CeleriteOp{name='solve_lower_fwd', quiet=False}.0, _CeleriteOp{name='solve_lower_fwd', quiet=False}.1, IncSubtensor{Inc;::, int64}.0), _CeleriteOp{name='solve_lower_rev', quiet=False}(TensorConstant{[4648.3009...29404562]}, Join.0, Join.0, _CeleriteOp{name='factor_fwd', quiet=False}.1, Elemwise{Composite{(i0 - ((i1 * i2) + i3))}}.0, _CeleriteOp{name='solve_lower_fwd', quiet=False}.0, _CeleriteOp{name='solve_lower_fwd', quiet=False}.1, IncSubtensor{Inc;::, int64}.0), _CeleriteOp{name='solve_lower_rev', quiet=False}(TensorConstant{[4648.3009...29404562]}, Join.0, Join.0, _CeleriteOp{name='factor_fwd', quiet=False}.1, Elemwise{Composite{(i0 - ((i1 * i2) + i3))}}.0, _CeleriteOp{name='solve_lower_fwd', quiet=False}.0, _CeleriteOp{name='solve_lower_fwd', quiet=False}.1, IncSubtensor{Inc;::, int64}.0), _CeleriteOp{name='solve_lower_rev', quiet=False}(TensorConstant{[4648.3009...29404562]}, Join.0, Join.0, _CeleriteOp{name='factor_fwd', quiet=False}.1, Elemwise{Composite{(i0 - ((i1 * i2) + i3))}}.0, _CeleriteOp{name='solve_lower_fwd', quiet=False}.0, _CeleriteOp{name='solve_lower_fwd', quiet=False}.1, IncSubtensor{Inc;::, int64}.0), _CeleriteOp{name='solve_lower_rev', quiet=False}(TensorConstant{[4648.3009...29404562]}, Join.0, Join.0, _CeleriteOp{name='factor_fwd', quiet=False}.1, Elemwise{Composite{(i0 - ((i1 * i2) + i3))}}.0, _CeleriteOp{name='solve_lower_fwd', quiet=False}.0, _CeleriteOp{name='solve_lower_fwd', quiet=False}.1, IncSubtensor{Inc;::, int64}.0), _CeleriteOp{name='solve_lower_rev', quiet=False}(TensorConstant{[4648.3009...29404562]}, Join.0, Join.0, _CeleriteOp{name='factor_fwd', quiet=False}.1, Elemwise{Composite{(i0 - ((i1 * i2) + i3))}}.0, _CeleriteOp{name='solve_lower_fwd', quiet=False}.0, _CeleriteOp{name='solve_lower_fwd', quiet=False}.1, IncSubtensor{Inc;::, int64}.0), _CeleriteOp{name='solve_lower_rev', quiet=False}(TensorConstant{[4648.3009...29404562]}, Join.0, Join.0, _CeleriteOp{name='factor_fwd', quiet=False}.1, Elemwise{Composite{(i0 - ((i1 * i2) + i3))}}.0, _CeleriteOp{name='solve_lower_fwd', quiet=False}.0, _CeleriteOp{name='solve_lower_fwd', quiet=False}.1, IncSubtensor{Inc;::, int64}.0), _CeleriteOp{name='solve_lower_rev', quiet=False}(TensorConstant{[4648.3009...29404562]}, Join.0, Join.0, _CeleriteOp{name='factor_fwd', quiet=False}.1, Elemwise{Composite{(i0 - ((i1 * i2) + i3))}}.0, _CeleriteOp{name='solve_lower_fwd', quiet=False}.0, _CeleriteOp{name='solve_lower_fwd', quiet=False}.1, IncSubtensor{Inc;::, int64}.0), _CeleriteOp{name='solve_lower_rev', quiet=False}(TensorConstant{[4648.3009...29404562]}, Join.0, Join.0, _CeleriteOp{name='factor_fwd', quiet=False}.1, Elemwise{Composite{(i0 - ((i1 * i2) + i3))}}.0, _CeleriteOp{name='solve_lower_fwd', quiet=False}.0, _CeleriteOp{name='solve_lower_fwd', quiet=False}.1, IncSubtensor{Inc;::, int64}.0), _CeleriteOp{name='solve_lower_rev', quiet=False}(TensorConstant{[4648.3009...29404562]}, Join.0, Join.0, _CeleriteOp{name='factor_fwd', quiet=False}.1, Elemwise{Composite{(i0 - ((i1 * i2) + i3))}}.0, _CeleriteOp{name='solve_lower_fwd', quiet=False}.0, _CeleriteOp{name='solve_lower_fwd', quiet=False}.1, IncSubtensor{Inc;::, int64}.0), _CeleriteOp{name='solve_lower_rev', quiet=False}(TensorConstant{[4648.3009...29404562]}, Join.0, Join.0, _CeleriteOp{name='factor_fwd', quiet=False}.1, Elemwise{Composite{(i0 - ((i1 * i2) + i3))}}.0, _CeleriteOp{name='solve_lower_fwd', quiet=False}.0, _CeleriteOp{name='solve_lower_fwd', quiet=False}.1, IncSubtensor{Inc;::, int64}.0), _CeleriteOp{name='solve_lower_rev', quiet=False}(TensorConstant{[4648.3009...29404562]}, Join.0, Join.0, _CeleriteOp{name='factor_fwd', quiet=False}.1, Elemwise{Composite{(i0 - ((i1 * i2) + i3))}}.0, _CeleriteOp{name='solve_lower_fwd', quiet=False}.0, _CeleriteOp{name='solve_lower_fwd', quiet=False}.1, IncSubtensor{Inc;::, int64}.0), _CeleriteOp{name='solve_lower_rev', quiet=False}(TensorConstant{[4648.3009...29404562]}, Join.0, Join.0, _CeleriteOp{name='factor_fwd', quiet=False}.1, Elemwise{Composite{(i0 - ((i1 * i2) + i3))}}.0, _CeleriteOp{name='solve_lower_fwd', quiet=False}.0, _CeleriteOp{name='solve_lower_fwd', quiet=False}.1, IncSubtensor{Inc;::, int64}.0), _CeleriteOp{name='solve_lower_rev', quiet=False}(TensorConstant{[4648.3009...29404562]}, Join.0, Join.0, _CeleriteOp{name='factor_fwd', quiet=False}.1, Elemwise{Composite{(i0 - ((i1 * i2) + i3))}}.0, _CeleriteOp{name='solve_lower_fwd', quiet=False}.0, _CeleriteOp{name='solve_lower_fwd', quiet=False}.1, IncSubtensor{Inc;::, int64}.0), _CeleriteOp{name='solve_lower_rev', quiet=False}(TensorConstant{[4648.3009...29404562]}, Join.0, Join.0, _CeleriteOp{name='factor_fwd', quiet=False}.1, Elemwise{Composite{(i0 - ((i1 * i2) + i3))}}.0, _CeleriteOp{name='solve_lower_fwd', quiet=False}.0, _CeleriteOp{name='solve_lower_fwd', quiet=False}.1, IncSubtensor{Inc;::, int64}.0), _CeleriteOp{name='solve_lower_rev', quiet=False}(TensorConstant{[4648.3009...29404562]}, Join.0, Join.0, _CeleriteOp{name='factor_fwd', quiet=False}.1, Elemwise{Composite{(i0 - ((i1 * i2) + i3))}}.0, _CeleriteOp{name='solve_lower_fwd', quiet=False}.0, _CeleriteOp{name='solve_lower_fwd', quiet=False}.1, IncSubtensor{Inc;::, int64}.0), _CeleriteOp{name='solve_lower_rev', quiet=False}(TensorConstant{[4648.3009...29404562]}, Join.0, Join.0, _CeleriteOp{name='factor_fwd', quiet=False}.1, Elemwise{Composite{(i0 - ((i1 * i2) + i3))}}.0, _CeleriteOp{name='solve_lower_fwd', quiet=False}.0, _CeleriteOp{name='solve_lower_fwd', quiet=False}.1, IncSubtensor{Inc;::, int64}.0), _CeleriteOp{name='solve_lower_rev', quiet=False}(TensorConstant{[4648.3009...29404562]}, Join.0, Join.0, _CeleriteOp{name='factor_fwd', quiet=False}.1, Elemwise{Composite{(i0 - ((i1 * i2) + i3))}}.0, _CeleriteOp{name='solve_lower_fwd', quiet=False}.0, _CeleriteOp{name='solve_lower_fwd', quiet=False}.1, IncSubtensor{Inc;::, int64}.0), _CeleriteOp{name='solve_lower_rev', quiet=False}(TensorConstant{[4648.3009...29404562]}, Join.0, Join.0, _CeleriteOp{name='factor_fwd', quiet=False}.1, Elemwise{Composite{(i0 - ((i1 * i2) + i3))}}.0, _CeleriteOp{name='solve_lower_fwd', quiet=False}.0, _CeleriteOp{name='solve_lower_fwd', quiet=False}.1, IncSubtensor{Inc;::, int64}.0), _CeleriteOp{name='solve_lower_rev', quiet=False}(TensorConstant{[4648.3009...29404562]}, Join.0, Join.0, _CeleriteOp{name='factor_fwd', quiet=False}.1, Elemwise{Composite{(i0 - ((i1 * i2) + i3))}}.0, _CeleriteOp{name='solve_lower_fwd', quiet=False}.0, _CeleriteOp{name='solve_lower_fwd', quiet=False}.1, IncSubtensor{Inc;::, int64}.0), _CeleriteOp{name='solve_lower_rev', quiet=False}(TensorConstant{[4648.3009...29404562]}, Join.0, Join.0, _CeleriteOp{name='factor_fwd', quiet=False}.1, Elemwise{Composite{(i0 - ((i1 * i2) + i3))}}.0, _CeleriteOp{name='solve_lower_fwd', quiet=False}.0, _CeleriteOp{name='solve_lower_fwd', quiet=False}.1, IncSubtensor{Inc;::, int64}.0), _CeleriteOp{name='factor_rev', quiet=False}(TensorConstant{[4648.3009...29404562]}, Join.0, Alloc.0, Join.0, Join.0, _CeleriteOp{name='factor_fwd', quiet=False}.0, _CeleriteOp{name='factor_fwd', quiet=False}.1, _CeleriteOp{name='factor_fwd', quiet=False}.2, Elemwise{Composite{((i0 / i1) + ((i2 * i3 * i4) / sqr(i1)) + ((i2 * i5 * i6) / sqr(i1)) + ((i2 * i7 * i8) / sqr(i1)) + ((i2 * i9 * i10) / sqr(i1)) + ((i2 * i11 * i12) / sqr(i1)) + ((i2 * i13 * i14) / sqr(i1)) + ((i2 * i15 * i16) / sqr(i1)) + ((i2 * i17 * i18) / sqr(i1)) + ((i2 * i19 * i20) / sqr(i1)) + ((i2 * i21 * i22) / sqr(i1)) + ((i2 * i23 * i24) / sqr(i1)) + ((i2 * i25 * i26) / sqr(i1)) + ((i2 * i27 * i28) / sqr(i1)) + ((i2 * i29 * i30) / sqr(i1)) + ((i2 * i31 * i32) / sqr(i1)) + ((i2 * i33 * i34) / sqr(i1)) + ((i2 * i35 * i36) / sqr(i1)) + ((i2 * i37 * i38) / sqr(i1)) + ((i2 * i39 * i40) / sqr(i1)) + ((i2 * i41 * i42) / sqr(i1)) + ((i2 * i43 * i44) / sqr(i1)) + ((i2 * i45 * i46) / sqr(i1)))}}.0, Elemwise{Add}[(0, 0)].0)], [_CeleriteOp{name='factor_rev', quiet=False}(TensorConstant{[4648.3009...29404562]}, Join.0, Alloc.0, Join.0, Join.0, _CeleriteOp{name='factor_fwd', quiet=False}.0, _CeleriteOp{name='factor_fwd', quiet=False}.1, _CeleriteOp{name='factor_fwd', quiet=False}.2, Elemwise{Composite{((i0 / i1) + ((i2 * i3 * i4) / sqr(i1)) + ((i2 * i5 * i6) / sqr(i1)) + ((i2 * i7 * i8) / sqr(i1)) + ((i2 * i9 * i10) / sqr(i1)) + ((i2 * i11 * i12) / sqr(i1)) + ((i2 * i13 * i14) / sqr(i1)) + ((i2 * i15 * i16) / sqr(i1)) + ((i2 * i17 * i18) / sqr(i1)) + ((i2 * i19 * i20) / sqr(i1)) + ((i2 * i21 * i22) / sqr(i1)) + ((i2 * i23 * i24) / sqr(i1)) + ((i2 * i25 * i26) / sqr(i1)) + ((i2 * i27 * i28) / sqr(i1)) + ((i2 * i29 * i30) / sqr(i1)) + ((i2 * i31 * i32) / sqr(i1)) + ((i2 * i33 * i34) / sqr(i1)) + ((i2 * i35 * i36) / sqr(i1)) + ((i2 * i37 * i38) / sqr(i1)) + ((i2 * i39 * i40) / sqr(i1)) + ((i2 * i41 * i42) / sqr(i1)) + ((i2 * i43 * i44) / sqr(i1)) + ((i2 * i45 * i46) / sqr(i1)))}}.0, Elemwise{Add}[(0, 0)].0)]]\n\nBacktrace when the node is created(use Theano flag traceback__limit=N to make it longer):\n  File \"/var/folders/gz/h7_ym7m52dlgq4xpllc1x3m40000gn/T/ipykernel_27580/3279708284.py\", line 192, in <module>\n    model1, map_soln1, orbit1, extras1 = discrete_period_gp_model()\n  File \"/var/folders/gz/h7_ym7m52dlgq4xpllc1x3m40000gn/T/ipykernel_27580/3279708284.py\", line 86, in discrete_period_gp_model\n    gp_tess = GaussianProcess(kernel_tess, t=tess_x[tess_mask], yerr=np.max(tess_yerr))\n  File \"//anaconda3/envs/pymc3_env/lib/python3.9/site-packages/celerite2/core.py\", line 210, in __init__\n    self.compute(t, **kwargs)\n  File \"//anaconda3/envs/pymc3_env/lib/python3.9/site-packages/celerite2/core.py\", line 316, in compute\n    self._do_compute(quiet)\n  File \"//anaconda3/envs/pymc3_env/lib/python3.9/site-packages/celerite2/theano/celerite2.py\", line 83, in _do_compute\n    self._d, self._W, _ = ops.factor(\n  File \"//anaconda3/envs/pymc3_env/lib/python3.9/site-packages/theano/graph/op.py\", line 250, in __call__\n    node = self.make_node(*inputs, **kwargs)\n  File \"//anaconda3/envs/pymc3_env/lib/python3.9/site-packages/celerite2/theano/ops.py\", line 83, in make_node\n    otypes = [\n  File \"//anaconda3/envs/pymc3_env/lib/python3.9/site-packages/celerite2/theano/ops.py\", line 84, in <listcomp>\n    tt.TensorType(\n\nHINT: Use the Theano flag 'exception_verbosity=high' for a debugprint and storage map footprint of this apply node."
     ]
    }
   ],
   "source": [
    "random_seeds = [239081, 3409184, 9890418]\n",
    "with model1:\n",
    "    trace1 = pmx.sample(tune=500,\n",
    "                        draws=5000,\n",
    "                        start=map_soln1,\n",
    "                        chains=1,\n",
    "                       # cores=3,\n",
    "                        return_inferencedata=True,\n",
    "                        random_seed=random_seeds[1])"
   ]
  },
  {
   "cell_type": "code",
   "execution_count": null,
   "metadata": {},
   "outputs": [],
   "source": [
    "random_seeds = [239081, 3409184, 8493874]\n",
    "with model1:\n",
    "    trace2 = pmx.sample(tune=500,\n",
    "                        draws=5000,\n",
    "                        start=map_soln1,\n",
    "                        chains=1,\n",
    "                       # cores=3,\n",
    "                        return_inferencedata=True,\n",
    "                        random_seed=random_seeds[2])"
   ]
  },
  {
   "cell_type": "code",
   "execution_count": null,
   "metadata": {},
   "outputs": [],
   "source": [
    "combined = az.concat((trace,trace1,trace2), dim=(\"chain\"))"
   ]
  },
  {
   "cell_type": "code",
   "execution_count": null,
   "metadata": {},
   "outputs": [],
   "source": [
    "cpost = combined.posterior"
   ]
  },
  {
   "cell_type": "code",
   "execution_count": 289,
   "metadata": {},
   "outputs": [
    {
     "data": {
      "text/html": [
       "<div><svg style=\"position: absolute; width: 0; height: 0; overflow: hidden\">\n",
       "<defs>\n",
       "<symbol id=\"icon-database\" viewBox=\"0 0 32 32\">\n",
       "<path d=\"M16 0c-8.837 0-16 2.239-16 5v4c0 2.761 7.163 5 16 5s16-2.239 16-5v-4c0-2.761-7.163-5-16-5z\"></path>\n",
       "<path d=\"M16 17c-8.837 0-16-2.239-16-5v6c0 2.761 7.163 5 16 5s16-2.239 16-5v-6c0 2.761-7.163 5-16 5z\"></path>\n",
       "<path d=\"M16 26c-8.837 0-16-2.239-16-5v6c0 2.761 7.163 5 16 5s16-2.239 16-5v-6c0 2.761-7.163 5-16 5z\"></path>\n",
       "</symbol>\n",
       "<symbol id=\"icon-file-text2\" viewBox=\"0 0 32 32\">\n",
       "<path d=\"M28.681 7.159c-0.694-0.947-1.662-2.053-2.724-3.116s-2.169-2.030-3.116-2.724c-1.612-1.182-2.393-1.319-2.841-1.319h-15.5c-1.378 0-2.5 1.121-2.5 2.5v27c0 1.378 1.122 2.5 2.5 2.5h23c1.378 0 2.5-1.122 2.5-2.5v-19.5c0-0.448-0.137-1.23-1.319-2.841zM24.543 5.457c0.959 0.959 1.712 1.825 2.268 2.543h-4.811v-4.811c0.718 0.556 1.584 1.309 2.543 2.268zM28 29.5c0 0.271-0.229 0.5-0.5 0.5h-23c-0.271 0-0.5-0.229-0.5-0.5v-27c0-0.271 0.229-0.5 0.5-0.5 0 0 15.499-0 15.5 0v7c0 0.552 0.448 1 1 1h7v19.5z\"></path>\n",
       "<path d=\"M23 26h-14c-0.552 0-1-0.448-1-1s0.448-1 1-1h14c0.552 0 1 0.448 1 1s-0.448 1-1 1z\"></path>\n",
       "<path d=\"M23 22h-14c-0.552 0-1-0.448-1-1s0.448-1 1-1h14c0.552 0 1 0.448 1 1s-0.448 1-1 1z\"></path>\n",
       "<path d=\"M23 18h-14c-0.552 0-1-0.448-1-1s0.448-1 1-1h14c0.552 0 1 0.448 1 1s-0.448 1-1 1z\"></path>\n",
       "</symbol>\n",
       "</defs>\n",
       "</svg>\n",
       "<style>/* CSS stylesheet for displaying xarray objects in jupyterlab.\n",
       " *\n",
       " */\n",
       "\n",
       ":root {\n",
       "  --xr-font-color0: var(--jp-content-font-color0, rgba(0, 0, 0, 1));\n",
       "  --xr-font-color2: var(--jp-content-font-color2, rgba(0, 0, 0, 0.54));\n",
       "  --xr-font-color3: var(--jp-content-font-color3, rgba(0, 0, 0, 0.38));\n",
       "  --xr-border-color: var(--jp-border-color2, #e0e0e0);\n",
       "  --xr-disabled-color: var(--jp-layout-color3, #bdbdbd);\n",
       "  --xr-background-color: var(--jp-layout-color0, white);\n",
       "  --xr-background-color-row-even: var(--jp-layout-color1, white);\n",
       "  --xr-background-color-row-odd: var(--jp-layout-color2, #eeeeee);\n",
       "}\n",
       "\n",
       "html[theme=dark],\n",
       "body.vscode-dark {\n",
       "  --xr-font-color0: rgba(255, 255, 255, 1);\n",
       "  --xr-font-color2: rgba(255, 255, 255, 0.54);\n",
       "  --xr-font-color3: rgba(255, 255, 255, 0.38);\n",
       "  --xr-border-color: #1F1F1F;\n",
       "  --xr-disabled-color: #515151;\n",
       "  --xr-background-color: #111111;\n",
       "  --xr-background-color-row-even: #111111;\n",
       "  --xr-background-color-row-odd: #313131;\n",
       "}\n",
       "\n",
       ".xr-wrap {\n",
       "  display: block;\n",
       "  min-width: 300px;\n",
       "  max-width: 700px;\n",
       "}\n",
       "\n",
       ".xr-text-repr-fallback {\n",
       "  /* fallback to plain text repr when CSS is not injected (untrusted notebook) */\n",
       "  display: none;\n",
       "}\n",
       "\n",
       ".xr-header {\n",
       "  padding-top: 6px;\n",
       "  padding-bottom: 6px;\n",
       "  margin-bottom: 4px;\n",
       "  border-bottom: solid 1px var(--xr-border-color);\n",
       "}\n",
       "\n",
       ".xr-header > div,\n",
       ".xr-header > ul {\n",
       "  display: inline;\n",
       "  margin-top: 0;\n",
       "  margin-bottom: 0;\n",
       "}\n",
       "\n",
       ".xr-obj-type,\n",
       ".xr-array-name {\n",
       "  margin-left: 2px;\n",
       "  margin-right: 10px;\n",
       "}\n",
       "\n",
       ".xr-obj-type {\n",
       "  color: var(--xr-font-color2);\n",
       "}\n",
       "\n",
       ".xr-sections {\n",
       "  padding-left: 0 !important;\n",
       "  display: grid;\n",
       "  grid-template-columns: 150px auto auto 1fr 20px 20px;\n",
       "}\n",
       "\n",
       ".xr-section-item {\n",
       "  display: contents;\n",
       "}\n",
       "\n",
       ".xr-section-item input {\n",
       "  display: none;\n",
       "}\n",
       "\n",
       ".xr-section-item input + label {\n",
       "  color: var(--xr-disabled-color);\n",
       "}\n",
       "\n",
       ".xr-section-item input:enabled + label {\n",
       "  cursor: pointer;\n",
       "  color: var(--xr-font-color2);\n",
       "}\n",
       "\n",
       ".xr-section-item input:enabled + label:hover {\n",
       "  color: var(--xr-font-color0);\n",
       "}\n",
       "\n",
       ".xr-section-summary {\n",
       "  grid-column: 1;\n",
       "  color: var(--xr-font-color2);\n",
       "  font-weight: 500;\n",
       "}\n",
       "\n",
       ".xr-section-summary > span {\n",
       "  display: inline-block;\n",
       "  padding-left: 0.5em;\n",
       "}\n",
       "\n",
       ".xr-section-summary-in:disabled + label {\n",
       "  color: var(--xr-font-color2);\n",
       "}\n",
       "\n",
       ".xr-section-summary-in + label:before {\n",
       "  display: inline-block;\n",
       "  content: '►';\n",
       "  font-size: 11px;\n",
       "  width: 15px;\n",
       "  text-align: center;\n",
       "}\n",
       "\n",
       ".xr-section-summary-in:disabled + label:before {\n",
       "  color: var(--xr-disabled-color);\n",
       "}\n",
       "\n",
       ".xr-section-summary-in:checked + label:before {\n",
       "  content: '▼';\n",
       "}\n",
       "\n",
       ".xr-section-summary-in:checked + label > span {\n",
       "  display: none;\n",
       "}\n",
       "\n",
       ".xr-section-summary,\n",
       ".xr-section-inline-details {\n",
       "  padding-top: 4px;\n",
       "  padding-bottom: 4px;\n",
       "}\n",
       "\n",
       ".xr-section-inline-details {\n",
       "  grid-column: 2 / -1;\n",
       "}\n",
       "\n",
       ".xr-section-details {\n",
       "  display: none;\n",
       "  grid-column: 1 / -1;\n",
       "  margin-bottom: 5px;\n",
       "}\n",
       "\n",
       ".xr-section-summary-in:checked ~ .xr-section-details {\n",
       "  display: contents;\n",
       "}\n",
       "\n",
       ".xr-array-wrap {\n",
       "  grid-column: 1 / -1;\n",
       "  display: grid;\n",
       "  grid-template-columns: 20px auto;\n",
       "}\n",
       "\n",
       ".xr-array-wrap > label {\n",
       "  grid-column: 1;\n",
       "  vertical-align: top;\n",
       "}\n",
       "\n",
       ".xr-preview {\n",
       "  color: var(--xr-font-color3);\n",
       "}\n",
       "\n",
       ".xr-array-preview,\n",
       ".xr-array-data {\n",
       "  padding: 0 5px !important;\n",
       "  grid-column: 2;\n",
       "}\n",
       "\n",
       ".xr-array-data,\n",
       ".xr-array-in:checked ~ .xr-array-preview {\n",
       "  display: none;\n",
       "}\n",
       "\n",
       ".xr-array-in:checked ~ .xr-array-data,\n",
       ".xr-array-preview {\n",
       "  display: inline-block;\n",
       "}\n",
       "\n",
       ".xr-dim-list {\n",
       "  display: inline-block !important;\n",
       "  list-style: none;\n",
       "  padding: 0 !important;\n",
       "  margin: 0;\n",
       "}\n",
       "\n",
       ".xr-dim-list li {\n",
       "  display: inline-block;\n",
       "  padding: 0;\n",
       "  margin: 0;\n",
       "}\n",
       "\n",
       ".xr-dim-list:before {\n",
       "  content: '(';\n",
       "}\n",
       "\n",
       ".xr-dim-list:after {\n",
       "  content: ')';\n",
       "}\n",
       "\n",
       ".xr-dim-list li:not(:last-child):after {\n",
       "  content: ',';\n",
       "  padding-right: 5px;\n",
       "}\n",
       "\n",
       ".xr-has-index {\n",
       "  font-weight: bold;\n",
       "}\n",
       "\n",
       ".xr-var-list,\n",
       ".xr-var-item {\n",
       "  display: contents;\n",
       "}\n",
       "\n",
       ".xr-var-item > div,\n",
       ".xr-var-item label,\n",
       ".xr-var-item > .xr-var-name span {\n",
       "  background-color: var(--xr-background-color-row-even);\n",
       "  margin-bottom: 0;\n",
       "}\n",
       "\n",
       ".xr-var-item > .xr-var-name:hover span {\n",
       "  padding-right: 5px;\n",
       "}\n",
       "\n",
       ".xr-var-list > li:nth-child(odd) > div,\n",
       ".xr-var-list > li:nth-child(odd) > label,\n",
       ".xr-var-list > li:nth-child(odd) > .xr-var-name span {\n",
       "  background-color: var(--xr-background-color-row-odd);\n",
       "}\n",
       "\n",
       ".xr-var-name {\n",
       "  grid-column: 1;\n",
       "}\n",
       "\n",
       ".xr-var-dims {\n",
       "  grid-column: 2;\n",
       "}\n",
       "\n",
       ".xr-var-dtype {\n",
       "  grid-column: 3;\n",
       "  text-align: right;\n",
       "  color: var(--xr-font-color2);\n",
       "}\n",
       "\n",
       ".xr-var-preview {\n",
       "  grid-column: 4;\n",
       "}\n",
       "\n",
       ".xr-var-name,\n",
       ".xr-var-dims,\n",
       ".xr-var-dtype,\n",
       ".xr-preview,\n",
       ".xr-attrs dt {\n",
       "  white-space: nowrap;\n",
       "  overflow: hidden;\n",
       "  text-overflow: ellipsis;\n",
       "  padding-right: 10px;\n",
       "}\n",
       "\n",
       ".xr-var-name:hover,\n",
       ".xr-var-dims:hover,\n",
       ".xr-var-dtype:hover,\n",
       ".xr-attrs dt:hover {\n",
       "  overflow: visible;\n",
       "  width: auto;\n",
       "  z-index: 1;\n",
       "}\n",
       "\n",
       ".xr-var-attrs,\n",
       ".xr-var-data {\n",
       "  display: none;\n",
       "  background-color: var(--xr-background-color) !important;\n",
       "  padding-bottom: 5px !important;\n",
       "}\n",
       "\n",
       ".xr-var-attrs-in:checked ~ .xr-var-attrs,\n",
       ".xr-var-data-in:checked ~ .xr-var-data {\n",
       "  display: block;\n",
       "}\n",
       "\n",
       ".xr-var-data > table {\n",
       "  float: right;\n",
       "}\n",
       "\n",
       ".xr-var-name span,\n",
       ".xr-var-data,\n",
       ".xr-attrs {\n",
       "  padding-left: 25px !important;\n",
       "}\n",
       "\n",
       ".xr-attrs,\n",
       ".xr-var-attrs,\n",
       ".xr-var-data {\n",
       "  grid-column: 1 / -1;\n",
       "}\n",
       "\n",
       "dl.xr-attrs {\n",
       "  padding: 0;\n",
       "  margin: 0;\n",
       "  display: grid;\n",
       "  grid-template-columns: 125px auto;\n",
       "}\n",
       "\n",
       ".xr-attrs dt,\n",
       ".xr-attrs dd {\n",
       "  padding: 0;\n",
       "  margin: 0;\n",
       "  float: left;\n",
       "  padding-right: 10px;\n",
       "  width: auto;\n",
       "}\n",
       "\n",
       ".xr-attrs dt {\n",
       "  font-weight: normal;\n",
       "  grid-column: 1;\n",
       "}\n",
       "\n",
       ".xr-attrs dt:hover span {\n",
       "  display: inline-block;\n",
       "  background: var(--xr-background-color);\n",
       "  padding-right: 10px;\n",
       "}\n",
       "\n",
       ".xr-attrs dd {\n",
       "  grid-column: 2;\n",
       "  white-space: pre-wrap;\n",
       "  word-break: break-all;\n",
       "}\n",
       "\n",
       ".xr-icon-database,\n",
       ".xr-icon-file-text2 {\n",
       "  display: inline-block;\n",
       "  vertical-align: middle;\n",
       "  width: 1em;\n",
       "  height: 1.5em !important;\n",
       "  stroke-width: 0;\n",
       "  stroke: currentColor;\n",
       "  fill: currentColor;\n",
       "}\n",
       "</style><pre class='xr-text-repr-fallback'>&lt;xarray.DataArray &#x27;logl&#x27; (chain: 3, draw: 5000)&gt;\n",
       "array([[-175.83132948, -177.46233971, -176.03646356, ..., -177.33454667,\n",
       "        -183.51469994, -179.54004573],\n",
       "       [-178.97639329, -179.56027712, -180.80401457, ..., -176.86917655,\n",
       "        -180.29050941, -177.98558181],\n",
       "       [-176.12294408, -178.26313601, -180.32194573, ..., -178.86823238,\n",
       "        -178.79265973, -180.93762494]])\n",
       "Coordinates:\n",
       "  * chain    (chain) int64 0 1 2\n",
       "  * draw     (draw) int64 0 1 2 3 4 5 6 7 ... 4993 4994 4995 4996 4997 4998 4999</pre><div class='xr-wrap' hidden><div class='xr-header'><div class='xr-obj-type'>xarray.DataArray</div><div class='xr-array-name'>'logl'</div><ul class='xr-dim-list'><li><span class='xr-has-index'>chain</span>: 3</li><li><span class='xr-has-index'>draw</span>: 5000</li></ul></div><ul class='xr-sections'><li class='xr-section-item'><div class='xr-array-wrap'><input id='section-7a96d787-2b92-4499-a1df-77971e5f81d7' class='xr-array-in' type='checkbox' checked><label for='section-7a96d787-2b92-4499-a1df-77971e5f81d7' title='Show/hide data repr'><svg class='icon xr-icon-database'><use xlink:href='#icon-database'></use></svg></label><div class='xr-array-preview xr-preview'><span>-175.8 -177.5 -176.0 -177.2 -179.5 ... -178.7 -178.9 -178.8 -180.9</span></div><div class='xr-array-data'><pre>array([[-175.83132948, -177.46233971, -176.03646356, ..., -177.33454667,\n",
       "        -183.51469994, -179.54004573],\n",
       "       [-178.97639329, -179.56027712, -180.80401457, ..., -176.86917655,\n",
       "        -180.29050941, -177.98558181],\n",
       "       [-176.12294408, -178.26313601, -180.32194573, ..., -178.86823238,\n",
       "        -178.79265973, -180.93762494]])</pre></div></div></li><li class='xr-section-item'><input id='section-0f6f0c7e-336e-4b4d-81f6-ab245607d8ef' class='xr-section-summary-in' type='checkbox'  checked><label for='section-0f6f0c7e-336e-4b4d-81f6-ab245607d8ef' class='xr-section-summary' >Coordinates: <span>(2)</span></label><div class='xr-section-inline-details'></div><div class='xr-section-details'><ul class='xr-var-list'><li class='xr-var-item'><div class='xr-var-name'><span class='xr-has-index'>chain</span></div><div class='xr-var-dims'>(chain)</div><div class='xr-var-dtype'>int64</div><div class='xr-var-preview xr-preview'>0 1 2</div><input id='attrs-bf285e46-b68f-431f-be89-65cafad448d2' class='xr-var-attrs-in' type='checkbox' disabled><label for='attrs-bf285e46-b68f-431f-be89-65cafad448d2' title='Show/Hide attributes'><svg class='icon xr-icon-file-text2'><use xlink:href='#icon-file-text2'></use></svg></label><input id='data-3a992426-9fed-4943-9ef9-bafb77c2a912' class='xr-var-data-in' type='checkbox'><label for='data-3a992426-9fed-4943-9ef9-bafb77c2a912' title='Show/Hide data repr'><svg class='icon xr-icon-database'><use xlink:href='#icon-database'></use></svg></label><div class='xr-var-attrs'><dl class='xr-attrs'></dl></div><div class='xr-var-data'><pre>array([0, 1, 2])</pre></div></li><li class='xr-var-item'><div class='xr-var-name'><span class='xr-has-index'>draw</span></div><div class='xr-var-dims'>(draw)</div><div class='xr-var-dtype'>int64</div><div class='xr-var-preview xr-preview'>0 1 2 3 4 ... 4996 4997 4998 4999</div><input id='attrs-24f8ac40-ee95-4e53-9c77-1828d43e8522' class='xr-var-attrs-in' type='checkbox' disabled><label for='attrs-24f8ac40-ee95-4e53-9c77-1828d43e8522' title='Show/Hide attributes'><svg class='icon xr-icon-file-text2'><use xlink:href='#icon-file-text2'></use></svg></label><input id='data-a8dc5ffe-3bc2-4c1f-8816-32572714c1cd' class='xr-var-data-in' type='checkbox'><label for='data-a8dc5ffe-3bc2-4c1f-8816-32572714c1cd' title='Show/Hide data repr'><svg class='icon xr-icon-database'><use xlink:href='#icon-database'></use></svg></label><div class='xr-var-attrs'><dl class='xr-attrs'></dl></div><div class='xr-var-data'><pre>array([   0,    1,    2, ..., 4997, 4998, 4999])</pre></div></li></ul></div></li><li class='xr-section-item'><input id='section-ebf379c5-cc46-4e12-8dc9-10ab45f8b5b1' class='xr-section-summary-in' type='checkbox' disabled ><label for='section-ebf379c5-cc46-4e12-8dc9-10ab45f8b5b1' class='xr-section-summary'  title='Expand/collapse section'>Attributes: <span>(0)</span></label><div class='xr-section-inline-details'></div><div class='xr-section-details'><dl class='xr-attrs'></dl></div></li></ul></div></div>"
      ],
      "text/plain": [
       "<xarray.DataArray 'logl' (chain: 3, draw: 5000)>\n",
       "array([[-175.83132948, -177.46233971, -176.03646356, ..., -177.33454667,\n",
       "        -183.51469994, -179.54004573],\n",
       "       [-178.97639329, -179.56027712, -180.80401457, ..., -176.86917655,\n",
       "        -180.29050941, -177.98558181],\n",
       "       [-176.12294408, -178.26313601, -180.32194573, ..., -178.86823238,\n",
       "        -178.79265973, -180.93762494]])\n",
       "Coordinates:\n",
       "  * chain    (chain) int64 0 1 2\n",
       "  * draw     (draw) int64 0 1 2 3 4 5 6 7 ... 4993 4994 4995 4996 4997 4998 4999"
      ]
     },
     "execution_count": 289,
     "metadata": {},
     "output_type": "execute_result"
    }
   ],
   "source": [
    "cpost['logl']"
   ]
  },
  {
   "cell_type": "code",
   "execution_count": 305,
   "metadata": {},
   "outputs": [],
   "source": [
    "COLOR = 'k'#'#FFFAF1'\n",
    "plt.rcParams['font.size'] = 16\n",
    "plt.rcParams['text.color'] = COLOR\n",
    "plt.rcParams['axes.labelcolor'] = COLOR\n",
    "plt.rcParams['xtick.color'] = COLOR\n",
    "plt.rcParams['ytick.color'] = COLOR\n",
    "\n",
    "plt.rcParams['xtick.major.width'] = 3\n",
    "plt.rcParams['ytick.major.width'] = 3\n",
    "plt.rcParams['xtick.major.size']  = 8 #12\n",
    "plt.rcParams['ytick.major.size']  = 8 #12\n",
    "\n",
    "plt.rcParams['xtick.minor.width'] = 1\n",
    "plt.rcParams['ytick.minor.width'] = 1\n",
    "plt.rcParams['xtick.minor.size']  = 6\n",
    "plt.rcParams['ytick.minor.size']  = 6\n",
    "\n",
    "plt.rcParams['axes.linewidth'] = 3\n",
    "lw = 5\n",
    "\n",
    "plt.rcParams['text.color'] = COLOR\n",
    "plt.rcParams['xtick.color'] = COLOR\n",
    "plt.rcParams['ytick.color'] = COLOR\n",
    "plt.rcParams['axes.labelcolor'] = COLOR\n",
    "#plt.rcParams['axes.spines.top'] = False\n",
    "#plt.rcParams['axes.spines.right'] = False\n",
    "plt.rcParams['axes.labelcolor'] = COLOR\n",
    "plt.rcParams['axes.edgecolor'] = COLOR\n",
    "plt.rcParams['figure.facecolor'] = 'none'\n",
    "plt.rcParams['legend.facecolor'] = 'none'\n",
    "parula = np.load('/Users/arcticfox/parula_colors.npy')"
   ]
  },
  {
   "cell_type": "code",
   "execution_count": 327,
   "metadata": {},
   "outputs": [
    {
     "name": "stderr",
     "output_type": "stream",
     "text": [
      "/var/folders/gz/h7_ym7m52dlgq4xpllc1x3m40000gn/T/ipykernel_12963/3367627024.py:17: MatplotlibDeprecationWarning: savefig() got unexpected keyword argument \"rasterize\" which is no longer supported as of 3.3 and will become an error two minor releases later\n",
      "  plt.savefig('/Users/arcticfox/Documents/v1298tau/tess/paper/periode.pdf',\n"
     ]
    },
    {
     "data": {
      "image/png": "[encoded data removed]",
      "text/plain": [
       "<Figure size 504x288 with 1 Axes>"
      ]
     },
     "metadata": {
      "needs_background": "light"
     },
     "output_type": "display_data"
    }
   ],
   "source": [
    "p = np.mean(np.exp([cpost[f\"logl_{n}\"].data - \n",
    "                    cpost[\"logl\"].data for n in range(38, 60)]), axis=(1,2))\n",
    "period = np.nanmedian([cpost[f\"period_{n}\"] for n in range(38, 60)], axis=(1,2))\n",
    "\n",
    "plt.figure(figsize=(7,4))\n",
    "\n",
    "for i in range(len(p)):\n",
    "    plt.vlines(period[i], 0, np.abs(p[i]), lw=5, color='#742C64')\n",
    "plt.vlines(period_b*2, 0,1, linestyle='--', color=parula[60], lw=3,\n",
    "           label='2:1 resonance with V1298 Tau b = {} days'.format(np.round(period_b*2,2)))\n",
    "plt.ylim(0.03,0.05)\n",
    "plt.xlabel('Median Period [days]', fontsize=18)\n",
    "plt.ylabel('Posterior Probability', fontsize=18)\n",
    "plt.legend(fontsize=14,bbox_to_anchor=(0., 1.02, 1., .102), loc='lower left',\n",
    "           ncol=2, mode=\"expand\", borderaxespad=0.)\n",
    "plt.xlim(40,62)\n",
    "plt.savefig('/Users/arcticfox/Documents/v1298tau/tess/paper/periode.pdf', \n",
    "            bbox_inches='tight', dpi=250,\n",
    "            rasterize=True)"
   ]
  },
  {
   "cell_type": "code",
   "execution_count": 301,
   "metadata": {},
   "outputs": [],
   "source": [
    "az.summary(combined).to_csv('trace_planete_new_model_full.csv')"
   ]
  },
  {
   "cell_type": "code",
   "execution_count": 350,
   "metadata": {},
   "outputs": [
    {
     "data": {
      "text/plain": [
       "array([45.0033391 , 45.86878793, 44.16994393, 40.42672835, 43.36685405,\n",
       "       46.76817593, 41.1237409 , 42.59244594, 41.84521004, 47.70353945,\n",
       "       48.67708107, 49.69118693, 50.74844622, 51.85167331, 53.00393272,\n",
       "       54.20856756, 55.46923192, 56.78992792, 58.17504811, 59.62942431,\n",
       "       61.15838391, 62.76781507])"
      ]
     },
     "execution_count": 350,
     "metadata": {},
     "output_type": "execute_result"
    }
   ],
   "source": [
    "period[np.flip(np.argsort(p))]"
   ]
  },
  {
   "cell_type": "code",
   "execution_count": 6,
   "metadata": {},
   "outputs": [],
   "source": [
    "from astropy.table import Table\n",
    "combined = Table.read('/Users/arcticfox/Documents/v1298tau/tess/v1298tau_e/trace_planete_new_model_full.csv')"
   ]
  },
  {
   "cell_type": "code",
   "execution_count": 7,
   "metadata": {},
   "outputs": [
    {
     "data": {
      "text/html": [
       "<div><i>Table length=62</i>\n",
       "<table id=\"table6162209424\" class=\"table-striped table-bordered table-condensed\">\n",
       "<thead><tr><th>col0</th><th>mean</th><th>sd</th><th>hdi_3%</th><th>hdi_97%</th><th>mcse_mean</th><th>mcse_sd</th><th>ess_bulk</th><th>ess_tail</th><th>r_hat</th></tr></thead>\n",
       "<thead><tr><th>str18</th><th>float64</th><th>float64</th><th>float64</th><th>float64</th><th>float64</th><th>float64</th><th>float64</th><th>float64</th><th>float64</th></tr></thead>\n",
       "<tr><td>log_depth_ktwo</td><td>1.606</td><td>0.133</td><td>1.353</td><td>1.857</td><td>0.001</td><td>0.001</td><td>13929.0</td><td>9867.0</td><td>1.0</td></tr>\n",
       "<tr><td>t0</td><td>2263.622</td><td>0.004</td><td>2263.615</td><td>2263.63</td><td>0.0</td><td>0.0</td><td>18710.0</td><td>11356.0</td><td>1.0</td></tr>\n",
       "<tr><td>tn</td><td>4648.799</td><td>0.002</td><td>4648.795</td><td>4648.804</td><td>0.0</td><td>0.0</td><td>16242.0</td><td>10894.0</td><td>1.0</td></tr>\n",
       "<tr><td>mean_ktwo</td><td>0.001</td><td>0.1</td><td>-0.187</td><td>0.187</td><td>0.001</td><td>0.001</td><td>21285.0</td><td>11765.0</td><td>1.0</td></tr>\n",
       "<tr><td>log_rho_sho_ktwo</td><td>2.119</td><td>0.69</td><td>0.896</td><td>3.444</td><td>0.006</td><td>0.005</td><td>13450.0</td><td>8984.0</td><td>1.0</td></tr>\n",
       "<tr><td>log_sigma_sho_ktwo</td><td>3.374</td><td>0.807</td><td>2.046</td><td>4.925</td><td>0.008</td><td>0.006</td><td>13358.0</td><td>7502.0</td><td>1.0</td></tr>\n",
       "<tr><td>mean_tess</td><td>0.001</td><td>0.1</td><td>-0.181</td><td>0.192</td><td>0.001</td><td>0.001</td><td>18985.0</td><td>12017.0</td><td>1.0</td></tr>\n",
       "<tr><td>log_rho_sho_tess</td><td>0.585</td><td>0.471</td><td>-0.182</td><td>1.496</td><td>0.005</td><td>0.004</td><td>10631.0</td><td>6767.0</td><td>1.0</td></tr>\n",
       "<tr><td>log_sigma_sho_tess</td><td>2.09</td><td>0.603</td><td>1.155</td><td>3.196</td><td>0.007</td><td>0.005</td><td>11052.0</td><td>6261.0</td><td>1.0</td></tr>\n",
       "<tr><td>m_star</td><td>1.102</td><td>0.049</td><td>1.01</td><td>1.195</td><td>0.0</td><td>0.0</td><td>19096.0</td><td>11230.0</td><td>1.0</td></tr>\n",
       "<tr><td>r_star</td><td>1.297</td><td>0.067</td><td>1.171</td><td>1.422</td><td>0.001</td><td>0.0</td><td>12273.0</td><td>8828.0</td><td>1.0</td></tr>\n",
       "<tr><td>u_star[0]</td><td>0.584</td><td>0.308</td><td>0.001</td><td>1.063</td><td>0.003</td><td>0.002</td><td>11038.0</td><td>8160.0</td><td>1.0</td></tr>\n",
       "<tr><td>u_star[1]</td><td>0.051</td><td>0.356</td><td>-0.549</td><td>0.693</td><td>0.003</td><td>0.003</td><td>11512.0</td><td>10729.0</td><td>1.0</td></tr>\n",
       "<tr><td>...</td><td>...</td><td>...</td><td>...</td><td>...</td><td>...</td><td>...</td><td>...</td><td>...</td><td>...</td></tr>\n",
       "<tr><td>period_54</td><td>44.17</td><td>0.0</td><td>44.17</td><td>44.17</td><td>0.0</td><td>0.0</td><td>16710.0</td><td>10388.0</td><td>1.0</td></tr>\n",
       "<tr><td>logl_54</td><td>-187.274</td><td>9.572</td><td>-206.373</td><td>-176.231</td><td>0.086</td><td>0.061</td><td>11260.0</td><td>12561.0</td><td>1.0</td></tr>\n",
       "<tr><td>period_55</td><td>43.367</td><td>0.0</td><td>43.367</td><td>43.367</td><td>0.0</td><td>0.0</td><td>16710.0</td><td>10388.0</td><td>1.0</td></tr>\n",
       "<tr><td>logl_55</td><td>-188.299</td><td>10.549</td><td>-209.148</td><td>-176.33</td><td>0.094</td><td>0.067</td><td>11647.0</td><td>12645.0</td><td>1.0</td></tr>\n",
       "<tr><td>period_56</td><td>42.592</td><td>0.0</td><td>42.592</td><td>42.593</td><td>0.0</td><td>0.0</td><td>16710.0</td><td>10388.0</td><td>1.0</td></tr>\n",
       "<tr><td>logl_56</td><td>-189.467</td><td>11.513</td><td>-212.086</td><td>-176.442</td><td>0.102</td><td>0.072</td><td>12078.0</td><td>12702.0</td><td>1.0</td></tr>\n",
       "<tr><td>period_57</td><td>41.845</td><td>0.0</td><td>41.845</td><td>41.845</td><td>0.0</td><td>0.0</td><td>16710.0</td><td>10388.0</td><td>1.0</td></tr>\n",
       "<tr><td>logl_57</td><td>-190.763</td><td>12.449</td><td>-214.736</td><td>-176.298</td><td>0.11</td><td>0.078</td><td>12532.0</td><td>13314.0</td><td>1.0</td></tr>\n",
       "<tr><td>period_58</td><td>41.124</td><td>0.0</td><td>41.124</td><td>41.124</td><td>0.0</td><td>0.0</td><td>16710.0</td><td>10388.0</td><td>1.0</td></tr>\n",
       "<tr><td>logl_58</td><td>-192.175</td><td>13.349</td><td>-217.636</td><td>-176.346</td><td>0.118</td><td>0.083</td><td>12947.0</td><td>13986.0</td><td>1.0</td></tr>\n",
       "<tr><td>period_59</td><td>40.427</td><td>0.0</td><td>40.427</td><td>40.427</td><td>0.0</td><td>0.0</td><td>16710.0</td><td>10388.0</td><td>1.0</td></tr>\n",
       "<tr><td>logl_59</td><td>-193.691</td><td>14.207</td><td>-220.505</td><td>-176.558</td><td>0.125</td><td>0.089</td><td>13286.0</td><td>13805.0</td><td>1.0</td></tr>\n",
       "<tr><td>logl</td><td>-178.03</td><td>2.075</td><td>-181.964</td><td>-174.659</td><td>0.026</td><td>0.019</td><td>6264.0</td><td>9865.0</td><td>1.0</td></tr>\n",
       "</table></div>"
      ],
      "text/plain": [
       "<Table length=62>\n",
       "       col0          mean      sd    hdi_3%  hdi_97%  mcse_mean mcse_sd ess_bulk ess_tail  r_hat \n",
       "      str18        float64  float64 float64  float64   float64  float64 float64  float64  float64\n",
       "------------------ -------- ------- -------- -------- --------- ------- -------- -------- -------\n",
       "    log_depth_ktwo    1.606   0.133    1.353    1.857     0.001   0.001  13929.0   9867.0     1.0\n",
       "                t0 2263.622   0.004 2263.615  2263.63       0.0     0.0  18710.0  11356.0     1.0\n",
       "                tn 4648.799   0.002 4648.795 4648.804       0.0     0.0  16242.0  10894.0     1.0\n",
       "         mean_ktwo    0.001     0.1   -0.187    0.187     0.001   0.001  21285.0  11765.0     1.0\n",
       "  log_rho_sho_ktwo    2.119    0.69    0.896    3.444     0.006   0.005  13450.0   8984.0     1.0\n",
       "log_sigma_sho_ktwo    3.374   0.807    2.046    4.925     0.008   0.006  13358.0   7502.0     1.0\n",
       "         mean_tess    0.001     0.1   -0.181    0.192     0.001   0.001  18985.0  12017.0     1.0\n",
       "  log_rho_sho_tess    0.585   0.471   -0.182    1.496     0.005   0.004  10631.0   6767.0     1.0\n",
       "log_sigma_sho_tess     2.09   0.603    1.155    3.196     0.007   0.005  11052.0   6261.0     1.0\n",
       "            m_star    1.102   0.049     1.01    1.195       0.0     0.0  19096.0  11230.0     1.0\n",
       "            r_star    1.297   0.067    1.171    1.422     0.001     0.0  12273.0   8828.0     1.0\n",
       "         u_star[0]    0.584   0.308    0.001    1.063     0.003   0.002  11038.0   8160.0     1.0\n",
       "         u_star[1]    0.051   0.356   -0.549    0.693     0.003   0.003  11512.0  10729.0     1.0\n",
       "               ...      ...     ...      ...      ...       ...     ...      ...      ...     ...\n",
       "         period_54    44.17     0.0    44.17    44.17       0.0     0.0  16710.0  10388.0     1.0\n",
       "           logl_54 -187.274   9.572 -206.373 -176.231     0.086   0.061  11260.0  12561.0     1.0\n",
       "         period_55   43.367     0.0   43.367   43.367       0.0     0.0  16710.0  10388.0     1.0\n",
       "           logl_55 -188.299  10.549 -209.148  -176.33     0.094   0.067  11647.0  12645.0     1.0\n",
       "         period_56   42.592     0.0   42.592   42.593       0.0     0.0  16710.0  10388.0     1.0\n",
       "           logl_56 -189.467  11.513 -212.086 -176.442     0.102   0.072  12078.0  12702.0     1.0\n",
       "         period_57   41.845     0.0   41.845   41.845       0.0     0.0  16710.0  10388.0     1.0\n",
       "           logl_57 -190.763  12.449 -214.736 -176.298      0.11   0.078  12532.0  13314.0     1.0\n",
       "         period_58   41.124     0.0   41.124   41.124       0.0     0.0  16710.0  10388.0     1.0\n",
       "           logl_58 -192.175  13.349 -217.636 -176.346     0.118   0.083  12947.0  13986.0     1.0\n",
       "         period_59   40.427     0.0   40.427   40.427       0.0     0.0  16710.0  10388.0     1.0\n",
       "           logl_59 -193.691  14.207 -220.505 -176.558     0.125   0.089  13286.0  13805.0     1.0\n",
       "              logl  -178.03   2.075 -181.964 -174.659     0.026   0.019   6264.0   9865.0     1.0"
      ]
     },
     "execution_count": 7,
     "metadata": {},
     "output_type": "execute_result"
    }
   ],
   "source": [
    "combined"
   ]
  },
  {
   "cell_type": "code",
   "execution_count": null,
   "metadata": {},
   "outputs": [],
   "source": []
  }
 ],
 "metadata": {
  "colab": {
   "collapsed_sections": [],
   "name": "V1298Tau-e.ipynb",
   "provenance": []
  },
  "kernelspec": {
   "display_name": "pymc3_env",
   "language": "python",
   "name": "pymc3_env"
  },
  "language_info": {
   "codemirror_mode": {
    "name": "ipython",
    "version": 3
   },
   "file_extension": ".py",
   "mimetype": "text/x-python",
   "name": "python",
   "nbconvert_exporter": "python",
   "pygments_lexer": "ipython3",
   "version": "3.9.7"
  }
 },
 "nbformat": 4,
 "nbformat_minor": 1
}
