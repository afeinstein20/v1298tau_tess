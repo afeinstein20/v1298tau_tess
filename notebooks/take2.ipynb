{
 "cells": [
  {
   "cell_type": "code",
   "execution_count": 1,
   "metadata": {
    "colab": {
     "base_uri": "https://localhost:8080/",
     "height": 447
    },
    "id": "ZSNPMVcA7O0H",
    "outputId": "6722fe5e-ce44-403c-e9b1-2549d89d26c4"
   },
   "outputs": [],
   "source": [
    "import numpy as np\n",
    "import matplotlib as mpl\n",
    "import matplotlib.pyplot as plt\n",
    "\n",
    "import arviz as az\n",
    "import exoplanet as xo\n",
    "import pymc3 as pm\n",
    "import aesara_theano_fallback.tensor as tt\n",
    "import pymc3_ext as pmx\n",
    "from celerite2.theano import terms, GaussianProcess\n",
    "import corner\n",
    "\n",
    "from astropy.time import Time\n",
    "from astropy import time, coordinates as coord, units as u\n",
    "import astropy.constants as c\n",
    "\n",
    "import time as timer\n",
    "\n",
    "tangerine = ['#1a2754','#f9a919','#2ab59f','#e2721c','#db3e0e','#067bc1']"
   ]
  },
  {
   "cell_type": "code",
   "execution_count": 2,
   "metadata": {
    "id": "UEwSqtTR89t7"
   },
   "outputs": [],
   "source": [
    "def normalize_lc(flux):\n",
    "    #Returns median-normalized flux in units of parts-per-thousand\n",
    "    mu = np.nanmedian(flux)\n",
    "    return (flux/mu - 1) * 1e3"
   ]
  },
  {
   "cell_type": "markdown",
   "metadata": {
    "id": "iymqIFfe-xM-"
   },
   "source": [
    "# **K2 light curve**"
   ]
  },
  {
   "cell_type": "code",
   "execution_count": 3,
   "metadata": {
    "colab": {
     "base_uri": "https://localhost:8080/"
    },
    "id": "u4FMFvux-1Z3",
    "outputId": "d517dc68-7f40-4b3e-df7e-918fcb80dbe6"
   },
   "outputs": [
    {
     "name": "stdout",
     "output_type": "stream",
     "text": [
      "XREF = 2228.800412053417\n"
     ]
    }
   ],
   "source": [
    "from astropy.io import fits\n",
    "from scipy.signal import savgol_filter\n",
    "\n",
    "lc_url = \"https://archive.stsci.edu/hlsps/everest/v2/c04/210800000/18897/hlsp_everest_k2_llc_210818897-c04_kepler_v2.0_lc.fits\"\n",
    "    \n",
    "# Download the data\n",
    "with fits.open(lc_url) as hdus:\n",
    "    lc = hdus[1].data\n",
    "    lc_hdr = hdus[1].header\n",
    "\n",
    "# Work out the exposure time\n",
    "ktwo_texp = lc_hdr[\"FRAMETIM\"] * lc_hdr[\"NUM_FRM\"]\n",
    "ktwo_texp /= 60.0 * 60.0 * 24.0\n",
    "\n",
    "ktwo_x = lc[\"TIME\"]\n",
    "ktwo_y = lc[\"FLUX\"]\n",
    "ktwo_qual = lc[\"QUALITY\"]    \n",
    "    \n",
    "# Mask bad data\n",
    "m = np.isfinite(ktwo_x) & np.isfinite(ktwo_y)\n",
    "\n",
    "# Median normalize flux and convert to parts per thousand\n",
    "ktwo_y = normalize_lc(ktwo_y)\n",
    "ktwo_yerr = 0.177*np.ones_like(ktwo_y)\n",
    "\n",
    "\n",
    "# Shift the data so that the K2 data start at t=0. This tends to make the fit\n",
    "# better behaved since t0 covaries with period.\n",
    "x_ref = np.min(ktwo_x[m])\n",
    "\n",
    "# Trim the light curve around the transit of planet e\n",
    "m &= (abs(ktwo_x-2263.6229)<0.5)\n",
    "\n",
    "# Make sure that the data type is consistent\n",
    "ktwo_x = np.ascontiguousarray(ktwo_x[m], dtype=np.float64)\n",
    "ktwo_y = np.ascontiguousarray(ktwo_y[m], dtype=np.float64)\n",
    "ktwo_yerr = np.ascontiguousarray(ktwo_yerr[m], dtype=np.float64)\n",
    "ktwo_qual = np.ascontiguousarray(ktwo_qual[m], dtype=np.float64)\n",
    "\n",
    "print('XREF =', x_ref)"
   ]
  },
  {
   "cell_type": "code",
   "execution_count": 4,
   "metadata": {
    "id": "S6u9XPau9IHl"
   },
   "outputs": [
    {
     "name": "stderr",
     "output_type": "stream",
     "text": [
      "WARNING: leap-second auto-update failed due to the following exception: ValueError(\"Malformed URL: '//anaconda3/envs/pymc3_env/lib/python3.9/site-packages/astropy/utils/iers/data/Leap_Second.dat'\") [astropy.time.core]\n"
     ]
    },
    {
     "name": "stdout",
     "output_type": "stream",
     "text": [
      "0.006944432854652405\n"
     ]
    }
   ],
   "source": [
    "#Note: upload the TICA light curve from the file manager at left\n",
    "tica = np.loadtxt('../data/v1298_s43_o1_v2.txt')\n",
    "tess_mjd  = tica[:,0] \n",
    "tess_f1   = tica[:,1]\n",
    "\n",
    "tess_f1 = normalize_lc(tess_f1)\n",
    "\n",
    "\n",
    "tess_bjd  = Time(tess_mjd, format='mjd').jd\n",
    "\n",
    "# light travel time correction\n",
    "greenwich = coord.EarthLocation.of_site('greenwich')\n",
    "times = time.Time(tess_bjd, format='jd', location=greenwich)\n",
    "moon = coord.get_moon(times)\n",
    "delta_time = times.light_travel_time(moon)\n",
    "tess_bkjd = times.value + delta_time.value - 2454833.0\n",
    "\n",
    "tess_beg = tess_bkjd.min()\n",
    "tess_end = tess_bkjd.max()\n",
    "tess_mission_flag = ['tess']*len(tess_bkjd)\n",
    "tess_texp = np.median(np.diff(tess_bkjd))\n",
    "print(tess_texp)\n",
    "\n",
    "tess_x = tess_bkjd\n",
    "tess_y = tess_f1\n",
    "\n",
    "# Select the data around the transit of planet e (we think)\n",
    "tess_m = abs(tess_x-4648.8)<0.5\n",
    "\n",
    "tess_x = np.ascontiguousarray(tess_x[tess_m], dtype=np.float64)\n",
    "tess_y = np.ascontiguousarray(tess_y[tess_m], dtype=np.float64)\n",
    "\n",
    "#mission_flag = tess_mission_flag"
   ]
  },
  {
   "cell_type": "code",
   "execution_count": 35,
   "metadata": {
    "colab": {
     "base_uri": "https://localhost:8080/",
     "height": 431
    },
    "id": "5lpId6cEywob",
    "outputId": "b09b8317-51b5-46c0-d254-bfb7b6fd242a"
   },
   "outputs": [
    {
     "data": {
      "image/png": "[encoded data removed]",
      "text/plain": [
       "<Figure size 432x288 with 1 Axes>"
      ]
     },
     "metadata": {
      "needs_background": "light"
     },
     "output_type": "display_data"
    }
   ],
   "source": [
    "tica2 = np.load('/Users/arcticfox/Documents/v1298tau/tess/gp_2min.npy', \n",
    "                allow_pickle=True).tolist()\n",
    "\n",
    "tica2_bkjd  = tica2['time']\n",
    "\n",
    "tica2_f1   = tica2['flux']\n",
    "tica2_e1   = tica2['flux_err']\n",
    "tess_m = abs(tica2_bkjd-4648.8)<0.5\n",
    "\n",
    "tica2_x =np.ascontiguousarray(tica2_bkjd[tess_m][1:], dtype=np.float64)\n",
    "tica2_y =np.ascontiguousarray(tica2_f1[tess_m][1:]+3.5, dtype=np.float64)\n",
    "tica2_yerr =np.ascontiguousarray(tica2_e1[tess_m][1:],dtype=np.float64)\n",
    "\n",
    "plt.plot(tess_bkjd, tess_f1+0.5, '.')\n",
    "plt.plot(tica2_bkjd, tica2_f1, '.')\n",
    "#plt.xlim(4645.39920514-0.5,4645.39920514+0.5)\n",
    "plt.xlim(4648.72281079-1, 4648.72281079+1)\n",
    "#plt.ylim(-5,10)\n",
    "plt.ylim(-15,15)\n",
    "plt.show()"
   ]
  },
  {
   "cell_type": "code",
   "execution_count": 36,
   "metadata": {
    "colab": {
     "base_uri": "https://localhost:8080/",
     "height": 452
    },
    "id": "moRGHydJ9N5b",
    "outputId": "972bf3cb-c3c6-4aa9-a911-a7a9e4f4fa82"
   },
   "outputs": [
    {
     "data": {
      "image/png": "[encoded data removed]",
      "text/plain": [
       "<Figure size 576x216 with 2 Axes>"
      ]
     },
     "metadata": {
      "needs_background": "light"
     },
     "output_type": "display_data"
    }
   ],
   "source": [
    "fig,(ax1,ax2) = plt.subplots(1,2,figsize=(8,3))\n",
    "\n",
    "# Plot the data\n",
    "ax1.errorbar(ktwo_x, ktwo_y, yerr=ktwo_yerr, fmt='.', label=\"K2\")\n",
    "ax1.set_xlabel(\"BKJD\")\n",
    "ax1.set_ylabel(\"Relative flux [ppt]\")\n",
    "ax1.set_title(\"K2\")\n",
    "\n",
    "ax2.plot(tess_x, tess_y, 'k.')\n",
    "ax2.errorbar(tica2_x, tica2_y, yerr=tica2_yerr, fmt='.')\n",
    "ax2.set_xlabel(\"BKJD\")\n",
    "ax2.set_ylabel(\"Relative flux [ppt]\")\n",
    "ax2.set_title(\"TESS\")\n",
    "\n",
    "plt.tight_layout()\n",
    "plt.show()"
   ]
  },
  {
   "cell_type": "code",
   "execution_count": 37,
   "metadata": {
    "colab": {
     "base_uri": "https://localhost:8080/",
     "height": 335
    },
    "id": "ErguoD7RAaYu",
    "outputId": "72b2a863-bf67-42b5-8a60-10611642ba6d"
   },
   "outputs": [
    {
     "name": "stderr",
     "output_type": "stream",
     "text": [
      "optimizing logp for variables: [mean_tess, mean_ktwo, log_sigma_sho_tess, log_rho_sho_tess, log_sigma_sho_ktwo, log_rho_sho_ktwo]\n"
     ]
    },
    {
     "data": {
      "text/html": [
       "\n",
       "    <div>\n",
       "        <style>\n",
       "            /* Turns off some styling */\n",
       "            progress {\n",
       "                /* gets rid of default border in Firefox and Opera. */\n",
       "                border: none;\n",
       "                /* Needs to be in here for Safari polyfill so background images work as expected. */\n",
       "                background-size: auto;\n",
       "            }\n",
       "            .progress-bar-interrupted, .progress-bar-interrupted::-webkit-progress-bar {\n",
       "                background: #F44336;\n",
       "            }\n",
       "        </style>\n",
       "      <progress value='68' class='' max='68' style='width:300px; height:20px; vertical-align: middle;'></progress>\n",
       "      100.00% [68/68 00:00<00:00 logp = -2.452e+02]\n",
       "    </div>\n",
       "    "
      ],
      "text/plain": [
       "<IPython.core.display.HTML object>"
      ]
     },
     "metadata": {},
     "output_type": "display_data"
    },
    {
     "name": "stdout",
     "output_type": "stream",
     "text": [
      "\n"
     ]
    },
    {
     "name": "stderr",
     "output_type": "stream",
     "text": [
      "message: Desired error not necessarily achieved due to precision loss.\n",
      "logp: -259.50201337071235 -> -245.21351347165702\n",
      "optimizing logp for variables: [log_depth_ktwo, b]\n"
     ]
    },
    {
     "data": {
      "text/html": [
       "\n",
       "    <div>\n",
       "        <style>\n",
       "            /* Turns off some styling */\n",
       "            progress {\n",
       "                /* gets rid of default border in Firefox and Opera. */\n",
       "                border: none;\n",
       "                /* Needs to be in here for Safari polyfill so background images work as expected. */\n",
       "                background-size: auto;\n",
       "            }\n",
       "            .progress-bar-interrupted, .progress-bar-interrupted::-webkit-progress-bar {\n",
       "                background: #F44336;\n",
       "            }\n",
       "        </style>\n",
       "      <progress value='12' class='' max='12' style='width:300px; height:20px; vertical-align: middle;'></progress>\n",
       "      100.00% [12/12 00:00<00:00 logp = -2.286e+02]\n",
       "    </div>\n",
       "    "
      ],
      "text/plain": [
       "<IPython.core.display.HTML object>"
      ]
     },
     "metadata": {},
     "output_type": "display_data"
    },
    {
     "name": "stdout",
     "output_type": "stream",
     "text": [
      "\n"
     ]
    },
    {
     "name": "stderr",
     "output_type": "stream",
     "text": [
      "message: Optimization terminated successfully.\n",
      "logp: -245.21351347165393 -> -228.63486470572488\n",
      "optimizing logp for variables: [log_sigma_sho_tess, log_rho_sho_tess, log_sigma_sho_ktwo, log_rho_sho_ktwo, yerr_tess, log_sigma_jit_ktwo, log_sigma_lc_ktwo, mean_ktwo, mean_tess, log_period, t0, log_depth_ktwo, b, u_star, r_star, m_star]\n"
     ]
    },
    {
     "data": {
      "text/html": [
       "\n",
       "    <div>\n",
       "        <style>\n",
       "            /* Turns off some styling */\n",
       "            progress {\n",
       "                /* gets rid of default border in Firefox and Opera. */\n",
       "                border: none;\n",
       "                /* Needs to be in here for Safari polyfill so background images work as expected. */\n",
       "                background-size: auto;\n",
       "            }\n",
       "            .progress-bar-interrupted, .progress-bar-interrupted::-webkit-progress-bar {\n",
       "                background: #F44336;\n",
       "            }\n",
       "        </style>\n",
       "      <progress value='140' class='' max='140' style='width:300px; height:20px; vertical-align: middle;'></progress>\n",
       "      100.00% [140/140 00:00<00:00 logp = -1.792e+02]\n",
       "    </div>\n",
       "    "
      ],
      "text/plain": [
       "<IPython.core.display.HTML object>"
      ]
     },
     "metadata": {},
     "output_type": "display_data"
    },
    {
     "name": "stdout",
     "output_type": "stream",
     "text": [
      "\n"
     ]
    },
    {
     "name": "stderr",
     "output_type": "stream",
     "text": [
      "message: Desired error not necessarily achieved due to precision loss.\n",
      "logp: -228.63486470572488 -> -179.2429757166045\n"
     ]
    }
   ],
   "source": [
    "#Stellar parameters\n",
    "M_star  = 1.10, 0.05\n",
    "R_star  = 1.305, 0.07\n",
    "\n",
    "n_pl = 1\n",
    "\n",
    "# These arrays are used as the times/phases where the models are\n",
    "# evaluated at higher resolution for plotting purposes\n",
    "phase_lc = np.linspace(-0.3, 0.3, 100)\n",
    "\n",
    "def build_model(ktwo_mask=None, \n",
    "                tess_mask=None, \n",
    "                start=None,\n",
    "                eccentric=False):\n",
    "    \n",
    "    if ktwo_mask is None:\n",
    "        ktwo_mask = np.ones(len(ktwo_x), dtype=bool)\n",
    "    if tess_mask is None:\n",
    "        tess_mask = np.ones(len(tica2_x), dtype=bool)\n",
    "    \n",
    "    with pm.Model() as model:\n",
    "\n",
    "        # Parameters for the stellar properties\n",
    "        BoundedNormal = pm.Bound(pm.Normal, lower=0, upper=3)\n",
    "        m_star = BoundedNormal(\"m_star\", mu=M_star[0], sd=M_star[1])\n",
    "        r_star = BoundedNormal(\"r_star\", mu=R_star[0], sd=R_star[1])        \n",
    "        u_star = xo.QuadLimbDark(\"u_star\")\n",
    "        star = xo.LimbDarkLightCurve(u_star)\n",
    "\n",
    "        # Fit in terms of transit depth (assuming b<1)\n",
    "        b = pm.Uniform(\"b\", lower=0, upper=1)\n",
    "        \n",
    "        # K2 transit depth and radius ratio\n",
    "        log_depth_ktwo = pm.Normal(\"log_depth_ktwo\", mu=np.log(4), sigma=2)                        \n",
    "        ror_ktwo = pm.Deterministic(\"ror_ktwo\", \n",
    "                                    star.get_ror_from_approx_transit_depth(\n",
    "                                        1e-3 * tt.exp(log_depth_ktwo), b\n",
    "                                    ),\n",
    "                                   )\n",
    "        r_pl_ktwo = pm.Deterministic(\"r_pl_ktwo\", ror_ktwo * r_star)\n",
    "        r_pl_rade_ktwo = pm.Deterministic(\"r_pl_rade_ktwo\", ror_ktwo * r_star * c.R_sun/c.R_earth)\n",
    "\n",
    "        # Eccentricity and longitude of periastron\n",
    "        if eccentric==True:\n",
    "            ecs = pmx.UnitDisk(\"ecs\", shape=(2, 1), testval=0.01 * np.ones((2, 1)))\n",
    "            ecc = pm.Deterministic(\"ecc\", tt.sum(ecs ** 2, axis=0))\n",
    "            omega = pm.Deterministic(\"omega\", tt.arctan2(ecs[1], ecs[0]))\n",
    "            xo.eccentricity.vaneylen19(\"ecc_prior\", \n",
    "                                        multi=True, shape=1, fixed=True, observed=ecc)\n",
    "        \n",
    "        elif eccentric==False:\n",
    "            ecc = np.zeros(n_pl)\n",
    "            omega = np.pi/2*np.ones(n_pl)\n",
    "            \n",
    "        \n",
    "        # Ephemeris parameters\n",
    "        t0 = pm.Normal(\"t0\", mu=2263.6229, sd=0.1)\n",
    "        log_period = pm.Normal(\"log_period\", mu=np.log(48.67687959183674), sd=1e-3)\n",
    "        #log_period = pm.Normal(\"log_period\", mu=np.log(48.67687959183674), sd=1)\n",
    "        period = pm.Deterministic(\"period\", tt.exp(log_period))\n",
    "\n",
    "        # Orbit models\n",
    "        orbit = xo.orbits.KeplerianOrbit(\n",
    "            r_star=r_star,\n",
    "            m_star=m_star,\n",
    "            period=period,\n",
    "            t0=t0,\n",
    "            b=b,\n",
    "            ecc=ecc,\n",
    "            omega=omega,\n",
    "        )\n",
    "\n",
    "        ########################################################################################        \n",
    "        ########################################################################################\n",
    "        # Compute the model light curve\n",
    "        mean_tess = pm.Normal(\"mean_tess\", mu=0.0, sd=10.0)\n",
    "        mean_ktwo = pm.Normal(\"mean_ktwo\", mu=0.0, sd=10.0)\n",
    "\n",
    "        light_curves_ktwo = (\n",
    "            star.get_light_curve(\n",
    "                orbit=orbit, \n",
    "                r=r_pl_ktwo, \n",
    "                t=ktwo_x[ktwo_mask], \n",
    "                texp=ktwo_texp) * 1e3\n",
    "        )\n",
    "        light_curve_ktwo = pm.math.sum(light_curves_ktwo, axis=-1) + mean_ktwo\n",
    "\n",
    "        \n",
    "        light_curves_tess = (\n",
    "            star.get_light_curve(\n",
    "                orbit=orbit, \n",
    "                r=r_pl_ktwo, \n",
    "                t=tica2_x[tess_mask], \n",
    "                texp=tess_texp) * 1e3\n",
    "        )\n",
    "        light_curve_tess = pm.math.sum(light_curves_tess, axis=-1) + mean_tess\n",
    "\n",
    "        \n",
    "        # Light curve noise and in-transit jitter\n",
    "        log_sigma_lc_ktwo  = pm.Normal(\"log_sigma_lc_ktwo\", \n",
    "                                       mu=np.log(0.01*np.std(ktwo_y[ktwo_mask])), sd=10)\n",
    "        log_sigma_jit_ktwo = pm.Normal(\"log_sigma_jit_ktwo\", \n",
    "                                       mu=np.log(0.02*np.std(ktwo_y[ktwo_mask])), sd=10) \n",
    "        yerr_ktwo = pm.Deterministic(\"yerr_ktwo\", \n",
    "                                     tt.exp(log_sigma_lc_ktwo) + tt.exp(2*log_sigma_jit_ktwo)*(light_curve_ktwo**2))\n",
    "        \n",
    "        \n",
    "        # Light curve noise and in-transit jitter\n",
    "        #log_sigma_lc_tess  = pm.Normal(\"log_sigma_lc_tess\", \n",
    "        #                               mu=np.log(0.01*np.std(tica2_y[tess_mask])), sd=10)\n",
    "        #log_sigma_jit_tess = pm.Normal(\"log_sigma_jit_tess\",\n",
    "        #                               mu=np.log(0.02*np.std(tica2_y[tess_mask])), sd=10) \n",
    "        yerr_tess = pm.Normal('yerr_tess',\n",
    "                             mu=np.nanmean(tica2_yerr[tess_mask]),\n",
    "                             sd=np.nanstd(tica2_yerr[tess_mask]))\n",
    "        #yerr_tess = pm.Deterministic(\"yerr_tess\", \n",
    "        #                             tt.exp(log_sigma_lc_tess) + tt.exp(2*log_sigma_jit_tess)*(light_curve_tess**2))\n",
    "\n",
    "        resid_tess = pm.Deterministic(\"resid_tess\", tica2_y[tess_mask] - light_curve_tess)\n",
    "        resid_ktwo = pm.Deterministic(\"resid_ktwo\", ktwo_y[ktwo_mask] - light_curve_ktwo)\n",
    "\n",
    "        #The parameters of the first SHO term\n",
    "        log_rho_sho_ktwo = pm.Normal(\"log_rho_sho_ktwo\", mu=0.0, sd=10)\n",
    "        log_sigma_sho_ktwo = pm.Normal(\"log_sigma_sho_ktwo\", \n",
    "                                       mu=np.log(np.std(ktwo_y[ktwo_mask])), sd=10)\n",
    "\n",
    "        #The parameters of the first SHO term\n",
    "        log_rho_sho_tess = pm.Normal(\"log_rho_sho_tess\", mu=0.0, sd=10)\n",
    "        log_sigma_sho_tess = pm.Normal(\"log_sigma_sho_tess\", \n",
    "                                       mu=np.log(np.std(tica2_y[tess_mask])), sd=10)\n",
    "\n",
    "\n",
    "        kernel_ktwo = terms.SHOTerm(\n",
    "            sigma=tt.exp(log_sigma_sho_ktwo),\n",
    "            rho=tt.exp(log_rho_sho_ktwo),\n",
    "            Q=1 / np.sqrt(2),\n",
    "        )\n",
    "\n",
    "        kernel_tess = terms.SHOTerm(\n",
    "            sigma=tt.exp(log_sigma_sho_tess),\n",
    "            rho=tt.exp(log_rho_sho_tess),\n",
    "            Q=1 / np.sqrt(2),\n",
    "        )        \n",
    "\n",
    "        gp_ktwo = GaussianProcess(kernel_ktwo, t=ktwo_x[ktwo_mask], yerr=yerr_ktwo)\n",
    "        gp_ktwo.marginal(\"transit_obs_ktwo\", observed=resid_ktwo)\n",
    "\n",
    "        gp_tess = GaussianProcess(kernel_tess, t=tica2_x[tess_mask], yerr=yerr_tess)\n",
    "        gp_tess.marginal(\"transit_obs_tess\", observed=resid_tess)           \n",
    "\n",
    "        map_soln = model.test_point\n",
    "        \n",
    "        map_soln = pmx.optimize(start=map_soln, vars=[log_rho_sho_ktwo, log_sigma_sho_ktwo,\n",
    "                                                   log_rho_sho_tess, log_sigma_sho_tess,\n",
    "                                                   mean_ktwo, mean_tess\n",
    "                                                   ])\n",
    "\n",
    "        map_soln = pmx.optimize(start=map_soln, vars=[b, log_depth_ktwo])\n",
    "\n",
    "        map_soln = pmx.optimize(start=map_soln)\n",
    "\n",
    "        extras = dict(\n",
    "            zip(\n",
    "                [\"light_curves_ktwo\",\n",
    "                 \"light_curves_tess\",\n",
    "                 \"gp_pred_ktwo\",\n",
    "                 \"gp_pred_tess\"],\n",
    "                pmx.eval_in_model([light_curves_ktwo,\n",
    "                                   light_curves_tess,\n",
    "                                   gp_ktwo.predict(resid_ktwo),\n",
    "                                   gp_tess.predict(resid_tess)], \n",
    "                                   map_soln),\n",
    "            )\n",
    "        )\n",
    "\n",
    "    return model, map_soln, extras, orbit\n",
    "\n",
    "model0, map_soln0, extras0, orbit0 = build_model()"
   ]
  },
  {
   "cell_type": "code",
   "execution_count": 38,
   "metadata": {
    "colab": {
     "base_uri": "https://localhost:8080/",
     "height": 1000
    },
    "id": "QmARXEBjJEmM",
    "outputId": "f51f5323-c730-4d51-95ce-80b5afbc8ab9"
   },
   "outputs": [
    {
     "data": {
      "image/png": "[encoded data removed]",
      "text/plain": [
       "<Figure size 720x720 with 6 Axes>"
      ]
     },
     "metadata": {
      "needs_background": "light"
     },
     "output_type": "display_data"
    }
   ],
   "source": [
    "def plot_light_curve(soln, \n",
    "                     extras, \n",
    "                     xrange=[4641,4653], \n",
    "                     ktwo_mask=None,\n",
    "                     tess_mask=None):\n",
    "\n",
    "    \n",
    "    if ktwo_mask is None:\n",
    "        ktwo_mask = np.ones(len(ktwo_x), dtype=bool)\n",
    "\n",
    "    if tess_mask is None:\n",
    "        tess_mask = np.ones(len(tess_x), dtype=bool)        \n",
    "        \n",
    "    fig, axes = plt.subplots(nrows=3, ncols=2, figsize=(10, 10))\n",
    "\n",
    "    gp_mod_ktwo = extras[\"gp_pred_ktwo\"] + soln[\"mean_ktwo\"]\n",
    "    gp_mod_tess = extras[\"gp_pred_tess\"] + soln[\"mean_tess\"]\n",
    "\n",
    "    mod_sum_ktwo = np.sum(extras[\"light_curves_ktwo\"], axis=-1)\n",
    "    mod_sum_tess = np.sum(extras[\"light_curves_tess\"], axis=-1)\n",
    "\n",
    "    mod_ktwo = gp_mod_ktwo + mod_sum_ktwo\n",
    "    mod_ktwo = gp_mod_tess + mod_sum_tess\n",
    "\n",
    "    xdata = [ktwo_x[ktwo_mask], tess_x[tess_mask]]\n",
    "    ydata = [ktwo_y[ktwo_mask], tess_y[tess_mask]]\n",
    "    mission = [\"ktwo\", \"tess\"]\n",
    "\n",
    "    for i in range(2):\n",
    "\n",
    "        gp_mod = extras[\"gp_pred_\"+mission[i]] + soln[\"mean_\"+mission[i]]\n",
    "        lc_mod = np.sum(extras[\"light_curves_\"+mission[i]], axis=-1)\n",
    "\n",
    "        yerr = soln[\"yerr_\"+mission[i]]\n",
    "\n",
    "        ax = axes[0][i]\n",
    "        ax.errorbar(xdata[i], ydata[i], yerr=yerr)\n",
    "        ax.plot(xdata[i], gp_mod, color=\"C2\", label=\"GP model\")\n",
    "        ax.legend(fontsize=10)\n",
    "        ax.set_ylabel(\"Relative flux [ppt]\")\n",
    "        ax.set_title(mission[i].upper())\n",
    "\n",
    "        ax = axes[1][i]\n",
    "        ax.errorbar(xdata[i], ydata[i] - gp_mod, yerr=yerr)\n",
    "        ax.plot(xdata[i], lc_mod, label=\"Transit model\", color=\"C5\")          \n",
    "        ax.legend(fontsize=10, loc=3)\n",
    "        ax.set_ylabel(\"De-trended flux [ppt]\")\n",
    "        ax.set_ylim(-7.5,3.5)\n",
    "\n",
    "        ax = axes[2][i]\n",
    "        ax.errorbar(xdata[i], ydata[i] - gp_mod - lc_mod, yerr=yerr)\n",
    "        ax.axhline(0, color=\"#aaaaaa\", lw=1)\n",
    "        ax.set_ylabel(\"Residuals [ppt]\")\n",
    "        ax.set_xlabel(\"BKJD [days]\")\n",
    "\n",
    "    plt.tight_layout()\n",
    "\n",
    "    return fig\n",
    " \n",
    "_ = plot_light_curve(map_soln0, extras0)"
   ]
  },
  {
   "cell_type": "code",
   "execution_count": 39,
   "metadata": {
    "colab": {
     "base_uri": "https://localhost:8080/",
     "height": 585
    },
    "id": "QjNF3Hs3oEZN",
    "outputId": "3da30d54-e2ec-450d-a3f4-f22dfbaa9173"
   },
   "outputs": [
    {
     "data": {
      "image/png": "[encoded data removed]",
      "text/plain": [
       "<Figure size 504x288 with 1 Axes>"
      ]
     },
     "metadata": {
      "needs_background": "light"
     },
     "output_type": "display_data"
    }
   ],
   "source": [
    "ktwo_ydet = ktwo_y - extras0[\"gp_pred_ktwo\"] - map_soln0[\"mean_ktwo\"]\n",
    "tess_ydet = tess_y - extras0[\"gp_pred_tess\"] - map_soln0[\"mean_tess\"]\n",
    "\n",
    "ktwo_yerr = map_soln0[\"yerr_ktwo\"]\n",
    "tess_yerr = map_soln0[\"yerr_tess\"]\n",
    "\n",
    "ktwo_fold = (ktwo_x - map_soln0[\"t0\"] + 0.5 * map_soln0[\"period\"]) % map_soln0[\"period\"] - 0.5*map_soln0[\"period\"]\n",
    "tess_fold = (tess_x - map_soln0[\"t0\"] + 0.5 * map_soln0[\"period\"]) % map_soln0[\"period\"] - 0.5*map_soln0[\"period\"]\n",
    "\n",
    "plt.errorbar(24*tess_fold, tess_ydet, yerr=tess_yerr, fmt=\"o\", label='TESS')\n",
    "plt.errorbar(24*ktwo_fold, ktwo_ydet, yerr=ktwo_yerr, fmt=\"o\", label='K2')\n",
    "plt.legend()\n",
    "plt.xlim(-12,12)\n",
    "plt.xlabel('Time from mid-transit [hours]')\n",
    "plt.ylabel('De-trended flux [ppt]')\n",
    "plt.gcf().set_size_inches(7,4)\n",
    "plt.show()"
   ]
  },
  {
   "cell_type": "markdown",
   "metadata": {
    "id": "ume5XEuQY7D-"
   },
   "source": [
    "# What are the possible periods for planet e? \n",
    "In the discovery paper we ruled out periods <36 days based on the fact that we didn't observe any additional transits of ~0.5% depth in the light curve. I'm **pretty sure** I'd stick by that statement! :) \n",
    "\n",
    "So if n is the number of transits between K2 and TESS we have a discrete set of possible periods, where we only need to consider n in the range of 1 to some number that maxes out when the implied period becomes less than 36 d"
   ]
  },
  {
   "cell_type": "code",
   "execution_count": 66,
   "metadata": {
    "colab": {
     "base_uri": "https://localhost:8080/"
    },
    "id": "0T7KC2weY6fI",
    "outputId": "11eb5336-a152-4b4d-bced-3f9e1f26f3cc"
   },
   "outputs": [
    {
     "name": "stdout",
     "output_type": "stream",
     "text": [
      "1 2385.1671\n",
      "2 1192.58355\n",
      "3 795.0557\n",
      "4 596.291775\n",
      "5 477.03342000000004\n",
      "6 397.52785\n",
      "7 340.7381571428572\n",
      "8 298.1458875\n",
      "9 265.0185666666667\n",
      "10 238.51671000000002\n",
      "11 216.83337272727275\n",
      "12 198.763925\n",
      "13 183.4743923076923\n",
      "14 170.3690785714286\n",
      "15 159.01114\n",
      "16 149.07294375\n",
      "17 140.30394705882352\n",
      "18 132.50928333333334\n",
      "19 125.53511052631579\n",
      "20 119.25835500000001\n",
      "21 113.57938571428572\n",
      "22 108.41668636363637\n",
      "23 103.70291739130435\n",
      "24 99.3819625\n",
      "25 95.406684\n",
      "26 91.73719615384616\n",
      "27 88.33952222222223\n",
      "28 85.1845392857143\n",
      "29 82.24714137931035\n",
      "30 79.50557\n",
      "31 76.9408741935484\n",
      "32 74.536471875\n",
      "33 72.27779090909091\n",
      "34 70.15197352941176\n",
      "35 68.14763142857143\n",
      "36 66.25464166666667\n",
      "37 64.46397567567568\n",
      "38 62.767555263157895\n",
      "39 61.15813076923077\n",
      "40 59.629177500000004\n",
      "41 58.174807317073174\n",
      "42 56.78969285714286\n",
      "43 55.4690023255814\n",
      "44 54.20834318181819\n",
      "45 53.00371333333334\n",
      "46 51.85145869565218\n",
      "47 50.74823617021277\n",
      "48 49.69098125\n",
      "49 48.67687959183674\n",
      "50 47.703342\n",
      "51 46.76798235294118\n",
      "52 45.86859807692308\n",
      "53 45.00315283018868\n",
      "54 44.169761111111114\n",
      "55 43.36667454545455\n",
      "56 42.59226964285715\n"
     ]
    }
   ],
   "source": [
    "for n in range(1, 57): \n",
    "    print(n, (4648.79  - 2263.6229)/n)"
   ]
  },
  {
   "cell_type": "markdown",
   "metadata": {},
   "source": [
    "## Take 2"
   ]
  },
  {
   "cell_type": "code",
   "execution_count": 148,
   "metadata": {},
   "outputs": [
    {
     "name": "stdout",
     "output_type": "stream",
     "text": [
      "38\n",
      "39\n",
      "40\n",
      "41\n",
      "42\n",
      "43\n",
      "44\n",
      "45\n",
      "46\n",
      "47\n",
      "48\n",
      "49\n",
      "50\n",
      "51\n",
      "52\n",
      "53\n",
      "54\n",
      "55\n"
     ]
    },
    {
     "name": "stderr",
     "output_type": "stream",
     "text": [
      "optimizing logp for variables: [mean_tess, mean_ktwo, log_sigma_sho_tess, log_rho_sho_tess, log_sigma_sho_ktwo, log_rho_sho_ktwo]\n"
     ]
    },
    {
     "data": {
      "text/html": [
       "\n",
       "    <div>\n",
       "        <style>\n",
       "            /* Turns off some styling */\n",
       "            progress {\n",
       "                /* gets rid of default border in Firefox and Opera. */\n",
       "                border: none;\n",
       "                /* Needs to be in here for Safari polyfill so background images work as expected. */\n",
       "                background-size: auto;\n",
       "            }\n",
       "            .progress-bar-interrupted, .progress-bar-interrupted::-webkit-progress-bar {\n",
       "                background: #F44336;\n",
       "            }\n",
       "        </style>\n",
       "      <progress value='40' class='' max='40' style='width:300px; height:20px; vertical-align: middle;'></progress>\n",
       "      100.00% [40/40 00:00<00:00 logp = -2.447e+02]\n",
       "    </div>\n",
       "    "
      ],
      "text/plain": [
       "<IPython.core.display.HTML object>"
      ]
     },
     "metadata": {},
     "output_type": "display_data"
    },
    {
     "name": "stdout",
     "output_type": "stream",
     "text": [
      "\n"
     ]
    },
    {
     "name": "stderr",
     "output_type": "stream",
     "text": [
      "message: Optimization terminated successfully.\n",
      "logp: -259.79382487458753 -> -244.70926228595047\n",
      "optimizing logp for variables: [log_depth_ktwo, b]\n"
     ]
    },
    {
     "data": {
      "text/html": [
       "\n",
       "    <div>\n",
       "        <style>\n",
       "            /* Turns off some styling */\n",
       "            progress {\n",
       "                /* gets rid of default border in Firefox and Opera. */\n",
       "                border: none;\n",
       "                /* Needs to be in here for Safari polyfill so background images work as expected. */\n",
       "                background-size: auto;\n",
       "            }\n",
       "            .progress-bar-interrupted, .progress-bar-interrupted::-webkit-progress-bar {\n",
       "                background: #F44336;\n",
       "            }\n",
       "        </style>\n",
       "      <progress value='16' class='' max='16' style='width:300px; height:20px; vertical-align: middle;'></progress>\n",
       "      100.00% [16/16 00:00<00:00 logp = -2.348e+02]\n",
       "    </div>\n",
       "    "
      ],
      "text/plain": [
       "<IPython.core.display.HTML object>"
      ]
     },
     "metadata": {},
     "output_type": "display_data"
    },
    {
     "name": "stdout",
     "output_type": "stream",
     "text": [
      "\n"
     ]
    },
    {
     "name": "stderr",
     "output_type": "stream",
     "text": [
      "message: Optimization terminated successfully.\n",
      "logp: -244.70926228595025 -> -234.79243732512822\n",
      "optimizing logp for variables: [yerr_tess, log_sigma_sho_tess, log_rho_sho_tess, mean_tess, log_sigma_sho_ktwo, log_rho_sho_ktwo, mean_ktwo, tn, t0, log_depth_ktwo, b, u_star, r_star, m_star]\n"
     ]
    },
    {
     "data": {
      "text/html": [
       "\n",
       "    <div>\n",
       "        <style>\n",
       "            /* Turns off some styling */\n",
       "            progress {\n",
       "                /* gets rid of default border in Firefox and Opera. */\n",
       "                border: none;\n",
       "                /* Needs to be in here for Safari polyfill so background images work as expected. */\n",
       "                background-size: auto;\n",
       "            }\n",
       "            .progress-bar-interrupted, .progress-bar-interrupted::-webkit-progress-bar {\n",
       "                background: #F44336;\n",
       "            }\n",
       "        </style>\n",
       "      <progress value='90' class='' max='90' style='width:300px; height:20px; vertical-align: middle;'></progress>\n",
       "      100.00% [90/90 00:01<00:00 logp = -1.974e+02]\n",
       "    </div>\n",
       "    "
      ],
      "text/plain": [
       "<IPython.core.display.HTML object>"
      ]
     },
     "metadata": {},
     "output_type": "display_data"
    },
    {
     "name": "stdout",
     "output_type": "stream",
     "text": [
      "\n"
     ]
    },
    {
     "name": "stderr",
     "output_type": "stream",
     "text": [
      "message: Desired error not necessarily achieved due to precision loss.\n",
      "logp: -234.79243732512822 -> -197.42743009628546\n"
     ]
    },
    {
     "data": {
      "image/png": "[encoded data removed]",
      "text/plain": [
       "<Figure size 576x288 with 2 Axes>"
      ]
     },
     "metadata": {
      "needs_background": "light"
     },
     "output_type": "display_data"
    }
   ],
   "source": [
    "#Stellar parameters\n",
    "M_star  = 1.10, 0.05\n",
    "R_star  = 1.305, 0.07\n",
    "\n",
    "n_pl = 1\n",
    "\n",
    "# These arrays are used as the times/phases where the models are\n",
    "# evaluated at higher resolution for plotting purposes\n",
    "phase_lc = np.linspace(-0.3, 0.3, 100)\n",
    "\n",
    "def discrete_period_gp_model(ktwo_mask=None, \n",
    "                             tess_mask=None, \n",
    "                             start=None):\n",
    "    \n",
    "    if ktwo_mask is None:\n",
    "        ktwo_mask = np.ones(len(ktwo_x), dtype=bool)\n",
    "    if tess_mask is None:\n",
    "        tess_mask = np.ones(len(tess_x), dtype=bool)\n",
    "    \n",
    "    with pm.Model() as model:\n",
    "\n",
    "        # Parameters for the stellar properties\n",
    "        BoundedNormal = pm.Bound(pm.Normal, lower=0, upper=3)\n",
    "        m_star = BoundedNormal(\"m_star\", mu=M_star[0], sd=M_star[1])\n",
    "        r_star = BoundedNormal(\"r_star\", mu=R_star[0], sd=R_star[1])        \n",
    "        u_star = xo.QuadLimbDark(\"u_star\")\n",
    "        star = xo.LimbDarkLightCurve(u_star)\n",
    "\n",
    "        # Fit in terms of transit depth (assuming b<1)\n",
    "        b = pm.Uniform(\"b\", lower=0, upper=1)\n",
    "        \n",
    "        # K2 transit depth and radius ratio\n",
    "        log_depth_ktwo = pm.Normal(\"log_depth_ktwo\", mu=np.log(4.0), sigma=3)                        \n",
    "        ror_ktwo = pm.Deterministic(\"ror_ktwo\", \n",
    "                                    star.get_ror_from_approx_transit_depth(\n",
    "                                        1e-3 * tt.exp(log_depth_ktwo), b\n",
    "                                    ),\n",
    "                                   )\n",
    "        r_pl_ktwo = pm.Deterministic(\"r_pl_ktwo\", ror_ktwo * r_star)\n",
    "        r_pl_rade_ktwo = pm.Deterministic(\"r_pl_rade_ktwo\", ror_ktwo * r_star * c.R_sun/c.R_earth)\n",
    "        \n",
    "        # TESS transit depth and radius ratio\n",
    "        #log_depth_tess = pm.Normal(\"log_depth_tess\", mu=np.log(4.0), sigma=3)                        \n",
    "        #ror_tess = pm.Deterministic(\"ror_tess\", \n",
    "        #                            star.get_ror_from_approx_transit_depth(\n",
    "        #                                1e-3 * tt.exp(log_depth_tess), b\n",
    "        #                            ),\n",
    "        #                           )\n",
    "        #r_pl_tess = pm.Deterministic(\"r_pl_tess\", ror_tess * r_star)\n",
    "        #r_pl_rade_tess = pm.Deterministic(\"r_pl_rade_tess\", ror_tess * r_star * c.R_sun/c.R_earth)\n",
    "        \n",
    "        ecc = np.zeros(n_pl)\n",
    "        omega = np.pi/2*np.ones(n_pl)\n",
    "            \n",
    "        \n",
    "        # K2 transit midpoint\n",
    "        t0 = pm.Normal(\"t0\", mu=2263.6229, sigma=0.5)\n",
    "        # TESS transit midpoint\n",
    "        tn = pm.Normal(\"tn\", mu=4648.8, sigma=0.5)\n",
    "\n",
    "        #The parameters of the first SHO term\n",
    "        mean_ktwo = pm.Normal(\"mean_ktwo\", mu=0.0, sd=0.1) \n",
    "        log_rho_sho_ktwo = pm.Normal(\"log_rho_sho_ktwo\", mu=0.0, sd=2.0)\n",
    "        log_sigma_sho_ktwo = pm.Normal(\"log_sigma_sho_ktwo\", \n",
    "                                       mu=np.log(np.std(ktwo_y[ktwo_mask])), sd=10)\n",
    "\n",
    "        #The parameters of the first SHO term\n",
    "        mean_tess = pm.Normal(\"mean_tess\", mu=0.0, sd=0.1)\n",
    "        log_rho_sho_tess = pm.Normal(\"log_rho_sho_tess\", mu=0.0, sd=2.0)\n",
    "        log_sigma_sho_tess = pm.Normal(\"log_sigma_sho_tess\",\n",
    "                                       mu=np.log(np.std(tica2_y[tess_mask])), sd=10)\n",
    "        yerr_tess = pm.Normal('yerr_tess',\n",
    "                              mu=np.nanmean(tica2_yerr[tess_mask]),\n",
    "                              sd=np.nanstd(tica2_yerr[tess_mask]))\n",
    "\n",
    "\n",
    "        kernel_ktwo = terms.SHOTerm(\n",
    "            sigma=tt.exp(log_sigma_sho_ktwo),\n",
    "            rho=tt.exp(log_rho_sho_ktwo),\n",
    "            Q=1 / np.sqrt(2),\n",
    "        )\n",
    "\n",
    "        kernel_tess = terms.SHOTerm(\n",
    "            sigma=tt.exp(log_sigma_sho_tess),\n",
    "            rho=tt.exp(log_rho_sho_tess),\n",
    "            Q=1 / np.sqrt(2),\n",
    "        )\n",
    "\n",
    "\n",
    "        gp_ktwo = GaussianProcess(kernel_ktwo, t=ktwo_x[ktwo_mask], yerr=np.max(ktwo_yerr))\n",
    "        gp_tess = GaussianProcess(kernel_tess, t=tica2_x[tess_mask], yerr=np.max(tess_yerr))\n",
    "\n",
    "        logls = []\n",
    "        \n",
    "        #Note: if we want to explore longer periods we need to decrease the lower end of this range!\n",
    "        for n in range(38,56): \n",
    "            period = pm.Deterministic(f\"period_{n}\", (tn - t0) / n)\n",
    "\n",
    "            # Orbit models\n",
    "            orbit = xo.orbits.KeplerianOrbit(\n",
    "              r_star=r_star,\n",
    "              m_star=m_star,\n",
    "              period=period,\n",
    "              t0=t0,\n",
    "              b=b,\n",
    "              ecc=ecc,\n",
    "              omega=omega,\n",
    "              )\n",
    "\n",
    "            # Compute light curve\n",
    "            light_curves_ktwo = (\n",
    "                                  star.get_light_curve(\n",
    "                                      orbit=orbit, \n",
    "                                      r=r_pl_ktwo, \n",
    "                                      t=ktwo_x[ktwo_mask], \n",
    "                                      texp=ktwo_texp) * 1e3\n",
    "                                )\n",
    "            light_curve_ktwo = pm.math.sum(light_curves_ktwo, axis=-1) + mean_ktwo\n",
    "\n",
    "            light_curves_tess = (\n",
    "                                  star.get_light_curve(\n",
    "                                      orbit=orbit, \n",
    "                                      r=r_pl_ktwo, \n",
    "                                      t=tica2_x[tess_mask], \n",
    "                                      texp=tess_texp) * 1e3\n",
    "                                )\n",
    "            light_curve_tess = pm.math.sum(light_curves_tess, axis=-1) + mean_tess\n",
    "\n",
    "            resid_tess = tica2_y[tess_mask] - light_curve_tess\n",
    "            resid_ktwo = ktwo_y[ktwo_mask] - light_curve_ktwo\n",
    "\n",
    "            logln_ktwo = gp_ktwo.log_likelihood(resid_ktwo)\n",
    "            logln_tess = gp_tess.log_likelihood(resid_tess)\n",
    "\n",
    "            logln = tt.sum(logln_ktwo) + tt.sum(logln_tess)\n",
    "\n",
    "            pm.Deterministic(f\"logl_{n}\", logln)\n",
    "            print(n)\n",
    "            logls.append(logln)\n",
    "\n",
    "\n",
    "        logl = tt.log(tt.sum(tt.exp(tt.stack(logls))))\n",
    "\n",
    "        pm.Deterministic(\"logl\", logl)\n",
    "        pm.Potential(\"obs\", logl)\n",
    "\n",
    "        map_soln = model.test_point\n",
    "        \n",
    "        map_soln = pmx.optimize(start=map_soln, vars=[log_rho_sho_ktwo, log_sigma_sho_ktwo,\n",
    "                                                      log_rho_sho_tess, log_sigma_sho_tess,\n",
    "                                                      mean_ktwo, mean_tess\n",
    "                                                   ])\n",
    "\n",
    "        map_soln = pmx.optimize(start=map_soln, vars=[b, log_depth_ktwo])\n",
    "        #map_soln = pmx.optimize(start=map_soln, vars=[b, log_depth_tess])\n",
    "\n",
    "        map_soln = pmx.optimize(start=map_soln)\n",
    "\n",
    "\n",
    "        # Plot the MAP solution\n",
    "        lc_ktwo = pmx.eval_in_model(light_curve_ktwo, map_soln)\n",
    "        lc_tess = pmx.eval_in_model(light_curve_tess, map_soln)\n",
    "        res_ktwo = ktwo_y[ktwo_mask] - lc_ktwo\n",
    "        res_tess = tica2_y[tess_mask] - lc_tess\n",
    "        \n",
    "        fig,(ax1,ax2) = plt.subplots(nrows=1,ncols=2,figsize=(8,4))\n",
    "\n",
    "        ax1.errorbar(ktwo_x, ktwo_ydet, yerr=np.max(ktwo_yerr), fmt='o')\n",
    "        ax1.plot(ktwo_x,lc_ktwo)\n",
    "\n",
    "        ax2.errorbar(tess_x, tess_ydet, yerr=np.max(tess_yerr), fmt='o')\n",
    "        ax2.plot(tess_x,lc_tess)\n",
    "\n",
    "        for ax in [ax1,ax2]:\n",
    "            ax.set_xlabel('Time [BKJD]')\n",
    "            ax.set_ylabel('De-trended flux [ppt]')\n",
    "\n",
    "        plt.tight_layout()\n",
    "        plt.show()\n",
    "        \n",
    "        extras = dict(\n",
    "                     zip(\n",
    "                        [\"light_curves_ktwo\",\n",
    "                          \"light_curves_tess\",\n",
    "                          \"gp_pred_ktwo\",\n",
    "                          \"gp_pred_tess\"],\n",
    "                        pmx.eval_in_model([light_curves_ktwo,\n",
    "                                            light_curves_tess,\n",
    "                                            gp_ktwo.predict(resid_ktwo),\n",
    "                                            gp_tess.predict(resid_tess)], \n",
    "                                            map_soln),\n",
    "             )\n",
    "         )\n",
    "\n",
    "    return model, map_soln, orbit, extras\n",
    "\n",
    "model1, map_soln1, orbit1, extras1 = discrete_period_gp_model()"
   ]
  },
  {
   "cell_type": "code",
   "execution_count": 149,
   "metadata": {},
   "outputs": [
    {
     "data": {
      "text/plain": [
       "{'m_star_interval__': array(-0.54422006),\n",
       " 'r_star_interval__': array(-0.26479106),\n",
       " 'u_star_quadlimbdark__': array([-0.62678866,  0.40315532]),\n",
       " 'b_interval__': array(0.3115306),\n",
       " 'log_depth_ktwo': array(1.62272754),\n",
       " 't0': array(2263.62220019),\n",
       " 'tn': array(4648.79706389),\n",
       " 'mean_ktwo': array(0.00023736),\n",
       " 'log_rho_sho_ktwo': array(2.04014429),\n",
       " 'log_sigma_sho_ktwo': array(3.10318305),\n",
       " 'mean_tess': array(0.0005435),\n",
       " 'log_rho_sho_tess': array(0.5031872),\n",
       " 'log_sigma_sho_tess': array(1.72709682),\n",
       " 'yerr_tess': array(0.75550174),\n",
       " 'm_star': array(1.10161931),\n",
       " 'r_star': array(1.30255898),\n",
       " 'u_star': array([ 0.70748699, -0.11736915]),\n",
       " 'b': array(0.57725882),\n",
       " 'ror_ktwo': array(0.06739956),\n",
       " 'r_pl_ktwo': array(0.0877919),\n",
       " 'r_pl_rade_ktwo': array(9.57602215),\n",
       " 'period_38': array(62.76775957),\n",
       " 'logl_38': array(-213.03388307),\n",
       " 'period_39': array(61.15832984),\n",
       " 'logl_39': array(-209.72651156),\n",
       " 'period_40': array(59.62937159),\n",
       " 'logl_40': array(-206.69035137),\n",
       " 'period_41': array(58.17499668),\n",
       " 'logl_41': array(-203.92870547),\n",
       " 'period_42': array(56.78987771),\n",
       " 'logl_42': array(-201.46646976),\n",
       " 'period_43': array(55.46918288),\n",
       " 'logl_43': array(-199.31111867),\n",
       " 'period_44': array(54.20851963),\n",
       " 'logl_44': array(-197.47857577),\n",
       " 'period_45': array(53.00388586),\n",
       " 'logl_45': array(-195.97124545),\n",
       " 'period_46': array(51.85162747),\n",
       " 'logl_46': array(-194.75784137),\n",
       " 'period_47': array(50.74840136),\n",
       " 'logl_47': array(-193.8302175),\n",
       " 'period_48': array(49.69114299),\n",
       " 'logl_48': array(-193.17072413),\n",
       " 'period_49': array(48.67703803),\n",
       " 'logl_49': array(-192.75056507),\n",
       " 'period_50': array(47.70349727),\n",
       " 'logl_50': array(-192.54746609),\n",
       " 'period_51': array(46.76813458),\n",
       " 'logl_51': array(-192.53511006),\n",
       " 'period_52': array(45.86874738),\n",
       " 'logl_52': array(-192.69767358),\n",
       " 'period_53': array(45.00329932),\n",
       " 'logl_53': array(-193.02438678),\n",
       " 'period_54': array(44.16990488),\n",
       " 'logl_54': array(-193.50435669),\n",
       " 'period_55': array(43.3668157),\n",
       " 'logl_55': array(-194.12983814),\n",
       " 'logl': array(-190.77869216)}"
      ]
     },
     "execution_count": 149,
     "metadata": {},
     "output_type": "execute_result"
    }
   ],
   "source": [
    "map_soln1"
   ]
  },
  {
   "cell_type": "code",
   "execution_count": 150,
   "metadata": {},
   "outputs": [
    {
     "data": {
      "text/plain": [
       "<memory at 0x17c610d60>"
      ]
     },
     "execution_count": 150,
     "metadata": {},
     "output_type": "execute_result"
    }
   ],
   "source": [
    "map_soln1['logl'].data"
   ]
  },
  {
   "cell_type": "code",
   "execution_count": 152,
   "metadata": {},
   "outputs": [
    {
     "data": {
      "text/plain": [
       "<matplotlib.legend.Legend at 0x1e9303d30>"
      ]
     },
     "execution_count": 152,
     "metadata": {},
     "output_type": "execute_result"
    },
    {
     "data": {
      "image/png": "[encoded data removed]",
      "text/plain": [
       "<Figure size 504x288 with 1 Axes>"
      ]
     },
     "metadata": {
      "needs_background": "light"
     },
     "output_type": "display_data"
    }
   ],
   "source": [
    "p = np.exp([map_soln1[f\"logl_{n}\"] - \n",
    "                    map_soln1[\"logl\"] for n in range(38, 56)])\n",
    "period = [map_soln1[f\"period_{n}\"] for n in range(38, 56)]\n",
    "\n",
    "plt.figure(figsize=(7,4))\n",
    "\n",
    "for i in range(len(p)):\n",
    "    plt.vlines(period[i], 0, np.abs(p[i]), lw=5, color='#742C64')\n",
    "plt.vlines(24.1382*2, 0,1, linestyle='--', color=parula[60], lw=3,\n",
    "           label='2:1 resonance with V1298 Tau b = {} days'.format(np.round(24.1382*2,2)))\n",
    "plt.ylim(0.03,0.2)\n",
    "plt.xlabel('Median Period [days]', fontsize=18)\n",
    "plt.ylabel('Posterior Probability', fontsize=18)\n",
    "plt.legend(fontsize=14,bbox_to_anchor=(0., 1.02, 1., .102), loc='lower left',\n",
    "           ncol=2, mode=\"expand\", borderaxespad=0.)\n",
    "#plt.xlim(42.5,62)\n",
    "#plt.savefig('/Users/arcticfox/Documents/v1298tau/tess/paper/periode.pdf', \n",
    "#            bbox_inches='tight', dpi=250,\n",
    "#            rasterize=True)"
   ]
  },
  {
   "cell_type": "code",
   "execution_count": 154,
   "metadata": {},
   "outputs": [
    {
     "name": "stderr",
     "output_type": "stream",
     "text": [
      "Sequential sampling (1 chains in 1 job)\n",
      "NUTS: [yerr_tess, log_sigma_sho_tess, log_rho_sho_tess, mean_tess, log_sigma_sho_ktwo, log_rho_sho_ktwo, mean_ktwo, tn, t0, log_depth_ktwo, b, u_star, r_star, m_star]\n"
     ]
    },
    {
     "data": {
      "text/html": [
       "\n",
       "    <div>\n",
       "        <style>\n",
       "            /* Turns off some styling */\n",
       "            progress {\n",
       "                /* gets rid of default border in Firefox and Opera. */\n",
       "                border: none;\n",
       "                /* Needs to be in here for Safari polyfill so background images work as expected. */\n",
       "                background-size: auto;\n",
       "            }\n",
       "            .progress-bar-interrupted, .progress-bar-interrupted::-webkit-progress-bar {\n",
       "                background: #F44336;\n",
       "            }\n",
       "        </style>\n",
       "      <progress value='5500' class='' max='5500' style='width:300px; height:20px; vertical-align: middle;'></progress>\n",
       "      100.00% [5500/5500 19:47<00:00 Sampling chain 0, 0 divergences]\n",
       "    </div>\n",
       "    "
      ],
      "text/plain": [
       "<IPython.core.display.HTML object>"
      ]
     },
     "metadata": {},
     "output_type": "display_data"
    },
    {
     "name": "stderr",
     "output_type": "stream",
     "text": [
      "Sampling 1 chain for 500 tune and 5_000 draw iterations (500 + 5_000 draws total) took 1187 seconds.\n",
      "Only one chain was sampled, this makes it impossible to run some convergence checks\n"
     ]
    }
   ],
   "source": [
    "random_seeds = [2390831, 3409184, 9890418]\n",
    "with model1:\n",
    "    trace = pmx.sample(tune=500,\n",
    "                        draws=5000,\n",
    "                        start=map_soln1,\n",
    "                        chains=1,\n",
    "                       # cores=3,\n",
    "                        return_inferencedata=True,\n",
    "                        random_seed=random_seeds[0])"
   ]
  },
  {
   "cell_type": "code",
   "execution_count": 156,
   "metadata": {},
   "outputs": [
    {
     "name": "stderr",
     "output_type": "stream",
     "text": [
      "Sequential sampling (1 chains in 1 job)\n",
      "NUTS: [yerr_tess, log_sigma_sho_tess, log_rho_sho_tess, mean_tess, log_sigma_sho_ktwo, log_rho_sho_ktwo, mean_ktwo, tn, t0, log_depth_ktwo, b, u_star, r_star, m_star]\n"
     ]
    },
    {
     "data": {
      "text/html": [
       "\n",
       "    <div>\n",
       "        <style>\n",
       "            /* Turns off some styling */\n",
       "            progress {\n",
       "                /* gets rid of default border in Firefox and Opera. */\n",
       "                border: none;\n",
       "                /* Needs to be in here for Safari polyfill so background images work as expected. */\n",
       "                background-size: auto;\n",
       "            }\n",
       "            .progress-bar-interrupted, .progress-bar-interrupted::-webkit-progress-bar {\n",
       "                background: #F44336;\n",
       "            }\n",
       "        </style>\n",
       "      <progress value='5500' class='' max='5500' style='width:300px; height:20px; vertical-align: middle;'></progress>\n",
       "      100.00% [5500/5500 23:45<00:00 Sampling chain 0, 0 divergences]\n",
       "    </div>\n",
       "    "
      ],
      "text/plain": [
       "<IPython.core.display.HTML object>"
      ]
     },
     "metadata": {},
     "output_type": "display_data"
    },
    {
     "name": "stderr",
     "output_type": "stream",
     "text": [
      "Sampling 1 chain for 500 tune and 5_000 draw iterations (500 + 5_000 draws total) took 1426 seconds.\n",
      "Only one chain was sampled, this makes it impossible to run some convergence checks\n"
     ]
    }
   ],
   "source": [
    "random_seeds = [239081, 34091834, 9890418]\n",
    "with model1:\n",
    "    trace1 = pmx.sample(tune=500,\n",
    "                        draws=5000,\n",
    "                        start=map_soln1,\n",
    "                        chains=1,\n",
    "                       # cores=3,\n",
    "                        return_inferencedata=True,\n",
    "                        random_seed=random_seeds[1])"
   ]
  },
  {
   "cell_type": "code",
   "execution_count": 169,
   "metadata": {},
   "outputs": [
    {
     "name": "stderr",
     "output_type": "stream",
     "text": [
      "Sequential sampling (1 chains in 1 job)\n",
      "NUTS: [yerr_tess, log_sigma_sho_tess, log_rho_sho_tess, mean_tess, log_sigma_sho_ktwo, log_rho_sho_ktwo, mean_ktwo, tn, t0, log_depth_ktwo, b, u_star, r_star, m_star]\n"
     ]
    },
    {
     "data": {
      "text/html": [
       "\n",
       "    <div>\n",
       "        <style>\n",
       "            /* Turns off some styling */\n",
       "            progress {\n",
       "                /* gets rid of default border in Firefox and Opera. */\n",
       "                border: none;\n",
       "                /* Needs to be in here for Safari polyfill so background images work as expected. */\n",
       "                background-size: auto;\n",
       "            }\n",
       "            .progress-bar-interrupted, .progress-bar-interrupted::-webkit-progress-bar {\n",
       "                background: #F44336;\n",
       "            }\n",
       "        </style>\n",
       "      <progress value='5500' class='' max='5500' style='width:300px; height:20px; vertical-align: middle;'></progress>\n",
       "      100.00% [5500/5500 19:19<00:00 Sampling chain 0, 0 divergences]\n",
       "    </div>\n",
       "    "
      ],
      "text/plain": [
       "<IPython.core.display.HTML object>"
      ]
     },
     "metadata": {},
     "output_type": "display_data"
    },
    {
     "name": "stderr",
     "output_type": "stream",
     "text": [
      "Sampling 1 chain for 500 tune and 5_000 draw iterations (500 + 5_000 draws total) took 1160 seconds.\n",
      "Only one chain was sampled, this makes it impossible to run some convergence checks\n"
     ]
    }
   ],
   "source": [
    "random_seeds = [239081, 340918465, 98909334]\n",
    "with model1:\n",
    "    trace2 = pmx.sample(tune=500,\n",
    "                        draws=5000,\n",
    "                        start=map_soln1,\n",
    "                        chains=1,\n",
    "                       # cores=3,\n",
    "                        return_inferencedata=True,\n",
    "                        random_seed=random_seeds[2])"
   ]
  },
  {
   "cell_type": "code",
   "execution_count": 170,
   "metadata": {},
   "outputs": [],
   "source": [
    "combined = az.concat((trace,trace1,trace2), dim=(\"chain\"))"
   ]
  },
  {
   "cell_type": "code",
   "execution_count": 171,
   "metadata": {},
   "outputs": [],
   "source": [
    "cpost = combined.posterior"
   ]
  },
  {
   "cell_type": "code",
   "execution_count": 172,
   "metadata": {},
   "outputs": [
    {
     "data": {
      "text/html": [
       "<div><svg style=\"position: absolute; width: 0; height: 0; overflow: hidden\">\n",
       "<defs>\n",
       "<symbol id=\"icon-database\" viewBox=\"0 0 32 32\">\n",
       "<path d=\"M16 0c-8.837 0-16 2.239-16 5v4c0 2.761 7.163 5 16 5s16-2.239 16-5v-4c0-2.761-7.163-5-16-5z\"></path>\n",
       "<path d=\"M16 17c-8.837 0-16-2.239-16-5v6c0 2.761 7.163 5 16 5s16-2.239 16-5v-6c0 2.761-7.163 5-16 5z\"></path>\n",
       "<path d=\"M16 26c-8.837 0-16-2.239-16-5v6c0 2.761 7.163 5 16 5s16-2.239 16-5v-6c0 2.761-7.163 5-16 5z\"></path>\n",
       "</symbol>\n",
       "<symbol id=\"icon-file-text2\" viewBox=\"0 0 32 32\">\n",
       "<path d=\"M28.681 7.159c-0.694-0.947-1.662-2.053-2.724-3.116s-2.169-2.030-3.116-2.724c-1.612-1.182-2.393-1.319-2.841-1.319h-15.5c-1.378 0-2.5 1.121-2.5 2.5v27c0 1.378 1.122 2.5 2.5 2.5h23c1.378 0 2.5-1.122 2.5-2.5v-19.5c0-0.448-0.137-1.23-1.319-2.841zM24.543 5.457c0.959 0.959 1.712 1.825 2.268 2.543h-4.811v-4.811c0.718 0.556 1.584 1.309 2.543 2.268zM28 29.5c0 0.271-0.229 0.5-0.5 0.5h-23c-0.271 0-0.5-0.229-0.5-0.5v-27c0-0.271 0.229-0.5 0.5-0.5 0 0 15.499-0 15.5 0v7c0 0.552 0.448 1 1 1h7v19.5z\"></path>\n",
       "<path d=\"M23 26h-14c-0.552 0-1-0.448-1-1s0.448-1 1-1h14c0.552 0 1 0.448 1 1s-0.448 1-1 1z\"></path>\n",
       "<path d=\"M23 22h-14c-0.552 0-1-0.448-1-1s0.448-1 1-1h14c0.552 0 1 0.448 1 1s-0.448 1-1 1z\"></path>\n",
       "<path d=\"M23 18h-14c-0.552 0-1-0.448-1-1s0.448-1 1-1h14c0.552 0 1 0.448 1 1s-0.448 1-1 1z\"></path>\n",
       "</symbol>\n",
       "</defs>\n",
       "</svg>\n",
       "<style>/* CSS stylesheet for displaying xarray objects in jupyterlab.\n",
       " *\n",
       " */\n",
       "\n",
       ":root {\n",
       "  --xr-font-color0: var(--jp-content-font-color0, rgba(0, 0, 0, 1));\n",
       "  --xr-font-color2: var(--jp-content-font-color2, rgba(0, 0, 0, 0.54));\n",
       "  --xr-font-color3: var(--jp-content-font-color3, rgba(0, 0, 0, 0.38));\n",
       "  --xr-border-color: var(--jp-border-color2, #e0e0e0);\n",
       "  --xr-disabled-color: var(--jp-layout-color3, #bdbdbd);\n",
       "  --xr-background-color: var(--jp-layout-color0, white);\n",
       "  --xr-background-color-row-even: var(--jp-layout-color1, white);\n",
       "  --xr-background-color-row-odd: var(--jp-layout-color2, #eeeeee);\n",
       "}\n",
       "\n",
       "html[theme=dark],\n",
       "body.vscode-dark {\n",
       "  --xr-font-color0: rgba(255, 255, 255, 1);\n",
       "  --xr-font-color2: rgba(255, 255, 255, 0.54);\n",
       "  --xr-font-color3: rgba(255, 255, 255, 0.38);\n",
       "  --xr-border-color: #1F1F1F;\n",
       "  --xr-disabled-color: #515151;\n",
       "  --xr-background-color: #111111;\n",
       "  --xr-background-color-row-even: #111111;\n",
       "  --xr-background-color-row-odd: #313131;\n",
       "}\n",
       "\n",
       ".xr-wrap {\n",
       "  display: block;\n",
       "  min-width: 300px;\n",
       "  max-width: 700px;\n",
       "}\n",
       "\n",
       ".xr-text-repr-fallback {\n",
       "  /* fallback to plain text repr when CSS is not injected (untrusted notebook) */\n",
       "  display: none;\n",
       "}\n",
       "\n",
       ".xr-header {\n",
       "  padding-top: 6px;\n",
       "  padding-bottom: 6px;\n",
       "  margin-bottom: 4px;\n",
       "  border-bottom: solid 1px var(--xr-border-color);\n",
       "}\n",
       "\n",
       ".xr-header > div,\n",
       ".xr-header > ul {\n",
       "  display: inline;\n",
       "  margin-top: 0;\n",
       "  margin-bottom: 0;\n",
       "}\n",
       "\n",
       ".xr-obj-type,\n",
       ".xr-array-name {\n",
       "  margin-left: 2px;\n",
       "  margin-right: 10px;\n",
       "}\n",
       "\n",
       ".xr-obj-type {\n",
       "  color: var(--xr-font-color2);\n",
       "}\n",
       "\n",
       ".xr-sections {\n",
       "  padding-left: 0 !important;\n",
       "  display: grid;\n",
       "  grid-template-columns: 150px auto auto 1fr 20px 20px;\n",
       "}\n",
       "\n",
       ".xr-section-item {\n",
       "  display: contents;\n",
       "}\n",
       "\n",
       ".xr-section-item input {\n",
       "  display: none;\n",
       "}\n",
       "\n",
       ".xr-section-item input + label {\n",
       "  color: var(--xr-disabled-color);\n",
       "}\n",
       "\n",
       ".xr-section-item input:enabled + label {\n",
       "  cursor: pointer;\n",
       "  color: var(--xr-font-color2);\n",
       "}\n",
       "\n",
       ".xr-section-item input:enabled + label:hover {\n",
       "  color: var(--xr-font-color0);\n",
       "}\n",
       "\n",
       ".xr-section-summary {\n",
       "  grid-column: 1;\n",
       "  color: var(--xr-font-color2);\n",
       "  font-weight: 500;\n",
       "}\n",
       "\n",
       ".xr-section-summary > span {\n",
       "  display: inline-block;\n",
       "  padding-left: 0.5em;\n",
       "}\n",
       "\n",
       ".xr-section-summary-in:disabled + label {\n",
       "  color: var(--xr-font-color2);\n",
       "}\n",
       "\n",
       ".xr-section-summary-in + label:before {\n",
       "  display: inline-block;\n",
       "  content: '►';\n",
       "  font-size: 11px;\n",
       "  width: 15px;\n",
       "  text-align: center;\n",
       "}\n",
       "\n",
       ".xr-section-summary-in:disabled + label:before {\n",
       "  color: var(--xr-disabled-color);\n",
       "}\n",
       "\n",
       ".xr-section-summary-in:checked + label:before {\n",
       "  content: '▼';\n",
       "}\n",
       "\n",
       ".xr-section-summary-in:checked + label > span {\n",
       "  display: none;\n",
       "}\n",
       "\n",
       ".xr-section-summary,\n",
       ".xr-section-inline-details {\n",
       "  padding-top: 4px;\n",
       "  padding-bottom: 4px;\n",
       "}\n",
       "\n",
       ".xr-section-inline-details {\n",
       "  grid-column: 2 / -1;\n",
       "}\n",
       "\n",
       ".xr-section-details {\n",
       "  display: none;\n",
       "  grid-column: 1 / -1;\n",
       "  margin-bottom: 5px;\n",
       "}\n",
       "\n",
       ".xr-section-summary-in:checked ~ .xr-section-details {\n",
       "  display: contents;\n",
       "}\n",
       "\n",
       ".xr-array-wrap {\n",
       "  grid-column: 1 / -1;\n",
       "  display: grid;\n",
       "  grid-template-columns: 20px auto;\n",
       "}\n",
       "\n",
       ".xr-array-wrap > label {\n",
       "  grid-column: 1;\n",
       "  vertical-align: top;\n",
       "}\n",
       "\n",
       ".xr-preview {\n",
       "  color: var(--xr-font-color3);\n",
       "}\n",
       "\n",
       ".xr-array-preview,\n",
       ".xr-array-data {\n",
       "  padding: 0 5px !important;\n",
       "  grid-column: 2;\n",
       "}\n",
       "\n",
       ".xr-array-data,\n",
       ".xr-array-in:checked ~ .xr-array-preview {\n",
       "  display: none;\n",
       "}\n",
       "\n",
       ".xr-array-in:checked ~ .xr-array-data,\n",
       ".xr-array-preview {\n",
       "  display: inline-block;\n",
       "}\n",
       "\n",
       ".xr-dim-list {\n",
       "  display: inline-block !important;\n",
       "  list-style: none;\n",
       "  padding: 0 !important;\n",
       "  margin: 0;\n",
       "}\n",
       "\n",
       ".xr-dim-list li {\n",
       "  display: inline-block;\n",
       "  padding: 0;\n",
       "  margin: 0;\n",
       "}\n",
       "\n",
       ".xr-dim-list:before {\n",
       "  content: '(';\n",
       "}\n",
       "\n",
       ".xr-dim-list:after {\n",
       "  content: ')';\n",
       "}\n",
       "\n",
       ".xr-dim-list li:not(:last-child):after {\n",
       "  content: ',';\n",
       "  padding-right: 5px;\n",
       "}\n",
       "\n",
       ".xr-has-index {\n",
       "  font-weight: bold;\n",
       "}\n",
       "\n",
       ".xr-var-list,\n",
       ".xr-var-item {\n",
       "  display: contents;\n",
       "}\n",
       "\n",
       ".xr-var-item > div,\n",
       ".xr-var-item label,\n",
       ".xr-var-item > .xr-var-name span {\n",
       "  background-color: var(--xr-background-color-row-even);\n",
       "  margin-bottom: 0;\n",
       "}\n",
       "\n",
       ".xr-var-item > .xr-var-name:hover span {\n",
       "  padding-right: 5px;\n",
       "}\n",
       "\n",
       ".xr-var-list > li:nth-child(odd) > div,\n",
       ".xr-var-list > li:nth-child(odd) > label,\n",
       ".xr-var-list > li:nth-child(odd) > .xr-var-name span {\n",
       "  background-color: var(--xr-background-color-row-odd);\n",
       "}\n",
       "\n",
       ".xr-var-name {\n",
       "  grid-column: 1;\n",
       "}\n",
       "\n",
       ".xr-var-dims {\n",
       "  grid-column: 2;\n",
       "}\n",
       "\n",
       ".xr-var-dtype {\n",
       "  grid-column: 3;\n",
       "  text-align: right;\n",
       "  color: var(--xr-font-color2);\n",
       "}\n",
       "\n",
       ".xr-var-preview {\n",
       "  grid-column: 4;\n",
       "}\n",
       "\n",
       ".xr-var-name,\n",
       ".xr-var-dims,\n",
       ".xr-var-dtype,\n",
       ".xr-preview,\n",
       ".xr-attrs dt {\n",
       "  white-space: nowrap;\n",
       "  overflow: hidden;\n",
       "  text-overflow: ellipsis;\n",
       "  padding-right: 10px;\n",
       "}\n",
       "\n",
       ".xr-var-name:hover,\n",
       ".xr-var-dims:hover,\n",
       ".xr-var-dtype:hover,\n",
       ".xr-attrs dt:hover {\n",
       "  overflow: visible;\n",
       "  width: auto;\n",
       "  z-index: 1;\n",
       "}\n",
       "\n",
       ".xr-var-attrs,\n",
       ".xr-var-data {\n",
       "  display: none;\n",
       "  background-color: var(--xr-background-color) !important;\n",
       "  padding-bottom: 5px !important;\n",
       "}\n",
       "\n",
       ".xr-var-attrs-in:checked ~ .xr-var-attrs,\n",
       ".xr-var-data-in:checked ~ .xr-var-data {\n",
       "  display: block;\n",
       "}\n",
       "\n",
       ".xr-var-data > table {\n",
       "  float: right;\n",
       "}\n",
       "\n",
       ".xr-var-name span,\n",
       ".xr-var-data,\n",
       ".xr-attrs {\n",
       "  padding-left: 25px !important;\n",
       "}\n",
       "\n",
       ".xr-attrs,\n",
       ".xr-var-attrs,\n",
       ".xr-var-data {\n",
       "  grid-column: 1 / -1;\n",
       "}\n",
       "\n",
       "dl.xr-attrs {\n",
       "  padding: 0;\n",
       "  margin: 0;\n",
       "  display: grid;\n",
       "  grid-template-columns: 125px auto;\n",
       "}\n",
       "\n",
       ".xr-attrs dt,\n",
       ".xr-attrs dd {\n",
       "  padding: 0;\n",
       "  margin: 0;\n",
       "  float: left;\n",
       "  padding-right: 10px;\n",
       "  width: auto;\n",
       "}\n",
       "\n",
       ".xr-attrs dt {\n",
       "  font-weight: normal;\n",
       "  grid-column: 1;\n",
       "}\n",
       "\n",
       ".xr-attrs dt:hover span {\n",
       "  display: inline-block;\n",
       "  background: var(--xr-background-color);\n",
       "  padding-right: 10px;\n",
       "}\n",
       "\n",
       ".xr-attrs dd {\n",
       "  grid-column: 2;\n",
       "  white-space: pre-wrap;\n",
       "  word-break: break-all;\n",
       "}\n",
       "\n",
       ".xr-icon-database,\n",
       ".xr-icon-file-text2 {\n",
       "  display: inline-block;\n",
       "  vertical-align: middle;\n",
       "  width: 1em;\n",
       "  height: 1.5em !important;\n",
       "  stroke-width: 0;\n",
       "  stroke: currentColor;\n",
       "  fill: currentColor;\n",
       "}\n",
       "</style><pre class='xr-text-repr-fallback'>&lt;xarray.DataArray &#x27;logl&#x27; (chain: 3, draw: 5000)&gt;\n",
       "array([[-195.00989049, -192.69342563, -195.02649225, ..., -193.31234022,\n",
       "        -193.78132538, -193.76455327],\n",
       "       [-195.40221862, -198.34360727, -195.33332369, ..., -194.29733166,\n",
       "        -195.29437891, -199.39886809],\n",
       "       [-193.20654125, -193.04706747, -197.46690545, ..., -193.34218684,\n",
       "        -194.60505648, -192.98931503]])\n",
       "Coordinates:\n",
       "  * chain    (chain) int64 0 1 2\n",
       "  * draw     (draw) int64 0 1 2 3 4 5 6 7 ... 4993 4994 4995 4996 4997 4998 4999</pre><div class='xr-wrap' hidden><div class='xr-header'><div class='xr-obj-type'>xarray.DataArray</div><div class='xr-array-name'>'logl'</div><ul class='xr-dim-list'><li><span class='xr-has-index'>chain</span>: 3</li><li><span class='xr-has-index'>draw</span>: 5000</li></ul></div><ul class='xr-sections'><li class='xr-section-item'><div class='xr-array-wrap'><input id='section-26a04e78-2c17-4358-99cb-bb16fe7bf3c2' class='xr-array-in' type='checkbox' checked><label for='section-26a04e78-2c17-4358-99cb-bb16fe7bf3c2' title='Show/hide data repr'><svg class='icon xr-icon-database'><use xlink:href='#icon-database'></use></svg></label><div class='xr-array-preview xr-preview'><span>-195.0 -192.7 -195.0 -198.2 -199.4 ... -199.0 -193.3 -194.6 -193.0</span></div><div class='xr-array-data'><pre>array([[-195.00989049, -192.69342563, -195.02649225, ..., -193.31234022,\n",
       "        -193.78132538, -193.76455327],\n",
       "       [-195.40221862, -198.34360727, -195.33332369, ..., -194.29733166,\n",
       "        -195.29437891, -199.39886809],\n",
       "       [-193.20654125, -193.04706747, -197.46690545, ..., -193.34218684,\n",
       "        -194.60505648, -192.98931503]])</pre></div></div></li><li class='xr-section-item'><input id='section-da1edf8f-1e3a-401e-bb24-b6233e9231a9' class='xr-section-summary-in' type='checkbox'  checked><label for='section-da1edf8f-1e3a-401e-bb24-b6233e9231a9' class='xr-section-summary' >Coordinates: <span>(2)</span></label><div class='xr-section-inline-details'></div><div class='xr-section-details'><ul class='xr-var-list'><li class='xr-var-item'><div class='xr-var-name'><span class='xr-has-index'>chain</span></div><div class='xr-var-dims'>(chain)</div><div class='xr-var-dtype'>int64</div><div class='xr-var-preview xr-preview'>0 1 2</div><input id='attrs-75fa5d79-a0d6-4571-b681-856f6da67c93' class='xr-var-attrs-in' type='checkbox' disabled><label for='attrs-75fa5d79-a0d6-4571-b681-856f6da67c93' title='Show/Hide attributes'><svg class='icon xr-icon-file-text2'><use xlink:href='#icon-file-text2'></use></svg></label><input id='data-527d2e60-9bd4-4c19-99f8-cfc1d55990d9' class='xr-var-data-in' type='checkbox'><label for='data-527d2e60-9bd4-4c19-99f8-cfc1d55990d9' title='Show/Hide data repr'><svg class='icon xr-icon-database'><use xlink:href='#icon-database'></use></svg></label><div class='xr-var-attrs'><dl class='xr-attrs'></dl></div><div class='xr-var-data'><pre>array([0, 1, 2])</pre></div></li><li class='xr-var-item'><div class='xr-var-name'><span class='xr-has-index'>draw</span></div><div class='xr-var-dims'>(draw)</div><div class='xr-var-dtype'>int64</div><div class='xr-var-preview xr-preview'>0 1 2 3 4 ... 4996 4997 4998 4999</div><input id='attrs-b95d09d8-dce4-4b89-8222-ed02ef9ed11e' class='xr-var-attrs-in' type='checkbox' disabled><label for='attrs-b95d09d8-dce4-4b89-8222-ed02ef9ed11e' title='Show/Hide attributes'><svg class='icon xr-icon-file-text2'><use xlink:href='#icon-file-text2'></use></svg></label><input id='data-395ca507-099a-44dc-b772-13a05ff32b22' class='xr-var-data-in' type='checkbox'><label for='data-395ca507-099a-44dc-b772-13a05ff32b22' title='Show/Hide data repr'><svg class='icon xr-icon-database'><use xlink:href='#icon-database'></use></svg></label><div class='xr-var-attrs'><dl class='xr-attrs'></dl></div><div class='xr-var-data'><pre>array([   0,    1,    2, ..., 4997, 4998, 4999])</pre></div></li></ul></div></li><li class='xr-section-item'><input id='section-5bf9cb70-fff9-4d64-8457-e794befcc6cc' class='xr-section-summary-in' type='checkbox' disabled ><label for='section-5bf9cb70-fff9-4d64-8457-e794befcc6cc' class='xr-section-summary'  title='Expand/collapse section'>Attributes: <span>(0)</span></label><div class='xr-section-inline-details'></div><div class='xr-section-details'><dl class='xr-attrs'></dl></div></li></ul></div></div>"
      ],
      "text/plain": [
       "<xarray.DataArray 'logl' (chain: 3, draw: 5000)>\n",
       "array([[-195.00989049, -192.69342563, -195.02649225, ..., -193.31234022,\n",
       "        -193.78132538, -193.76455327],\n",
       "       [-195.40221862, -198.34360727, -195.33332369, ..., -194.29733166,\n",
       "        -195.29437891, -199.39886809],\n",
       "       [-193.20654125, -193.04706747, -197.46690545, ..., -193.34218684,\n",
       "        -194.60505648, -192.98931503]])\n",
       "Coordinates:\n",
       "  * chain    (chain) int64 0 1 2\n",
       "  * draw     (draw) int64 0 1 2 3 4 5 6 7 ... 4993 4994 4995 4996 4997 4998 4999"
      ]
     },
     "execution_count": 172,
     "metadata": {},
     "output_type": "execute_result"
    }
   ],
   "source": [
    "cpost['logl']"
   ]
  },
  {
   "cell_type": "code",
   "execution_count": 173,
   "metadata": {},
   "outputs": [],
   "source": [
    "COLOR = 'k'#'#FFFAF1'\n",
    "plt.rcParams['font.size'] = 16\n",
    "plt.rcParams['text.color'] = COLOR\n",
    "plt.rcParams['axes.labelcolor'] = COLOR\n",
    "plt.rcParams['xtick.color'] = COLOR\n",
    "plt.rcParams['ytick.color'] = COLOR\n",
    "\n",
    "plt.rcParams['xtick.major.width'] = 3\n",
    "plt.rcParams['ytick.major.width'] = 3\n",
    "plt.rcParams['xtick.major.size']  = 8 #12\n",
    "plt.rcParams['ytick.major.size']  = 8 #12\n",
    "\n",
    "plt.rcParams['xtick.minor.width'] = 1\n",
    "plt.rcParams['ytick.minor.width'] = 1\n",
    "plt.rcParams['xtick.minor.size']  = 6\n",
    "plt.rcParams['ytick.minor.size']  = 6\n",
    "\n",
    "plt.rcParams['axes.linewidth'] = 3\n",
    "lw = 5\n",
    "\n",
    "plt.rcParams['text.color'] = COLOR\n",
    "plt.rcParams['xtick.color'] = COLOR\n",
    "plt.rcParams['ytick.color'] = COLOR\n",
    "plt.rcParams['axes.labelcolor'] = COLOR\n",
    "#plt.rcParams['axes.spines.top'] = False\n",
    "#plt.rcParams['axes.spines.right'] = False\n",
    "plt.rcParams['axes.labelcolor'] = COLOR\n",
    "plt.rcParams['axes.edgecolor'] = COLOR\n",
    "plt.rcParams['figure.facecolor'] = 'none'\n",
    "plt.rcParams['legend.facecolor'] = 'none'\n",
    "parula = np.load('/Users/arcticfox/parula_colors.npy')"
   ]
  },
  {
   "cell_type": "code",
   "execution_count": 246,
   "metadata": {},
   "outputs": [
    {
     "name": "stderr",
     "output_type": "stream",
     "text": [
      "/var/folders/gz/h7_ym7m52dlgq4xpllc1x3m40000gn/T/ipykernel_49666/158314341.py:19: MatplotlibDeprecationWarning: savefig() got unexpected keyword argument \"rasterize\" which is no longer supported as of 3.3 and will become an error two minor releases later\n",
      "  plt.savefig('/Users/arcticfox/Documents/v1298tau/tess/paper/periode.pdf',\n"
     ]
    },
    {
     "data": {
      "image/png": "[encoded data removed]",
      "text/plain": [
       "<Figure size 504x288 with 1 Axes>"
      ]
     },
     "metadata": {
      "needs_background": "light"
     },
     "output_type": "display_data"
    }
   ],
   "source": [
    "p = np.mean(np.exp([cpost[f\"logl_{n}\"].data - \n",
    "                    cpost[\"logl\"].data for n in range(38, 55)]), axis=(1,2))\n",
    "period = np.nanmedian([cpost[f\"period_{n}\"] for n in range(38, 55)], axis=(1,2))\n",
    "pstd = np.nanstd([cpost[f\"period_{n}\"] for n in range(38, 55)], axis=(1,2))\n",
    "\n",
    "\n",
    "plt.figure(figsize=(7,4))\n",
    "\n",
    "for i in range(len(p)):\n",
    "    plt.vlines(period[i], 0, np.abs(p[i]), lw=5, color='#742C64')\n",
    "plt.vlines(24.1382*2, 0,1, linestyle='--', color=parula[60], lw=3,\n",
    "           label='2:1 resonance with V1298 Tau b = {} days'.format(np.round(24.1382*2,2)))\n",
    "plt.ylim(0.03,0.075)\n",
    "plt.xlabel('Median Period [days]', fontsize=18)\n",
    "plt.ylabel('Posterior Probability', fontsize=18)\n",
    "plt.legend(fontsize=14,bbox_to_anchor=(0., 1.02, 1., .102), loc='lower left',\n",
    "           ncol=2, mode=\"expand\", borderaxespad=0.)\n",
    "plt.xlim(43,62)\n",
    "plt.savefig('/Users/arcticfox/Documents/v1298tau/tess/paper/periode.pdf', \n",
    "            bbox_inches='tight', dpi=250,\n",
    "            rasterize=True)"
   ]
  },
  {
   "cell_type": "code",
   "execution_count": 247,
   "metadata": {},
   "outputs": [],
   "source": [
    "from astropy.table import Table\n",
    "tab = Table()"
   ]
  },
  {
   "cell_type": "code",
   "execution_count": 248,
   "metadata": {},
   "outputs": [],
   "source": [
    "tab['period'] = period\n",
    "tab['e_period'] = pstd\n",
    "tab['posterior_prob'] = p"
   ]
  },
  {
   "cell_type": "code",
   "execution_count": 249,
   "metadata": {},
   "outputs": [
    {
     "name": "stderr",
     "output_type": "stream",
     "text": [
      "WARNING: AstropyDeprecationWarning: planet_e_posteriors.tab already exists. Automatically overwriting ASCII files is deprecated. Use the argument 'overwrite=True' in the future. [astropy.io.ascii.ui]\n"
     ]
    }
   ],
   "source": [
    "tab.write('planet_e_posteriors.tab', format='csv')"
   ]
  },
  {
   "cell_type": "code",
   "execution_count": 188,
   "metadata": {},
   "outputs": [],
   "source": [
    "az.summary(combined).to_csv('trace_planete_new_model_full.csv')"
   ]
  },
  {
   "cell_type": "code",
   "execution_count": 250,
   "metadata": {},
   "outputs": [
    {
     "data": {
      "text/plain": [
       "array([9.16187163e-05, 9.33473713e-05, 9.51425131e-05, 9.70080525e-05,\n",
       "       9.89482136e-05, 1.00967565e-04, 1.03071056e-04, 1.05264057e-04,\n",
       "       1.07552406e-04, 1.09942460e-04, 1.12441152e-04, 1.15056062e-04,\n",
       "       1.17795492e-04, 1.20668553e-04, 1.23685267e-04, 1.26856684e-04,\n",
       "       1.30195018e-04])"
      ]
     },
     "execution_count": 250,
     "metadata": {},
     "output_type": "execute_result"
    }
   ],
   "source": [
    "pstd[np.flip(np.argsort(p))]"
   ]
  },
  {
   "cell_type": "code",
   "execution_count": 252,
   "metadata": {},
   "outputs": [
    {
     "name": "stdout",
     "output_type": "stream",
     "text": [
      "44.1699 $\\pm$ 0.0001 & 0.071 & & & \\ \\\n",
      "\\hline\n",
      "45.0033 $\\pm$ 0.0001 & 0.069 & & & \\ \\\n",
      "\\hline\n",
      "45.8687 $\\pm$ 0.0001 & 0.066 & & & \\ \\\n",
      "\\hline\n",
      "46.7681 $\\pm$ 0.0001 & 0.064 & & & \\ \\\n",
      "\\hline\n",
      "47.7035 $\\pm$ 0.0001 & 0.062 & & & \\ \\\n",
      "\\hline\n",
      "48.677 $\\pm$ 0.0001 & 0.061 & & & \\ \\\n",
      "\\hline\n",
      "49.6911 $\\pm$ 0.0001 & 0.059 & & & \\ \\\n",
      "\\hline\n",
      "50.7484 $\\pm$ 0.0001 & 0.057 & & & \\ \\\n",
      "\\hline\n",
      "51.8516 $\\pm$ 0.0001 & 0.055 & & & \\ \\\n",
      "\\hline\n",
      "53.0039 $\\pm$ 0.0001 & 0.053 & & & \\ \\\n",
      "\\hline\n",
      "54.2085 $\\pm$ 0.0001 & 0.051 & & & \\ \\\n",
      "\\hline\n",
      "55.4692 $\\pm$ 0.0001 & 0.049 & & & \\ \\\n",
      "\\hline\n",
      "56.7899 $\\pm$ 0.0001 & 0.047 & & & \\ \\\n",
      "\\hline\n",
      "58.175 $\\pm$ 0.0001 & 0.045 & & & \\ \\\n",
      "\\hline\n",
      "59.6294 $\\pm$ 0.0001 & 0.042 & & & \\ \\\n",
      "\\hline\n",
      "61.1583 $\\pm$ 0.0001 & 0.039 & & & \\ \\\n",
      "\\hline\n",
      "62.7678 $\\pm$ 0.0001 & 0.037 & & & \\ \\\n",
      "\\hline\n"
     ]
    }
   ],
   "source": [
    "for i in range(len(period)):\n",
    "    print(\"{} $\\pm$ {} & {} & & & \\ \\\\\".format(np.round(period[np.flip(np.argsort(p))][i],4),\n",
    "                                               np.round(pstd[np.flip(np.argsort(p))][i],4),\n",
    "                                               np.round(p[np.flip(np.argsort(p))][i],3)\n",
    "                                               )\n",
    "                                               )\n",
    "    print(\"\\hline\")"
   ]
  },
  {
   "cell_type": "code",
   "execution_count": 6,
   "metadata": {},
   "outputs": [],
   "source": [
    "from astropy.table import Table\n",
    "combined = Table.read('/Users/arcticfox/Documents/v1298tau/tess/v1298tau_e/trace_planete_new_model_full.csv')"
   ]
  },
  {
   "cell_type": "code",
   "execution_count": 112,
   "metadata": {},
   "outputs": [
    {
     "data": {
      "text/plain": [
       "4648.79701290497"
      ]
     },
     "execution_count": 112,
     "metadata": {},
     "output_type": "execute_result"
    }
   ],
   "source": [
    "np.nanmedian(combined.posterior['tn'])"
   ]
  },
  {
   "cell_type": "code",
   "execution_count": 236,
   "metadata": {},
   "outputs": [
    {
     "data": {
      "text/plain": [
       "51.85162192122149"
      ]
     },
     "execution_count": 236,
     "metadata": {},
     "output_type": "execute_result"
    }
   ],
   "source": [
    "np.nanmedian(period)"
   ]
  },
  {
   "cell_type": "code",
   "execution_count": null,
   "metadata": {},
   "outputs": [],
   "source": []
  }
 ],
 "metadata": {
  "colab": {
   "collapsed_sections": [],
   "name": "V1298Tau-e.ipynb",
   "provenance": []
  },
  "kernelspec": {
   "display_name": "pymc3_env",
   "language": "python",
   "name": "pymc3_env"
  },
  "language_info": {
   "codemirror_mode": {
    "name": "ipython",
    "version": 3
   },
   "file_extension": ".py",
   "mimetype": "text/x-python",
   "name": "python",
   "nbconvert_exporter": "python",
   "pygments_lexer": "ipython3",
   "version": "3.9.7"
  }
 },
 "nbformat": 4,
 "nbformat_minor": 1
}
